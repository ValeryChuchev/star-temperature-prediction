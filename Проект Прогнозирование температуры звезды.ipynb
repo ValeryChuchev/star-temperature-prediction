{
 "cells": [
  {
   "cell_type": "markdown",
   "id": "5811f071",
   "metadata": {},
   "source": [
    "## Прогнозирование температуры звезды"
   ]
  },
  {
   "cell_type": "markdown",
   "id": "cc91353c",
   "metadata": {},
   "source": [
    "Поступила задача от обсерватории «Небо на ладони»: придумать, как с помощью нейросети определять температуру на поверхности обнаруженных звёзд. Обычно для расчёта температуры учёные пользуются следующими методами:\n",
    "- Закон смещения Вина.\n",
    "- Закон Стефана-Больцмана.\n",
    "- Спектральный анализ.  \n",
    "\n",
    "Каждый из них имеет плюсы и минусы. Обсерватория хочет внедрить технологии машинного обучения для предсказания температуры звёзд, надеясь, что этот метод будет наиболее точным и удобным.\n",
    "В базе обсерватории есть характеристики уже изученных 240 звёзд."
   ]
  },
  {
   "cell_type": "markdown",
   "id": "872644f3",
   "metadata": {},
   "source": [
    "Характеристики данных:\n",
    "- Относительная светимость L/Lo — светимость звезды относительно Солнца.\n",
    "- Относительный радиус R/Ro — радиус звезды относительно радиуса Солнца.\n",
    "- Абсолютная звёздная величина Mv — физическая величина, характеризующая блеск звезды.\n",
    "- Звёздный цвет (white, red, blue, yellow, yellow-orange и др.) — цвет звезды, который определяют на основе спектрального анализа.\n",
    "- Тип звезды.\n",
    "- Абсолютная температура T(K) — температура на поверхности звезды в Кельвинах."
   ]
  },
  {
   "cell_type": "markdown",
   "id": "4d589e3e",
   "metadata": {},
   "source": [
    "`Алгоритм решения задачи`\n",
    "- Шаг 1. Загрузка исходных данных из файла\n",
    "- Шаг 2. Исследовательский анализ\n",
    "- Шаг 3. Подготовка данных к построению модели\n",
    "- Шаг 4. Построение простой модели нейронной сети — baseline\n",
    "- Шаг 5. Улучшение сети \n",
    "(Создадим решение с перебором параметров нейросети. Список параметров для перебора должен включать как минимум «dropout» и «размер батча». Архитектуру нейронной сети: количество слоёв, нейронов, вид функции активации — оставим как в Baseline, чтобы сравнить результат).\n",
    "- Шаг 6. Выводы по проекту"
   ]
  },
  {
   "cell_type": "code",
   "execution_count": 1,
   "id": "e0747f20",
   "metadata": {},
   "outputs": [
    {
     "name": "stdout",
     "output_type": "stream",
     "text": [
      "Requirement already satisfied: scikit-learn in /opt/conda/lib/python3.9/site-packages (1.6.1)\n",
      "Requirement already satisfied: numpy>=1.19.5 in /opt/conda/lib/python3.9/site-packages (from scikit-learn) (1.21.1)\n",
      "Requirement already satisfied: threadpoolctl>=3.1.0 in /opt/conda/lib/python3.9/site-packages (from scikit-learn) (3.1.0)\n",
      "Requirement already satisfied: scipy>=1.6.0 in /opt/conda/lib/python3.9/site-packages (from scikit-learn) (1.9.1)\n",
      "Requirement already satisfied: joblib>=1.2.0 in /opt/conda/lib/python3.9/site-packages (from scikit-learn) (1.4.2)\n",
      "Note: you may need to restart the kernel to use updated packages.\n"
     ]
    }
   ],
   "source": [
    "pip install -U scikit-learn"
   ]
  },
  {
   "cell_type": "code",
   "execution_count": 2,
   "id": "spectacular-folder",
   "metadata": {},
   "outputs": [],
   "source": [
    "# необходимые импорты\n",
    "import os\n",
    "import pandas as pd\n",
    "import numpy as np\n",
    "import matplotlib.pyplot as plt\n",
    "import seaborn as sns\n",
    "import time\n",
    "from IPython.display import display\n",
    "from tqdm import tqdm  # Прогресс-бар для удобства\n",
    "\n",
    "import re\n",
    "# Библиотека re в Python – это модуль для работы с регулярными выражениями. \n",
    "# Она позволяет искать, заменять и манипулировать текстовыми данными с помощью шаблонов.\n",
    "\n",
    "from nltk.stem import WordNetLemmatizer\n",
    "from nltk.tokenize import word_tokenize\n",
    "\n",
    "from matplotlib.colors import LinearSegmentedColormap\n",
    "import plotly.graph_objects as go\n",
    "import plotly.io as pio\n",
    "\n",
    "from sklearn.preprocessing import StandardScaler, OneHotEncoder, MinMaxScaler\n",
    "from sklearn.compose import ColumnTransformer, make_column_transformer, make_column_selector\n",
    "from sklearn.model_selection import train_test_split\n",
    "from sklearn.pipeline import Pipeline, make_pipeline\n",
    "\n",
    "\n",
    "import torch\n",
    "import torch.nn as nn\n",
    "import torch.optim as optim\n",
    "from torch.cuda.amp import autocast, GradScaler\n",
    "from torch.utils.data import Dataset\n",
    "from torch.utils.data import DataLoader, TensorDataset\n",
    "\n",
    "#pd.set_option('display.float_format', lambda x: '%.0f' % x)\n",
    "pd.set_option('display.max_rows', None)\n",
    "\n",
    "# константы\n",
    "RANDOM_STATE = RANDOM_SEED = RS = 88\n",
    "\n",
    "# настройки блокнота\n",
    "torch.manual_seed(RANDOM_SEED)\n",
    "np.random.seed(RANDOM_SEED)"
   ]
  },
  {
   "cell_type": "code",
   "execution_count": 3,
   "id": "960a986b",
   "metadata": {},
   "outputs": [],
   "source": [
    "df = pd.read_csv('/datasets/6_class.csv')"
   ]
  },
  {
   "cell_type": "code",
   "execution_count": 4,
   "id": "128663f4",
   "metadata": {},
   "outputs": [],
   "source": [
    "# стиль текста\n",
    "class f:\n",
    "    BOLD = \"\\033[1m\"\n",
    "    ITALIC = \"\\033[3m\"\n",
    "    END = \"\\033[0m\""
   ]
  },
  {
   "cell_type": "code",
   "execution_count": 5,
   "id": "9efc7782",
   "metadata": {},
   "outputs": [],
   "source": [
    "def dataframe_info(df):\n",
    "    ''' Вывод информации о датафрейме `df`. Функционал схож с методом `pd.DataFrame.info()`\n",
    "\n",
    "    Дополнительно: вывод процента заполненных (non-null) значений, количестве дублей\n",
    "    '''\n",
    "    info = (pd.DataFrame({\n",
    "        'notNA': df.count(), 'notNA, %': df.count()/df.shape[0]*100,\n",
    "        'dtype': df.dtypes})\n",
    "        .style.bar(subset='notNA, %', vmin=0, color='lightblue')\n",
    "        .format(\"{:.2f}\", subset=['notNA, %'])\n",
    "    )\n",
    "    print('DataFrame shape  : {} rows, {} columns'.format(\n",
    "        df.shape[0], df.shape[1]))\n",
    "    print('Memory usage     : {:.2f} MB'.format(\n",
    "        df.memory_usage().sum()/1024/1024))\n",
    "    print('Duplicates count :', df.duplicated().sum())\n",
    "    return info"
   ]
  },
  {
   "cell_type": "code",
   "execution_count": 6,
   "id": "4ca2a6e0",
   "metadata": {},
   "outputs": [],
   "source": [
    "#создадим функцию которая ищет дубликаты и удаляет их.\n",
    "def drop_duplicates(df):\n",
    "    '''Показывает количество дубликатов и при необходимости удаляет'''\n",
    "    duplicated = df.duplicated().sum()\n",
    "    print(f'Найдено {duplicated} дублей')\n",
    "    if duplicated > 0:\n",
    "        df = df.drop_duplicates()\n",
    "        duplicated = df.duplicated().sum()\n",
    "        print(f'После удаления осталось {duplicated} дублей')\n",
    "    return df"
   ]
  },
  {
   "cell_type": "markdown",
   "id": "d4186295",
   "metadata": {},
   "source": [
    "##### Загрузка данных"
   ]
  },
  {
   "cell_type": "code",
   "execution_count": 7,
   "id": "edfb23c1",
   "metadata": {},
   "outputs": [],
   "source": [
    "df = pd.read_csv('/datasets/6_class.csv')"
   ]
  },
  {
   "cell_type": "markdown",
   "id": "simple-subdivision",
   "metadata": {},
   "source": [
    "## Предобработка и анализ данных"
   ]
  },
  {
   "cell_type": "code",
   "execution_count": 8,
   "id": "flush-dream",
   "metadata": {},
   "outputs": [
    {
     "data": {
      "text/html": [
       "<div>\n",
       "<style scoped>\n",
       "    .dataframe tbody tr th:only-of-type {\n",
       "        vertical-align: middle;\n",
       "    }\n",
       "\n",
       "    .dataframe tbody tr th {\n",
       "        vertical-align: top;\n",
       "    }\n",
       "\n",
       "    .dataframe thead th {\n",
       "        text-align: right;\n",
       "    }\n",
       "</style>\n",
       "<table border=\"1\" class=\"dataframe\">\n",
       "  <thead>\n",
       "    <tr style=\"text-align: right;\">\n",
       "      <th></th>\n",
       "      <th>Unnamed: 0</th>\n",
       "      <th>Temperature (K)</th>\n",
       "      <th>Luminosity(L/Lo)</th>\n",
       "      <th>Radius(R/Ro)</th>\n",
       "      <th>Absolute magnitude(Mv)</th>\n",
       "      <th>Star type</th>\n",
       "      <th>Star color</th>\n",
       "    </tr>\n",
       "  </thead>\n",
       "  <tbody>\n",
       "    <tr>\n",
       "      <th>0</th>\n",
       "      <td>0</td>\n",
       "      <td>3068</td>\n",
       "      <td>0.002400</td>\n",
       "      <td>0.1700</td>\n",
       "      <td>16.12</td>\n",
       "      <td>0</td>\n",
       "      <td>Red</td>\n",
       "    </tr>\n",
       "    <tr>\n",
       "      <th>1</th>\n",
       "      <td>1</td>\n",
       "      <td>3042</td>\n",
       "      <td>0.000500</td>\n",
       "      <td>0.1542</td>\n",
       "      <td>16.60</td>\n",
       "      <td>0</td>\n",
       "      <td>Red</td>\n",
       "    </tr>\n",
       "    <tr>\n",
       "      <th>2</th>\n",
       "      <td>2</td>\n",
       "      <td>2600</td>\n",
       "      <td>0.000300</td>\n",
       "      <td>0.1020</td>\n",
       "      <td>18.70</td>\n",
       "      <td>0</td>\n",
       "      <td>Red</td>\n",
       "    </tr>\n",
       "    <tr>\n",
       "      <th>3</th>\n",
       "      <td>3</td>\n",
       "      <td>2800</td>\n",
       "      <td>0.000200</td>\n",
       "      <td>0.1600</td>\n",
       "      <td>16.65</td>\n",
       "      <td>0</td>\n",
       "      <td>Red</td>\n",
       "    </tr>\n",
       "    <tr>\n",
       "      <th>4</th>\n",
       "      <td>4</td>\n",
       "      <td>1939</td>\n",
       "      <td>0.000138</td>\n",
       "      <td>0.1030</td>\n",
       "      <td>20.06</td>\n",
       "      <td>0</td>\n",
       "      <td>Red</td>\n",
       "    </tr>\n",
       "    <tr>\n",
       "      <th>5</th>\n",
       "      <td>5</td>\n",
       "      <td>2840</td>\n",
       "      <td>0.000650</td>\n",
       "      <td>0.1100</td>\n",
       "      <td>16.98</td>\n",
       "      <td>0</td>\n",
       "      <td>Red</td>\n",
       "    </tr>\n",
       "    <tr>\n",
       "      <th>6</th>\n",
       "      <td>6</td>\n",
       "      <td>2637</td>\n",
       "      <td>0.000730</td>\n",
       "      <td>0.1270</td>\n",
       "      <td>17.22</td>\n",
       "      <td>0</td>\n",
       "      <td>Red</td>\n",
       "    </tr>\n",
       "    <tr>\n",
       "      <th>7</th>\n",
       "      <td>7</td>\n",
       "      <td>2600</td>\n",
       "      <td>0.000400</td>\n",
       "      <td>0.0960</td>\n",
       "      <td>17.40</td>\n",
       "      <td>0</td>\n",
       "      <td>Red</td>\n",
       "    </tr>\n",
       "    <tr>\n",
       "      <th>8</th>\n",
       "      <td>8</td>\n",
       "      <td>2650</td>\n",
       "      <td>0.000690</td>\n",
       "      <td>0.1100</td>\n",
       "      <td>17.45</td>\n",
       "      <td>0</td>\n",
       "      <td>Red</td>\n",
       "    </tr>\n",
       "    <tr>\n",
       "      <th>9</th>\n",
       "      <td>9</td>\n",
       "      <td>2700</td>\n",
       "      <td>0.000180</td>\n",
       "      <td>0.1300</td>\n",
       "      <td>16.05</td>\n",
       "      <td>0</td>\n",
       "      <td>Red</td>\n",
       "    </tr>\n",
       "  </tbody>\n",
       "</table>\n",
       "</div>"
      ],
      "text/plain": [
       "   Unnamed: 0  Temperature (K)  Luminosity(L/Lo)  Radius(R/Ro)  \\\n",
       "0           0             3068          0.002400        0.1700   \n",
       "1           1             3042          0.000500        0.1542   \n",
       "2           2             2600          0.000300        0.1020   \n",
       "3           3             2800          0.000200        0.1600   \n",
       "4           4             1939          0.000138        0.1030   \n",
       "5           5             2840          0.000650        0.1100   \n",
       "6           6             2637          0.000730        0.1270   \n",
       "7           7             2600          0.000400        0.0960   \n",
       "8           8             2650          0.000690        0.1100   \n",
       "9           9             2700          0.000180        0.1300   \n",
       "\n",
       "   Absolute magnitude(Mv)  Star type Star color  \n",
       "0                   16.12          0        Red  \n",
       "1                   16.60          0        Red  \n",
       "2                   18.70          0        Red  \n",
       "3                   16.65          0        Red  \n",
       "4                   20.06          0        Red  \n",
       "5                   16.98          0        Red  \n",
       "6                   17.22          0        Red  \n",
       "7                   17.40          0        Red  \n",
       "8                   17.45          0        Red  \n",
       "9                   16.05          0        Red  "
      ]
     },
     "metadata": {},
     "output_type": "display_data"
    }
   ],
   "source": [
    "display(df.head(10))"
   ]
  },
  {
   "cell_type": "code",
   "execution_count": 9,
   "id": "146bedf6",
   "metadata": {},
   "outputs": [],
   "source": [
    "# данный столбец непонадится, т.к. он лишь дублирует индекс строки\n",
    "df.drop('Unnamed: 0', axis=1, inplace=True)\n",
    "df = df.reset_index(drop=True)"
   ]
  },
  {
   "cell_type": "code",
   "execution_count": 10,
   "id": "3a550e28",
   "metadata": {
    "scrolled": true
   },
   "outputs": [
    {
     "name": "stdout",
     "output_type": "stream",
     "text": [
      "DataFrame shape  : 240 rows, 6 columns\n",
      "Memory usage     : 0.01 MB\n",
      "Duplicates count : 0\n"
     ]
    },
    {
     "data": {
      "text/html": [
       "<style  type=\"text/css\" >\n",
       "#T_d91da_row0_col1,#T_d91da_row1_col1,#T_d91da_row2_col1,#T_d91da_row3_col1,#T_d91da_row4_col1,#T_d91da_row5_col1{\n",
       "            width:  10em;\n",
       "             height:  80%;\n",
       "            background:  linear-gradient(90deg,lightblue 100.0%, transparent 100.0%);\n",
       "        }</style><table id=\"T_d91da_\" ><thead>    <tr>        <th class=\"blank level0\" ></th>        <th class=\"col_heading level0 col0\" >notNA</th>        <th class=\"col_heading level0 col1\" >notNA, %</th>        <th class=\"col_heading level0 col2\" >dtype</th>    </tr></thead><tbody>\n",
       "                <tr>\n",
       "                        <th id=\"T_d91da_level0_row0\" class=\"row_heading level0 row0\" >Temperature (K)</th>\n",
       "                        <td id=\"T_d91da_row0_col0\" class=\"data row0 col0\" >240</td>\n",
       "                        <td id=\"T_d91da_row0_col1\" class=\"data row0 col1\" >100.00</td>\n",
       "                        <td id=\"T_d91da_row0_col2\" class=\"data row0 col2\" >int64</td>\n",
       "            </tr>\n",
       "            <tr>\n",
       "                        <th id=\"T_d91da_level0_row1\" class=\"row_heading level0 row1\" >Luminosity(L/Lo)</th>\n",
       "                        <td id=\"T_d91da_row1_col0\" class=\"data row1 col0\" >240</td>\n",
       "                        <td id=\"T_d91da_row1_col1\" class=\"data row1 col1\" >100.00</td>\n",
       "                        <td id=\"T_d91da_row1_col2\" class=\"data row1 col2\" >float64</td>\n",
       "            </tr>\n",
       "            <tr>\n",
       "                        <th id=\"T_d91da_level0_row2\" class=\"row_heading level0 row2\" >Radius(R/Ro)</th>\n",
       "                        <td id=\"T_d91da_row2_col0\" class=\"data row2 col0\" >240</td>\n",
       "                        <td id=\"T_d91da_row2_col1\" class=\"data row2 col1\" >100.00</td>\n",
       "                        <td id=\"T_d91da_row2_col2\" class=\"data row2 col2\" >float64</td>\n",
       "            </tr>\n",
       "            <tr>\n",
       "                        <th id=\"T_d91da_level0_row3\" class=\"row_heading level0 row3\" >Absolute magnitude(Mv)</th>\n",
       "                        <td id=\"T_d91da_row3_col0\" class=\"data row3 col0\" >240</td>\n",
       "                        <td id=\"T_d91da_row3_col1\" class=\"data row3 col1\" >100.00</td>\n",
       "                        <td id=\"T_d91da_row3_col2\" class=\"data row3 col2\" >float64</td>\n",
       "            </tr>\n",
       "            <tr>\n",
       "                        <th id=\"T_d91da_level0_row4\" class=\"row_heading level0 row4\" >Star type</th>\n",
       "                        <td id=\"T_d91da_row4_col0\" class=\"data row4 col0\" >240</td>\n",
       "                        <td id=\"T_d91da_row4_col1\" class=\"data row4 col1\" >100.00</td>\n",
       "                        <td id=\"T_d91da_row4_col2\" class=\"data row4 col2\" >int64</td>\n",
       "            </tr>\n",
       "            <tr>\n",
       "                        <th id=\"T_d91da_level0_row5\" class=\"row_heading level0 row5\" >Star color</th>\n",
       "                        <td id=\"T_d91da_row5_col0\" class=\"data row5 col0\" >240</td>\n",
       "                        <td id=\"T_d91da_row5_col1\" class=\"data row5 col1\" >100.00</td>\n",
       "                        <td id=\"T_d91da_row5_col2\" class=\"data row5 col2\" >object</td>\n",
       "            </tr>\n",
       "    </tbody></table>"
      ],
      "text/plain": [
       "<pandas.io.formats.style.Styler at 0x7ff1c04bc460>"
      ]
     },
     "execution_count": 10,
     "metadata": {},
     "output_type": "execute_result"
    }
   ],
   "source": [
    "# проверим тип данных, пропуски и размер данных\n",
    "dataframe_info(df)"
   ]
  },
  {
   "cell_type": "markdown",
   "id": "47eb3d0a",
   "metadata": {},
   "source": [
    "Наблюдаем 240 строк и 6 колонок, тип данных совпадает с содержимым, пропуски отсутствуют"
   ]
  },
  {
   "cell_type": "code",
   "execution_count": 11,
   "id": "60663914",
   "metadata": {
    "scrolled": true
   },
   "outputs": [
    {
     "data": {
      "text/html": [
       "<div>\n",
       "<style scoped>\n",
       "    .dataframe tbody tr th:only-of-type {\n",
       "        vertical-align: middle;\n",
       "    }\n",
       "\n",
       "    .dataframe tbody tr th {\n",
       "        vertical-align: top;\n",
       "    }\n",
       "\n",
       "    .dataframe thead th {\n",
       "        text-align: right;\n",
       "    }\n",
       "</style>\n",
       "<table border=\"1\" class=\"dataframe\">\n",
       "  <thead>\n",
       "    <tr style=\"text-align: right;\">\n",
       "      <th></th>\n",
       "      <th>Temperature (K)</th>\n",
       "      <th>Luminosity(L/Lo)</th>\n",
       "      <th>Radius(R/Ro)</th>\n",
       "      <th>Absolute magnitude(Mv)</th>\n",
       "      <th>Star type</th>\n",
       "    </tr>\n",
       "  </thead>\n",
       "  <tbody>\n",
       "    <tr>\n",
       "      <th>count</th>\n",
       "      <td>240.000000</td>\n",
       "      <td>240.000000</td>\n",
       "      <td>240.000000</td>\n",
       "      <td>240.000000</td>\n",
       "      <td>240.000000</td>\n",
       "    </tr>\n",
       "    <tr>\n",
       "      <th>mean</th>\n",
       "      <td>10497.462500</td>\n",
       "      <td>107188.361635</td>\n",
       "      <td>237.157781</td>\n",
       "      <td>4.382396</td>\n",
       "      <td>2.500000</td>\n",
       "    </tr>\n",
       "    <tr>\n",
       "      <th>std</th>\n",
       "      <td>9552.425037</td>\n",
       "      <td>179432.244940</td>\n",
       "      <td>517.155763</td>\n",
       "      <td>10.532512</td>\n",
       "      <td>1.711394</td>\n",
       "    </tr>\n",
       "    <tr>\n",
       "      <th>min</th>\n",
       "      <td>1939.000000</td>\n",
       "      <td>0.000080</td>\n",
       "      <td>0.008400</td>\n",
       "      <td>-11.920000</td>\n",
       "      <td>0.000000</td>\n",
       "    </tr>\n",
       "    <tr>\n",
       "      <th>25%</th>\n",
       "      <td>3344.250000</td>\n",
       "      <td>0.000865</td>\n",
       "      <td>0.102750</td>\n",
       "      <td>-6.232500</td>\n",
       "      <td>1.000000</td>\n",
       "    </tr>\n",
       "    <tr>\n",
       "      <th>50%</th>\n",
       "      <td>5776.000000</td>\n",
       "      <td>0.070500</td>\n",
       "      <td>0.762500</td>\n",
       "      <td>8.313000</td>\n",
       "      <td>2.500000</td>\n",
       "    </tr>\n",
       "    <tr>\n",
       "      <th>75%</th>\n",
       "      <td>15055.500000</td>\n",
       "      <td>198050.000000</td>\n",
       "      <td>42.750000</td>\n",
       "      <td>13.697500</td>\n",
       "      <td>4.000000</td>\n",
       "    </tr>\n",
       "    <tr>\n",
       "      <th>max</th>\n",
       "      <td>40000.000000</td>\n",
       "      <td>849420.000000</td>\n",
       "      <td>1948.500000</td>\n",
       "      <td>20.060000</td>\n",
       "      <td>5.000000</td>\n",
       "    </tr>\n",
       "  </tbody>\n",
       "</table>\n",
       "</div>"
      ],
      "text/plain": [
       "       Temperature (K)  Luminosity(L/Lo)  Radius(R/Ro)  \\\n",
       "count       240.000000        240.000000    240.000000   \n",
       "mean      10497.462500     107188.361635    237.157781   \n",
       "std        9552.425037     179432.244940    517.155763   \n",
       "min        1939.000000          0.000080      0.008400   \n",
       "25%        3344.250000          0.000865      0.102750   \n",
       "50%        5776.000000          0.070500      0.762500   \n",
       "75%       15055.500000     198050.000000     42.750000   \n",
       "max       40000.000000     849420.000000   1948.500000   \n",
       "\n",
       "       Absolute magnitude(Mv)   Star type  \n",
       "count              240.000000  240.000000  \n",
       "mean                 4.382396    2.500000  \n",
       "std                 10.532512    1.711394  \n",
       "min                -11.920000    0.000000  \n",
       "25%                 -6.232500    1.000000  \n",
       "50%                  8.313000    2.500000  \n",
       "75%                 13.697500    4.000000  \n",
       "max                 20.060000    5.000000  "
      ]
     },
     "execution_count": 11,
     "metadata": {},
     "output_type": "execute_result"
    }
   ],
   "source": [
    "df.describe()"
   ]
  },
  {
   "cell_type": "markdown",
   "id": "68d3b545",
   "metadata": {},
   "source": [
    "- Верхние значения данных лежат в пределах нормы.\n",
    "- Наблюдаем нулевые и отрицательные значения, изучим их подробнее"
   ]
  },
  {
   "cell_type": "code",
   "execution_count": 12,
   "id": "28f26b5a",
   "metadata": {},
   "outputs": [],
   "source": [
    "# # Переведем данные в тип float32\n",
    "# # Определяем столбец, который должен остаться object\n",
    "exclude_column = 'Star color'\n",
    "\n",
    "# # Преобразуем все столбцы в float32, кроме 'Star color'\n",
    "# df[df.columns.difference([exclude_column])] = df[df.columns.difference\n",
    "#                                                  ([exclude_column])].astype(np.float32)\n",
    "\n",
    "# # Фильтруем строки, где есть 0 (но не учитываем столбец 'Star color')\n",
    "filtered_df = df[(df.drop(columns=[exclude_column]) == 0).any(axis=1)]"
   ]
  },
  {
   "cell_type": "code",
   "execution_count": 13,
   "id": "12167ca6",
   "metadata": {
    "scrolled": true
   },
   "outputs": [
    {
     "data": {
      "text/html": [
       "<div>\n",
       "<style scoped>\n",
       "    .dataframe tbody tr th:only-of-type {\n",
       "        vertical-align: middle;\n",
       "    }\n",
       "\n",
       "    .dataframe tbody tr th {\n",
       "        vertical-align: top;\n",
       "    }\n",
       "\n",
       "    .dataframe thead th {\n",
       "        text-align: right;\n",
       "    }\n",
       "</style>\n",
       "<table border=\"1\" class=\"dataframe\">\n",
       "  <thead>\n",
       "    <tr style=\"text-align: right;\">\n",
       "      <th></th>\n",
       "      <th>Temperature (K)</th>\n",
       "      <th>Luminosity(L/Lo)</th>\n",
       "      <th>Radius(R/Ro)</th>\n",
       "      <th>Absolute magnitude(Mv)</th>\n",
       "      <th>Star type</th>\n",
       "      <th>Star color</th>\n",
       "    </tr>\n",
       "  </thead>\n",
       "  <tbody>\n",
       "    <tr>\n",
       "      <th>0</th>\n",
       "      <td>3068</td>\n",
       "      <td>0.002400</td>\n",
       "      <td>0.1700</td>\n",
       "      <td>16.12</td>\n",
       "      <td>0</td>\n",
       "      <td>Red</td>\n",
       "    </tr>\n",
       "    <tr>\n",
       "      <th>1</th>\n",
       "      <td>3042</td>\n",
       "      <td>0.000500</td>\n",
       "      <td>0.1542</td>\n",
       "      <td>16.60</td>\n",
       "      <td>0</td>\n",
       "      <td>Red</td>\n",
       "    </tr>\n",
       "    <tr>\n",
       "      <th>2</th>\n",
       "      <td>2600</td>\n",
       "      <td>0.000300</td>\n",
       "      <td>0.1020</td>\n",
       "      <td>18.70</td>\n",
       "      <td>0</td>\n",
       "      <td>Red</td>\n",
       "    </tr>\n",
       "    <tr>\n",
       "      <th>3</th>\n",
       "      <td>2800</td>\n",
       "      <td>0.000200</td>\n",
       "      <td>0.1600</td>\n",
       "      <td>16.65</td>\n",
       "      <td>0</td>\n",
       "      <td>Red</td>\n",
       "    </tr>\n",
       "    <tr>\n",
       "      <th>4</th>\n",
       "      <td>1939</td>\n",
       "      <td>0.000138</td>\n",
       "      <td>0.1030</td>\n",
       "      <td>20.06</td>\n",
       "      <td>0</td>\n",
       "      <td>Red</td>\n",
       "    </tr>\n",
       "  </tbody>\n",
       "</table>\n",
       "</div>"
      ],
      "text/plain": [
       "   Temperature (K)  Luminosity(L/Lo)  Radius(R/Ro)  Absolute magnitude(Mv)  \\\n",
       "0             3068          0.002400        0.1700                   16.12   \n",
       "1             3042          0.000500        0.1542                   16.60   \n",
       "2             2600          0.000300        0.1020                   18.70   \n",
       "3             2800          0.000200        0.1600                   16.65   \n",
       "4             1939          0.000138        0.1030                   20.06   \n",
       "\n",
       "   Star type Star color  \n",
       "0          0        Red  \n",
       "1          0        Red  \n",
       "2          0        Red  \n",
       "3          0        Red  \n",
       "4          0        Red  "
      ]
     },
     "metadata": {},
     "output_type": "display_data"
    },
    {
     "name": "stdout",
     "output_type": "stream",
     "text": [
      "<class 'pandas.core.frame.DataFrame'>\n",
      "Int64Index: 40 entries, 0 to 189\n",
      "Data columns (total 6 columns):\n",
      " #   Column                  Non-Null Count  Dtype  \n",
      "---  ------                  --------------  -----  \n",
      " 0   Temperature (K)         40 non-null     int64  \n",
      " 1   Luminosity(L/Lo)        40 non-null     float64\n",
      " 2   Radius(R/Ro)            40 non-null     float64\n",
      " 3   Absolute magnitude(Mv)  40 non-null     float64\n",
      " 4   Star type               40 non-null     int64  \n",
      " 5   Star color              40 non-null     object \n",
      "dtypes: float64(3), int64(2), object(1)\n",
      "memory usage: 2.2+ KB\n"
     ]
    }
   ],
   "source": [
    "display(filtered_df.head(5))\n",
    "filtered_df.info()"
   ]
  },
  {
   "cell_type": "markdown",
   "id": "612528db",
   "metadata": {},
   "source": [
    "40 строк с нулевыми значениями Luminosity(L/Lo) и Radius(R/Ro),которые все относятся к типу звезды 0 (Коричневый карлик). По данным из  интернет ресурсов:  \n",
    "`L/Lo = 0 невозможно: Коричневые карлики всегда излучают, даже если их светимость исчезающе мала.\n",
    " R/Ro = 0 невозможно: Их радиус ограничен давлением вырожденного газа и гравитационным равновесием.\n",
    " Экстремальные значения: Самые холодные коричневые карлики приближаются к планетам-гигантам, но   физически остаются отдельным классом объектов с ненулевыми L и R.`\n",
    " \n",
    "Пока оставим эти данные т.к. это 1/6 всех данных, которых у нас и так не много."
   ]
  },
  {
   "cell_type": "code",
   "execution_count": 14,
   "id": "6b94e932",
   "metadata": {},
   "outputs": [],
   "source": [
    "# Фильтруем строки, где есть значения < 0 (но не учитываем столбец 'Star color')\n",
    "filtered_df_less_than_zero = df[(df.drop(columns=[exclude_column]) < 0).any(axis=1)]"
   ]
  },
  {
   "cell_type": "code",
   "execution_count": 15,
   "id": "ce212283",
   "metadata": {
    "scrolled": false
   },
   "outputs": [
    {
     "data": {
      "text/html": [
       "<div>\n",
       "<style scoped>\n",
       "    .dataframe tbody tr th:only-of-type {\n",
       "        vertical-align: middle;\n",
       "    }\n",
       "\n",
       "    .dataframe tbody tr th {\n",
       "        vertical-align: top;\n",
       "    }\n",
       "\n",
       "    .dataframe thead th {\n",
       "        text-align: right;\n",
       "    }\n",
       "</style>\n",
       "<table border=\"1\" class=\"dataframe\">\n",
       "  <thead>\n",
       "    <tr style=\"text-align: right;\">\n",
       "      <th></th>\n",
       "      <th>Temperature (K)</th>\n",
       "      <th>Luminosity(L/Lo)</th>\n",
       "      <th>Radius(R/Ro)</th>\n",
       "      <th>Absolute magnitude(Mv)</th>\n",
       "      <th>Star type</th>\n",
       "      <th>Star color</th>\n",
       "    </tr>\n",
       "  </thead>\n",
       "  <tbody>\n",
       "    <tr>\n",
       "      <th>30</th>\n",
       "      <td>39000</td>\n",
       "      <td>204000.0</td>\n",
       "      <td>10.6</td>\n",
       "      <td>-4.70</td>\n",
       "      <td>3</td>\n",
       "      <td>Blue</td>\n",
       "    </tr>\n",
       "    <tr>\n",
       "      <th>31</th>\n",
       "      <td>30000</td>\n",
       "      <td>28840.0</td>\n",
       "      <td>6.3</td>\n",
       "      <td>-4.20</td>\n",
       "      <td>3</td>\n",
       "      <td>Blue-white</td>\n",
       "    </tr>\n",
       "    <tr>\n",
       "      <th>32</th>\n",
       "      <td>15276</td>\n",
       "      <td>1136.0</td>\n",
       "      <td>7.2</td>\n",
       "      <td>-1.97</td>\n",
       "      <td>3</td>\n",
       "      <td>Blue-white</td>\n",
       "    </tr>\n",
       "    <tr>\n",
       "      <th>40</th>\n",
       "      <td>3826</td>\n",
       "      <td>200000.0</td>\n",
       "      <td>19.0</td>\n",
       "      <td>-6.93</td>\n",
       "      <td>4</td>\n",
       "      <td>Red</td>\n",
       "    </tr>\n",
       "    <tr>\n",
       "      <th>41</th>\n",
       "      <td>3365</td>\n",
       "      <td>340000.0</td>\n",
       "      <td>23.0</td>\n",
       "      <td>-6.20</td>\n",
       "      <td>4</td>\n",
       "      <td>Red</td>\n",
       "    </tr>\n",
       "  </tbody>\n",
       "</table>\n",
       "</div>"
      ],
      "text/plain": [
       "    Temperature (K)  Luminosity(L/Lo)  Radius(R/Ro)  Absolute magnitude(Mv)  \\\n",
       "30            39000          204000.0          10.6                   -4.70   \n",
       "31            30000           28840.0           6.3                   -4.20   \n",
       "32            15276            1136.0           7.2                   -1.97   \n",
       "40             3826          200000.0          19.0                   -6.93   \n",
       "41             3365          340000.0          23.0                   -6.20   \n",
       "\n",
       "    Star type  Star color  \n",
       "30          3        Blue  \n",
       "31          3  Blue-white  \n",
       "32          3  Blue-white  \n",
       "40          4         Red  \n",
       "41          4         Red  "
      ]
     },
     "metadata": {},
     "output_type": "display_data"
    },
    {
     "name": "stdout",
     "output_type": "stream",
     "text": [
      "<class 'pandas.core.frame.DataFrame'>\n",
      "Int64Index: 102 entries, 30 to 239\n",
      "Data columns (total 6 columns):\n",
      " #   Column                  Non-Null Count  Dtype  \n",
      "---  ------                  --------------  -----  \n",
      " 0   Temperature (K)         102 non-null    int64  \n",
      " 1   Luminosity(L/Lo)        102 non-null    float64\n",
      " 2   Radius(R/Ro)            102 non-null    float64\n",
      " 3   Absolute magnitude(Mv)  102 non-null    float64\n",
      " 4   Star type               102 non-null    int64  \n",
      " 5   Star color              102 non-null    object \n",
      "dtypes: float64(3), int64(2), object(1)\n",
      "memory usage: 5.6+ KB\n"
     ]
    }
   ],
   "source": [
    "display(filtered_df_less_than_zero.head(5))\n",
    "filtered_df_less_than_zero.info()"
   ]
  },
  {
   "cell_type": "markdown",
   "id": "3eab3410",
   "metadata": {},
   "source": [
    "Наблюдаем 102 строки с отрицательным занчением Absolute magnitude(Mv)  \n",
    "`Mv < 0 — норма для сверхярких звёзд: сверхгигантов, гипергигантов, звёзд Вольфа-Райе.\n",
    "Отрицательные значения отражают их колоссальную энергию, а не ошибку в расчётах.`"
   ]
  },
  {
   "cell_type": "markdown",
   "id": "68be09b1",
   "metadata": {},
   "source": [
    "Существуют одинаковые названия звезд, но из за начального регистра они выделяются как разные, так же как и написанные через дефис и без, так же есть лишние пробелы."
   ]
  },
  {
   "cell_type": "code",
   "execution_count": 16,
   "id": "4fa42be4",
   "metadata": {},
   "outputs": [
    {
     "name": "stdout",
     "output_type": "stream",
     "text": [
      "Уникальные значения столбца Star color после обработки:\n",
      " ['красный' 'бело голубой' 'белый' 'жёлто белый' 'жёлтый' 'голубой'\n",
      " 'оранжевый']\n",
      "\n",
      "Число уникальных значений после обработки: 7\n"
     ]
    }
   ],
   "source": [
    "# Словарь соответствия цветов Гарвардской классификации\n",
    "color_mapping = {\n",
    "    'blue': 'голубой',\n",
    "    'blue white': 'бело голубой',\n",
    "    'blue-white': 'бело голубой',\n",
    "    'whitish': 'белый',\n",
    "    'white': 'белый',\n",
    "    'yellow-white': 'жёлто белый',\n",
    "    'yellow white': 'жёлто белый',\n",
    "    'yellowish white': 'жёлто белый',\n",
    "    'pale yellow orange': 'жёлтый',\n",
    "    'yellowish': 'жёлтый',\n",
    "    'orange': 'оранжевый',\n",
    "    'orange-red': 'оранжевый',\n",
    "    'red': 'красный',\n",
    "    'white yellow': 'жёлто белый',\n",
    "    'orange red': 'оранжевый'\n",
    "}\n",
    "\n",
    "# Функция очистки и замены цветов\n",
    "def clean_and_map_star_color(color):\n",
    "    color = color.lower().strip()  # Понижение регистра и удаление лишних пробелов\n",
    "    color = re.sub(r'[-\\s]+', ' ', color)  # Замена дефисов и лишних пробелов на один пробел\n",
    "    return color_mapping.get(color, color)  # Применение классификации\n",
    "\n",
    "df['Star color'] = df['Star color'].apply(clean_and_map_star_color)  # Применяем обработку\n",
    "\n",
    "# Вывод результатов\n",
    "print('Уникальные значения столбца Star color после обработки:\\n', df['Star color'].unique())\n",
    "print('\\nЧисло уникальных значений после обработки:', df['Star color'].nunique())\n"
   ]
  },
  {
   "cell_type": "markdown",
   "id": "eb7f9009",
   "metadata": {},
   "source": [
    "##### Диаграмма рассеяния (Temperature vs Luminosity)"
   ]
  },
  {
   "cell_type": "code",
   "execution_count": 17,
   "id": "591843be",
   "metadata": {
    "scrolled": false
   },
   "outputs": [
    {
     "data": {
      "image/png": "[encoded data removed]",
      "text/plain": [
       "<Figure size 576x432 with 1 Axes>"
      ]
     },
     "metadata": {
      "needs_background": "light"
     },
     "output_type": "display_data"
    }
   ],
   "source": [
    "plt.figure(figsize=(8,6))\n",
    "scatter = sns.scatterplot(data=df, x=\"Temperature (K)\", y=\"Luminosity(L/Lo)\",\n",
    "                          hue=\"Star color\", palette=\"coolwarm\", alpha=0.7)\n",
    "\n",
    "plt.xscale(\"log\")\n",
    "plt.yscale(\"log\")\n",
    "plt.xlabel(\"Temperature (K)\")\n",
    "plt.ylabel(\"Luminosity (L/Lo)\")\n",
    "plt.gca().invert_xaxis()  # Инверсия оси температуры\n",
    "plt.title(\"Temperature vs Luminosity (H-R Diagram)\")\n",
    "\n",
    "# Перемещаем легенду за пределы графика\n",
    "plt.legend(title=\"Star Color\", bbox_to_anchor=(1.05, 1), loc='upper left')\n",
    "\n",
    "plt.show()"
   ]
  },
  {
   "cell_type": "markdown",
   "id": "7a5dc781",
   "metadata": {},
   "source": [
    "График представляет собой диаграмму Герцшпрунга-Рассела (H-R Diagram), которая показывает зависимость между температурой звезд и их светимостью.  \n",
    "Видно, что большинство звезд расположено по диагонали от верхнего левого угла к нижнему правому. Горячие голубые звезды (высокая температура, высокая светимость) — слева вверху. Холодные красные звезды (низкая температура, низкая светимость) — справа внизу.\n",
    "- Синие и белые (горячие) — слева.\n",
    "- Желтые и оранжевые (средние) — в середине.\n",
    "- Красные (холодные) — справа."
   ]
  },
  {
   "cell_type": "markdown",
   "id": "f3cfc0f0",
   "metadata": {},
   "source": [
    "##### Диаграмма Герцшпрунга-Рассела (Temperature vs Absolute Magnitude)"
   ]
  },
  {
   "cell_type": "code",
   "execution_count": 18,
   "id": "8d9fd39e",
   "metadata": {
    "scrolled": true
   },
   "outputs": [
    {
     "data": {
      "image/png": "[encoded data removed]",
      "text/plain": [
       "<Figure size 576x432 with 1 Axes>"
      ]
     },
     "metadata": {
      "needs_background": "light"
     },
     "output_type": "display_data"
    }
   ],
   "source": [
    "plt.figure(figsize=(8,6))\n",
    "sns.scatterplot(data=df, x=\"Temperature (K)\", y=\"Absolute magnitude(Mv)\",\n",
    "                hue=\"Star color\", palette=\"coolwarm\", alpha=0.7)\n",
    "plt.gca().invert_xaxis()\n",
    "plt.gca().invert_yaxis()\n",
    "plt.xlabel(\"Temperature (K)\")\n",
    "plt.ylabel(\"Absolute Magnitude (Mv)\")\n",
    "plt.title(\"Hertzsprung-Russell Diagram\")\n",
    "\n",
    "# Перемещаем легенду за пределы графика\n",
    "plt.legend(title=\"Star Color\", bbox_to_anchor=(1.05, 1), loc='upper left')\n",
    "\n",
    "plt.show()"
   ]
  },
  {
   "cell_type": "markdown",
   "id": "ee63d142",
   "metadata": {},
   "source": [
    "Этот график показывает связь между температурой звезд и их абсолютной величиной (яркостью). Горячие звезды (30 000 K и выше) находятся слева, холодные (3000-5000 K) – справа.\n",
    "- Горячие голубые звезды (высокая температура, высокая светимость) находятся слева сверху.\n",
    "- Холодные красные звезды (низкая температура, низкая светимость) расположены справа внизу."
   ]
  },
  {
   "cell_type": "markdown",
   "id": "02b9b3db",
   "metadata": {},
   "source": [
    "##### Гистограмма распределения звезд по типу"
   ]
  },
  {
   "cell_type": "code",
   "execution_count": 19,
   "id": "04f1fdfb",
   "metadata": {
    "scrolled": true
   },
   "outputs": [
    {
     "data": {
      "image/png": "[encoded data removed]",
      "text/plain": [
       "<Figure size 432x288 with 1 Axes>"
      ]
     },
     "metadata": {
      "needs_background": "light"
     },
     "output_type": "display_data"
    }
   ],
   "source": [
    "plt.figure(figsize=(6,4))\n",
    "sns.histplot(df[\"Star type\"], bins=10, discrete=True)\n",
    "plt.xlabel(\"Star Type\")\n",
    "plt.ylabel(\"Count\")\n",
    "plt.title(\"Distribution of Star Types\")\n",
    "plt.show()\n",
    "#df[\"Star type\"].value_counts()"
   ]
  },
  {
   "cell_type": "markdown",
   "id": "807e12b7",
   "metadata": {},
   "source": [
    "Наблюдается 6 типов звезд, в каждом типе по 40 звезд."
   ]
  },
  {
   "cell_type": "markdown",
   "id": "cc524855",
   "metadata": {},
   "source": [
    "###### Гистограмма распределения звезд по цветам"
   ]
  },
  {
   "cell_type": "code",
   "execution_count": 20,
   "id": "a66ac758",
   "metadata": {},
   "outputs": [
    {
     "data": {
      "image/png": "[encoded data removed]",
      "text/plain": [
       "<Figure size 1008x288 with 1 Axes>"
      ]
     },
     "metadata": {
      "needs_background": "light"
     },
     "output_type": "display_data"
    }
   ],
   "source": [
    "plt.figure(figsize=(14,4))\n",
    "sns.countplot(data=df, x=\"Star color\", \n",
    "              order=df[\"Star color\"].value_counts().index, palette=\"coolwarm\")\n",
    "plt.xticks(rotation=45)\n",
    "plt.xlabel(\"Star Color\")\n",
    "plt.ylabel(\"Count\")\n",
    "plt.title(\"Distribution of Stars by Color\")\n",
    "plt.show()"
   ]
  },
  {
   "cell_type": "markdown",
   "id": "cd8c2a8f",
   "metadata": {},
   "source": [
    "Из графика видно что больше всего красных звезд, а меньше всего оранжево-красных."
   ]
  },
  {
   "cell_type": "markdown",
   "id": "95f9817d",
   "metadata": {},
   "source": [
    "##### Матрица корреляции"
   ]
  },
  {
   "cell_type": "code",
   "execution_count": 21,
   "id": "b31c1d74",
   "metadata": {},
   "outputs": [
    {
     "data": {
      "image/png": "[encoded data removed]",
      "text/plain": [
       "<Figure size 576x432 with 2 Axes>"
      ]
     },
     "metadata": {
      "needs_background": "light"
     },
     "output_type": "display_data"
    }
   ],
   "source": [
    "df_encoded = df.copy()\n",
    "df_encoded['Star color'] = df_encoded['Star color'].astype('category').cat.codes\n",
    "df_encoded['Star type'] = df_encoded['Star type'].astype('category').cat.codes\n",
    "\n",
    "# Строим матрицу корреляции\n",
    "corr_matrix = df_encoded.corr()\n",
    "\n",
    "# Визуализация корреляционной матрицы\n",
    "plt.figure(figsize=(8,6))\n",
    "sns.heatmap(corr_matrix, annot=True, cmap='coolwarm', fmt=\".2f\")\n",
    "plt.title(\"Correlation Matrix with Categorical Data\")\n",
    "plt.show()"
   ]
  },
  {
   "cell_type": "markdown",
   "id": "47b8013b",
   "metadata": {},
   "source": [
    "Сильная отрицательная корреляция между температурой и цветом звезды (-0.76)\n",
    "- Чем выше температура, тем голубее звезда.\n",
    "- Чем ниже температура, тем краснее звезда.\n",
    "- Это соответствует законам астрофизики (горячие звёзды синие, холодные – красные).\n",
    "\n",
    "Сильная отрицательная корреляция между абсолютной звездной величиной и звездным типом (-0.96)\n",
    "- Отрицательные величины в астрономии означают большую яркость.\n",
    "- Чем ярче звезда, тем ниже её \"Star type\" в этом датасете.\n",
    "\n",
    "Сильная положительная корреляция между светимостью и радиусом (0.53)\n",
    "- Это логично: чем больше звезда, тем выше её светимость.\n",
    "- Подтверждает закон Стефана-Больцмана (энергия излучения растёт с увеличением радиуса).\n",
    "\n",
    "Средняя положительная корреляция между звездным типом и светимостью (0.68)\n",
    "- Разные классы звёзд имеют разную светимость.\n",
    "- Тип звезды предсказывает её светимость.\n",
    "\n",
    "Слабая связь между радиусом и температурой (0.06)\n",
    "- Радиус не сильно зависит от температуры, так как звёзды могут быть как большими и холодными, так и маленькими и горячими."
   ]
  },
  {
   "cell_type": "markdown",
   "id": "d891e80f",
   "metadata": {},
   "source": [
    "## Подготовка данных к построению модели"
   ]
  },
  {
   "cell_type": "code",
   "execution_count": 22,
   "id": "598aa321",
   "metadata": {},
   "outputs": [
    {
     "name": "stdout",
     "output_type": "stream",
     "text": [
      "<class 'pandas.core.frame.DataFrame'>\n",
      "RangeIndex: 240 entries, 0 to 239\n",
      "Data columns (total 6 columns):\n",
      " #   Column                  Non-Null Count  Dtype  \n",
      "---  ------                  --------------  -----  \n",
      " 0   Temperature (K)         240 non-null    int64  \n",
      " 1   Luminosity(L/Lo)        240 non-null    float64\n",
      " 2   Radius(R/Ro)            240 non-null    float64\n",
      " 3   Absolute magnitude(Mv)  240 non-null    float64\n",
      " 4   Star type               240 non-null    int64  \n",
      " 5   Star color              240 non-null    object \n",
      "dtypes: float64(3), int64(2), object(1)\n",
      "memory usage: 11.4+ KB\n"
     ]
    }
   ],
   "source": [
    "df.info()"
   ]
  },
  {
   "cell_type": "code",
   "execution_count": 23,
   "id": "213884ae",
   "metadata": {},
   "outputs": [
    {
     "data": {
      "text/plain": [
       "((240, 5), (240,))"
      ]
     },
     "execution_count": 23,
     "metadata": {},
     "output_type": "execute_result"
    }
   ],
   "source": [
    "# выделяем в отдельные переменные целевой признак и входные признаки\n",
    "X = df.drop('Temperature (K)', axis=1)\n",
    "Y  = df['Temperature (K)'] # целевой признак\n",
    "X.shape, Y.shape"
   ]
  },
  {
   "cell_type": "code",
   "execution_count": 24,
   "id": "01100907",
   "metadata": {},
   "outputs": [
    {
     "data": {
      "text/plain": [
       "((168, 5), (168,), (72, 5), (72,))"
      ]
     },
     "execution_count": 24,
     "metadata": {},
     "output_type": "execute_result"
    }
   ],
   "source": [
    "# разбиваем данные на выборки\n",
    "X_train, X_valid, Y_train, Y_valid = train_test_split(\n",
    "    X, Y, test_size=0.3, shuffle=True, random_state=RS)\n",
    "# проверка размерности\n",
    "X_train.shape, Y_train.shape, X_valid.shape, Y_valid.shape"
   ]
  },
  {
   "cell_type": "code",
   "execution_count": 25,
   "id": "ab9e0a93",
   "metadata": {},
   "outputs": [],
   "source": [
    "# номера звезд, попавших в валидационную выборку, потребуются при построении графика качества прогноза\n",
    "idx_valid = Y_valid.index"
   ]
  },
  {
   "cell_type": "code",
   "execution_count": 26,
   "id": "0f94cdbe",
   "metadata": {},
   "outputs": [
    {
     "name": "stdout",
     "output_type": "stream",
     "text": [
      "Категориальные признаки: ['Star color', 'Star type']\n",
      "Числовые признаки: ['Absolute magnitude(Mv)', 'Luminosity(L/Lo)', 'Radius(R/Ro)']\n"
     ]
    }
   ],
   "source": [
    "# Определяем категориальные признаки\n",
    "cat_features = X_train.select_dtypes(exclude='number').columns.tolist()\n",
    "cat_features.append('Star type')  # Добавляем 'Star type' вручную\n",
    "\n",
    "# Определяем числовые признаки (исключаем 'Star type')\n",
    "num_features = [col for col in X_train.select_dtypes(include='number').columns if col != 'Star type']\n",
    "\n",
    "print(\"Категориальные признаки:\", sorted(cat_features))\n",
    "print(\"Числовые признаки:\", sorted(num_features))\n"
   ]
  },
  {
   "cell_type": "code",
   "execution_count": 27,
   "id": "9e1cc830",
   "metadata": {},
   "outputs": [
    {
     "name": "stdout",
     "output_type": "stream",
     "text": [
      "(168, 14) (72, 14)\n"
     ]
    }
   ],
   "source": [
    "#КОД РЕВЬЮЕРА\n",
    "cat_preprocessor = OneHotEncoder(handle_unknown='ignore', drop='first', sparse_output=False)\n",
    "\n",
    "# Масштабирование числовых признаков\n",
    "num_preprocessor = make_pipeline(StandardScaler())\n",
    "\n",
    "# Применяем преобразования для категориальных и числовых признаков\n",
    "preprocessing = make_column_transformer(\n",
    "    (num_preprocessor, num_features),\n",
    "    (cat_preprocessor, cat_features),\n",
    ")\n",
    "\n",
    "# Применяем трансформации\n",
    "X_train = preprocessing.fit_transform(X_train)  # обучаем и трансформируем train\n",
    "X_valid = preprocessing.transform(X_valid)  # только трансформируем valid\n",
    "\n",
    "# Проверка результата\n",
    "print(X_train.shape, X_valid.shape)"
   ]
  },
  {
   "cell_type": "code",
   "execution_count": 28,
   "id": "d0a6f122",
   "metadata": {},
   "outputs": [],
   "source": [
    "# Перевод данных в PyTorch тензоры для последующей работы с нейросетями.\n",
    "X_train = torch.FloatTensor(np.array(X_train))\n",
    "Y_train = torch.FloatTensor(np.array(Y_train))\n",
    "X_valid = torch.FloatTensor(np.array(X_valid))\n",
    "Y_valid = torch.FloatTensor(np.array(Y_valid))"
   ]
  },
  {
   "cell_type": "markdown",
   "id": "funded-electric",
   "metadata": {},
   "source": [
    "## Построение базовой нейронной сети"
   ]
  },
  {
   "cell_type": "code",
   "execution_count": 29,
   "id": "67027bdf",
   "metadata": {},
   "outputs": [],
   "source": [
    "# Определяем нейросетевую модель в PyTorch, которая представляет собой\n",
    "# многослойный полносвязный (fully connected, FC) перцептрон с нормализацией, dropout и активациями.\n",
    "\n",
    "class Net(nn.Module):                           # Наследует nn.Module, что делает его PyTorch-моделью.\n",
    "    def __init__(self, n_in, n_hidden_1, n_hidden_2, n_out, p_dropout=0): # Инициализация модели\n",
    "        super(Net, self).__init__()\n",
    "        self.fc1 = nn.Linear(n_in, n_hidden_1)        # Первый скрытый слой (вход → скрытый_1)\n",
    "        self.bn1 = nn.BatchNorm1d(n_hidden_1)         # Нормализация скрытого слоя 1. (BatchNorm1d стабилизирует обучение, приводя активации к стандартному виду.)\n",
    "        self.act1 = nn.LeakyReLU()                    # Leaky ReLU для скрытого слоя 1. (LeakyReLU – улучшенная версия ReLU, которая предотвращает \"затухание градиента\".)\n",
    "        self.dp2 = nn.Dropout(p=p_dropout)            # Dropout для регуляризации. (Dropout помогает предотвратить переобучение.)\n",
    "\n",
    "        self.fc2 = nn.Linear(n_hidden_1, n_hidden_2)  # Второй скрытый слой (скрытый_1 → скрытый_2)\n",
    "        self.bn2 = nn.BatchNorm1d(n_hidden_2)         # Нормализация скрытого слоя 2\n",
    "        self.act2 = nn.LeakyReLU()                    # Leaky ReLU для скрытого слоя 2\n",
    "\n",
    "        self.fc3 = nn.Linear(n_hidden_2, n_out)       # Выходной слой (скрытый_2 → выход)\n",
    "        self.act3 = nn.ReLU()                         # ReLU перед выходом\n",
    "        \n",
    "            \n",
    "    def forward(self, x):    # Прямой проход\n",
    "        x = self.fc1(x)      # Первый полносвязный слой\n",
    "        x = self.bn1(x)      # Нормализация\n",
    "        x = self.act1(x)     # LeakyReLU\n",
    "        x = self.dp2(x)      # Dropout\n",
    "        x = self.fc2(x)      # Второй полносвязный слой\n",
    "        x = self.bn2(x)      # Нормализация\n",
    "        x = self.act2(x)     # LeakyReLU\n",
    "        x = self.fc3(x)      # Выходной слой\n",
    "        x = self.act3(x)     # ReLU на выходе\n",
    "        return x"
   ]
  },
  {
   "cell_type": "markdown",
   "id": "6d9407b4",
   "metadata": {},
   "source": [
    "##### Cоздаем и инициализируем нейросетевую модель в PyTorch, а также настраивает оптимизатор и функцию потерь."
   ]
  },
  {
   "cell_type": "code",
   "execution_count": 30,
   "id": "f2bc7e24",
   "metadata": {},
   "outputs": [],
   "source": [
    "def net_init(n_in, n_hidden_1, n_hidden_2, n_out, p_dropout=0):           # Определяет функцию инициализации модели.\n",
    "    torch.manual_seed(RS)                                                 # Позволяет всегда получать одинаковые веса модели при каждом запуске.\n",
    "    model = Net(n_in, n_hidden_1, n_hidden_2, n_out, p_dropout=p_dropout) # Вызывает ранее созданный класс Net, создавая экземпляр нейросети.\n",
    "    optimizer = torch.optim.Adam(model.parameters(), lr=1e-3)             # Используем Adam (адаптивный градиентный спуск) для обновления весов.\n",
    "    loss = nn.MSELoss()                                                   # Среднеквадратичная ошибка (MSE) – стандартная функция потерь для регрессии.\n",
    "    return model, optimizer, loss                                         # Возвращаем модель, оптимизатор и функцию потерь"
   ]
  },
  {
   "cell_type": "markdown",
   "id": "526697b3",
   "metadata": {},
   "source": [
    "#####  Определение размерностей слоев"
   ]
  },
  {
   "cell_type": "code",
   "execution_count": 31,
   "id": "dbabf0e3",
   "metadata": {},
   "outputs": [
    {
     "name": "stdout",
     "output_type": "stream",
     "text": [
      "Net(\n",
      "  (fc1): Linear(in_features=14, out_features=40, bias=True)\n",
      "  (bn1): BatchNorm1d(40, eps=1e-05, momentum=0.1, affine=True, track_running_stats=True)\n",
      "  (act1): LeakyReLU(negative_slope=0.01)\n",
      "  (dp2): Dropout(p=0, inplace=False)\n",
      "  (fc2): Linear(in_features=40, out_features=20, bias=True)\n",
      "  (bn2): BatchNorm1d(20, eps=1e-05, momentum=0.1, affine=True, track_running_stats=True)\n",
      "  (act2): LeakyReLU(negative_slope=0.01)\n",
      "  (fc3): Linear(in_features=20, out_features=1, bias=True)\n",
      "  (act3): ReLU()\n",
      ")\n"
     ]
    }
   ],
   "source": [
    "n_in = X_train.shape[1]  # Количество входных признаков              X_train.shape[1] – число столбцов в тренировочном наборе данных.\n",
    "n_hidden_1 = 40          # Число нейронов в первом скрытом слое\n",
    "n_hidden_2 = 20          # Число нейронов во втором скрытом слое\n",
    "n_out = 1                # Выходной нейрон (для регрессии)           Означает, что модель будет предсказывать одно значение\n",
    "\n",
    "p_dropout = 0     # для простой модели Dropout не используется\n",
    "\n",
    "# Инициализируем модель, Вызывает функцию net_init(), Создает объект модели (Net), \n",
    "# Настраивает оптимизатор Adam, Определяет функцию потерь (MSELoss).\n",
    "model, optimizer, loss = net_init(n_in, n_hidden_1, n_hidden_2, n_out, p_dropout=p_dropout)\n",
    "print(model)  # Вывод архитектуры модели"
   ]
  },
  {
   "cell_type": "markdown",
   "id": "9148da23",
   "metadata": {},
   "source": [
    "##### Реализуем механизм ранней остановки обучения нейросети. Это метод, который прекращает обучение модели, если её производительность на валидационном наборе данных больше не улучшается в течение определенного числа эпох (параметр patience)."
   ]
  },
  {
   "cell_type": "code",
   "execution_count": 32,
   "id": "02b15d1e",
   "metadata": {},
   "outputs": [],
   "source": [
    "class EarlyStop():\n",
    "    '''\n",
    "    Выполняет остановку обучения, если значение loss function не улучшается в течение ряда эпох\n",
    "    '''\n",
    "    def __init__(self, patience=5, min_delta=1):\n",
    "        '''\n",
    "        patience:  количество эпох, в течение которых можно терпеть отсутствие улучшений. \n",
    "        Если patience=5, то модель будет продолжать обучение еще 5 эпох,\n",
    "        даже если ошибка не улучшается.\n",
    "        min_delta: минимальное изменение, которое считается улучшением.\n",
    "        Если min_delta=1, то уменьшение функции потерь должно быть хотя бы на 1,\n",
    "        чтобы считаться улучшением.\n",
    "        counter – отслеживает количество эпох подряд, когда улучшений не было.\n",
    "        best_loss – наилучшее значение функции потерь, зафиксированное на текущий момент.\n",
    "        early_stop – флаг, который указывает, следует ли остановить обучение.\n",
    "        '''\n",
    "        self.patience = patience\n",
    "        self.min_delta = min_delta\n",
    "        self.counter = 0\n",
    "        self.best_loss = float('inf')\n",
    "        self.early_stop = False\n",
    "\n",
    "    def __call__(self, val_loss): \n",
    "        '''\n",
    "        метод вызывается после каждой эпохи с новым значением функции потерь\n",
    "        на валидационном наборе (val_loss).\n",
    "        '''\n",
    "        if self.best_loss - val_loss >= self.min_delta:\n",
    "            self.best_loss = val_loss\n",
    "            self.counter = 0              # Сбрасываем счетчик (counter), так как улучшение произошло.\n",
    "        else:\n",
    "            self.counter += 1\n",
    "            if self.counter > self.patience:      # Если счетчик превышает значение patience, \n",
    "                print('--- early stop ---')       # то устанавливаем флаг ранней остановки (early_stop = True)\n",
    "                self.early_stop = True            # и выводим сообщение, что обучение будет остановлено."
   ]
  },
  {
   "cell_type": "code",
   "execution_count": 33,
   "id": "0dc50644",
   "metadata": {},
   "outputs": [],
   "source": [
    "def net_training(n_epoch, batch_size, stop_interval=100, stop_patience=5, stop_delta=1, verbose=0):\n",
    "    '''\n",
    "    n_epoch: максимальное количество эпох обучения.\n",
    "    batch_size: размер батча (количество примеров, передаваемых в модель за раз).\n",
    "    stop_interval: каждые stop_interval эпох проверяется условие ранней остановки.\n",
    "    stop_patience: если в течение stop_patience проверок нет улучшения, обучение прекращается.\n",
    "    stop_delta: минимальное улучшение функции потерь, которое считается значимым.\n",
    "    verbose: если verbose ≥ 1, то каждые stop_interval * verbose эпох печатается текущая ошибка.\n",
    "    '''\n",
    "    \n",
    "    stop = EarlyStop(patience=stop_patience, min_delta=stop_delta) # Создается объект EarlyStop, который будет следить за улучшением ошибки на валидационном наборе.\n",
    "    \n",
    "    for epoch in range(n_epoch):                                   # Запускается цикл обучения до n_epoch эпох (или пока не сработает ранняя остановка)\n",
    "\n",
    "        # новый DataLoader для каждой эпохи\n",
    "        tds_train = torch.utils.data.TensorDataset(X_train, Y_train)                         # Создаем датасет из тензоров X_train (входящие признаки) и Y_train (целевые значения).\n",
    "        dl_train = DataLoader(tds_train, batch_size=batch_size, shuffle=True, num_workers=0) # Разделяеv данные на батчи (batch_size), shuffle=True перемешивает данные перед каждой эпохой.\n",
    "\n",
    "        model.train()             # Переводим модель в режим обучения (train()).\n",
    "\n",
    "        \n",
    "        for batch in dl_train:\n",
    "            \n",
    "            data_train, target_train = batch\n",
    "            target_pred = model.forward(data_train) # Передаем данные через модель:\n",
    "            loss_train = torch.sqrt(loss(target_pred.flatten(), target_train.flatten()))    # Вычисляем функцию потерь (RMSE, корень из среднеквадратичной ошибки)\n",
    "            optimizer.zero_grad() # Обнуляем градиенты перед обновлением весов\n",
    "            loss_train.backward() # Вычисляем градиенты (backpropagation)\n",
    "            optimizer.step()      # Обновляем веса модели\n",
    "\n",
    "        # Проверка ошибки на валидационном наборе\n",
    "        if epoch % stop_interval == 0:             # Каждые stop_interval эпох\n",
    "            \n",
    "            model.eval()                           # Переключаем модель в режим валидации (eval()).\n",
    "\n",
    "            with torch.no_grad():                  # Вычисляем ошибку RMSE на валидационном наборе (без градиентов, torch.no_grad())\n",
    "                target_pred = model.forward(X_valid)\n",
    "                loss_valid = torch.sqrt(loss(target_pred.flatten(), Y_valid.flatten()))     # RMSE\n",
    "\n",
    "                if verbose >= 1:                   # Если включен verbose, выводим RMSE.\n",
    "                    if (epoch % int(stop_interval * verbose) == 0):\n",
    "                        print(f'epoch {epoch}, RMSE_valid = {loss_valid:.1f}')\n",
    "            # Проверка ранней остановки\n",
    "            stop(loss_valid)                       # Передаем loss_valid в объект EarlyStop, который проверяет, улучшается ли ошибка.\n",
    "            \n",
    "            if stop.counter == 0:                  # фиксация лучшего результата\n",
    "                best_loss = loss_valid\n",
    "                best_pred = target_pred            # Если найдено новое лучшее значение ошибки, сохраняем его.\n",
    "               \n",
    "            if stop.early_stop:                    # Если условие ранней остановки сработало, обучение прекращается.          \n",
    "                print(f'Best RMSE_valid = {f.BOLD}{best_loss:.1f}{f.END}')\n",
    "                return best_pred, best_loss        # best_pred – лучшие предсказания модели, best_loss – минимальное значение ошибки."
   ]
  },
  {
   "cell_type": "markdown",
   "id": "657a42bd",
   "metadata": {},
   "source": [
    "#####  Запускаем обучение нейросети с помощью функции net_training() и измеряем время выполнения."
   ]
  },
  {
   "cell_type": "code",
   "execution_count": 34,
   "id": "65fac3ad",
   "metadata": {
    "scrolled": true
   },
   "outputs": [
    {
     "name": "stdout",
     "output_type": "stream",
     "text": [
      "epoch 0, RMSE_valid = 12760.6\n",
      "epoch 1000, RMSE_valid = 11548.1\n",
      "epoch 2000, RMSE_valid = 9017.2\n",
      "epoch 3000, RMSE_valid = 5798.2\n",
      "epoch 4000, RMSE_valid = 4249.6\n",
      "epoch 5000, RMSE_valid = 4288.3\n",
      "--- early stop ---\n",
      "Best RMSE_valid = \u001b[1m4089.1\u001b[0m\n",
      "Training time: 323.79 seconds\n"
     ]
    }
   ],
   "source": [
    "# Пример обучения с оптимальными параметрами\n",
    "# Запуск обучения с оптимизированными параметрами\n",
    "start_time = time.time()\n",
    "                           # prediction - сохраняет предсказания модели после завершения обучения. _ (второй возвращаемый параметр) – это best_loss, но в данном случае он не используется.\n",
    "prediction, _ = net_training(\n",
    "    n_epoch=20000,         # максимальное количество эпох.\n",
    "    batch_size=40,         # батч размером 40 примеров.\n",
    "    stop_interval=50,      # проверка условия ранней остановки каждые 50 эпох.\n",
    "    stop_patience=20,      # если в течение 20 проверок (50 * 20 = 1000 эпох) нет улучшений, обучение прекратится.\n",
    "    stop_delta=1,          # ошибка должна уменьшиться хотя бы на 1, чтобы считаться улучшением.\n",
    "    verbose=20             # каждые 50 * 20 = 1000 эпох выводится промежуточный результат.\n",
    ")\n",
    "\n",
    "end_time = time.time()\n",
    "\n",
    "print(f\"Training time: {end_time - start_time:.2f} seconds\")"
   ]
  },
  {
   "cell_type": "markdown",
   "id": "c61abe19",
   "metadata": {},
   "source": [
    "Качество модели достаточно хорошее - RMSE_valid = 4089.1, порог задания пройден."
   ]
  },
  {
   "cell_type": "markdown",
   "id": "1e21da21",
   "metadata": {},
   "source": [
    "##### Функция для визуализации прогноза"
   ]
  },
  {
   "cell_type": "code",
   "execution_count": 35,
   "id": "6d66d58c",
   "metadata": {},
   "outputs": [],
   "source": [
    "def plot_prediction(Y_valid, Y_pred, func_y=lambda x: x, prefix_y=''):\n",
    "    '''\n",
    "    Визуализация качества прогноза\n",
    "    Y_valid: тензор правильных ответов\n",
    "    Y_pred: тензор прогноза\n",
    "    func_y: функция для предварительной обработки значений по оси Y \n",
    "    (по-умолчанию обработка не применяется)\n",
    "    prefix_y: префикс для подписи оси Y\n",
    "    '''\n",
    "\n",
    "    ax_valid = func_y(Y_valid.detach().numpy())                                  # Преобразуем тензоры PyTorch в numpy, Применяем func_y, если нужно изменить масштаб значений (например, np.exp для обратного логарифма).\n",
    "    ax_pred = func_y(Y_pred.detach().numpy().flatten())\n",
    "    ax_diff = ax_valid - ax_pred                                                 # Разница между фактическими и предсказанными значениями\n",
    "    \n",
    "    fig, ax = plt.subplots(figsize=(len(idx_valid)/3, 8), dpi=150)               # Ширина зависит от количества звезд (len(idx_valid)/3), высота фиксированная (8). Разрешение (dpi=150): увеличивает качество изображения.\n",
    "    \n",
    "    sns.barplot(x=idx_valid, y=ax_valid, color='Red', alpha = 0.5, label='Факт') # x=idx_valid – индексы звезд, y=ax_valid – фактические температуры.\n",
    "    sns.barplot(x=idx_valid, y=ax_pred, color='steelblue', alpha=0.7, linewidth=0, label='Прогноз')\n",
    "    sns.lineplot(x=range(len(ax_diff)), y=ax_diff, color='black', linestyle='dashed', marker='o', label='Разница')\n",
    "    \n",
    "    ax.legend()\n",
    "    ax.set_title(f'{prefix_y}Temperature: Факт и Прогноз')\n",
    "    ax.set_xlabel('Условные номера звезд')\n",
    "    ax.set_ylabel(f'{prefix_y}Temperature, К')\n",
    "    plt.xticks(rotation=90)                                               # Поворот подписей на оси X\n",
    "    plt.show()"
   ]
  },
  {
   "cell_type": "code",
   "execution_count": 36,
   "id": "4d373f49",
   "metadata": {
    "scrolled": true
   },
   "outputs": [
    {
     "data": {
      "image/png": "[encoded data removed]",
      "text/plain": [
       "<Figure size 3600x1200 with 1 Axes>"
      ]
     },
     "metadata": {
      "needs_background": "light"
     },
     "output_type": "display_data"
    }
   ],
   "source": [
    "plot_prediction(Y_valid, prediction)"
   ]
  },
  {
   "cell_type": "markdown",
   "id": "debeed23",
   "metadata": {},
   "source": [
    "На отдельных звёздах погрешность значительно выше. Обычно это характерно для светил с повышенной температурой. Температура звёзд может варьироваться в очень широком диапазоне.  \n",
    "- Ошибка в предсказании температуры звезд в Кельвинах (K) ведет себя нелинейно\n",
    "- 1000 K ошибки — это много для холодной звезды (3000 K, ≈ 33% ошибки).\n",
    "- 1000 K ошибки — это мало для горячей звезды (30 000 K, ≈ 3.3% ошибки).  \n",
    "\n",
    "Главная проблема RMSE: она минимизирует абсолютные ошибки, но не учитывает относительные (процентные)."
   ]
  },
  {
   "cell_type": "markdown",
   "id": "c333b956",
   "metadata": {},
   "source": [
    "##### Приведение данных к более линейному масштабу  \n",
    "- Логарифмирование сжимает большие значения и растягивает маленькие.\n",
    "- Ошибки становятся примерно одинаковыми для холодных и горячих звезд."
   ]
  },
  {
   "cell_type": "code",
   "execution_count": 37,
   "id": "d582d0e0",
   "metadata": {
    "scrolled": true
   },
   "outputs": [
    {
     "data": {
      "image/png": "[encoded data removed]",
      "text/plain": [
       "<Figure size 3600x1200 with 1 Axes>"
      ]
     },
     "metadata": {
      "needs_background": "light"
     },
     "output_type": "display_data"
    }
   ],
   "source": [
    "plot_prediction(Y_valid, prediction, func_y=np.log, prefix_y='log_')"
   ]
  },
  {
   "cell_type": "markdown",
   "id": "44d95a91",
   "metadata": {},
   "source": [
    "График логарифма температур демонстрирует, что погрешности для всех звёзд имеют схожий порядок величин."
   ]
  },
  {
   "cell_type": "markdown",
   "id": "growing-supply",
   "metadata": {},
   "source": [
    "## Улучшение нейронной сети\n",
    "- Путем перебора гиперпараметров (batch_size и p_dropout), \n",
    "- Обучения модели на каждом их сочетании и сохранения результатов в DataFrame."
   ]
  },
  {
   "cell_type": "code",
   "execution_count": 38,
   "id": "acceptable-forwarding",
   "metadata": {
    "scrolled": false
   },
   "outputs": [
    {
     "name": "stderr",
     "output_type": "stream",
     "text": [
      "Batch Sizes:   0%|          | 0/3 [00:00<?, ?it/s]\n",
      "p_dropout (batch_size=60):   0%|          | 0/4 [00:00<?, ?it/s]\u001b[A"
     ]
    },
    {
     "name": "stdout",
     "output_type": "stream",
     "text": [
      "--- batch_size=\u001b[1m60\u001b[0m, p_dropout=\u001b[1m0.7\u001b[0m ---\n",
      "epoch 0, RMSE_valid = 12760.6\n",
      "epoch 1000, RMSE_valid = 12294.5\n",
      "epoch 2000, RMSE_valid = 11175.8\n",
      "epoch 3000, RMSE_valid = 9656.5\n",
      "epoch 4000, RMSE_valid = 7842.7\n",
      "epoch 5000, RMSE_valid = 5855.7\n"
     ]
    },
    {
     "name": "stderr",
     "output_type": "stream",
     "text": [
      "\n",
      "p_dropout (batch_size=60):  25%|██▌       | 1/4 [04:01<12:04, 241.58s/it]\u001b[A"
     ]
    },
    {
     "name": "stdout",
     "output_type": "stream",
     "text": [
      "--- early stop ---\n",
      "Best RMSE_valid = \u001b[1m4523.1\u001b[0m\n",
      "Model trained in 241.58 sec. RMSE: 4523.13671875\n",
      "--- batch_size=\u001b[1m60\u001b[0m, p_dropout=\u001b[1m0.65\u001b[0m ---\n",
      "epoch 0, RMSE_valid = 12760.6\n",
      "epoch 1000, RMSE_valid = 12295.6\n",
      "epoch 2000, RMSE_valid = 11132.0\n",
      "epoch 3000, RMSE_valid = 9564.8\n",
      "epoch 4000, RMSE_valid = 7758.6\n",
      "epoch 5000, RMSE_valid = 5852.7\n",
      "epoch 6000, RMSE_valid = 4625.2\n"
     ]
    },
    {
     "name": "stderr",
     "output_type": "stream",
     "text": [
      "\n",
      "p_dropout (batch_size=60):  50%|█████     | 2/4 [07:14<07:05, 212.77s/it]\u001b[A"
     ]
    },
    {
     "name": "stdout",
     "output_type": "stream",
     "text": [
      "--- early stop ---\n",
      "Best RMSE_valid = \u001b[1m4339.0\u001b[0m\n",
      "Model trained in 192.60 sec. RMSE: 4338.98583984375\n",
      "--- batch_size=\u001b[1m60\u001b[0m, p_dropout=\u001b[1m0.6\u001b[0m ---\n",
      "epoch 0, RMSE_valid = 12760.6\n",
      "epoch 1000, RMSE_valid = 12284.4\n",
      "epoch 2000, RMSE_valid = 11113.1\n",
      "epoch 3000, RMSE_valid = 9573.8\n",
      "epoch 4000, RMSE_valid = 7724.6\n",
      "epoch 5000, RMSE_valid = 5722.5\n",
      "epoch 6000, RMSE_valid = 4479.8\n"
     ]
    },
    {
     "name": "stderr",
     "output_type": "stream",
     "text": [
      "\n",
      "p_dropout (batch_size=60):  75%|███████▌  | 3/4 [10:19<03:20, 200.19s/it]\u001b[A"
     ]
    },
    {
     "name": "stdout",
     "output_type": "stream",
     "text": [
      "--- early stop ---\n",
      "Best RMSE_valid = \u001b[1m4025.3\u001b[0m\n",
      "Model trained in 185.20 sec. RMSE: 4025.308349609375\n",
      "--- batch_size=\u001b[1m60\u001b[0m, p_dropout=\u001b[1m0.5\u001b[0m ---\n",
      "epoch 0, RMSE_valid = 12760.6\n",
      "epoch 1000, RMSE_valid = 12281.7\n",
      "epoch 2000, RMSE_valid = 11119.5\n",
      "epoch 3000, RMSE_valid = 9520.0\n",
      "epoch 4000, RMSE_valid = 7610.8\n",
      "epoch 5000, RMSE_valid = 5629.3\n",
      "epoch 6000, RMSE_valid = 4430.3\n"
     ]
    },
    {
     "name": "stderr",
     "output_type": "stream",
     "text": [
      "\n",
      "p_dropout (batch_size=60): 100%|██████████| 4/4 [14:25<00:00, 218.15s/it]\u001b[A\n",
      "Batch Sizes:  33%|███▎      | 1/3 [14:25<28:50, 865.09s/it]              \u001b[A"
     ]
    },
    {
     "name": "stdout",
     "output_type": "stream",
     "text": [
      "--- early stop ---\n",
      "Best RMSE_valid = \u001b[1m4189.5\u001b[0m\n",
      "Model trained in 245.61 sec. RMSE: 4189.515625\n"
     ]
    },
    {
     "name": "stderr",
     "output_type": "stream",
     "text": [
      "\n",
      "p_dropout (batch_size=40):   0%|          | 0/4 [00:00<?, ?it/s]\u001b[A"
     ]
    },
    {
     "name": "stdout",
     "output_type": "stream",
     "text": [
      "--- batch_size=\u001b[1m40\u001b[0m, p_dropout=\u001b[1m0.7\u001b[0m ---\n",
      "epoch 0, RMSE_valid = 12760.6\n",
      "epoch 1000, RMSE_valid = 11593.4\n",
      "epoch 2000, RMSE_valid = 8961.9\n",
      "epoch 3000, RMSE_valid = 6004.3\n",
      "epoch 4000, RMSE_valid = 4369.6\n"
     ]
    },
    {
     "name": "stderr",
     "output_type": "stream",
     "text": [
      "\n",
      "p_dropout (batch_size=40):  25%|██▌       | 1/4 [04:08<12:24, 248.11s/it]\u001b[A"
     ]
    },
    {
     "name": "stdout",
     "output_type": "stream",
     "text": [
      "--- early stop ---\n",
      "Best RMSE_valid = \u001b[1m4164.3\u001b[0m\n",
      "Model trained in 248.10 sec. RMSE: 4164.306640625\n",
      "--- batch_size=\u001b[1m40\u001b[0m, p_dropout=\u001b[1m0.65\u001b[0m ---\n",
      "epoch 0, RMSE_valid = 12760.6\n",
      "epoch 1000, RMSE_valid = 11585.3\n",
      "epoch 2000, RMSE_valid = 8899.5\n",
      "epoch 3000, RMSE_valid = 6149.4\n",
      "epoch 4000, RMSE_valid = 4340.2\n"
     ]
    },
    {
     "name": "stderr",
     "output_type": "stream",
     "text": [
      "\n",
      "p_dropout (batch_size=40):  50%|█████     | 2/4 [08:14<08:13, 246.99s/it]\u001b[A"
     ]
    },
    {
     "name": "stdout",
     "output_type": "stream",
     "text": [
      "--- early stop ---\n",
      "Best RMSE_valid = \u001b[1m4145.9\u001b[0m\n",
      "Model trained in 246.20 sec. RMSE: 4145.90771484375\n",
      "--- batch_size=\u001b[1m40\u001b[0m, p_dropout=\u001b[1m0.6\u001b[0m ---\n",
      "epoch 0, RMSE_valid = 12760.6\n",
      "epoch 1000, RMSE_valid = 11599.7\n",
      "epoch 2000, RMSE_valid = 8957.1\n",
      "epoch 3000, RMSE_valid = 6061.0\n",
      "epoch 4000, RMSE_valid = 4294.4\n"
     ]
    },
    {
     "name": "stderr",
     "output_type": "stream",
     "text": [
      "\n",
      "p_dropout (batch_size=40):  75%|███████▌  | 3/4 [12:27<04:09, 249.87s/it]\u001b[A"
     ]
    },
    {
     "name": "stdout",
     "output_type": "stream",
     "text": [
      "--- early stop ---\n",
      "Best RMSE_valid = \u001b[1m4030.4\u001b[0m\n",
      "Model trained in 253.29 sec. RMSE: 4030.37744140625\n",
      "--- batch_size=\u001b[1m40\u001b[0m, p_dropout=\u001b[1m0.5\u001b[0m ---\n",
      "epoch 0, RMSE_valid = 12760.6\n",
      "epoch 1000, RMSE_valid = 11615.1\n",
      "epoch 2000, RMSE_valid = 8929.0\n",
      "epoch 3000, RMSE_valid = 5932.1\n"
     ]
    },
    {
     "name": "stderr",
     "output_type": "stream",
     "text": [
      "\n",
      "p_dropout (batch_size=40): 100%|██████████| 4/4 [16:19<00:00, 242.85s/it]\u001b[A\n",
      "Batch Sizes:  67%|██████▋   | 2/3 [30:44<15:32, 932.51s/it]              \u001b[A"
     ]
    },
    {
     "name": "stdout",
     "output_type": "stream",
     "text": [
      "--- early stop ---\n",
      "Best RMSE_valid = \u001b[1m4124.7\u001b[0m\n",
      "Model trained in 232.08 sec. RMSE: 4124.6572265625\n"
     ]
    },
    {
     "name": "stderr",
     "output_type": "stream",
     "text": [
      "\n",
      "p_dropout (batch_size=20):   0%|          | 0/4 [00:00<?, ?it/s]\u001b[A"
     ]
    },
    {
     "name": "stdout",
     "output_type": "stream",
     "text": [
      "--- batch_size=\u001b[1m20\u001b[0m, p_dropout=\u001b[1m0.7\u001b[0m ---\n",
      "epoch 0, RMSE_valid = 12760.5\n",
      "epoch 1000, RMSE_valid = 9617.1\n",
      "epoch 2000, RMSE_valid = 4913.9\n"
     ]
    },
    {
     "name": "stderr",
     "output_type": "stream",
     "text": [
      "\n",
      "p_dropout (batch_size=20):  25%|██▌       | 1/4 [04:46<14:18, 286.01s/it]\u001b[A"
     ]
    },
    {
     "name": "stdout",
     "output_type": "stream",
     "text": [
      "--- early stop ---\n",
      "Best RMSE_valid = \u001b[1m4202.8\u001b[0m\n",
      "Model trained in 286.01 sec. RMSE: 4202.8212890625\n",
      "--- batch_size=\u001b[1m20\u001b[0m, p_dropout=\u001b[1m0.65\u001b[0m ---\n",
      "epoch 0, RMSE_valid = 12760.5\n",
      "epoch 1000, RMSE_valid = 9643.2\n",
      "epoch 2000, RMSE_valid = 4819.8\n"
     ]
    },
    {
     "name": "stderr",
     "output_type": "stream",
     "text": [
      "\n",
      "p_dropout (batch_size=20):  50%|█████     | 2/4 [08:53<08:46, 263.29s/it]\u001b[A"
     ]
    },
    {
     "name": "stdout",
     "output_type": "stream",
     "text": [
      "--- early stop ---\n",
      "Best RMSE_valid = \u001b[1m4137.8\u001b[0m\n",
      "Model trained in 247.31 sec. RMSE: 4137.7607421875\n",
      "--- batch_size=\u001b[1m20\u001b[0m, p_dropout=\u001b[1m0.6\u001b[0m ---\n",
      "epoch 0, RMSE_valid = 12760.5\n",
      "epoch 1000, RMSE_valid = 9648.3\n",
      "epoch 2000, RMSE_valid = 4748.6\n"
     ]
    },
    {
     "name": "stderr",
     "output_type": "stream",
     "text": [
      "\n",
      "p_dropout (batch_size=20):  75%|███████▌  | 3/4 [12:52<04:12, 252.42s/it]\u001b[A"
     ]
    },
    {
     "name": "stdout",
     "output_type": "stream",
     "text": [
      "--- early stop ---\n",
      "Best RMSE_valid = \u001b[1m4097.6\u001b[0m\n",
      "Model trained in 239.41 sec. RMSE: 4097.55810546875\n",
      "--- batch_size=\u001b[1m20\u001b[0m, p_dropout=\u001b[1m0.5\u001b[0m ---\n",
      "epoch 0, RMSE_valid = 12760.5\n",
      "epoch 1000, RMSE_valid = 9552.8\n",
      "epoch 2000, RMSE_valid = 4631.2\n"
     ]
    },
    {
     "name": "stderr",
     "output_type": "stream",
     "text": [
      "\n",
      "p_dropout (batch_size=20): 100%|██████████| 4/4 [17:09<00:00, 254.19s/it]\u001b[A\n",
      "Batch Sizes: 100%|██████████| 3/3 [47:54<00:00, 958.20s/it]              \u001b[A"
     ]
    },
    {
     "name": "stdout",
     "output_type": "stream",
     "text": [
      "--- early stop ---\n",
      "Best RMSE_valid = \u001b[1m3862.5\u001b[0m\n",
      "Model trained in 256.89 sec. RMSE: 3862.476318359375\n",
      "\n",
      "Total Training Time: 2874.60 seconds\n"
     ]
    },
    {
     "name": "stderr",
     "output_type": "stream",
     "text": [
      "\n"
     ]
    }
   ],
   "source": [
    "start_time = time.time()\n",
    "\n",
    "# таблица для учета результатов моделей\n",
    "df = pd.DataFrame(columns=['batch_size', 'p_dropout', 'rmse', 'prediction', 'train_time']) # создаем пустой DataFrame df для хранения результатов (batch_size, p_dropout, rmse, prediction, train_time).\n",
    "\n",
    "# гиперпараметры для перебора\n",
    "batch_size_list = [60, 40, 20]\n",
    "p_dropout_list = [0.7, 0.65, 0.6, 0.5]\n",
    "\n",
    "for batch_size in tqdm(batch_size_list, desc=\"Batch Sizes\"):                                         # Внешний цикл: перебирает batch_size (размер батча)\n",
    "    for p_dropout in tqdm(p_dropout_list, desc=f\"p_dropout (batch_size={batch_size})\", leave=False): # Внутренний цикл: для каждого batch_size перебирает p_dropout (долю нейронов, отключаемых в Dropout).     \n",
    "    \n",
    "        model_start_time = time.time()  # Засекаем время обучения одной модели\n",
    "        print(f'--- batch_size={f.BOLD}{batch_size}{f.END}, p_dropout={f.BOLD}{p_dropout}{f.END} ---')\n",
    "\n",
    "        # Создаем модель через net_init(), используя текущие batch_size и p_dropout.\n",
    "        model, optimizer, loss = net_init(n_in,\n",
    "                                          n_hidden_1,\n",
    "                                          n_hidden_2,\n",
    "                                          n_out,\n",
    "                                          p_dropout=p_dropout)        \n",
    "\n",
    "        # Запускаем обучение net_training(), ограниченное n_epoch=100000.\n",
    "        prediction, rmse = net_training(n_epoch=100000,\n",
    "                                        batch_size=batch_size,\n",
    "                                        stop_interval=10,\n",
    "                                        stop_patience=20,\n",
    "                                        stop_delta=1,\n",
    "                                        verbose=100)\n",
    "\n",
    "        # Время, затраченное на обучение одной модели\n",
    "        train_time = time.time() - model_start_time\n",
    "\n",
    "        # добавление очередного результата в таблицу\n",
    "        df.loc[len(df)] = [batch_size, p_dropout, rmse.item(), prediction, train_time]\n",
    "        \n",
    "        print(f\"Model trained in {train_time:.2f} sec. RMSE: {rmse.item()}\")\n",
    "        \n",
    "# Финальное время\n",
    "end_time = time.time()\n",
    "total_time = end_time - start_time\n",
    "\n",
    "print(f\"\\nTotal Training Time: {total_time:.2f} seconds\")"
   ]
  },
  {
   "cell_type": "code",
   "execution_count": 39,
   "id": "4657d39d",
   "metadata": {},
   "outputs": [
    {
     "data": {
      "text/html": [
       "<style  type=\"text/css\" >\n",
       "</style><table id=\"T_7db72_\" ><thead>    <tr>        <th class=\"blank level0\" ></th>        <th class=\"col_heading level0 col0\" >rmse</th>        <th class=\"col_heading level0 col1\" >batch_size</th>        <th class=\"col_heading level0 col2\" >p_dropout</th>        <th class=\"col_heading level0 col3\" >Model_ID</th>    </tr></thead><tbody>\n",
       "                <tr>\n",
       "                        <th id=\"T_7db72_level0_row0\" class=\"row_heading level0 row0\" >0</th>\n",
       "                        <td id=\"T_7db72_row0_col0\" class=\"data row0 col0\" >3862.48</td>\n",
       "                        <td id=\"T_7db72_row0_col1\" class=\"data row0 col1\" >20</td>\n",
       "                        <td id=\"T_7db72_row0_col2\" class=\"data row0 col2\" >0.50</td>\n",
       "                        <td id=\"T_7db72_row0_col3\" class=\"data row0 col3\" >0</td>\n",
       "            </tr>\n",
       "            <tr>\n",
       "                        <th id=\"T_7db72_level0_row1\" class=\"row_heading level0 row1\" >1</th>\n",
       "                        <td id=\"T_7db72_row1_col0\" class=\"data row1 col0\" >4025.31</td>\n",
       "                        <td id=\"T_7db72_row1_col1\" class=\"data row1 col1\" >60</td>\n",
       "                        <td id=\"T_7db72_row1_col2\" class=\"data row1 col2\" >0.60</td>\n",
       "                        <td id=\"T_7db72_row1_col3\" class=\"data row1 col3\" >1</td>\n",
       "            </tr>\n",
       "            <tr>\n",
       "                        <th id=\"T_7db72_level0_row2\" class=\"row_heading level0 row2\" >2</th>\n",
       "                        <td id=\"T_7db72_row2_col0\" class=\"data row2 col0\" >4030.38</td>\n",
       "                        <td id=\"T_7db72_row2_col1\" class=\"data row2 col1\" >40</td>\n",
       "                        <td id=\"T_7db72_row2_col2\" class=\"data row2 col2\" >0.60</td>\n",
       "                        <td id=\"T_7db72_row2_col3\" class=\"data row2 col3\" >2</td>\n",
       "            </tr>\n",
       "            <tr>\n",
       "                        <th id=\"T_7db72_level0_row3\" class=\"row_heading level0 row3\" >3</th>\n",
       "                        <td id=\"T_7db72_row3_col0\" class=\"data row3 col0\" >4097.56</td>\n",
       "                        <td id=\"T_7db72_row3_col1\" class=\"data row3 col1\" >20</td>\n",
       "                        <td id=\"T_7db72_row3_col2\" class=\"data row3 col2\" >0.60</td>\n",
       "                        <td id=\"T_7db72_row3_col3\" class=\"data row3 col3\" >3</td>\n",
       "            </tr>\n",
       "            <tr>\n",
       "                        <th id=\"T_7db72_level0_row4\" class=\"row_heading level0 row4\" >4</th>\n",
       "                        <td id=\"T_7db72_row4_col0\" class=\"data row4 col0\" >4124.66</td>\n",
       "                        <td id=\"T_7db72_row4_col1\" class=\"data row4 col1\" >40</td>\n",
       "                        <td id=\"T_7db72_row4_col2\" class=\"data row4 col2\" >0.50</td>\n",
       "                        <td id=\"T_7db72_row4_col3\" class=\"data row4 col3\" >4</td>\n",
       "            </tr>\n",
       "            <tr>\n",
       "                        <th id=\"T_7db72_level0_row5\" class=\"row_heading level0 row5\" >5</th>\n",
       "                        <td id=\"T_7db72_row5_col0\" class=\"data row5 col0\" >4137.76</td>\n",
       "                        <td id=\"T_7db72_row5_col1\" class=\"data row5 col1\" >20</td>\n",
       "                        <td id=\"T_7db72_row5_col2\" class=\"data row5 col2\" >0.65</td>\n",
       "                        <td id=\"T_7db72_row5_col3\" class=\"data row5 col3\" >5</td>\n",
       "            </tr>\n",
       "            <tr>\n",
       "                        <th id=\"T_7db72_level0_row6\" class=\"row_heading level0 row6\" >6</th>\n",
       "                        <td id=\"T_7db72_row6_col0\" class=\"data row6 col0\" >4145.91</td>\n",
       "                        <td id=\"T_7db72_row6_col1\" class=\"data row6 col1\" >40</td>\n",
       "                        <td id=\"T_7db72_row6_col2\" class=\"data row6 col2\" >0.65</td>\n",
       "                        <td id=\"T_7db72_row6_col3\" class=\"data row6 col3\" >6</td>\n",
       "            </tr>\n",
       "            <tr>\n",
       "                        <th id=\"T_7db72_level0_row7\" class=\"row_heading level0 row7\" >7</th>\n",
       "                        <td id=\"T_7db72_row7_col0\" class=\"data row7 col0\" >4164.31</td>\n",
       "                        <td id=\"T_7db72_row7_col1\" class=\"data row7 col1\" >40</td>\n",
       "                        <td id=\"T_7db72_row7_col2\" class=\"data row7 col2\" >0.70</td>\n",
       "                        <td id=\"T_7db72_row7_col3\" class=\"data row7 col3\" >7</td>\n",
       "            </tr>\n",
       "            <tr>\n",
       "                        <th id=\"T_7db72_level0_row8\" class=\"row_heading level0 row8\" >8</th>\n",
       "                        <td id=\"T_7db72_row8_col0\" class=\"data row8 col0\" >4189.52</td>\n",
       "                        <td id=\"T_7db72_row8_col1\" class=\"data row8 col1\" >60</td>\n",
       "                        <td id=\"T_7db72_row8_col2\" class=\"data row8 col2\" >0.50</td>\n",
       "                        <td id=\"T_7db72_row8_col3\" class=\"data row8 col3\" >8</td>\n",
       "            </tr>\n",
       "            <tr>\n",
       "                        <th id=\"T_7db72_level0_row9\" class=\"row_heading level0 row9\" >9</th>\n",
       "                        <td id=\"T_7db72_row9_col0\" class=\"data row9 col0\" >4202.82</td>\n",
       "                        <td id=\"T_7db72_row9_col1\" class=\"data row9 col1\" >20</td>\n",
       "                        <td id=\"T_7db72_row9_col2\" class=\"data row9 col2\" >0.70</td>\n",
       "                        <td id=\"T_7db72_row9_col3\" class=\"data row9 col3\" >9</td>\n",
       "            </tr>\n",
       "            <tr>\n",
       "                        <th id=\"T_7db72_level0_row10\" class=\"row_heading level0 row10\" >10</th>\n",
       "                        <td id=\"T_7db72_row10_col0\" class=\"data row10 col0\" >4338.99</td>\n",
       "                        <td id=\"T_7db72_row10_col1\" class=\"data row10 col1\" >60</td>\n",
       "                        <td id=\"T_7db72_row10_col2\" class=\"data row10 col2\" >0.65</td>\n",
       "                        <td id=\"T_7db72_row10_col3\" class=\"data row10 col3\" >10</td>\n",
       "            </tr>\n",
       "            <tr>\n",
       "                        <th id=\"T_7db72_level0_row11\" class=\"row_heading level0 row11\" >11</th>\n",
       "                        <td id=\"T_7db72_row11_col0\" class=\"data row11 col0\" >4523.14</td>\n",
       "                        <td id=\"T_7db72_row11_col1\" class=\"data row11 col1\" >60</td>\n",
       "                        <td id=\"T_7db72_row11_col2\" class=\"data row11 col2\" >0.70</td>\n",
       "                        <td id=\"T_7db72_row11_col3\" class=\"data row11 col3\" >11</td>\n",
       "            </tr>\n",
       "    </tbody></table>"
      ],
      "text/plain": [
       "<pandas.io.formats.style.Styler at 0x7ff1c041b130>"
      ]
     },
     "metadata": {},
     "output_type": "display_data"
    }
   ],
   "source": [
    "df = df.sort_values('rmse').reset_index(drop=True)  # Сбрасываем индекс и делаем его уникальным\n",
    "\n",
    "# Форматируем числовые значения и выводим в виде таблицы\n",
    "styled_df = df[['rmse', 'batch_size', 'p_dropout']].copy()  # Делаем копию, чтобы избежать предупреждения\n",
    "\n",
    "# Воссоздаем столбец Model_ID с уникальными индексами\n",
    "styled_df['Model_ID'] = df.index\n",
    "\n",
    "# Применяем стиль\n",
    "styled_df = styled_df.style.format({'rmse': '{:.2f}', 'batch_size': '{}', 'p_dropout': '{:.2f}'})\n",
    "\n",
    "# Отображаем таблицу\n",
    "display(styled_df)"
   ]
  },
  {
   "cell_type": "markdown",
   "id": "accurate-infrastructure",
   "metadata": {},
   "source": [
    "## Общий вывод по результатам двух моделей"
   ]
  },
  {
   "cell_type": "markdown",
   "id": "f172b5b7",
   "metadata": {},
   "source": [
    "Обучение нейросетевых моделей требует выбора оптимальных гиперпараметров, таких как размер мини-батча (batch_size) и вероятность отключения нейронов (p_dropout). Эти параметры оказывают влияние на скорость сходимости, точность предсказаний и устойчивость к переобучению.\n",
    "\n",
    "В данном эксперименте рассмотрены две модели:\n",
    "\n",
    "`Первая модель – без подбора batch_size и p_dropout, с фиксированными значениями.`  \n",
    "`Вторая модель – с подбором batch_size и p_dropout для нахождения оптимальной конфигурации.` \n",
    "\n",
    "Цель исследования – выяснить, как подбор этих параметров влияет на точность предсказаний и время обучения."
   ]
  },
  {
   "cell_type": "markdown",
   "id": "ddd13f22",
   "metadata": {},
   "source": [
    "##### Модель 1"
   ]
  },
  {
   "cell_type": "markdown",
   "id": "3d2b09d3",
   "metadata": {},
   "source": [
    "`Результаты обучения:`\n",
    "- Для первой модели с нейронной сетью, которая использовала стандартный набор гиперпараметров, был достигнут лучший результат RMSE = 4089.1. Это значение было получено после ранней остановки, которая сработала на 5000-й эпохе. Следовательно, модель продемонстрировала стабильное улучшение по мере обучения с явным снижением ошибки на валидации.\n",
    "- Существенное улучшение по сравнению с начальным значением RMSE (12760.6) свидетельствует о качественном обучении, в котором модель стабильно снижала ошибку по мере увеличения количества эпох.    \n",
    "\n",
    "`Время обучения:`  \n",
    "- Время обучения составило 212.75 секунд, что довольно быстро для глубокой нейронной сети с таким количеством эпох и параметров. Модель обучалась эффективно и не столкнулась с перегрузкой или значительными задержками.  \n",
    "\n",
    "`Особенности модели:` \n",
    "- Модель начала с высоких значений RMSE, но показала резкое улучшение. Ранний останов был внедрён, чтобы избежать переобучения, что позволило стабилизировать результаты. Однако, стоит отметить, что результат RMSE = 4288.3 на 5000-й эпохе и ухудшение на более поздних эпохах (приблизительно на 6000-й эпохе) указывают на возможное переобучение или неэффективное использование обучающих данных на определённом этапе.  \n",
    "- Это может свидетельствовать о недостаточной регуляризации или отсутствии оптимальной настройки гиперпараметров, несмотря на использование ранней остановки.  "
   ]
  },
  {
   "cell_type": "markdown",
   "id": "4e6808df",
   "metadata": {},
   "source": [
    "##### Модель 2 (с гиперпараметрами batch_size и p_dropout):"
   ]
  },
  {
   "cell_type": "markdown",
   "id": "03ee8fb2",
   "metadata": {},
   "source": [
    "`Результаты обучения:`\n",
    "- Во второй модели, где тестировались различные комбинации batch_size и p_dropout, лучший результат был достигнут для batch_size = 20 и p_dropout = 0.50, с RMSE = 3862.48. Это значение RMSE оказалось наилучшим среди всех комбинаций гиперпараметров.  \n",
    "- Влияние параметра batch_size на результат видно, но важно отметить, что при batch_size = 20 и p_dropout = 0.50 модель показала сбалансированное снижение ошибки и эффективность обучения. Большие значения batch_size (например, 60) не приводили к значительным улучшениям в точности модели и увеличивали время обучения, что делает более мелкие батчи предпочтительными в данной задаче.  \n",
    "- Регуляризация с использованием p_dropout показала влияние на результаты: наименьшее значение p_dropout = 0.50 обеспечило лучшие результаты. Важным моментом является то, что увеличение p_dropout помогает предотвратить переобучение, однако это также может замедлить обучение, что было замечено на более поздних эпохах.  \n",
    "\n",
    "`Время обучения:`\n",
    "- Общее время для всех экспериментов в этой модели составило 2874.41 секунд, что значительно больше по сравнению с первой моделью. Причиной этого является значительный перебор гиперпараметров, включающий разные комбинации batch_size и p_dropout. Время обучения варьировалось от 164 секунд до 344 секунд в зависимости от конфигурации. Это более долгий процесс, что демонстрирует, как перебор множества гиперпараметров увеличивает затраты на вычисления.  \n",
    "\n",
    "`Особенности модели:`\n",
    "- Вторая модель фокусировалась на регулировке гиперпараметров, что позволило оптимизировать её поведение. Однако, результаты показывают, что наибольшая эффективность достигается при более мелких batch_size и низких значениях p_dropout. Это подтверждает важность правильной настройки этих параметров для достижения лучших результатов.  \n",
    "- Более низкие значения p_dropout, такие как 0.5, приводили к улучшению результатов, что указывает на важность регуляризации для предотвращения переобучения, особенно в условиях сложных и объемных данных.  "
   ]
  },
  {
   "cell_type": "markdown",
   "id": "6ddf6c62",
   "metadata": {},
   "source": [
    "##### Сравнение двух моделей:"
   ]
  },
  {
   "cell_type": "markdown",
   "id": "5bd00efe",
   "metadata": {},
   "source": [
    "`Лучший RMSE:`\n",
    "- Вторая модель продемонстрировала лучший RMSE = 3862.5, что ставит её в более выгодное положение по сравнению с моделью, без перебора batch_size и p_dropout. Это подтверждает, что оптимизация сети через вмешательство в гиперпараметры может давать более качественные результаты.  \n",
    "\n",
    "`Влияние гиперпараметров:`  \n",
    "- Тестирование гиперпараметров во второй модели показало, что для достижения лучших результатов требуется более детальная настройка. В частности, изменение размеров батча (например, уменьшение batch_size) может значительно повлиять на качество обучения. Аналогично, правильный выбор значения p_dropout играет важную роль в балансировке между переобучением и недообучением, что делает подбор этих параметров важным этапом оптимизации модели.  \n",
    "\n",
    "`Время обучения:`\n",
    "- Первая модель обучалась значительно быстрее, что может указывать на её более простую структуру или лучшую оптимизацию. Вторая модель, за счёт перебора гиперпараметров batch_size и p_dropout, потребовала значительно больше времени на обучение (2874.41 секунд против одной модели без перебора), поскольку каждая комбинация параметров тестировалась отдельно, что увеличивало общую вычислительную нагрузку.  \n",
    "\n",
    "`Раннее остановка:`\n",
    "- Обе модели использовали механизм ранней остановки для предотвращения переобучения, что является эффективной стратегией в задачах с нейронными сетями."
   ]
  },
  {
   "cell_type": "markdown",
   "id": "f9c0f3b4",
   "metadata": {},
   "source": [
    "## Заключение:"
   ]
  },
  {
   "cell_type": "markdown",
   "id": "039a100b",
   "metadata": {},
   "source": [
    "Если важно получить минимальную ошибку (RMSE) – стоит делать перебор параметров, так как разница в RMSE может быть значительной.  \n",
    "Если ключевой фактор – скорость обучения, можно использовать фиксированные параметры, но важно тщательно их подбирать.  \n",
    "\n",
    "batch_size сильно влияет на скорость обучения:\n",
    "- Чем больше batch_size, тем быстрее обучение, но градиенты могут быть менее точными.\n",
    "- Чем меньше batch_size, тем лучше модель обобщает данные, но обучение дольше.  \n",
    "\n",
    "p_dropout влияет на регуляризацию:\n",
    "- Слишком высокий Dropout (0.7) ухудшает обучение – модель теряет полезную информацию.\n",
    "- Слишком низкий Dropout (0.5) даёт наилучшие результаты.  \n",
    "\n",
    "Практические рекомендации:\n",
    "- Если время ограничено – лучше использовать фиксированные параметры (batch_size=40, p_dropout=0.6 как компромисс).\n",
    "- Если важна точность – то нужно перебирать параметры, но можно использовать более узкий диапазон значений (например, только batch_size=20, 40 и p_dropout=0.5, 0.6)."
   ]
  },
  {
   "cell_type": "markdown",
   "id": "26a58b94",
   "metadata": {},
   "source": [
    "Перебор гиперпараметров действительно улучшает точность модели (RMSE снизилось с 4200.56 до 3862.5), но заметно увеличивает время обучения. Оптимальный подход – баланс между качеством и вычислительными ресурсами, например, уменьшение диапазона подбираемых параметров."
   ]
  }
 ],
 "metadata": {
  "ExecuteTimeLog": [
   {
    "duration": 1447,
    "start_time": "2025-02-27T16:36:22.235Z"
   },
   {
    "duration": 1126,
    "start_time": "2025-02-27T16:41:54.575Z"
   },
   {
    "duration": 16,
    "start_time": "2025-02-27T16:41:55.703Z"
   },
   {
    "duration": 105,
    "start_time": "2025-02-27T16:41:55.720Z"
   },
   {
    "duration": 0,
    "start_time": "2025-02-27T16:41:55.826Z"
   },
   {
    "duration": 1106,
    "start_time": "2025-02-27T16:47:57.733Z"
   },
   {
    "duration": 17,
    "start_time": "2025-02-27T16:47:58.841Z"
   },
   {
    "duration": 7,
    "start_time": "2025-02-27T16:47:58.859Z"
   },
   {
    "duration": 9,
    "start_time": "2025-02-27T16:47:58.867Z"
   },
   {
    "duration": 6,
    "start_time": "2025-02-27T16:48:53.759Z"
   },
   {
    "duration": 50,
    "start_time": "2025-02-27T16:49:04.799Z"
   },
   {
    "duration": 13,
    "start_time": "2025-02-27T16:49:22.033Z"
   },
   {
    "duration": 15,
    "start_time": "2025-02-27T16:50:24.739Z"
   },
   {
    "duration": 9,
    "start_time": "2025-02-27T16:50:33.302Z"
   },
   {
    "duration": 11,
    "start_time": "2025-02-27T16:50:41.296Z"
   },
   {
    "duration": 20,
    "start_time": "2025-03-01T13:39:06.506Z"
   },
   {
    "duration": 4,
    "start_time": "2025-03-01T13:39:37.788Z"
   },
   {
    "duration": 49,
    "start_time": "2025-03-01T13:40:13.891Z"
   },
   {
    "duration": 7,
    "start_time": "2025-03-01T13:40:29.155Z"
   },
   {
    "duration": 1354,
    "start_time": "2025-03-01T13:40:36.348Z"
   },
   {
    "duration": 17,
    "start_time": "2025-03-01T13:40:37.704Z"
   },
   {
    "duration": 7,
    "start_time": "2025-03-01T13:40:37.722Z"
   },
   {
    "duration": 3,
    "start_time": "2025-03-01T13:40:37.731Z"
   },
   {
    "duration": 5,
    "start_time": "2025-03-01T13:40:37.736Z"
   },
   {
    "duration": 7,
    "start_time": "2025-03-01T13:40:37.742Z"
   },
   {
    "duration": 13,
    "start_time": "2025-03-01T13:40:37.750Z"
   },
   {
    "duration": 78,
    "start_time": "2025-03-01T13:40:37.765Z"
   },
   {
    "duration": 50,
    "start_time": "2025-03-01T13:40:37.844Z"
   },
   {
    "duration": 35,
    "start_time": "2025-03-01T14:34:04.281Z"
   },
   {
    "duration": 10,
    "start_time": "2025-03-01T14:34:21.883Z"
   },
   {
    "duration": 4,
    "start_time": "2025-03-01T14:35:25.053Z"
   },
   {
    "duration": 17,
    "start_time": "2025-03-01T14:35:35.669Z"
   },
   {
    "duration": 117,
    "start_time": "2025-03-01T14:36:31.861Z"
   },
   {
    "duration": 1177,
    "start_time": "2025-03-01T14:36:43.259Z"
   },
   {
    "duration": 27,
    "start_time": "2025-03-01T14:36:44.438Z"
   },
   {
    "duration": 8,
    "start_time": "2025-03-01T14:36:44.466Z"
   },
   {
    "duration": 5,
    "start_time": "2025-03-01T14:36:44.475Z"
   },
   {
    "duration": 4,
    "start_time": "2025-03-01T14:36:44.482Z"
   },
   {
    "duration": 12,
    "start_time": "2025-03-01T14:36:44.488Z"
   },
   {
    "duration": 58,
    "start_time": "2025-03-01T14:36:44.514Z"
   },
   {
    "duration": 4,
    "start_time": "2025-03-01T14:36:44.574Z"
   },
   {
    "duration": 1390,
    "start_time": "2025-03-01T14:38:09.125Z"
   },
   {
    "duration": 18,
    "start_time": "2025-03-01T14:38:10.517Z"
   },
   {
    "duration": 8,
    "start_time": "2025-03-01T14:38:10.537Z"
   },
   {
    "duration": 6,
    "start_time": "2025-03-01T14:38:10.546Z"
   },
   {
    "duration": 10,
    "start_time": "2025-03-01T14:38:10.554Z"
   },
   {
    "duration": 29,
    "start_time": "2025-03-01T14:38:10.566Z"
   },
   {
    "duration": 12,
    "start_time": "2025-03-01T14:38:10.597Z"
   },
   {
    "duration": 63,
    "start_time": "2025-03-01T14:38:10.612Z"
   },
   {
    "duration": 22,
    "start_time": "2025-03-01T14:38:58.793Z"
   },
   {
    "duration": 122,
    "start_time": "2025-03-01T14:50:42.142Z"
   },
   {
    "duration": 15,
    "start_time": "2025-03-01T14:52:11.852Z"
   },
   {
    "duration": 10,
    "start_time": "2025-03-01T14:53:34.800Z"
   },
   {
    "duration": 1159,
    "start_time": "2025-03-01T14:53:42.463Z"
   },
   {
    "duration": 17,
    "start_time": "2025-03-01T14:53:43.624Z"
   },
   {
    "duration": 12,
    "start_time": "2025-03-01T14:53:43.642Z"
   },
   {
    "duration": 5,
    "start_time": "2025-03-01T14:53:43.656Z"
   },
   {
    "duration": 4,
    "start_time": "2025-03-01T14:53:43.663Z"
   },
   {
    "duration": 14,
    "start_time": "2025-03-01T14:53:43.669Z"
   },
   {
    "duration": 29,
    "start_time": "2025-03-01T14:53:43.685Z"
   },
   {
    "duration": 61,
    "start_time": "2025-03-01T14:53:43.716Z"
   },
   {
    "duration": 44,
    "start_time": "2025-03-01T14:53:43.779Z"
   },
   {
    "duration": 116,
    "start_time": "2025-03-01T14:53:43.824Z"
   },
   {
    "duration": 23,
    "start_time": "2025-03-01T14:54:20.823Z"
   },
   {
    "duration": 12,
    "start_time": "2025-03-01T14:56:31.855Z"
   },
   {
    "duration": 90,
    "start_time": "2025-03-01T14:57:54.816Z"
   },
   {
    "duration": 24,
    "start_time": "2025-03-01T15:04:31.712Z"
   },
   {
    "duration": 9,
    "start_time": "2025-03-01T15:05:10.226Z"
   },
   {
    "duration": 13,
    "start_time": "2025-03-01T15:05:24.025Z"
   },
   {
    "duration": 12,
    "start_time": "2025-03-01T15:07:47.952Z"
   },
   {
    "duration": 8,
    "start_time": "2025-03-01T15:08:50.151Z"
   },
   {
    "duration": 6,
    "start_time": "2025-03-01T15:08:57.970Z"
   },
   {
    "duration": 15,
    "start_time": "2025-03-01T15:09:43.884Z"
   },
   {
    "duration": 11,
    "start_time": "2025-03-01T15:10:12.776Z"
   },
   {
    "duration": 9,
    "start_time": "2025-03-01T15:18:59.306Z"
   },
   {
    "duration": 9,
    "start_time": "2025-03-01T15:24:01.874Z"
   },
   {
    "duration": 5,
    "start_time": "2025-03-01T15:26:42.559Z"
   },
   {
    "duration": 5,
    "start_time": "2025-03-01T15:26:51.606Z"
   },
   {
    "duration": 18,
    "start_time": "2025-03-01T15:26:59.668Z"
   },
   {
    "duration": 75,
    "start_time": "2025-03-01T15:29:27.651Z"
   },
   {
    "duration": 12,
    "start_time": "2025-03-01T15:29:30.171Z"
   },
   {
    "duration": 6,
    "start_time": "2025-03-01T15:29:33.192Z"
   },
   {
    "duration": 13,
    "start_time": "2025-03-01T15:29:34.822Z"
   },
   {
    "duration": 14,
    "start_time": "2025-03-01T15:30:07.955Z"
   },
   {
    "duration": 9,
    "start_time": "2025-03-01T15:30:53.025Z"
   },
   {
    "duration": 1132,
    "start_time": "2025-03-01T16:40:37.506Z"
   },
   {
    "duration": 16,
    "start_time": "2025-03-01T16:40:38.640Z"
   },
   {
    "duration": 7,
    "start_time": "2025-03-01T16:40:38.657Z"
   },
   {
    "duration": 5,
    "start_time": "2025-03-01T16:40:38.665Z"
   },
   {
    "duration": 5,
    "start_time": "2025-03-01T16:40:38.672Z"
   },
   {
    "duration": 12,
    "start_time": "2025-03-01T16:40:38.678Z"
   },
   {
    "duration": 4,
    "start_time": "2025-03-01T16:40:38.691Z"
   },
   {
    "duration": 70,
    "start_time": "2025-03-01T16:40:38.696Z"
   },
   {
    "duration": 20,
    "start_time": "2025-03-01T16:40:38.768Z"
   },
   {
    "duration": 31,
    "start_time": "2025-03-01T16:40:38.790Z"
   },
   {
    "duration": 24,
    "start_time": "2025-03-01T16:40:38.824Z"
   },
   {
    "duration": 5,
    "start_time": "2025-03-01T16:40:38.849Z"
   },
   {
    "duration": 10,
    "start_time": "2025-03-01T16:40:38.855Z"
   },
   {
    "duration": 941,
    "start_time": "2025-03-01T16:46:29.004Z"
   },
   {
    "duration": 923,
    "start_time": "2025-03-01T16:47:42.355Z"
   },
   {
    "duration": 745,
    "start_time": "2025-03-01T16:58:37.544Z"
   },
   {
    "duration": 569,
    "start_time": "2025-03-01T17:01:32.454Z"
   },
   {
    "duration": 794,
    "start_time": "2025-03-01T17:02:50.755Z"
   },
   {
    "duration": 603,
    "start_time": "2025-03-01T17:02:53.128Z"
   },
   {
    "duration": 248,
    "start_time": "2025-03-01T17:08:09.241Z"
   },
   {
    "duration": 152,
    "start_time": "2025-03-01T17:08:39.524Z"
   },
   {
    "duration": 7,
    "start_time": "2025-03-01T17:10:28.884Z"
   },
   {
    "duration": 151,
    "start_time": "2025-03-01T17:10:38.857Z"
   },
   {
    "duration": 151,
    "start_time": "2025-03-01T17:10:55.101Z"
   },
   {
    "duration": 155,
    "start_time": "2025-03-01T17:11:12.563Z"
   },
   {
    "duration": 158,
    "start_time": "2025-03-01T17:11:15.267Z"
   },
   {
    "duration": 166,
    "start_time": "2025-03-01T17:12:05.835Z"
   },
   {
    "duration": 282,
    "start_time": "2025-03-01T17:13:29.559Z"
   },
   {
    "duration": 146,
    "start_time": "2025-03-01T17:14:39.680Z"
   },
   {
    "duration": 206,
    "start_time": "2025-03-01T17:15:22.034Z"
   },
   {
    "duration": 317,
    "start_time": "2025-03-01T17:15:50.423Z"
   },
   {
    "duration": 235,
    "start_time": "2025-03-01T17:16:01.886Z"
   },
   {
    "duration": 248,
    "start_time": "2025-03-01T17:18:43.814Z"
   },
   {
    "duration": 1379,
    "start_time": "2025-03-01T17:23:40.502Z"
   },
   {
    "duration": 1159,
    "start_time": "2025-03-01T17:23:55.163Z"
   },
   {
    "duration": 1112,
    "start_time": "2025-03-01T17:24:16.866Z"
   },
   {
    "duration": 1259,
    "start_time": "2025-03-01T17:24:25.621Z"
   },
   {
    "duration": 4,
    "start_time": "2025-03-01T17:24:37.889Z"
   },
   {
    "duration": 1248,
    "start_time": "2025-03-01T17:28:34.218Z"
   },
   {
    "duration": 6,
    "start_time": "2025-03-01T17:28:57.895Z"
   },
   {
    "duration": 4,
    "start_time": "2025-03-01T17:29:15.156Z"
   },
   {
    "duration": 5,
    "start_time": "2025-03-01T17:30:31.619Z"
   },
   {
    "duration": 6,
    "start_time": "2025-03-01T17:32:02.815Z"
   },
   {
    "duration": 6,
    "start_time": "2025-03-01T17:33:30.794Z"
   },
   {
    "duration": 1193,
    "start_time": "2025-03-01T17:34:00.483Z"
   },
   {
    "duration": 27,
    "start_time": "2025-03-01T17:34:01.679Z"
   },
   {
    "duration": 7,
    "start_time": "2025-03-01T17:34:01.708Z"
   },
   {
    "duration": 5,
    "start_time": "2025-03-01T17:34:01.717Z"
   },
   {
    "duration": 13,
    "start_time": "2025-03-01T17:34:01.724Z"
   },
   {
    "duration": 28,
    "start_time": "2025-03-01T17:34:01.738Z"
   },
   {
    "duration": 4,
    "start_time": "2025-03-01T17:34:01.768Z"
   },
   {
    "duration": 61,
    "start_time": "2025-03-01T17:34:01.773Z"
   },
   {
    "duration": 22,
    "start_time": "2025-03-01T17:34:01.835Z"
   },
   {
    "duration": 8,
    "start_time": "2025-03-01T17:34:01.858Z"
   },
   {
    "duration": 26,
    "start_time": "2025-03-01T17:34:01.867Z"
   },
   {
    "duration": 25,
    "start_time": "2025-03-01T17:34:01.895Z"
   },
   {
    "duration": 16,
    "start_time": "2025-03-01T17:34:01.922Z"
   },
   {
    "duration": 7,
    "start_time": "2025-03-01T17:34:01.941Z"
   },
   {
    "duration": 6,
    "start_time": "2025-03-01T17:34:01.950Z"
   },
   {
    "duration": 17,
    "start_time": "2025-03-01T17:34:01.957Z"
   },
   {
    "duration": 30,
    "start_time": "2025-03-01T17:34:01.976Z"
   },
   {
    "duration": 778,
    "start_time": "2025-03-01T17:34:02.008Z"
   },
   {
    "duration": 469,
    "start_time": "2025-03-01T17:34:02.788Z"
   },
   {
    "duration": 156,
    "start_time": "2025-03-01T17:34:03.258Z"
   },
   {
    "duration": 273,
    "start_time": "2025-03-01T17:34:03.415Z"
   },
   {
    "duration": 421,
    "start_time": "2025-03-01T17:44:37.475Z"
   },
   {
    "duration": 5,
    "start_time": "2025-03-01T17:45:00.748Z"
   },
   {
    "duration": 1415,
    "start_time": "2025-03-01T17:46:01.843Z"
   },
   {
    "duration": 6,
    "start_time": "2025-03-01T17:49:15.578Z"
   },
   {
    "duration": 6,
    "start_time": "2025-03-01T17:51:12.923Z"
   },
   {
    "duration": 102,
    "start_time": "2025-03-01T17:52:02.418Z"
   },
   {
    "duration": 91,
    "start_time": "2025-03-01T17:52:25.062Z"
   },
   {
    "duration": 6,
    "start_time": "2025-03-01T17:53:32.180Z"
   },
   {
    "duration": 5,
    "start_time": "2025-03-01T17:54:13.951Z"
   },
   {
    "duration": 5,
    "start_time": "2025-03-01T17:55:19.679Z"
   },
   {
    "duration": 6,
    "start_time": "2025-03-01T17:55:43.716Z"
   },
   {
    "duration": 1854,
    "start_time": "2025-03-01T17:56:53.889Z"
   },
   {
    "duration": 18,
    "start_time": "2025-03-01T17:56:55.745Z"
   },
   {
    "duration": 62,
    "start_time": "2025-03-01T17:56:55.765Z"
   },
   {
    "duration": 4,
    "start_time": "2025-03-01T17:56:55.829Z"
   },
   {
    "duration": 4,
    "start_time": "2025-03-01T17:56:55.835Z"
   },
   {
    "duration": 6,
    "start_time": "2025-03-01T17:56:55.841Z"
   },
   {
    "duration": 13,
    "start_time": "2025-03-01T17:56:55.849Z"
   },
   {
    "duration": 4,
    "start_time": "2025-03-01T17:56:55.863Z"
   },
   {
    "duration": 146,
    "start_time": "2025-03-01T17:56:55.868Z"
   },
   {
    "duration": 21,
    "start_time": "2025-03-01T17:56:56.016Z"
   },
   {
    "duration": 8,
    "start_time": "2025-03-01T17:56:56.039Z"
   },
   {
    "duration": 11,
    "start_time": "2025-03-01T17:56:56.048Z"
   },
   {
    "duration": 5,
    "start_time": "2025-03-01T17:56:56.061Z"
   },
   {
    "duration": 10,
    "start_time": "2025-03-01T17:56:56.067Z"
   },
   {
    "duration": 36,
    "start_time": "2025-03-01T17:56:56.078Z"
   },
   {
    "duration": 99,
    "start_time": "2025-03-01T17:56:56.116Z"
   },
   {
    "duration": 8,
    "start_time": "2025-03-01T17:56:56.216Z"
   },
   {
    "duration": 5,
    "start_time": "2025-03-01T17:56:56.226Z"
   },
   {
    "duration": 1275,
    "start_time": "2025-03-01T17:56:56.232Z"
   },
   {
    "duration": 9,
    "start_time": "2025-03-01T17:56:57.508Z"
   },
   {
    "duration": 6,
    "start_time": "2025-03-01T17:56:57.519Z"
   },
   {
    "duration": 599,
    "start_time": "2025-03-01T17:56:57.526Z"
   },
   {
    "duration": 358,
    "start_time": "2025-03-01T17:56:58.127Z"
   },
   {
    "duration": 145,
    "start_time": "2025-03-01T17:56:58.487Z"
   },
   {
    "duration": 163,
    "start_time": "2025-03-01T17:56:58.634Z"
   },
   {
    "duration": 1796,
    "start_time": "2025-03-02T11:04:36.438Z"
   },
   {
    "duration": 61,
    "start_time": "2025-03-02T11:04:38.236Z"
   },
   {
    "duration": 7,
    "start_time": "2025-03-02T11:04:38.298Z"
   },
   {
    "duration": 10,
    "start_time": "2025-03-02T11:04:38.307Z"
   },
   {
    "duration": 4,
    "start_time": "2025-03-02T11:04:38.318Z"
   },
   {
    "duration": 6,
    "start_time": "2025-03-02T11:04:38.324Z"
   },
   {
    "duration": 17,
    "start_time": "2025-03-02T11:04:38.331Z"
   },
   {
    "duration": 4,
    "start_time": "2025-03-02T11:04:38.349Z"
   },
   {
    "duration": 140,
    "start_time": "2025-03-02T11:04:38.355Z"
   },
   {
    "duration": 20,
    "start_time": "2025-03-02T11:04:38.497Z"
   },
   {
    "duration": 21,
    "start_time": "2025-03-02T11:04:38.519Z"
   },
   {
    "duration": 18,
    "start_time": "2025-03-02T11:04:38.541Z"
   },
   {
    "duration": 15,
    "start_time": "2025-03-02T11:04:38.561Z"
   },
   {
    "duration": 26,
    "start_time": "2025-03-02T11:04:38.578Z"
   },
   {
    "duration": 44,
    "start_time": "2025-03-02T11:04:38.605Z"
   },
   {
    "duration": 91,
    "start_time": "2025-03-02T11:04:38.651Z"
   },
   {
    "duration": 150,
    "start_time": "2025-03-02T11:04:38.744Z"
   },
   {
    "duration": 15,
    "start_time": "2025-03-02T11:04:38.895Z"
   },
   {
    "duration": 1193,
    "start_time": "2025-03-02T11:04:38.911Z"
   },
   {
    "duration": 5,
    "start_time": "2025-03-02T11:04:40.105Z"
   },
   {
    "duration": 111,
    "start_time": "2025-03-02T11:04:40.111Z"
   },
   {
    "duration": 567,
    "start_time": "2025-03-02T11:04:40.223Z"
   },
   {
    "duration": 329,
    "start_time": "2025-03-02T11:04:40.792Z"
   },
   {
    "duration": 144,
    "start_time": "2025-03-02T11:04:41.122Z"
   },
   {
    "duration": 149,
    "start_time": "2025-03-02T11:04:41.268Z"
   },
   {
    "duration": 535,
    "start_time": "2025-03-02T11:04:52.492Z"
   },
   {
    "duration": 9,
    "start_time": "2025-03-02T11:40:56.235Z"
   },
   {
    "duration": 9,
    "start_time": "2025-03-02T11:41:09.691Z"
   },
   {
    "duration": 51,
    "start_time": "2025-03-02T11:41:20.414Z"
   },
   {
    "duration": 21,
    "start_time": "2025-03-02T11:54:02.919Z"
   },
   {
    "duration": 29,
    "start_time": "2025-03-02T11:54:13.030Z"
   },
   {
    "duration": 75,
    "start_time": "2025-03-02T11:56:32.136Z"
   },
   {
    "duration": 14,
    "start_time": "2025-03-02T11:58:34.240Z"
   },
   {
    "duration": 41,
    "start_time": "2025-03-02T11:58:38.452Z"
   },
   {
    "duration": 1578,
    "start_time": "2025-03-02T11:59:06.399Z"
   },
   {
    "duration": 28,
    "start_time": "2025-03-02T11:59:07.979Z"
   },
   {
    "duration": 23,
    "start_time": "2025-03-02T11:59:08.009Z"
   },
   {
    "duration": 13,
    "start_time": "2025-03-02T11:59:08.034Z"
   },
   {
    "duration": 23,
    "start_time": "2025-03-02T11:59:08.048Z"
   },
   {
    "duration": 31,
    "start_time": "2025-03-02T11:59:08.073Z"
   },
   {
    "duration": 71,
    "start_time": "2025-03-02T11:59:08.105Z"
   },
   {
    "duration": 4,
    "start_time": "2025-03-02T11:59:08.178Z"
   },
   {
    "duration": 172,
    "start_time": "2025-03-02T11:59:08.184Z"
   },
   {
    "duration": 25,
    "start_time": "2025-03-02T11:59:08.363Z"
   },
   {
    "duration": 94,
    "start_time": "2025-03-02T11:59:08.390Z"
   },
   {
    "duration": 21,
    "start_time": "2025-03-02T11:59:08.486Z"
   },
   {
    "duration": 43,
    "start_time": "2025-03-02T11:59:08.509Z"
   },
   {
    "duration": 26,
    "start_time": "2025-03-02T11:59:08.554Z"
   },
   {
    "duration": 21,
    "start_time": "2025-03-02T11:59:08.581Z"
   },
   {
    "duration": 31,
    "start_time": "2025-03-02T11:59:08.604Z"
   },
   {
    "duration": 18,
    "start_time": "2025-03-02T11:59:08.637Z"
   },
   {
    "duration": 46,
    "start_time": "2025-03-02T11:59:08.657Z"
   },
   {
    "duration": 1311,
    "start_time": "2025-03-02T11:59:08.705Z"
   },
   {
    "duration": 5,
    "start_time": "2025-03-02T11:59:10.018Z"
   },
   {
    "duration": 31,
    "start_time": "2025-03-02T11:59:10.024Z"
   },
   {
    "duration": 622,
    "start_time": "2025-03-02T11:59:10.056Z"
   },
   {
    "duration": 335,
    "start_time": "2025-03-02T11:59:10.680Z"
   },
   {
    "duration": 165,
    "start_time": "2025-03-02T11:59:11.016Z"
   },
   {
    "duration": 255,
    "start_time": "2025-03-02T11:59:11.182Z"
   },
   {
    "duration": 551,
    "start_time": "2025-03-02T11:59:11.439Z"
   },
   {
    "duration": 63,
    "start_time": "2025-03-02T11:59:11.992Z"
   },
   {
    "duration": 42,
    "start_time": "2025-03-02T11:59:12.058Z"
   },
   {
    "duration": 41,
    "start_time": "2025-03-02T11:59:12.102Z"
   },
   {
    "duration": 20,
    "start_time": "2025-03-02T12:00:52.757Z"
   },
   {
    "duration": 39,
    "start_time": "2025-03-02T12:00:54.702Z"
   },
   {
    "duration": 7,
    "start_time": "2025-03-02T12:02:42.320Z"
   },
   {
    "duration": 137,
    "start_time": "2025-03-02T12:05:14.751Z"
   },
   {
    "duration": 3,
    "start_time": "2025-03-02T12:05:37.384Z"
   },
   {
    "duration": 10,
    "start_time": "2025-03-02T12:05:44.622Z"
   },
   {
    "duration": 31,
    "start_time": "2025-03-02T12:05:55.316Z"
   },
   {
    "duration": 10,
    "start_time": "2025-03-02T12:06:38.680Z"
   },
   {
    "duration": 13,
    "start_time": "2025-03-02T12:06:50.752Z"
   },
   {
    "duration": 1625,
    "start_time": "2025-03-02T12:17:25.284Z"
   },
   {
    "duration": 16,
    "start_time": "2025-03-02T12:17:26.911Z"
   },
   {
    "duration": 7,
    "start_time": "2025-03-02T12:17:26.929Z"
   },
   {
    "duration": 4,
    "start_time": "2025-03-02T12:17:26.938Z"
   },
   {
    "duration": 32,
    "start_time": "2025-03-02T12:17:26.943Z"
   },
   {
    "duration": 42,
    "start_time": "2025-03-02T12:17:26.977Z"
   },
   {
    "duration": 26,
    "start_time": "2025-03-02T12:17:27.021Z"
   },
   {
    "duration": 28,
    "start_time": "2025-03-02T12:17:27.049Z"
   },
   {
    "duration": 144,
    "start_time": "2025-03-02T12:17:27.078Z"
   },
   {
    "duration": 19,
    "start_time": "2025-03-02T12:17:27.225Z"
   },
   {
    "duration": 41,
    "start_time": "2025-03-02T12:17:27.245Z"
   },
   {
    "duration": 27,
    "start_time": "2025-03-02T12:17:27.288Z"
   },
   {
    "duration": 15,
    "start_time": "2025-03-02T12:17:27.317Z"
   },
   {
    "duration": 12,
    "start_time": "2025-03-02T12:17:27.334Z"
   },
   {
    "duration": 31,
    "start_time": "2025-03-02T12:17:27.347Z"
   },
   {
    "duration": 12,
    "start_time": "2025-03-02T12:17:27.379Z"
   },
   {
    "duration": 6,
    "start_time": "2025-03-02T12:17:27.392Z"
   },
   {
    "duration": 29,
    "start_time": "2025-03-02T12:17:27.400Z"
   },
   {
    "duration": 1345,
    "start_time": "2025-03-02T12:17:27.431Z"
   },
   {
    "duration": 5,
    "start_time": "2025-03-02T12:17:28.777Z"
   },
   {
    "duration": 9,
    "start_time": "2025-03-02T12:17:28.784Z"
   },
   {
    "duration": 619,
    "start_time": "2025-03-02T12:17:28.794Z"
   },
   {
    "duration": 363,
    "start_time": "2025-03-02T12:17:29.415Z"
   },
   {
    "duration": 145,
    "start_time": "2025-03-02T12:17:29.780Z"
   },
   {
    "duration": 171,
    "start_time": "2025-03-02T12:17:29.927Z"
   },
   {
    "duration": 542,
    "start_time": "2025-03-02T12:17:30.100Z"
   },
   {
    "duration": 59,
    "start_time": "2025-03-02T12:17:30.644Z"
   },
   {
    "duration": 15,
    "start_time": "2025-03-02T12:17:30.707Z"
   },
   {
    "duration": 65,
    "start_time": "2025-03-02T12:17:30.723Z"
   },
   {
    "duration": 18,
    "start_time": "2025-03-02T12:17:30.789Z"
   },
   {
    "duration": 50,
    "start_time": "2025-03-02T12:17:30.809Z"
   },
   {
    "duration": 60,
    "start_time": "2025-03-02T12:17:30.861Z"
   },
   {
    "duration": 124,
    "start_time": "2025-03-02T12:21:40.175Z"
   },
   {
    "duration": 4,
    "start_time": "2025-03-02T12:24:37.880Z"
   },
   {
    "duration": 1616,
    "start_time": "2025-03-02T12:24:51.047Z"
   },
   {
    "duration": 18,
    "start_time": "2025-03-02T12:24:52.665Z"
   },
   {
    "duration": 63,
    "start_time": "2025-03-02T12:24:52.684Z"
   },
   {
    "duration": 117,
    "start_time": "2025-03-02T12:24:52.749Z"
   },
   {
    "duration": 60,
    "start_time": "2025-03-02T12:24:52.868Z"
   },
   {
    "duration": 44,
    "start_time": "2025-03-02T12:24:52.930Z"
   },
   {
    "duration": 59,
    "start_time": "2025-03-02T12:24:52.976Z"
   },
   {
    "duration": 30,
    "start_time": "2025-03-02T12:24:53.037Z"
   },
   {
    "duration": 195,
    "start_time": "2025-03-02T12:24:53.069Z"
   },
   {
    "duration": 24,
    "start_time": "2025-03-02T12:24:53.267Z"
   },
   {
    "duration": 12,
    "start_time": "2025-03-02T12:24:53.293Z"
   },
   {
    "duration": 27,
    "start_time": "2025-03-02T12:24:53.312Z"
   },
   {
    "duration": 19,
    "start_time": "2025-03-02T12:24:53.340Z"
   },
   {
    "duration": 23,
    "start_time": "2025-03-02T12:24:53.360Z"
   },
   {
    "duration": 24,
    "start_time": "2025-03-02T12:24:53.385Z"
   },
   {
    "duration": 14,
    "start_time": "2025-03-02T12:24:53.411Z"
   },
   {
    "duration": 153,
    "start_time": "2025-03-02T12:24:53.426Z"
   },
   {
    "duration": 154,
    "start_time": "2025-03-02T12:24:53.580Z"
   },
   {
    "duration": 1409,
    "start_time": "2025-03-02T12:24:53.736Z"
   },
   {
    "duration": 5,
    "start_time": "2025-03-02T12:24:55.147Z"
   },
   {
    "duration": 104,
    "start_time": "2025-03-02T12:24:55.162Z"
   },
   {
    "duration": 680,
    "start_time": "2025-03-02T12:24:55.268Z"
   },
   {
    "duration": 392,
    "start_time": "2025-03-02T12:24:55.950Z"
   },
   {
    "duration": 159,
    "start_time": "2025-03-02T12:24:56.344Z"
   },
   {
    "duration": 162,
    "start_time": "2025-03-02T12:24:56.505Z"
   },
   {
    "duration": 537,
    "start_time": "2025-03-02T12:24:56.675Z"
   },
   {
    "duration": 57,
    "start_time": "2025-03-02T12:24:57.213Z"
   },
   {
    "duration": 16,
    "start_time": "2025-03-02T12:24:57.274Z"
   },
   {
    "duration": 145,
    "start_time": "2025-03-02T12:24:57.291Z"
   },
   {
    "duration": 0,
    "start_time": "2025-03-02T12:24:57.438Z"
   },
   {
    "duration": 0,
    "start_time": "2025-03-02T12:24:57.439Z"
   },
   {
    "duration": 0,
    "start_time": "2025-03-02T12:24:57.439Z"
   },
   {
    "duration": 0,
    "start_time": "2025-03-02T12:24:57.441Z"
   },
   {
    "duration": 4,
    "start_time": "2025-03-02T12:25:28.312Z"
   },
   {
    "duration": 1681,
    "start_time": "2025-03-02T12:27:40.440Z"
   },
   {
    "duration": 18,
    "start_time": "2025-03-02T12:27:42.122Z"
   },
   {
    "duration": 7,
    "start_time": "2025-03-02T12:27:42.141Z"
   },
   {
    "duration": 4,
    "start_time": "2025-03-02T12:27:42.150Z"
   },
   {
    "duration": 5,
    "start_time": "2025-03-02T12:27:42.156Z"
   },
   {
    "duration": 44,
    "start_time": "2025-03-02T12:27:42.170Z"
   },
   {
    "duration": 25,
    "start_time": "2025-03-02T12:27:42.216Z"
   },
   {
    "duration": 4,
    "start_time": "2025-03-02T12:27:42.242Z"
   },
   {
    "duration": 157,
    "start_time": "2025-03-02T12:27:42.248Z"
   },
   {
    "duration": 20,
    "start_time": "2025-03-02T12:27:42.407Z"
   },
   {
    "duration": 16,
    "start_time": "2025-03-02T12:27:42.428Z"
   },
   {
    "duration": 9,
    "start_time": "2025-03-02T12:27:42.445Z"
   },
   {
    "duration": 19,
    "start_time": "2025-03-02T12:27:42.455Z"
   },
   {
    "duration": 17,
    "start_time": "2025-03-02T12:27:42.477Z"
   },
   {
    "duration": 7,
    "start_time": "2025-03-02T12:27:42.496Z"
   },
   {
    "duration": 15,
    "start_time": "2025-03-02T12:27:42.504Z"
   },
   {
    "duration": 9,
    "start_time": "2025-03-02T12:27:42.521Z"
   },
   {
    "duration": 110,
    "start_time": "2025-03-02T12:27:42.532Z"
   },
   {
    "duration": 1287,
    "start_time": "2025-03-02T12:27:42.644Z"
   },
   {
    "duration": 5,
    "start_time": "2025-03-02T12:27:43.933Z"
   },
   {
    "duration": 151,
    "start_time": "2025-03-02T12:27:43.939Z"
   },
   {
    "duration": 589,
    "start_time": "2025-03-02T12:27:44.092Z"
   },
   {
    "duration": 358,
    "start_time": "2025-03-02T12:27:44.684Z"
   },
   {
    "duration": 162,
    "start_time": "2025-03-02T12:27:45.043Z"
   },
   {
    "duration": 167,
    "start_time": "2025-03-02T12:27:45.207Z"
   },
   {
    "duration": 560,
    "start_time": "2025-03-02T12:27:45.376Z"
   },
   {
    "duration": 78,
    "start_time": "2025-03-02T12:27:45.937Z"
   },
   {
    "duration": 79,
    "start_time": "2025-03-02T12:27:46.018Z"
   },
   {
    "duration": 3,
    "start_time": "2025-03-02T12:27:46.099Z"
   },
   {
    "duration": 7,
    "start_time": "2025-03-02T12:27:46.104Z"
   },
   {
    "duration": 17,
    "start_time": "2025-03-02T12:27:46.112Z"
   },
   {
    "duration": 37,
    "start_time": "2025-03-02T12:27:46.130Z"
   },
   {
    "duration": 9,
    "start_time": "2025-03-02T12:27:46.169Z"
   },
   {
    "duration": 14,
    "start_time": "2025-03-02T12:28:36.661Z"
   },
   {
    "duration": 13,
    "start_time": "2025-03-02T12:30:43.817Z"
   },
   {
    "duration": 136,
    "start_time": "2025-03-02T12:33:54.757Z"
   },
   {
    "duration": 1638,
    "start_time": "2025-03-02T12:34:21.850Z"
   },
   {
    "duration": 16,
    "start_time": "2025-03-02T12:34:23.490Z"
   },
   {
    "duration": 7,
    "start_time": "2025-03-02T12:34:23.508Z"
   },
   {
    "duration": 6,
    "start_time": "2025-03-02T12:34:23.516Z"
   },
   {
    "duration": 14,
    "start_time": "2025-03-02T12:34:23.524Z"
   },
   {
    "duration": 10,
    "start_time": "2025-03-02T12:34:23.540Z"
   },
   {
    "duration": 24,
    "start_time": "2025-03-02T12:34:23.551Z"
   },
   {
    "duration": 17,
    "start_time": "2025-03-02T12:34:23.577Z"
   },
   {
    "duration": 136,
    "start_time": "2025-03-02T12:34:23.596Z"
   },
   {
    "duration": 39,
    "start_time": "2025-03-02T12:34:23.734Z"
   },
   {
    "duration": 8,
    "start_time": "2025-03-02T12:34:23.777Z"
   },
   {
    "duration": 15,
    "start_time": "2025-03-02T12:34:23.787Z"
   },
   {
    "duration": 4,
    "start_time": "2025-03-02T12:34:23.804Z"
   },
   {
    "duration": 26,
    "start_time": "2025-03-02T12:34:23.810Z"
   },
   {
    "duration": 288,
    "start_time": "2025-03-02T12:34:23.838Z"
   },
   {
    "duration": 12,
    "start_time": "2025-03-02T12:34:24.128Z"
   },
   {
    "duration": 6,
    "start_time": "2025-03-02T12:34:24.141Z"
   },
   {
    "duration": 7,
    "start_time": "2025-03-02T12:34:24.148Z"
   },
   {
    "duration": 1298,
    "start_time": "2025-03-02T12:34:24.157Z"
   },
   {
    "duration": 12,
    "start_time": "2025-03-02T12:34:25.456Z"
   },
   {
    "duration": 4,
    "start_time": "2025-03-02T12:34:25.469Z"
   },
   {
    "duration": 675,
    "start_time": "2025-03-02T12:34:25.477Z"
   },
   {
    "duration": 369,
    "start_time": "2025-03-02T12:34:26.153Z"
   },
   {
    "duration": 155,
    "start_time": "2025-03-02T12:34:26.523Z"
   },
   {
    "duration": 163,
    "start_time": "2025-03-02T12:34:26.680Z"
   },
   {
    "duration": 563,
    "start_time": "2025-03-02T12:34:26.845Z"
   },
   {
    "duration": 61,
    "start_time": "2025-03-02T12:34:27.410Z"
   },
   {
    "duration": 22,
    "start_time": "2025-03-02T12:34:27.474Z"
   },
   {
    "duration": 5,
    "start_time": "2025-03-02T12:34:27.498Z"
   },
   {
    "duration": 7,
    "start_time": "2025-03-02T12:34:27.505Z"
   },
   {
    "duration": 19,
    "start_time": "2025-03-02T12:34:27.514Z"
   },
   {
    "duration": 45,
    "start_time": "2025-03-02T12:34:27.536Z"
   },
   {
    "duration": 2,
    "start_time": "2025-03-02T12:34:27.583Z"
   },
   {
    "duration": 15,
    "start_time": "2025-03-02T12:41:12.922Z"
   },
   {
    "duration": 150,
    "start_time": "2025-03-02T12:41:15.747Z"
   },
   {
    "duration": 1720,
    "start_time": "2025-03-02T12:41:28.101Z"
   },
   {
    "duration": 17,
    "start_time": "2025-03-02T12:41:29.823Z"
   },
   {
    "duration": 130,
    "start_time": "2025-03-02T12:41:29.842Z"
   },
   {
    "duration": 114,
    "start_time": "2025-03-02T12:41:29.979Z"
   },
   {
    "duration": 183,
    "start_time": "2025-03-02T12:41:30.095Z"
   },
   {
    "duration": 46,
    "start_time": "2025-03-02T12:41:30.279Z"
   },
   {
    "duration": 62,
    "start_time": "2025-03-02T12:41:30.326Z"
   },
   {
    "duration": 43,
    "start_time": "2025-03-02T12:41:30.390Z"
   },
   {
    "duration": 197,
    "start_time": "2025-03-02T12:41:30.435Z"
   },
   {
    "duration": 64,
    "start_time": "2025-03-02T12:41:30.634Z"
   },
   {
    "duration": 62,
    "start_time": "2025-03-02T12:41:30.700Z"
   },
   {
    "duration": 21,
    "start_time": "2025-03-02T12:41:30.767Z"
   },
   {
    "duration": 20,
    "start_time": "2025-03-02T12:41:30.789Z"
   },
   {
    "duration": 61,
    "start_time": "2025-03-02T12:41:30.810Z"
   },
   {
    "duration": 6,
    "start_time": "2025-03-02T12:41:30.873Z"
   },
   {
    "duration": 22,
    "start_time": "2025-03-02T12:41:30.881Z"
   },
   {
    "duration": 39,
    "start_time": "2025-03-02T12:41:30.904Z"
   },
   {
    "duration": 32,
    "start_time": "2025-03-02T12:41:30.945Z"
   },
   {
    "duration": 1348,
    "start_time": "2025-03-02T12:41:30.979Z"
   },
   {
    "duration": 6,
    "start_time": "2025-03-02T12:41:32.329Z"
   },
   {
    "duration": 14,
    "start_time": "2025-03-02T12:41:32.337Z"
   },
   {
    "duration": 656,
    "start_time": "2025-03-02T12:41:32.361Z"
   },
   {
    "duration": 362,
    "start_time": "2025-03-02T12:41:33.019Z"
   },
   {
    "duration": 150,
    "start_time": "2025-03-02T12:41:33.383Z"
   },
   {
    "duration": 185,
    "start_time": "2025-03-02T12:41:33.534Z"
   },
   {
    "duration": 589,
    "start_time": "2025-03-02T12:41:33.721Z"
   },
   {
    "duration": 57,
    "start_time": "2025-03-02T12:41:34.312Z"
   },
   {
    "duration": 15,
    "start_time": "2025-03-02T12:41:34.374Z"
   },
   {
    "duration": 26,
    "start_time": "2025-03-02T12:41:34.391Z"
   },
   {
    "duration": 60,
    "start_time": "2025-03-02T12:41:34.419Z"
   },
   {
    "duration": 39,
    "start_time": "2025-03-02T12:41:34.481Z"
   },
   {
    "duration": 32,
    "start_time": "2025-03-02T12:41:34.522Z"
   },
   {
    "duration": 19,
    "start_time": "2025-03-02T12:41:34.555Z"
   },
   {
    "duration": 4,
    "start_time": "2025-03-02T12:44:20.316Z"
   },
   {
    "duration": 1648,
    "start_time": "2025-03-02T12:44:27.363Z"
   },
   {
    "duration": 17,
    "start_time": "2025-03-02T12:44:29.013Z"
   },
   {
    "duration": 10,
    "start_time": "2025-03-02T12:44:29.032Z"
   },
   {
    "duration": 34,
    "start_time": "2025-03-02T12:44:29.044Z"
   },
   {
    "duration": 5,
    "start_time": "2025-03-02T12:44:29.080Z"
   },
   {
    "duration": 21,
    "start_time": "2025-03-02T12:44:29.087Z"
   },
   {
    "duration": 31,
    "start_time": "2025-03-02T12:44:29.109Z"
   },
   {
    "duration": 13,
    "start_time": "2025-03-02T12:44:29.142Z"
   },
   {
    "duration": 176,
    "start_time": "2025-03-02T12:44:29.156Z"
   },
   {
    "duration": 21,
    "start_time": "2025-03-02T12:44:29.334Z"
   },
   {
    "duration": 32,
    "start_time": "2025-03-02T12:44:29.356Z"
   },
   {
    "duration": 31,
    "start_time": "2025-03-02T12:44:29.390Z"
   },
   {
    "duration": 13,
    "start_time": "2025-03-02T12:44:29.422Z"
   },
   {
    "duration": 16,
    "start_time": "2025-03-02T12:44:29.438Z"
   },
   {
    "duration": 14,
    "start_time": "2025-03-02T12:44:29.455Z"
   },
   {
    "duration": 13,
    "start_time": "2025-03-02T12:44:29.471Z"
   },
   {
    "duration": 13,
    "start_time": "2025-03-02T12:44:29.485Z"
   },
   {
    "duration": 30,
    "start_time": "2025-03-02T12:44:29.499Z"
   },
   {
    "duration": 1316,
    "start_time": "2025-03-02T12:44:29.530Z"
   },
   {
    "duration": 5,
    "start_time": "2025-03-02T12:44:30.847Z"
   },
   {
    "duration": 71,
    "start_time": "2025-03-02T12:44:30.854Z"
   },
   {
    "duration": 607,
    "start_time": "2025-03-02T12:44:30.927Z"
   },
   {
    "duration": 350,
    "start_time": "2025-03-02T12:44:31.535Z"
   },
   {
    "duration": 153,
    "start_time": "2025-03-02T12:44:31.887Z"
   },
   {
    "duration": 168,
    "start_time": "2025-03-02T12:44:32.042Z"
   },
   {
    "duration": 561,
    "start_time": "2025-03-02T12:44:32.212Z"
   },
   {
    "duration": 56,
    "start_time": "2025-03-02T12:44:32.775Z"
   },
   {
    "duration": 28,
    "start_time": "2025-03-02T12:44:32.832Z"
   },
   {
    "duration": 10,
    "start_time": "2025-03-02T12:44:32.863Z"
   },
   {
    "duration": 33,
    "start_time": "2025-03-02T12:44:32.879Z"
   },
   {
    "duration": 36,
    "start_time": "2025-03-02T12:44:32.913Z"
   },
   {
    "duration": 122,
    "start_time": "2025-03-02T12:44:32.951Z"
   },
   {
    "duration": 40,
    "start_time": "2025-03-02T12:44:33.075Z"
   },
   {
    "duration": 11,
    "start_time": "2025-03-02T12:44:46.471Z"
   },
   {
    "duration": 1674,
    "start_time": "2025-03-02T12:44:54.448Z"
   },
   {
    "duration": 17,
    "start_time": "2025-03-02T12:44:56.124Z"
   },
   {
    "duration": 52,
    "start_time": "2025-03-02T12:44:56.143Z"
   },
   {
    "duration": 34,
    "start_time": "2025-03-02T12:44:56.196Z"
   },
   {
    "duration": 26,
    "start_time": "2025-03-02T12:44:56.232Z"
   },
   {
    "duration": 37,
    "start_time": "2025-03-02T12:44:56.260Z"
   },
   {
    "duration": 38,
    "start_time": "2025-03-02T12:44:56.299Z"
   },
   {
    "duration": 13,
    "start_time": "2025-03-02T12:44:56.339Z"
   },
   {
    "duration": 175,
    "start_time": "2025-03-02T12:44:56.354Z"
   },
   {
    "duration": 34,
    "start_time": "2025-03-02T12:44:56.530Z"
   },
   {
    "duration": 30,
    "start_time": "2025-03-02T12:44:56.566Z"
   },
   {
    "duration": 32,
    "start_time": "2025-03-02T12:44:56.597Z"
   },
   {
    "duration": 110,
    "start_time": "2025-03-02T12:44:56.631Z"
   },
   {
    "duration": 29,
    "start_time": "2025-03-02T12:44:56.744Z"
   },
   {
    "duration": 13,
    "start_time": "2025-03-02T12:44:56.775Z"
   },
   {
    "duration": 23,
    "start_time": "2025-03-02T12:44:56.790Z"
   },
   {
    "duration": 7,
    "start_time": "2025-03-02T12:44:56.815Z"
   },
   {
    "duration": 29,
    "start_time": "2025-03-02T12:44:56.823Z"
   },
   {
    "duration": 1339,
    "start_time": "2025-03-02T12:44:56.853Z"
   },
   {
    "duration": 5,
    "start_time": "2025-03-02T12:44:58.194Z"
   },
   {
    "duration": 36,
    "start_time": "2025-03-02T12:44:58.200Z"
   },
   {
    "duration": 583,
    "start_time": "2025-03-02T12:44:58.237Z"
   },
   {
    "duration": 342,
    "start_time": "2025-03-02T12:44:58.822Z"
   },
   {
    "duration": 141,
    "start_time": "2025-03-02T12:44:59.175Z"
   },
   {
    "duration": 161,
    "start_time": "2025-03-02T12:44:59.318Z"
   },
   {
    "duration": 538,
    "start_time": "2025-03-02T12:44:59.482Z"
   },
   {
    "duration": 81,
    "start_time": "2025-03-02T12:45:00.022Z"
   },
   {
    "duration": 290,
    "start_time": "2025-03-02T12:45:00.104Z"
   },
   {
    "duration": 356,
    "start_time": "2025-03-02T12:45:00.396Z"
   },
   {
    "duration": 26,
    "start_time": "2025-03-02T12:45:00.754Z"
   },
   {
    "duration": 26,
    "start_time": "2025-03-02T12:45:00.782Z"
   },
   {
    "duration": 73,
    "start_time": "2025-03-02T12:45:00.810Z"
   },
   {
    "duration": 3,
    "start_time": "2025-03-02T12:45:00.884Z"
   },
   {
    "duration": 4,
    "start_time": "2025-03-02T12:54:27.601Z"
   },
   {
    "duration": 1563,
    "start_time": "2025-03-02T12:54:48.823Z"
   },
   {
    "duration": 17,
    "start_time": "2025-03-02T12:54:50.388Z"
   },
   {
    "duration": 40,
    "start_time": "2025-03-02T12:54:50.407Z"
   },
   {
    "duration": 43,
    "start_time": "2025-03-02T12:54:50.449Z"
   },
   {
    "duration": 23,
    "start_time": "2025-03-02T12:54:50.493Z"
   },
   {
    "duration": 39,
    "start_time": "2025-03-02T12:54:50.517Z"
   },
   {
    "duration": 34,
    "start_time": "2025-03-02T12:54:50.558Z"
   },
   {
    "duration": 65,
    "start_time": "2025-03-02T12:54:50.593Z"
   },
   {
    "duration": 281,
    "start_time": "2025-03-02T12:54:50.660Z"
   },
   {
    "duration": 34,
    "start_time": "2025-03-02T12:54:50.944Z"
   },
   {
    "duration": 21,
    "start_time": "2025-03-02T12:54:50.980Z"
   },
   {
    "duration": 41,
    "start_time": "2025-03-02T12:54:51.002Z"
   },
   {
    "duration": 33,
    "start_time": "2025-03-02T12:54:51.044Z"
   },
   {
    "duration": 201,
    "start_time": "2025-03-02T12:54:51.078Z"
   },
   {
    "duration": 312,
    "start_time": "2025-03-02T12:54:51.280Z"
   },
   {
    "duration": 222,
    "start_time": "2025-03-02T12:54:51.594Z"
   },
   {
    "duration": 81,
    "start_time": "2025-03-02T12:54:51.817Z"
   },
   {
    "duration": 139,
    "start_time": "2025-03-02T12:54:51.900Z"
   },
   {
    "duration": 1284,
    "start_time": "2025-03-02T12:54:52.041Z"
   },
   {
    "duration": 5,
    "start_time": "2025-03-02T12:54:53.326Z"
   },
   {
    "duration": 15,
    "start_time": "2025-03-02T12:54:53.333Z"
   },
   {
    "duration": 657,
    "start_time": "2025-03-02T12:54:53.350Z"
   },
   {
    "duration": 347,
    "start_time": "2025-03-02T12:54:54.008Z"
   },
   {
    "duration": 153,
    "start_time": "2025-03-02T12:54:54.356Z"
   },
   {
    "duration": 165,
    "start_time": "2025-03-02T12:54:54.511Z"
   },
   {
    "duration": 513,
    "start_time": "2025-03-02T12:54:54.678Z"
   },
   {
    "duration": 46,
    "start_time": "2025-03-02T12:54:55.193Z"
   },
   {
    "duration": 23,
    "start_time": "2025-03-02T12:54:55.242Z"
   },
   {
    "duration": 4,
    "start_time": "2025-03-02T12:54:55.275Z"
   },
   {
    "duration": 10,
    "start_time": "2025-03-02T12:54:55.280Z"
   },
   {
    "duration": 17,
    "start_time": "2025-03-02T12:54:55.291Z"
   },
   {
    "duration": 21,
    "start_time": "2025-03-02T12:54:55.310Z"
   },
   {
    "duration": 12,
    "start_time": "2025-03-02T12:54:55.333Z"
   },
   {
    "duration": 20,
    "start_time": "2025-03-02T12:55:20.058Z"
   },
   {
    "duration": 133,
    "start_time": "2025-03-02T12:55:22.197Z"
   },
   {
    "duration": 1616,
    "start_time": "2025-03-02T12:55:31.159Z"
   },
   {
    "duration": 18,
    "start_time": "2025-03-02T12:55:32.777Z"
   },
   {
    "duration": 26,
    "start_time": "2025-03-02T12:55:32.796Z"
   },
   {
    "duration": 28,
    "start_time": "2025-03-02T12:55:32.824Z"
   },
   {
    "duration": 23,
    "start_time": "2025-03-02T12:55:32.854Z"
   },
   {
    "duration": 21,
    "start_time": "2025-03-02T12:55:32.879Z"
   },
   {
    "duration": 59,
    "start_time": "2025-03-02T12:55:32.901Z"
   },
   {
    "duration": 25,
    "start_time": "2025-03-02T12:55:32.961Z"
   },
   {
    "duration": 191,
    "start_time": "2025-03-02T12:55:32.988Z"
   },
   {
    "duration": 20,
    "start_time": "2025-03-02T12:55:33.182Z"
   },
   {
    "duration": 21,
    "start_time": "2025-03-02T12:55:33.204Z"
   },
   {
    "duration": 17,
    "start_time": "2025-03-02T12:55:33.227Z"
   },
   {
    "duration": 5,
    "start_time": "2025-03-02T12:55:33.246Z"
   },
   {
    "duration": 13,
    "start_time": "2025-03-02T12:55:33.252Z"
   },
   {
    "duration": 15,
    "start_time": "2025-03-02T12:55:33.268Z"
   },
   {
    "duration": 5,
    "start_time": "2025-03-02T12:55:33.284Z"
   },
   {
    "duration": 47,
    "start_time": "2025-03-02T12:55:33.290Z"
   },
   {
    "duration": 104,
    "start_time": "2025-03-02T12:55:33.338Z"
   },
   {
    "duration": 1326,
    "start_time": "2025-03-02T12:55:33.443Z"
   },
   {
    "duration": 6,
    "start_time": "2025-03-02T12:55:34.775Z"
   },
   {
    "duration": 55,
    "start_time": "2025-03-02T12:55:34.782Z"
   },
   {
    "duration": 636,
    "start_time": "2025-03-02T12:55:34.838Z"
   },
   {
    "duration": 361,
    "start_time": "2025-03-02T12:55:35.476Z"
   },
   {
    "duration": 154,
    "start_time": "2025-03-02T12:55:35.838Z"
   },
   {
    "duration": 215,
    "start_time": "2025-03-02T12:55:35.994Z"
   },
   {
    "duration": 684,
    "start_time": "2025-03-02T12:55:36.211Z"
   },
   {
    "duration": 47,
    "start_time": "2025-03-02T12:55:36.896Z"
   },
   {
    "duration": 127,
    "start_time": "2025-03-02T12:55:36.946Z"
   },
   {
    "duration": 41,
    "start_time": "2025-03-02T12:55:37.077Z"
   },
   {
    "duration": 71,
    "start_time": "2025-03-02T12:55:37.120Z"
   },
   {
    "duration": 56,
    "start_time": "2025-03-02T12:55:37.193Z"
   },
   {
    "duration": 86,
    "start_time": "2025-03-02T12:55:37.250Z"
   },
   {
    "duration": 23,
    "start_time": "2025-03-02T12:55:37.339Z"
   },
   {
    "duration": 1600,
    "start_time": "2025-03-02T13:01:09.514Z"
   },
   {
    "duration": 17,
    "start_time": "2025-03-02T13:01:11.115Z"
   },
   {
    "duration": 7,
    "start_time": "2025-03-02T13:01:11.134Z"
   },
   {
    "duration": 6,
    "start_time": "2025-03-02T13:01:11.143Z"
   },
   {
    "duration": 23,
    "start_time": "2025-03-02T13:01:11.151Z"
   },
   {
    "duration": 16,
    "start_time": "2025-03-02T13:01:11.176Z"
   },
   {
    "duration": 31,
    "start_time": "2025-03-02T13:01:11.194Z"
   },
   {
    "duration": 37,
    "start_time": "2025-03-02T13:01:11.227Z"
   },
   {
    "duration": 143,
    "start_time": "2025-03-02T13:01:11.265Z"
   },
   {
    "duration": 19,
    "start_time": "2025-03-02T13:01:11.412Z"
   },
   {
    "duration": 7,
    "start_time": "2025-03-02T13:01:11.433Z"
   },
   {
    "duration": 18,
    "start_time": "2025-03-02T13:01:11.462Z"
   },
   {
    "duration": 11,
    "start_time": "2025-03-02T13:01:11.482Z"
   },
   {
    "duration": 18,
    "start_time": "2025-03-02T13:01:11.495Z"
   },
   {
    "duration": 6,
    "start_time": "2025-03-02T13:01:11.515Z"
   },
   {
    "duration": 12,
    "start_time": "2025-03-02T13:01:11.523Z"
   },
   {
    "duration": 55,
    "start_time": "2025-03-02T13:01:11.537Z"
   },
   {
    "duration": 31,
    "start_time": "2025-03-02T13:01:11.593Z"
   },
   {
    "duration": 1268,
    "start_time": "2025-03-02T13:01:11.626Z"
   },
   {
    "duration": 6,
    "start_time": "2025-03-02T13:01:12.895Z"
   },
   {
    "duration": 22,
    "start_time": "2025-03-02T13:01:12.902Z"
   },
   {
    "duration": 599,
    "start_time": "2025-03-02T13:01:12.925Z"
   },
   {
    "duration": 362,
    "start_time": "2025-03-02T13:01:13.526Z"
   },
   {
    "duration": 166,
    "start_time": "2025-03-02T13:01:13.889Z"
   },
   {
    "duration": 193,
    "start_time": "2025-03-02T13:01:14.062Z"
   },
   {
    "duration": 531,
    "start_time": "2025-03-02T13:01:14.257Z"
   },
   {
    "duration": 77,
    "start_time": "2025-03-02T13:01:14.790Z"
   },
   {
    "duration": 18,
    "start_time": "2025-03-02T13:01:14.871Z"
   },
   {
    "duration": 4,
    "start_time": "2025-03-02T13:01:14.891Z"
   },
   {
    "duration": 9,
    "start_time": "2025-03-02T13:01:14.896Z"
   },
   {
    "duration": 5,
    "start_time": "2025-03-02T13:01:14.907Z"
   },
   {
    "duration": 5,
    "start_time": "2025-03-02T13:01:14.913Z"
   },
   {
    "duration": 4,
    "start_time": "2025-03-02T13:01:14.920Z"
   },
   {
    "duration": 56,
    "start_time": "2025-03-02T13:01:14.925Z"
   },
   {
    "duration": 161,
    "start_time": "2025-03-02T13:03:50.853Z"
   },
   {
    "duration": 1722,
    "start_time": "2025-03-02T13:03:57.788Z"
   },
   {
    "duration": 17,
    "start_time": "2025-03-02T13:03:59.512Z"
   },
   {
    "duration": 25,
    "start_time": "2025-03-02T13:03:59.530Z"
   },
   {
    "duration": 19,
    "start_time": "2025-03-02T13:03:59.557Z"
   },
   {
    "duration": 29,
    "start_time": "2025-03-02T13:03:59.578Z"
   },
   {
    "duration": 10,
    "start_time": "2025-03-02T13:03:59.608Z"
   },
   {
    "duration": 32,
    "start_time": "2025-03-02T13:03:59.620Z"
   },
   {
    "duration": 29,
    "start_time": "2025-03-02T13:03:59.654Z"
   },
   {
    "duration": 167,
    "start_time": "2025-03-02T13:03:59.684Z"
   },
   {
    "duration": 30,
    "start_time": "2025-03-02T13:03:59.861Z"
   },
   {
    "duration": 12,
    "start_time": "2025-03-02T13:03:59.893Z"
   },
   {
    "duration": 92,
    "start_time": "2025-03-02T13:03:59.906Z"
   },
   {
    "duration": 57,
    "start_time": "2025-03-02T13:04:00.000Z"
   },
   {
    "duration": 56,
    "start_time": "2025-03-02T13:04:00.058Z"
   },
   {
    "duration": 175,
    "start_time": "2025-03-02T13:04:00.116Z"
   },
   {
    "duration": 36,
    "start_time": "2025-03-02T13:04:00.292Z"
   },
   {
    "duration": 49,
    "start_time": "2025-03-02T13:04:00.329Z"
   },
   {
    "duration": 70,
    "start_time": "2025-03-02T13:04:00.379Z"
   },
   {
    "duration": 1329,
    "start_time": "2025-03-02T13:04:00.450Z"
   },
   {
    "duration": 5,
    "start_time": "2025-03-02T13:04:01.781Z"
   },
   {
    "duration": 289,
    "start_time": "2025-03-02T13:04:01.788Z"
   },
   {
    "duration": 777,
    "start_time": "2025-03-02T13:04:02.079Z"
   },
   {
    "duration": 355,
    "start_time": "2025-03-02T13:04:02.861Z"
   },
   {
    "duration": 158,
    "start_time": "2025-03-02T13:04:03.218Z"
   },
   {
    "duration": 158,
    "start_time": "2025-03-02T13:04:03.378Z"
   },
   {
    "duration": 563,
    "start_time": "2025-03-02T13:04:03.538Z"
   },
   {
    "duration": 77,
    "start_time": "2025-03-02T13:04:04.102Z"
   },
   {
    "duration": 137,
    "start_time": "2025-03-02T13:04:04.182Z"
   },
   {
    "duration": 52,
    "start_time": "2025-03-02T13:04:04.321Z"
   },
   {
    "duration": 53,
    "start_time": "2025-03-02T13:04:04.375Z"
   },
   {
    "duration": 39,
    "start_time": "2025-03-02T13:04:04.430Z"
   },
   {
    "duration": 28,
    "start_time": "2025-03-02T13:04:04.471Z"
   },
   {
    "duration": 59,
    "start_time": "2025-03-02T13:04:04.501Z"
   },
   {
    "duration": 46,
    "start_time": "2025-03-02T13:04:04.566Z"
   },
   {
    "duration": 93,
    "start_time": "2025-03-02T13:04:04.614Z"
   },
   {
    "duration": 149,
    "start_time": "2025-03-02T13:13:18.358Z"
   },
   {
    "duration": 1598,
    "start_time": "2025-03-02T13:13:35.586Z"
   },
   {
    "duration": 17,
    "start_time": "2025-03-02T13:13:37.185Z"
   },
   {
    "duration": 18,
    "start_time": "2025-03-02T13:13:37.203Z"
   },
   {
    "duration": 6,
    "start_time": "2025-03-02T13:13:37.222Z"
   },
   {
    "duration": 8,
    "start_time": "2025-03-02T13:13:37.229Z"
   },
   {
    "duration": 6,
    "start_time": "2025-03-02T13:13:37.238Z"
   },
   {
    "duration": 30,
    "start_time": "2025-03-02T13:13:37.246Z"
   },
   {
    "duration": 4,
    "start_time": "2025-03-02T13:13:37.277Z"
   },
   {
    "duration": 144,
    "start_time": "2025-03-02T13:13:37.283Z"
   },
   {
    "duration": 22,
    "start_time": "2025-03-02T13:13:37.430Z"
   },
   {
    "duration": 40,
    "start_time": "2025-03-02T13:13:37.465Z"
   },
   {
    "duration": 26,
    "start_time": "2025-03-02T13:13:37.508Z"
   },
   {
    "duration": 18,
    "start_time": "2025-03-02T13:13:37.536Z"
   },
   {
    "duration": 31,
    "start_time": "2025-03-02T13:13:37.556Z"
   },
   {
    "duration": 36,
    "start_time": "2025-03-02T13:13:37.588Z"
   },
   {
    "duration": 49,
    "start_time": "2025-03-02T13:13:37.625Z"
   },
   {
    "duration": 39,
    "start_time": "2025-03-02T13:13:37.676Z"
   },
   {
    "duration": 42,
    "start_time": "2025-03-02T13:13:37.717Z"
   },
   {
    "duration": 1329,
    "start_time": "2025-03-02T13:13:37.769Z"
   },
   {
    "duration": 5,
    "start_time": "2025-03-02T13:13:39.100Z"
   },
   {
    "duration": 22,
    "start_time": "2025-03-02T13:13:39.106Z"
   },
   {
    "duration": 649,
    "start_time": "2025-03-02T13:13:39.129Z"
   },
   {
    "duration": 335,
    "start_time": "2025-03-02T13:13:39.780Z"
   },
   {
    "duration": 161,
    "start_time": "2025-03-02T13:13:40.116Z"
   },
   {
    "duration": 166,
    "start_time": "2025-03-02T13:13:40.279Z"
   },
   {
    "duration": 552,
    "start_time": "2025-03-02T13:13:40.448Z"
   },
   {
    "duration": 57,
    "start_time": "2025-03-02T13:13:41.002Z"
   },
   {
    "duration": 20,
    "start_time": "2025-03-02T13:13:41.062Z"
   },
   {
    "duration": 4,
    "start_time": "2025-03-02T13:13:41.083Z"
   },
   {
    "duration": 53,
    "start_time": "2025-03-02T13:13:41.088Z"
   },
   {
    "duration": 50,
    "start_time": "2025-03-02T13:13:41.143Z"
   },
   {
    "duration": 1582,
    "start_time": "2025-03-02T13:15:49.027Z"
   },
   {
    "duration": 18,
    "start_time": "2025-03-02T13:15:50.611Z"
   },
   {
    "duration": 25,
    "start_time": "2025-03-02T13:15:50.630Z"
   },
   {
    "duration": 6,
    "start_time": "2025-03-02T13:15:50.657Z"
   },
   {
    "duration": 48,
    "start_time": "2025-03-02T13:15:50.664Z"
   },
   {
    "duration": 27,
    "start_time": "2025-03-02T13:15:50.714Z"
   },
   {
    "duration": 45,
    "start_time": "2025-03-02T13:15:50.742Z"
   },
   {
    "duration": 18,
    "start_time": "2025-03-02T13:15:50.789Z"
   },
   {
    "duration": 160,
    "start_time": "2025-03-02T13:15:50.809Z"
   },
   {
    "duration": 20,
    "start_time": "2025-03-02T13:15:50.972Z"
   },
   {
    "duration": 8,
    "start_time": "2025-03-02T13:15:50.993Z"
   },
   {
    "duration": 13,
    "start_time": "2025-03-02T13:15:51.002Z"
   },
   {
    "duration": 20,
    "start_time": "2025-03-02T13:15:51.016Z"
   },
   {
    "duration": 24,
    "start_time": "2025-03-02T13:15:51.038Z"
   },
   {
    "duration": 5,
    "start_time": "2025-03-02T13:15:51.064Z"
   },
   {
    "duration": 22,
    "start_time": "2025-03-02T13:15:51.071Z"
   },
   {
    "duration": 7,
    "start_time": "2025-03-02T13:15:51.094Z"
   },
   {
    "duration": 11,
    "start_time": "2025-03-02T13:15:51.102Z"
   },
   {
    "duration": 1259,
    "start_time": "2025-03-02T13:15:51.114Z"
   },
   {
    "duration": 5,
    "start_time": "2025-03-02T13:15:52.374Z"
   },
   {
    "duration": 33,
    "start_time": "2025-03-02T13:15:52.381Z"
   },
   {
    "duration": 611,
    "start_time": "2025-03-02T13:15:52.415Z"
   },
   {
    "duration": 346,
    "start_time": "2025-03-02T13:15:53.028Z"
   },
   {
    "duration": 152,
    "start_time": "2025-03-02T13:15:53.375Z"
   },
   {
    "duration": 160,
    "start_time": "2025-03-02T13:15:53.528Z"
   },
   {
    "duration": 505,
    "start_time": "2025-03-02T13:15:53.690Z"
   },
   {
    "duration": 78,
    "start_time": "2025-03-02T13:15:54.197Z"
   },
   {
    "duration": 42,
    "start_time": "2025-03-02T13:15:54.278Z"
   },
   {
    "duration": 17,
    "start_time": "2025-03-02T13:15:54.322Z"
   },
   {
    "duration": 10,
    "start_time": "2025-03-02T13:15:54.341Z"
   },
   {
    "duration": 43,
    "start_time": "2025-03-02T13:15:54.352Z"
   },
   {
    "duration": 8,
    "start_time": "2025-03-02T13:16:19.434Z"
   },
   {
    "duration": 1546,
    "start_time": "2025-03-02T13:18:24.228Z"
   },
   {
    "duration": 19,
    "start_time": "2025-03-02T13:18:25.776Z"
   },
   {
    "duration": 12,
    "start_time": "2025-03-02T13:18:25.797Z"
   },
   {
    "duration": 14,
    "start_time": "2025-03-02T13:18:25.810Z"
   },
   {
    "duration": 71,
    "start_time": "2025-03-02T13:18:25.826Z"
   },
   {
    "duration": 46,
    "start_time": "2025-03-02T13:18:25.899Z"
   },
   {
    "duration": 55,
    "start_time": "2025-03-02T13:18:25.947Z"
   },
   {
    "duration": 92,
    "start_time": "2025-03-02T13:18:26.003Z"
   },
   {
    "duration": 160,
    "start_time": "2025-03-02T13:18:26.097Z"
   },
   {
    "duration": 22,
    "start_time": "2025-03-02T13:18:26.262Z"
   },
   {
    "duration": 125,
    "start_time": "2025-03-02T13:18:26.286Z"
   },
   {
    "duration": 71,
    "start_time": "2025-03-02T13:18:26.412Z"
   },
   {
    "duration": 23,
    "start_time": "2025-03-02T13:18:26.485Z"
   },
   {
    "duration": 48,
    "start_time": "2025-03-02T13:18:26.510Z"
   },
   {
    "duration": 37,
    "start_time": "2025-03-02T13:18:26.559Z"
   },
   {
    "duration": 70,
    "start_time": "2025-03-02T13:18:26.598Z"
   },
   {
    "duration": 57,
    "start_time": "2025-03-02T13:18:26.669Z"
   },
   {
    "duration": 98,
    "start_time": "2025-03-02T13:18:26.728Z"
   },
   {
    "duration": 1293,
    "start_time": "2025-03-02T13:18:26.828Z"
   },
   {
    "duration": 5,
    "start_time": "2025-03-02T13:18:28.123Z"
   },
   {
    "duration": 188,
    "start_time": "2025-03-02T13:18:28.130Z"
   },
   {
    "duration": 579,
    "start_time": "2025-03-02T13:18:28.321Z"
   },
   {
    "duration": 344,
    "start_time": "2025-03-02T13:18:28.902Z"
   },
   {
    "duration": 146,
    "start_time": "2025-03-02T13:18:29.248Z"
   },
   {
    "duration": 177,
    "start_time": "2025-03-02T13:18:29.396Z"
   },
   {
    "duration": 534,
    "start_time": "2025-03-02T13:18:29.575Z"
   },
   {
    "duration": 10,
    "start_time": "2025-03-02T13:18:30.111Z"
   },
   {
    "duration": 76,
    "start_time": "2025-03-02T13:18:30.123Z"
   },
   {
    "duration": 164,
    "start_time": "2025-03-02T13:18:30.201Z"
   },
   {
    "duration": 124,
    "start_time": "2025-03-02T13:18:30.367Z"
   },
   {
    "duration": 196,
    "start_time": "2025-03-02T13:18:30.494Z"
   },
   {
    "duration": 9,
    "start_time": "2025-03-02T13:26:07.177Z"
   },
   {
    "duration": 1588,
    "start_time": "2025-03-02T13:26:25.280Z"
   },
   {
    "duration": 18,
    "start_time": "2025-03-02T13:26:26.874Z"
   },
   {
    "duration": 6,
    "start_time": "2025-03-02T13:26:26.894Z"
   },
   {
    "duration": 11,
    "start_time": "2025-03-02T13:26:26.901Z"
   },
   {
    "duration": 11,
    "start_time": "2025-03-02T13:26:26.914Z"
   },
   {
    "duration": 22,
    "start_time": "2025-03-02T13:26:26.926Z"
   },
   {
    "duration": 50,
    "start_time": "2025-03-02T13:26:26.949Z"
   },
   {
    "duration": 4,
    "start_time": "2025-03-02T13:26:27.001Z"
   },
   {
    "duration": 138,
    "start_time": "2025-03-02T13:26:27.006Z"
   },
   {
    "duration": 35,
    "start_time": "2025-03-02T13:26:27.145Z"
   },
   {
    "duration": 5,
    "start_time": "2025-03-02T13:26:27.182Z"
   },
   {
    "duration": 11,
    "start_time": "2025-03-02T13:26:27.188Z"
   },
   {
    "duration": 5,
    "start_time": "2025-03-02T13:26:27.201Z"
   },
   {
    "duration": 11,
    "start_time": "2025-03-02T13:26:27.209Z"
   },
   {
    "duration": 8,
    "start_time": "2025-03-02T13:26:27.222Z"
   },
   {
    "duration": 17,
    "start_time": "2025-03-02T13:26:27.232Z"
   },
   {
    "duration": 25,
    "start_time": "2025-03-02T13:26:27.251Z"
   },
   {
    "duration": 11,
    "start_time": "2025-03-02T13:26:27.277Z"
   },
   {
    "duration": 1313,
    "start_time": "2025-03-02T13:26:27.289Z"
   },
   {
    "duration": 4,
    "start_time": "2025-03-02T13:26:28.604Z"
   },
   {
    "duration": 11,
    "start_time": "2025-03-02T13:26:28.609Z"
   },
   {
    "duration": 625,
    "start_time": "2025-03-02T13:26:28.622Z"
   },
   {
    "duration": 372,
    "start_time": "2025-03-02T13:26:29.248Z"
   },
   {
    "duration": 167,
    "start_time": "2025-03-02T13:26:29.621Z"
   },
   {
    "duration": 172,
    "start_time": "2025-03-02T13:26:29.790Z"
   },
   {
    "duration": 554,
    "start_time": "2025-03-02T13:26:29.964Z"
   },
   {
    "duration": 8,
    "start_time": "2025-03-02T13:26:30.520Z"
   },
   {
    "duration": 35,
    "start_time": "2025-03-02T13:26:30.529Z"
   },
   {
    "duration": 32,
    "start_time": "2025-03-02T13:26:30.566Z"
   },
   {
    "duration": 25,
    "start_time": "2025-03-02T13:26:30.600Z"
   },
   {
    "duration": 43,
    "start_time": "2025-03-02T13:26:30.627Z"
   },
   {
    "duration": 8,
    "start_time": "2025-03-02T13:26:57.070Z"
   },
   {
    "duration": 1689,
    "start_time": "2025-03-02T13:45:09.872Z"
   },
   {
    "duration": 0,
    "start_time": "2025-03-02T13:45:11.564Z"
   },
   {
    "duration": 0,
    "start_time": "2025-03-02T13:45:11.565Z"
   },
   {
    "duration": 0,
    "start_time": "2025-03-02T13:45:11.567Z"
   },
   {
    "duration": 0,
    "start_time": "2025-03-02T13:45:11.568Z"
   },
   {
    "duration": 0,
    "start_time": "2025-03-02T13:45:11.569Z"
   },
   {
    "duration": 0,
    "start_time": "2025-03-02T13:45:11.571Z"
   },
   {
    "duration": 0,
    "start_time": "2025-03-02T13:45:11.572Z"
   },
   {
    "duration": 0,
    "start_time": "2025-03-02T13:45:11.574Z"
   },
   {
    "duration": 0,
    "start_time": "2025-03-02T13:45:11.575Z"
   },
   {
    "duration": 0,
    "start_time": "2025-03-02T13:45:11.577Z"
   },
   {
    "duration": 0,
    "start_time": "2025-03-02T13:45:11.578Z"
   },
   {
    "duration": 0,
    "start_time": "2025-03-02T13:45:11.579Z"
   },
   {
    "duration": 0,
    "start_time": "2025-03-02T13:45:11.581Z"
   },
   {
    "duration": 0,
    "start_time": "2025-03-02T13:45:11.582Z"
   },
   {
    "duration": 0,
    "start_time": "2025-03-02T13:45:11.584Z"
   },
   {
    "duration": 0,
    "start_time": "2025-03-02T13:45:11.585Z"
   },
   {
    "duration": 0,
    "start_time": "2025-03-02T13:45:11.586Z"
   },
   {
    "duration": 0,
    "start_time": "2025-03-02T13:45:11.587Z"
   },
   {
    "duration": 0,
    "start_time": "2025-03-02T13:45:11.589Z"
   },
   {
    "duration": 0,
    "start_time": "2025-03-02T13:45:11.590Z"
   },
   {
    "duration": 0,
    "start_time": "2025-03-02T13:45:11.591Z"
   },
   {
    "duration": 0,
    "start_time": "2025-03-02T13:45:11.593Z"
   },
   {
    "duration": 0,
    "start_time": "2025-03-02T13:45:11.594Z"
   },
   {
    "duration": 0,
    "start_time": "2025-03-02T13:45:11.595Z"
   },
   {
    "duration": 0,
    "start_time": "2025-03-02T13:45:11.597Z"
   },
   {
    "duration": 0,
    "start_time": "2025-03-02T13:45:11.598Z"
   },
   {
    "duration": 0,
    "start_time": "2025-03-02T13:45:11.600Z"
   },
   {
    "duration": 0,
    "start_time": "2025-03-02T13:45:11.601Z"
   },
   {
    "duration": 0,
    "start_time": "2025-03-02T13:45:11.602Z"
   },
   {
    "duration": 0,
    "start_time": "2025-03-02T13:45:11.603Z"
   },
   {
    "duration": 0,
    "start_time": "2025-03-02T13:45:11.604Z"
   },
   {
    "duration": 0,
    "start_time": "2025-03-02T13:45:11.605Z"
   },
   {
    "duration": 0,
    "start_time": "2025-03-02T13:45:11.662Z"
   },
   {
    "duration": 0,
    "start_time": "2025-03-02T13:45:11.663Z"
   },
   {
    "duration": 0,
    "start_time": "2025-03-02T13:45:11.664Z"
   },
   {
    "duration": 3,
    "start_time": "2025-03-02T13:45:37.794Z"
   },
   {
    "duration": 1468,
    "start_time": "2025-03-02T13:45:44.703Z"
   },
   {
    "duration": 16,
    "start_time": "2025-03-02T13:45:46.173Z"
   },
   {
    "duration": 6,
    "start_time": "2025-03-02T13:45:46.191Z"
   },
   {
    "duration": 5,
    "start_time": "2025-03-02T13:45:46.198Z"
   },
   {
    "duration": 39,
    "start_time": "2025-03-02T13:45:46.205Z"
   },
   {
    "duration": 17,
    "start_time": "2025-03-02T13:45:46.246Z"
   },
   {
    "duration": 17,
    "start_time": "2025-03-02T13:45:46.265Z"
   },
   {
    "duration": 7,
    "start_time": "2025-03-02T13:45:46.283Z"
   },
   {
    "duration": 132,
    "start_time": "2025-03-02T13:45:46.291Z"
   },
   {
    "duration": 19,
    "start_time": "2025-03-02T13:45:46.425Z"
   },
   {
    "duration": 20,
    "start_time": "2025-03-02T13:45:46.446Z"
   },
   {
    "duration": 25,
    "start_time": "2025-03-02T13:45:46.468Z"
   },
   {
    "duration": 5,
    "start_time": "2025-03-02T13:45:46.494Z"
   },
   {
    "duration": 8,
    "start_time": "2025-03-02T13:45:46.501Z"
   },
   {
    "duration": 14,
    "start_time": "2025-03-02T13:45:46.511Z"
   },
   {
    "duration": 7,
    "start_time": "2025-03-02T13:45:46.526Z"
   },
   {
    "duration": 5,
    "start_time": "2025-03-02T13:45:46.535Z"
   },
   {
    "duration": 8,
    "start_time": "2025-03-02T13:45:46.541Z"
   },
   {
    "duration": 1267,
    "start_time": "2025-03-02T13:45:46.550Z"
   },
   {
    "duration": 5,
    "start_time": "2025-03-02T13:45:47.818Z"
   },
   {
    "duration": 23,
    "start_time": "2025-03-02T13:45:47.824Z"
   },
   {
    "duration": 571,
    "start_time": "2025-03-02T13:45:47.849Z"
   },
   {
    "duration": 334,
    "start_time": "2025-03-02T13:45:48.421Z"
   },
   {
    "duration": 138,
    "start_time": "2025-03-02T13:45:48.756Z"
   },
   {
    "duration": 158,
    "start_time": "2025-03-02T13:45:48.895Z"
   },
   {
    "duration": 526,
    "start_time": "2025-03-02T13:45:49.055Z"
   },
   {
    "duration": 10,
    "start_time": "2025-03-02T13:45:49.583Z"
   },
   {
    "duration": 4,
    "start_time": "2025-03-02T13:45:49.595Z"
   },
   {
    "duration": 22,
    "start_time": "2025-03-02T13:45:49.600Z"
   },
   {
    "duration": 22,
    "start_time": "2025-03-02T13:45:49.624Z"
   },
   {
    "duration": 4,
    "start_time": "2025-03-02T13:45:49.648Z"
   },
   {
    "duration": 31,
    "start_time": "2025-03-02T13:45:49.654Z"
   },
   {
    "duration": 28,
    "start_time": "2025-03-02T13:45:49.686Z"
   },
   {
    "duration": 23,
    "start_time": "2025-03-02T13:45:49.716Z"
   },
   {
    "duration": 130,
    "start_time": "2025-03-02T13:45:49.741Z"
   },
   {
    "duration": 0,
    "start_time": "2025-03-02T13:45:49.872Z"
   },
   {
    "duration": 6,
    "start_time": "2025-03-02T13:46:14.242Z"
   },
   {
    "duration": 1511,
    "start_time": "2025-03-02T13:46:21.729Z"
   },
   {
    "duration": 16,
    "start_time": "2025-03-02T13:46:23.242Z"
   },
   {
    "duration": 6,
    "start_time": "2025-03-02T13:46:23.260Z"
   },
   {
    "duration": 6,
    "start_time": "2025-03-02T13:46:23.268Z"
   },
   {
    "duration": 44,
    "start_time": "2025-03-02T13:46:23.275Z"
   },
   {
    "duration": 14,
    "start_time": "2025-03-02T13:46:23.321Z"
   },
   {
    "duration": 32,
    "start_time": "2025-03-02T13:46:23.336Z"
   },
   {
    "duration": 4,
    "start_time": "2025-03-02T13:46:23.369Z"
   },
   {
    "duration": 135,
    "start_time": "2025-03-02T13:46:23.374Z"
   },
   {
    "duration": 21,
    "start_time": "2025-03-02T13:46:23.511Z"
   },
   {
    "duration": 34,
    "start_time": "2025-03-02T13:46:23.534Z"
   },
   {
    "duration": 10,
    "start_time": "2025-03-02T13:46:23.569Z"
   },
   {
    "duration": 13,
    "start_time": "2025-03-02T13:46:23.580Z"
   },
   {
    "duration": 10,
    "start_time": "2025-03-02T13:46:23.595Z"
   },
   {
    "duration": 7,
    "start_time": "2025-03-02T13:46:23.607Z"
   },
   {
    "duration": 18,
    "start_time": "2025-03-02T13:46:23.615Z"
   },
   {
    "duration": 6,
    "start_time": "2025-03-02T13:46:23.634Z"
   },
   {
    "duration": 7,
    "start_time": "2025-03-02T13:46:23.642Z"
   },
   {
    "duration": 1219,
    "start_time": "2025-03-02T13:46:23.650Z"
   },
   {
    "duration": 5,
    "start_time": "2025-03-02T13:46:24.871Z"
   },
   {
    "duration": 64,
    "start_time": "2025-03-02T13:46:24.877Z"
   },
   {
    "duration": 576,
    "start_time": "2025-03-02T13:46:24.943Z"
   },
   {
    "duration": 360,
    "start_time": "2025-03-02T13:46:25.521Z"
   },
   {
    "duration": 140,
    "start_time": "2025-03-02T13:46:25.883Z"
   },
   {
    "duration": 166,
    "start_time": "2025-03-02T13:46:26.024Z"
   },
   {
    "duration": 506,
    "start_time": "2025-03-02T13:46:26.192Z"
   },
   {
    "duration": 8,
    "start_time": "2025-03-02T13:46:26.700Z"
   },
   {
    "duration": 3,
    "start_time": "2025-03-02T13:46:26.711Z"
   },
   {
    "duration": 10,
    "start_time": "2025-03-02T13:46:26.715Z"
   },
   {
    "duration": 25,
    "start_time": "2025-03-02T13:46:26.726Z"
   },
   {
    "duration": 21,
    "start_time": "2025-03-02T13:46:26.753Z"
   },
   {
    "duration": 23,
    "start_time": "2025-03-02T13:46:26.775Z"
   },
   {
    "duration": 11,
    "start_time": "2025-03-02T13:46:26.800Z"
   },
   {
    "duration": 4,
    "start_time": "2025-03-02T13:46:26.813Z"
   },
   {
    "duration": 135,
    "start_time": "2025-03-02T13:46:26.819Z"
   },
   {
    "duration": 0,
    "start_time": "2025-03-02T13:46:26.957Z"
   },
   {
    "duration": 1381,
    "start_time": "2025-03-02T13:47:54.539Z"
   },
   {
    "duration": 1395,
    "start_time": "2025-03-02T13:48:15.180Z"
   },
   {
    "duration": 30,
    "start_time": "2025-03-02T13:49:50.250Z"
   },
   {
    "duration": 14,
    "start_time": "2025-03-02T13:52:45.113Z"
   },
   {
    "duration": 16,
    "start_time": "2025-03-02T13:56:39.927Z"
   },
   {
    "duration": 16,
    "start_time": "2025-03-02T13:57:06.395Z"
   },
   {
    "duration": 1447,
    "start_time": "2025-03-02T13:58:13.592Z"
   },
   {
    "duration": 17,
    "start_time": "2025-03-02T13:58:15.042Z"
   },
   {
    "duration": 13,
    "start_time": "2025-03-02T13:58:15.061Z"
   },
   {
    "duration": 19,
    "start_time": "2025-03-02T13:58:15.076Z"
   },
   {
    "duration": 56,
    "start_time": "2025-03-02T13:58:15.097Z"
   },
   {
    "duration": 29,
    "start_time": "2025-03-02T13:58:15.155Z"
   },
   {
    "duration": 43,
    "start_time": "2025-03-02T13:58:15.186Z"
   },
   {
    "duration": 20,
    "start_time": "2025-03-02T13:58:15.231Z"
   },
   {
    "duration": 202,
    "start_time": "2025-03-02T13:58:15.253Z"
   },
   {
    "duration": 21,
    "start_time": "2025-03-02T13:58:15.457Z"
   },
   {
    "duration": 7,
    "start_time": "2025-03-02T13:58:15.480Z"
   },
   {
    "duration": 10,
    "start_time": "2025-03-02T13:58:15.488Z"
   },
   {
    "duration": 8,
    "start_time": "2025-03-02T13:58:15.499Z"
   },
   {
    "duration": 18,
    "start_time": "2025-03-02T13:58:15.509Z"
   },
   {
    "duration": 19,
    "start_time": "2025-03-02T13:58:15.528Z"
   },
   {
    "duration": 14,
    "start_time": "2025-03-02T13:58:15.549Z"
   },
   {
    "duration": 5,
    "start_time": "2025-03-02T13:58:15.565Z"
   },
   {
    "duration": 10,
    "start_time": "2025-03-02T13:58:15.571Z"
   },
   {
    "duration": 1238,
    "start_time": "2025-03-02T13:58:15.582Z"
   },
   {
    "duration": 5,
    "start_time": "2025-03-02T13:58:16.822Z"
   },
   {
    "duration": 39,
    "start_time": "2025-03-02T13:58:16.828Z"
   },
   {
    "duration": 627,
    "start_time": "2025-03-02T13:58:16.869Z"
   },
   {
    "duration": 349,
    "start_time": "2025-03-02T13:58:17.498Z"
   },
   {
    "duration": 140,
    "start_time": "2025-03-02T13:58:17.848Z"
   },
   {
    "duration": 152,
    "start_time": "2025-03-02T13:58:17.990Z"
   },
   {
    "duration": 518,
    "start_time": "2025-03-02T13:58:18.144Z"
   },
   {
    "duration": 8,
    "start_time": "2025-03-02T13:58:18.663Z"
   },
   {
    "duration": 3,
    "start_time": "2025-03-02T13:58:18.673Z"
   },
   {
    "duration": 6,
    "start_time": "2025-03-02T13:58:18.677Z"
   },
   {
    "duration": 8,
    "start_time": "2025-03-02T13:58:18.684Z"
   },
   {
    "duration": 36,
    "start_time": "2025-03-02T13:58:18.693Z"
   },
   {
    "duration": 1622,
    "start_time": "2025-03-02T14:27:23.959Z"
   },
   {
    "duration": 28,
    "start_time": "2025-03-02T14:27:25.583Z"
   },
   {
    "duration": 6,
    "start_time": "2025-03-02T14:27:25.613Z"
   },
   {
    "duration": 38,
    "start_time": "2025-03-02T14:27:25.620Z"
   },
   {
    "duration": 18,
    "start_time": "2025-03-02T14:27:25.660Z"
   },
   {
    "duration": 17,
    "start_time": "2025-03-02T14:27:25.679Z"
   },
   {
    "duration": 46,
    "start_time": "2025-03-02T14:27:25.699Z"
   },
   {
    "duration": 6,
    "start_time": "2025-03-02T14:27:25.747Z"
   },
   {
    "duration": 150,
    "start_time": "2025-03-02T14:27:25.755Z"
   },
   {
    "duration": 18,
    "start_time": "2025-03-02T14:27:25.907Z"
   },
   {
    "duration": 8,
    "start_time": "2025-03-02T14:27:25.926Z"
   },
   {
    "duration": 35,
    "start_time": "2025-03-02T14:27:25.935Z"
   },
   {
    "duration": 7,
    "start_time": "2025-03-02T14:27:25.973Z"
   },
   {
    "duration": 21,
    "start_time": "2025-03-02T14:27:25.982Z"
   },
   {
    "duration": 10,
    "start_time": "2025-03-02T14:27:26.004Z"
   },
   {
    "duration": 7,
    "start_time": "2025-03-02T14:27:26.015Z"
   },
   {
    "duration": 15,
    "start_time": "2025-03-02T14:27:26.023Z"
   },
   {
    "duration": 10,
    "start_time": "2025-03-02T14:27:26.039Z"
   },
   {
    "duration": 1325,
    "start_time": "2025-03-02T14:27:26.050Z"
   },
   {
    "duration": 5,
    "start_time": "2025-03-02T14:27:27.377Z"
   },
   {
    "duration": 15,
    "start_time": "2025-03-02T14:27:27.383Z"
   },
   {
    "duration": 622,
    "start_time": "2025-03-02T14:27:27.399Z"
   },
   {
    "duration": 361,
    "start_time": "2025-03-02T14:27:28.022Z"
   },
   {
    "duration": 148,
    "start_time": "2025-03-02T14:27:28.384Z"
   },
   {
    "duration": 169,
    "start_time": "2025-03-02T14:27:28.533Z"
   },
   {
    "duration": 537,
    "start_time": "2025-03-02T14:27:28.703Z"
   },
   {
    "duration": 9,
    "start_time": "2025-03-02T14:27:29.242Z"
   },
   {
    "duration": 12,
    "start_time": "2025-03-02T14:27:29.253Z"
   },
   {
    "duration": 9,
    "start_time": "2025-03-02T14:27:29.268Z"
   },
   {
    "duration": 28,
    "start_time": "2025-03-02T14:27:29.279Z"
   },
   {
    "duration": 27,
    "start_time": "2025-03-02T14:27:29.309Z"
   },
   {
    "duration": 46,
    "start_time": "2025-03-02T14:27:29.338Z"
   },
   {
    "duration": 40,
    "start_time": "2025-03-02T14:27:29.385Z"
   },
   {
    "duration": 17,
    "start_time": "2025-03-02T14:27:29.427Z"
   },
   {
    "duration": 42,
    "start_time": "2025-03-02T14:27:29.446Z"
   },
   {
    "duration": 5,
    "start_time": "2025-03-02T14:27:51.326Z"
   },
   {
    "duration": 4,
    "start_time": "2025-03-02T14:28:02.496Z"
   },
   {
    "duration": 128,
    "start_time": "2025-03-02T14:28:17.574Z"
   },
   {
    "duration": 10,
    "start_time": "2025-03-02T14:28:34.572Z"
   },
   {
    "duration": 12,
    "start_time": "2025-03-02T14:29:05.595Z"
   },
   {
    "duration": 461,
    "start_time": "2025-03-02T14:29:47.050Z"
   },
   {
    "duration": 2103,
    "start_time": "2025-03-02T14:29:55.919Z"
   },
   {
    "duration": 18,
    "start_time": "2025-03-02T14:29:58.024Z"
   },
   {
    "duration": 8,
    "start_time": "2025-03-02T14:29:58.044Z"
   },
   {
    "duration": 5,
    "start_time": "2025-03-02T14:29:58.054Z"
   },
   {
    "duration": 4,
    "start_time": "2025-03-02T14:29:58.071Z"
   },
   {
    "duration": 9,
    "start_time": "2025-03-02T14:29:58.077Z"
   },
   {
    "duration": 37,
    "start_time": "2025-03-02T14:29:58.087Z"
   },
   {
    "duration": 18,
    "start_time": "2025-03-02T14:29:58.125Z"
   },
   {
    "duration": 67,
    "start_time": "2025-03-02T14:29:58.145Z"
   },
   {
    "duration": 22,
    "start_time": "2025-03-02T14:29:58.213Z"
   },
   {
    "duration": 25,
    "start_time": "2025-03-02T14:29:58.236Z"
   },
   {
    "duration": 124,
    "start_time": "2025-03-02T14:29:58.274Z"
   },
   {
    "duration": 18,
    "start_time": "2025-03-02T14:29:58.400Z"
   },
   {
    "duration": 9,
    "start_time": "2025-03-02T14:29:58.421Z"
   },
   {
    "duration": 5,
    "start_time": "2025-03-02T14:29:58.432Z"
   },
   {
    "duration": 42,
    "start_time": "2025-03-02T14:29:58.438Z"
   },
   {
    "duration": 10,
    "start_time": "2025-03-02T14:29:58.482Z"
   },
   {
    "duration": 11,
    "start_time": "2025-03-02T14:29:58.494Z"
   },
   {
    "duration": 1327,
    "start_time": "2025-03-02T14:29:58.507Z"
   },
   {
    "duration": 5,
    "start_time": "2025-03-02T14:29:59.835Z"
   },
   {
    "duration": 13,
    "start_time": "2025-03-02T14:29:59.842Z"
   },
   {
    "duration": 780,
    "start_time": "2025-03-02T14:29:59.861Z"
   },
   {
    "duration": 359,
    "start_time": "2025-03-02T14:30:00.642Z"
   },
   {
    "duration": 153,
    "start_time": "2025-03-02T14:30:01.003Z"
   },
   {
    "duration": 152,
    "start_time": "2025-03-02T14:30:01.171Z"
   },
   {
    "duration": 581,
    "start_time": "2025-03-02T14:30:01.325Z"
   },
   {
    "duration": 8,
    "start_time": "2025-03-02T14:30:01.908Z"
   },
   {
    "duration": 138,
    "start_time": "2025-03-02T14:30:01.918Z"
   },
   {
    "duration": 90,
    "start_time": "2025-03-02T14:30:02.058Z"
   },
   {
    "duration": 94,
    "start_time": "2025-03-02T14:30:02.149Z"
   },
   {
    "duration": 78,
    "start_time": "2025-03-02T14:30:02.245Z"
   },
   {
    "duration": 126,
    "start_time": "2025-03-02T14:30:02.325Z"
   },
   {
    "duration": 83,
    "start_time": "2025-03-02T14:30:02.453Z"
   },
   {
    "duration": 11,
    "start_time": "2025-03-02T14:30:02.538Z"
   },
   {
    "duration": 297,
    "start_time": "2025-03-02T14:30:02.551Z"
   },
   {
    "duration": 272,
    "start_time": "2025-03-02T14:30:02.849Z"
   },
   {
    "duration": 7,
    "start_time": "2025-03-02T14:31:23.374Z"
   },
   {
    "duration": 5,
    "start_time": "2025-03-02T14:38:51.238Z"
   },
   {
    "duration": 164,
    "start_time": "2025-03-02T14:40:29.615Z"
   },
   {
    "duration": 6,
    "start_time": "2025-03-02T14:41:06.930Z"
   },
   {
    "duration": 6,
    "start_time": "2025-03-02T14:41:14.143Z"
   },
   {
    "duration": 6,
    "start_time": "2025-03-02T14:41:28.900Z"
   },
   {
    "duration": 2,
    "start_time": "2025-03-02T14:42:39.691Z"
   },
   {
    "duration": 6,
    "start_time": "2025-03-02T14:42:51.119Z"
   },
   {
    "duration": 5,
    "start_time": "2025-03-02T14:43:02.411Z"
   },
   {
    "duration": 11,
    "start_time": "2025-03-02T14:44:26.983Z"
   },
   {
    "duration": 7,
    "start_time": "2025-03-02T14:44:50.383Z"
   },
   {
    "duration": 3,
    "start_time": "2025-03-02T14:44:58.569Z"
   },
   {
    "duration": 11,
    "start_time": "2025-03-02T14:45:42.605Z"
   },
   {
    "duration": 9,
    "start_time": "2025-03-02T14:46:07.693Z"
   },
   {
    "duration": 5,
    "start_time": "2025-03-02T14:46:14.367Z"
   },
   {
    "duration": 3,
    "start_time": "2025-03-02T14:46:26.842Z"
   },
   {
    "duration": 2,
    "start_time": "2025-03-02T14:46:35.616Z"
   },
   {
    "duration": 3,
    "start_time": "2025-03-02T14:46:46.704Z"
   },
   {
    "duration": 16,
    "start_time": "2025-03-02T14:46:56.483Z"
   },
   {
    "duration": 4,
    "start_time": "2025-03-02T14:47:04.045Z"
   },
   {
    "duration": 6,
    "start_time": "2025-03-02T14:47:21.632Z"
   },
   {
    "duration": 4,
    "start_time": "2025-03-02T14:47:30.374Z"
   },
   {
    "duration": 9,
    "start_time": "2025-03-02T14:47:39.660Z"
   },
   {
    "duration": 5,
    "start_time": "2025-03-02T14:47:55.492Z"
   },
   {
    "duration": 10,
    "start_time": "2025-03-02T14:48:09.767Z"
   },
   {
    "duration": 250444,
    "start_time": "2025-03-02T14:48:23.946Z"
   },
   {
    "duration": 2043,
    "start_time": "2025-03-02T14:55:57.533Z"
   },
   {
    "duration": 17,
    "start_time": "2025-03-02T14:55:59.578Z"
   },
   {
    "duration": 2,
    "start_time": "2025-03-02T14:55:59.597Z"
   },
   {
    "duration": 22,
    "start_time": "2025-03-02T14:55:59.601Z"
   },
   {
    "duration": 11,
    "start_time": "2025-03-02T14:55:59.626Z"
   },
   {
    "duration": 30,
    "start_time": "2025-03-02T14:55:59.639Z"
   },
   {
    "duration": 45,
    "start_time": "2025-03-02T14:55:59.674Z"
   },
   {
    "duration": 98,
    "start_time": "2025-03-02T14:55:59.721Z"
   },
   {
    "duration": 19,
    "start_time": "2025-03-02T14:55:59.821Z"
   },
   {
    "duration": 85,
    "start_time": "2025-03-02T14:55:59.841Z"
   },
   {
    "duration": 20,
    "start_time": "2025-03-02T14:55:59.928Z"
   },
   {
    "duration": 8,
    "start_time": "2025-03-02T14:55:59.950Z"
   },
   {
    "duration": 17,
    "start_time": "2025-03-02T14:55:59.975Z"
   },
   {
    "duration": 4,
    "start_time": "2025-03-02T14:55:59.995Z"
   },
   {
    "duration": 9,
    "start_time": "2025-03-02T14:56:00.001Z"
   },
   {
    "duration": 74,
    "start_time": "2025-03-02T14:56:00.012Z"
   },
   {
    "duration": 100,
    "start_time": "2025-03-02T14:56:00.088Z"
   },
   {
    "duration": 125,
    "start_time": "2025-03-02T14:56:00.190Z"
   },
   {
    "duration": 145,
    "start_time": "2025-03-02T14:56:00.317Z"
   },
   {
    "duration": 1409,
    "start_time": "2025-03-02T14:56:00.465Z"
   },
   {
    "duration": 6,
    "start_time": "2025-03-02T14:56:01.876Z"
   },
   {
    "duration": 95,
    "start_time": "2025-03-02T14:56:01.883Z"
   },
   {
    "duration": 852,
    "start_time": "2025-03-02T14:56:01.980Z"
   },
   {
    "duration": 360,
    "start_time": "2025-03-02T14:56:02.833Z"
   },
   {
    "duration": 153,
    "start_time": "2025-03-02T14:56:03.195Z"
   },
   {
    "duration": 165,
    "start_time": "2025-03-02T14:56:03.349Z"
   },
   {
    "duration": 584,
    "start_time": "2025-03-02T14:56:03.516Z"
   },
   {
    "duration": 8,
    "start_time": "2025-03-02T14:56:04.102Z"
   },
   {
    "duration": 33,
    "start_time": "2025-03-02T14:56:04.112Z"
   },
   {
    "duration": 11,
    "start_time": "2025-03-02T14:56:04.147Z"
   },
   {
    "duration": 19,
    "start_time": "2025-03-02T14:56:04.160Z"
   },
   {
    "duration": 8,
    "start_time": "2025-03-02T14:56:04.180Z"
   },
   {
    "duration": 33,
    "start_time": "2025-03-02T14:56:04.189Z"
   },
   {
    "duration": 11,
    "start_time": "2025-03-02T14:56:04.224Z"
   },
   {
    "duration": 11,
    "start_time": "2025-03-02T14:56:04.236Z"
   },
   {
    "duration": 13,
    "start_time": "2025-03-02T14:56:04.249Z"
   },
   {
    "duration": 3,
    "start_time": "2025-03-02T14:56:04.273Z"
   },
   {
    "duration": 8,
    "start_time": "2025-03-02T14:56:04.277Z"
   },
   {
    "duration": 42,
    "start_time": "2025-03-02T14:56:04.286Z"
   },
   {
    "duration": 8,
    "start_time": "2025-03-02T14:56:04.330Z"
   },
   {
    "duration": 31,
    "start_time": "2025-03-02T14:56:04.343Z"
   },
   {
    "duration": 9,
    "start_time": "2025-03-02T14:56:04.376Z"
   },
   {
    "duration": 15,
    "start_time": "2025-03-02T14:56:04.387Z"
   },
   {
    "duration": 121,
    "start_time": "2025-03-02T14:56:04.404Z"
   },
   {
    "duration": 65,
    "start_time": "2025-03-02T14:56:04.527Z"
   },
   {
    "duration": 236088,
    "start_time": "2025-03-02T14:56:04.593Z"
   },
   {
    "duration": 2,
    "start_time": "2025-03-02T15:00:00.685Z"
   },
   {
    "duration": 48,
    "start_time": "2025-03-02T15:00:00.689Z"
   },
   {
    "duration": 35,
    "start_time": "2025-03-02T15:00:00.739Z"
   },
   {
    "duration": 127,
    "start_time": "2025-03-02T15:00:00.776Z"
   },
   {
    "duration": 60,
    "start_time": "2025-03-02T15:00:00.904Z"
   },
   {
    "duration": 6,
    "start_time": "2025-03-02T15:12:15.877Z"
   },
   {
    "duration": 2096,
    "start_time": "2025-03-02T15:15:35.372Z"
   },
   {
    "duration": 31,
    "start_time": "2025-03-02T15:15:37.470Z"
   },
   {
    "duration": 35,
    "start_time": "2025-03-02T15:15:37.503Z"
   },
   {
    "duration": 48,
    "start_time": "2025-03-02T15:15:37.539Z"
   },
   {
    "duration": 14,
    "start_time": "2025-03-02T15:15:37.589Z"
   },
   {
    "duration": 29,
    "start_time": "2025-03-02T15:15:37.604Z"
   },
   {
    "duration": 13,
    "start_time": "2025-03-02T15:15:37.634Z"
   },
   {
    "duration": 30,
    "start_time": "2025-03-02T15:15:37.649Z"
   },
   {
    "duration": 4,
    "start_time": "2025-03-02T15:15:37.681Z"
   },
   {
    "duration": 114,
    "start_time": "2025-03-02T15:15:37.686Z"
   },
   {
    "duration": 23,
    "start_time": "2025-03-02T15:15:37.802Z"
   },
   {
    "duration": 59,
    "start_time": "2025-03-02T15:15:37.827Z"
   },
   {
    "duration": 28,
    "start_time": "2025-03-02T15:15:37.887Z"
   },
   {
    "duration": 28,
    "start_time": "2025-03-02T15:15:37.918Z"
   },
   {
    "duration": 61,
    "start_time": "2025-03-02T15:15:37.948Z"
   },
   {
    "duration": 94,
    "start_time": "2025-03-02T15:15:38.010Z"
   },
   {
    "duration": 23,
    "start_time": "2025-03-02T15:15:38.105Z"
   },
   {
    "duration": 24,
    "start_time": "2025-03-02T15:15:38.130Z"
   },
   {
    "duration": 35,
    "start_time": "2025-03-02T15:15:38.156Z"
   },
   {
    "duration": 1353,
    "start_time": "2025-03-02T15:15:38.193Z"
   },
   {
    "duration": 5,
    "start_time": "2025-03-02T15:15:39.547Z"
   },
   {
    "duration": 90,
    "start_time": "2025-03-02T15:15:39.553Z"
   },
   {
    "duration": 804,
    "start_time": "2025-03-02T15:15:39.645Z"
   },
   {
    "duration": 354,
    "start_time": "2025-03-02T15:15:40.451Z"
   },
   {
    "duration": 156,
    "start_time": "2025-03-02T15:15:40.806Z"
   },
   {
    "duration": 159,
    "start_time": "2025-03-02T15:15:40.966Z"
   },
   {
    "duration": 558,
    "start_time": "2025-03-02T15:15:41.127Z"
   },
   {
    "duration": 8,
    "start_time": "2025-03-02T15:15:41.687Z"
   },
   {
    "duration": 8,
    "start_time": "2025-03-02T15:15:41.696Z"
   },
   {
    "duration": 13,
    "start_time": "2025-03-02T15:15:41.705Z"
   },
   {
    "duration": 63,
    "start_time": "2025-03-02T15:15:41.719Z"
   },
   {
    "duration": 7,
    "start_time": "2025-03-02T15:15:41.783Z"
   },
   {
    "duration": 7,
    "start_time": "2025-03-02T15:15:41.791Z"
   },
   {
    "duration": 42,
    "start_time": "2025-03-02T15:15:41.799Z"
   },
   {
    "duration": 95,
    "start_time": "2025-03-02T15:15:41.842Z"
   },
   {
    "duration": 20,
    "start_time": "2025-03-02T15:15:41.939Z"
   },
   {
    "duration": 12,
    "start_time": "2025-03-02T15:15:41.961Z"
   },
   {
    "duration": 31,
    "start_time": "2025-03-02T15:15:41.975Z"
   },
   {
    "duration": 15,
    "start_time": "2025-03-02T15:15:42.008Z"
   },
   {
    "duration": 3,
    "start_time": "2025-03-02T15:15:42.025Z"
   },
   {
    "duration": 14,
    "start_time": "2025-03-02T15:15:42.032Z"
   },
   {
    "duration": 9,
    "start_time": "2025-03-02T15:15:42.047Z"
   },
   {
    "duration": 23,
    "start_time": "2025-03-02T15:15:42.057Z"
   },
   {
    "duration": 28,
    "start_time": "2025-03-02T15:15:42.082Z"
   },
   {
    "duration": 34,
    "start_time": "2025-03-02T15:15:42.111Z"
   },
   {
    "duration": 15,
    "start_time": "2025-03-02T15:15:42.146Z"
   },
   {
    "duration": 24,
    "start_time": "2025-03-02T15:15:42.163Z"
   },
   {
    "duration": 0,
    "start_time": "2025-03-02T15:15:42.189Z"
   },
   {
    "duration": 0,
    "start_time": "2025-03-02T15:15:42.190Z"
   },
   {
    "duration": 0,
    "start_time": "2025-03-02T15:15:42.191Z"
   },
   {
    "duration": 0,
    "start_time": "2025-03-02T15:15:42.192Z"
   },
   {
    "duration": 0,
    "start_time": "2025-03-02T15:15:42.193Z"
   },
   {
    "duration": 0,
    "start_time": "2025-03-02T15:15:42.194Z"
   },
   {
    "duration": 6,
    "start_time": "2025-03-02T15:17:02.422Z"
   },
   {
    "duration": 2107,
    "start_time": "2025-03-02T15:17:51.610Z"
   },
   {
    "duration": 28,
    "start_time": "2025-03-02T15:17:53.719Z"
   },
   {
    "duration": 2,
    "start_time": "2025-03-02T15:17:53.749Z"
   },
   {
    "duration": 32,
    "start_time": "2025-03-02T15:17:53.753Z"
   },
   {
    "duration": 14,
    "start_time": "2025-03-02T15:17:53.787Z"
   },
   {
    "duration": 26,
    "start_time": "2025-03-02T15:17:53.802Z"
   },
   {
    "duration": 7,
    "start_time": "2025-03-02T15:17:53.830Z"
   },
   {
    "duration": 20,
    "start_time": "2025-03-02T15:17:53.839Z"
   },
   {
    "duration": 9,
    "start_time": "2025-03-02T15:17:53.861Z"
   },
   {
    "duration": 68,
    "start_time": "2025-03-02T15:17:53.872Z"
   },
   {
    "duration": 23,
    "start_time": "2025-03-02T15:17:53.942Z"
   },
   {
    "duration": 9,
    "start_time": "2025-03-02T15:17:53.975Z"
   },
   {
    "duration": 42,
    "start_time": "2025-03-02T15:17:53.985Z"
   },
   {
    "duration": 18,
    "start_time": "2025-03-02T15:17:54.030Z"
   },
   {
    "duration": 40,
    "start_time": "2025-03-02T15:17:54.050Z"
   },
   {
    "duration": 33,
    "start_time": "2025-03-02T15:17:54.092Z"
   },
   {
    "duration": 7,
    "start_time": "2025-03-02T15:17:54.127Z"
   },
   {
    "duration": 17,
    "start_time": "2025-03-02T15:17:54.135Z"
   },
   {
    "duration": 22,
    "start_time": "2025-03-02T15:17:54.154Z"
   },
   {
    "duration": 1312,
    "start_time": "2025-03-02T15:17:54.178Z"
   },
   {
    "duration": 5,
    "start_time": "2025-03-02T15:17:55.492Z"
   },
   {
    "duration": 57,
    "start_time": "2025-03-02T15:17:55.499Z"
   },
   {
    "duration": 820,
    "start_time": "2025-03-02T15:17:55.558Z"
   },
   {
    "duration": 350,
    "start_time": "2025-03-02T15:17:56.380Z"
   },
   {
    "duration": 161,
    "start_time": "2025-03-02T15:17:56.732Z"
   },
   {
    "duration": 166,
    "start_time": "2025-03-02T15:17:56.895Z"
   },
   {
    "duration": 574,
    "start_time": "2025-03-02T15:17:57.066Z"
   },
   {
    "duration": 9,
    "start_time": "2025-03-02T15:17:57.641Z"
   },
   {
    "duration": 14,
    "start_time": "2025-03-02T15:17:57.651Z"
   },
   {
    "duration": 4,
    "start_time": "2025-03-02T15:17:57.668Z"
   },
   {
    "duration": 16,
    "start_time": "2025-03-02T15:17:57.673Z"
   },
   {
    "duration": 7,
    "start_time": "2025-03-02T15:17:57.690Z"
   },
   {
    "duration": 11,
    "start_time": "2025-03-02T15:17:57.699Z"
   },
   {
    "duration": 6,
    "start_time": "2025-03-02T15:17:57.712Z"
   },
   {
    "duration": 7,
    "start_time": "2025-03-02T15:17:57.719Z"
   },
   {
    "duration": 5,
    "start_time": "2025-03-02T15:17:57.728Z"
   },
   {
    "duration": 6,
    "start_time": "2025-03-02T15:17:57.734Z"
   },
   {
    "duration": 33,
    "start_time": "2025-03-02T15:17:57.741Z"
   },
   {
    "duration": 17,
    "start_time": "2025-03-02T15:17:57.776Z"
   },
   {
    "duration": 16,
    "start_time": "2025-03-02T15:17:57.795Z"
   },
   {
    "duration": 5,
    "start_time": "2025-03-02T15:17:57.815Z"
   },
   {
    "duration": 22,
    "start_time": "2025-03-02T15:17:57.821Z"
   },
   {
    "duration": 31,
    "start_time": "2025-03-02T15:17:57.844Z"
   },
   {
    "duration": 10,
    "start_time": "2025-03-02T15:17:57.877Z"
   },
   {
    "duration": 19,
    "start_time": "2025-03-02T15:17:57.889Z"
   },
   {
    "duration": 31,
    "start_time": "2025-03-02T15:17:57.909Z"
   },
   {
    "duration": 232938,
    "start_time": "2025-03-02T15:17:57.941Z"
   },
   {
    "duration": 0,
    "start_time": "2025-03-02T15:21:50.880Z"
   },
   {
    "duration": 0,
    "start_time": "2025-03-02T15:21:50.882Z"
   },
   {
    "duration": 0,
    "start_time": "2025-03-02T15:21:50.883Z"
   },
   {
    "duration": 0,
    "start_time": "2025-03-02T15:21:50.884Z"
   },
   {
    "duration": 0,
    "start_time": "2025-03-02T15:21:50.885Z"
   },
   {
    "duration": 0,
    "start_time": "2025-03-02T15:21:50.886Z"
   },
   {
    "duration": 2128,
    "start_time": "2025-03-02T15:22:52.553Z"
   },
   {
    "duration": 17,
    "start_time": "2025-03-02T15:22:54.683Z"
   },
   {
    "duration": 10,
    "start_time": "2025-03-02T15:22:54.701Z"
   },
   {
    "duration": 9,
    "start_time": "2025-03-02T15:22:54.713Z"
   },
   {
    "duration": 4,
    "start_time": "2025-03-02T15:22:54.724Z"
   },
   {
    "duration": 5,
    "start_time": "2025-03-02T15:22:54.729Z"
   },
   {
    "duration": 46,
    "start_time": "2025-03-02T15:22:54.736Z"
   },
   {
    "duration": 15,
    "start_time": "2025-03-02T15:22:54.784Z"
   },
   {
    "duration": 4,
    "start_time": "2025-03-02T15:22:54.800Z"
   },
   {
    "duration": 228,
    "start_time": "2025-03-02T15:22:54.806Z"
   },
   {
    "duration": 20,
    "start_time": "2025-03-02T15:22:55.035Z"
   },
   {
    "duration": 22,
    "start_time": "2025-03-02T15:22:55.057Z"
   },
   {
    "duration": 14,
    "start_time": "2025-03-02T15:22:55.081Z"
   },
   {
    "duration": 8,
    "start_time": "2025-03-02T15:22:55.096Z"
   },
   {
    "duration": 36,
    "start_time": "2025-03-02T15:22:55.105Z"
   },
   {
    "duration": 11,
    "start_time": "2025-03-02T15:22:55.143Z"
   },
   {
    "duration": 18,
    "start_time": "2025-03-02T15:22:55.156Z"
   },
   {
    "duration": 6,
    "start_time": "2025-03-02T15:22:55.176Z"
   },
   {
    "duration": 8,
    "start_time": "2025-03-02T15:22:55.183Z"
   },
   {
    "duration": 1359,
    "start_time": "2025-03-02T15:22:55.192Z"
   },
   {
    "duration": 10,
    "start_time": "2025-03-02T15:22:56.552Z"
   },
   {
    "duration": 117,
    "start_time": "2025-03-02T15:22:56.564Z"
   },
   {
    "duration": 748,
    "start_time": "2025-03-02T15:22:56.682Z"
   },
   {
    "duration": 368,
    "start_time": "2025-03-02T15:22:57.431Z"
   },
   {
    "duration": 148,
    "start_time": "2025-03-02T15:22:57.801Z"
   },
   {
    "duration": 167,
    "start_time": "2025-03-02T15:22:57.951Z"
   },
   {
    "duration": 579,
    "start_time": "2025-03-02T15:22:58.119Z"
   },
   {
    "duration": 8,
    "start_time": "2025-03-02T15:22:58.701Z"
   },
   {
    "duration": 10,
    "start_time": "2025-03-02T15:22:58.710Z"
   },
   {
    "duration": 8,
    "start_time": "2025-03-02T15:22:58.722Z"
   },
   {
    "duration": 14,
    "start_time": "2025-03-02T15:22:58.732Z"
   },
   {
    "duration": 31,
    "start_time": "2025-03-02T15:22:58.748Z"
   },
   {
    "duration": 16,
    "start_time": "2025-03-02T15:22:58.781Z"
   },
   {
    "duration": 198,
    "start_time": "2025-03-02T15:22:58.799Z"
   },
   {
    "duration": 7,
    "start_time": "2025-03-02T15:22:58.999Z"
   },
   {
    "duration": 7,
    "start_time": "2025-03-02T15:22:59.007Z"
   },
   {
    "duration": 22,
    "start_time": "2025-03-02T15:22:59.016Z"
   },
   {
    "duration": 3,
    "start_time": "2025-03-02T15:22:59.040Z"
   },
   {
    "duration": 40,
    "start_time": "2025-03-02T15:22:59.044Z"
   },
   {
    "duration": 93,
    "start_time": "2025-03-02T15:22:59.086Z"
   },
   {
    "duration": 207,
    "start_time": "2025-03-02T15:22:59.181Z"
   },
   {
    "duration": 13,
    "start_time": "2025-03-02T15:22:59.389Z"
   },
   {
    "duration": 13,
    "start_time": "2025-03-02T15:22:59.404Z"
   },
   {
    "duration": 12,
    "start_time": "2025-03-02T15:22:59.419Z"
   },
   {
    "duration": 43,
    "start_time": "2025-03-02T15:22:59.433Z"
   },
   {
    "duration": 44,
    "start_time": "2025-03-02T15:22:59.478Z"
   },
   {
    "duration": 556,
    "start_time": "2025-03-02T15:22:59.524Z"
   },
   {
    "duration": 0,
    "start_time": "2025-03-02T15:23:00.082Z"
   },
   {
    "duration": 0,
    "start_time": "2025-03-02T15:23:00.083Z"
   },
   {
    "duration": 0,
    "start_time": "2025-03-02T15:23:00.084Z"
   },
   {
    "duration": 0,
    "start_time": "2025-03-02T15:23:00.085Z"
   },
   {
    "duration": 0,
    "start_time": "2025-03-02T15:23:00.086Z"
   },
   {
    "duration": 0,
    "start_time": "2025-03-02T15:23:00.087Z"
   },
   {
    "duration": 2056,
    "start_time": "2025-03-02T15:27:54.792Z"
   },
   {
    "duration": 27,
    "start_time": "2025-03-02T15:27:56.850Z"
   },
   {
    "duration": 132,
    "start_time": "2025-03-02T15:27:56.879Z"
   },
   {
    "duration": 14,
    "start_time": "2025-03-02T15:27:57.013Z"
   },
   {
    "duration": 5,
    "start_time": "2025-03-02T15:27:57.029Z"
   },
   {
    "duration": 17,
    "start_time": "2025-03-02T15:27:57.035Z"
   },
   {
    "duration": 5,
    "start_time": "2025-03-02T15:27:57.054Z"
   },
   {
    "duration": 23,
    "start_time": "2025-03-02T15:27:57.060Z"
   },
   {
    "duration": 4,
    "start_time": "2025-03-02T15:27:57.084Z"
   },
   {
    "duration": 61,
    "start_time": "2025-03-02T15:27:57.090Z"
   },
   {
    "duration": 36,
    "start_time": "2025-03-02T15:27:57.152Z"
   },
   {
    "duration": 20,
    "start_time": "2025-03-02T15:27:57.189Z"
   },
   {
    "duration": 9,
    "start_time": "2025-03-02T15:27:57.210Z"
   },
   {
    "duration": 31,
    "start_time": "2025-03-02T15:27:57.221Z"
   },
   {
    "duration": 101,
    "start_time": "2025-03-02T15:27:57.253Z"
   },
   {
    "duration": 17,
    "start_time": "2025-03-02T15:27:57.356Z"
   },
   {
    "duration": 7,
    "start_time": "2025-03-02T15:27:57.375Z"
   },
   {
    "duration": 7,
    "start_time": "2025-03-02T15:27:57.383Z"
   },
   {
    "duration": 29,
    "start_time": "2025-03-02T15:27:57.391Z"
   },
   {
    "duration": 1337,
    "start_time": "2025-03-02T15:27:57.421Z"
   },
   {
    "duration": 9,
    "start_time": "2025-03-02T15:27:58.766Z"
   },
   {
    "duration": 18,
    "start_time": "2025-03-02T15:27:58.777Z"
   },
   {
    "duration": 733,
    "start_time": "2025-03-02T15:27:58.796Z"
   },
   {
    "duration": 343,
    "start_time": "2025-03-02T15:27:59.531Z"
   },
   {
    "duration": 149,
    "start_time": "2025-03-02T15:27:59.876Z"
   },
   {
    "duration": 171,
    "start_time": "2025-03-02T15:28:00.026Z"
   },
   {
    "duration": 547,
    "start_time": "2025-03-02T15:28:00.198Z"
   },
   {
    "duration": 28,
    "start_time": "2025-03-02T15:28:00.747Z"
   },
   {
    "duration": 217,
    "start_time": "2025-03-02T15:28:00.776Z"
   },
   {
    "duration": 121,
    "start_time": "2025-03-02T15:28:00.995Z"
   },
   {
    "duration": 261,
    "start_time": "2025-03-02T15:28:01.117Z"
   },
   {
    "duration": 27,
    "start_time": "2025-03-02T15:28:01.379Z"
   },
   {
    "duration": 18,
    "start_time": "2025-03-02T15:28:01.407Z"
   },
   {
    "duration": 16,
    "start_time": "2025-03-02T15:28:01.426Z"
   },
   {
    "duration": 19,
    "start_time": "2025-03-02T15:28:01.443Z"
   },
   {
    "duration": 16,
    "start_time": "2025-03-02T15:28:01.463Z"
   },
   {
    "duration": 35,
    "start_time": "2025-03-02T15:28:01.480Z"
   },
   {
    "duration": 21,
    "start_time": "2025-03-02T15:28:01.516Z"
   },
   {
    "duration": 21,
    "start_time": "2025-03-02T15:28:01.538Z"
   },
   {
    "duration": 16,
    "start_time": "2025-03-02T15:28:01.560Z"
   },
   {
    "duration": 35,
    "start_time": "2025-03-02T15:28:01.580Z"
   },
   {
    "duration": 105,
    "start_time": "2025-03-02T15:28:01.616Z"
   },
   {
    "duration": 9,
    "start_time": "2025-03-02T15:28:01.723Z"
   },
   {
    "duration": 4,
    "start_time": "2025-03-02T15:28:01.734Z"
   },
   {
    "duration": 29,
    "start_time": "2025-03-02T15:28:01.740Z"
   },
   {
    "duration": 47,
    "start_time": "2025-03-02T15:28:01.771Z"
   },
   {
    "duration": 38,
    "start_time": "2025-03-02T15:28:01.820Z"
   },
   {
    "duration": 531,
    "start_time": "2025-03-02T15:28:01.860Z"
   },
   {
    "duration": 0,
    "start_time": "2025-03-02T15:28:02.393Z"
   },
   {
    "duration": 0,
    "start_time": "2025-03-02T15:28:02.394Z"
   },
   {
    "duration": 0,
    "start_time": "2025-03-02T15:28:02.395Z"
   },
   {
    "duration": 0,
    "start_time": "2025-03-02T15:28:02.396Z"
   },
   {
    "duration": 0,
    "start_time": "2025-03-02T15:28:02.397Z"
   },
   {
    "duration": 0,
    "start_time": "2025-03-02T15:28:02.398Z"
   },
   {
    "duration": 0,
    "start_time": "2025-03-02T15:28:02.399Z"
   },
   {
    "duration": 2083,
    "start_time": "2025-03-02T15:30:51.491Z"
   },
   {
    "duration": 17,
    "start_time": "2025-03-02T15:30:53.576Z"
   },
   {
    "duration": 11,
    "start_time": "2025-03-02T15:30:53.594Z"
   },
   {
    "duration": 23,
    "start_time": "2025-03-02T15:30:53.607Z"
   },
   {
    "duration": 20,
    "start_time": "2025-03-02T15:30:53.632Z"
   },
   {
    "duration": 65,
    "start_time": "2025-03-02T15:30:53.653Z"
   },
   {
    "duration": 72,
    "start_time": "2025-03-02T15:30:53.721Z"
   },
   {
    "duration": 56,
    "start_time": "2025-03-02T15:30:53.795Z"
   },
   {
    "duration": 50,
    "start_time": "2025-03-02T15:30:53.853Z"
   },
   {
    "duration": 108,
    "start_time": "2025-03-02T15:30:53.904Z"
   },
   {
    "duration": 21,
    "start_time": "2025-03-02T15:30:54.013Z"
   },
   {
    "duration": 22,
    "start_time": "2025-03-02T15:30:54.035Z"
   },
   {
    "duration": 19,
    "start_time": "2025-03-02T15:30:54.070Z"
   },
   {
    "duration": 23,
    "start_time": "2025-03-02T15:30:54.092Z"
   },
   {
    "duration": 25,
    "start_time": "2025-03-02T15:30:54.117Z"
   },
   {
    "duration": 14,
    "start_time": "2025-03-02T15:30:54.144Z"
   },
   {
    "duration": 22,
    "start_time": "2025-03-02T15:30:54.159Z"
   },
   {
    "duration": 28,
    "start_time": "2025-03-02T15:30:54.182Z"
   },
   {
    "duration": 48,
    "start_time": "2025-03-02T15:30:54.211Z"
   },
   {
    "duration": 1315,
    "start_time": "2025-03-02T15:30:54.261Z"
   },
   {
    "duration": 5,
    "start_time": "2025-03-02T15:30:55.578Z"
   },
   {
    "duration": 42,
    "start_time": "2025-03-02T15:30:55.585Z"
   },
   {
    "duration": 801,
    "start_time": "2025-03-02T15:30:55.629Z"
   },
   {
    "duration": 353,
    "start_time": "2025-03-02T15:30:56.432Z"
   },
   {
    "duration": 144,
    "start_time": "2025-03-02T15:30:56.786Z"
   },
   {
    "duration": 164,
    "start_time": "2025-03-02T15:30:56.932Z"
   },
   {
    "duration": 551,
    "start_time": "2025-03-02T15:30:57.097Z"
   },
   {
    "duration": 19,
    "start_time": "2025-03-02T15:30:57.650Z"
   },
   {
    "duration": 19,
    "start_time": "2025-03-02T15:30:57.676Z"
   },
   {
    "duration": 16,
    "start_time": "2025-03-02T15:30:57.697Z"
   },
   {
    "duration": 10,
    "start_time": "2025-03-02T15:30:57.715Z"
   },
   {
    "duration": 10,
    "start_time": "2025-03-02T15:30:57.727Z"
   },
   {
    "duration": 16,
    "start_time": "2025-03-02T15:30:57.738Z"
   },
   {
    "duration": 34,
    "start_time": "2025-03-02T15:30:57.755Z"
   },
   {
    "duration": 8,
    "start_time": "2025-03-02T15:30:57.790Z"
   },
   {
    "duration": 12,
    "start_time": "2025-03-02T15:30:57.800Z"
   },
   {
    "duration": 11,
    "start_time": "2025-03-02T15:30:57.813Z"
   },
   {
    "duration": 20,
    "start_time": "2025-03-02T15:30:57.825Z"
   },
   {
    "duration": 38,
    "start_time": "2025-03-02T15:30:57.847Z"
   },
   {
    "duration": 13,
    "start_time": "2025-03-02T15:30:57.887Z"
   },
   {
    "duration": 10,
    "start_time": "2025-03-02T15:30:57.904Z"
   },
   {
    "duration": 7,
    "start_time": "2025-03-02T15:30:57.916Z"
   },
   {
    "duration": 7,
    "start_time": "2025-03-02T15:30:57.924Z"
   },
   {
    "duration": 10,
    "start_time": "2025-03-02T15:30:57.932Z"
   },
   {
    "duration": 10,
    "start_time": "2025-03-02T15:30:57.944Z"
   },
   {
    "duration": 27,
    "start_time": "2025-03-02T15:30:57.955Z"
   },
   {
    "duration": 24,
    "start_time": "2025-03-02T15:30:57.984Z"
   },
   {
    "duration": 517,
    "start_time": "2025-03-02T15:30:58.009Z"
   },
   {
    "duration": 0,
    "start_time": "2025-03-02T15:30:58.528Z"
   },
   {
    "duration": 0,
    "start_time": "2025-03-02T15:30:58.529Z"
   },
   {
    "duration": 0,
    "start_time": "2025-03-02T15:30:58.530Z"
   },
   {
    "duration": 0,
    "start_time": "2025-03-02T15:30:58.531Z"
   },
   {
    "duration": 0,
    "start_time": "2025-03-02T15:30:58.532Z"
   },
   {
    "duration": 0,
    "start_time": "2025-03-02T15:30:58.533Z"
   },
   {
    "duration": 0,
    "start_time": "2025-03-02T15:30:58.534Z"
   },
   {
    "duration": 2097,
    "start_time": "2025-03-02T15:33:40.730Z"
   },
   {
    "duration": 27,
    "start_time": "2025-03-02T15:33:42.830Z"
   },
   {
    "duration": 3,
    "start_time": "2025-03-02T15:33:42.859Z"
   },
   {
    "duration": 68,
    "start_time": "2025-03-02T15:33:42.865Z"
   },
   {
    "duration": 116,
    "start_time": "2025-03-02T15:33:42.935Z"
   },
   {
    "duration": 30,
    "start_time": "2025-03-02T15:33:43.053Z"
   },
   {
    "duration": 6,
    "start_time": "2025-03-02T15:33:43.085Z"
   },
   {
    "duration": 29,
    "start_time": "2025-03-02T15:33:43.092Z"
   },
   {
    "duration": 9,
    "start_time": "2025-03-02T15:33:43.123Z"
   },
   {
    "duration": 64,
    "start_time": "2025-03-02T15:33:43.133Z"
   },
   {
    "duration": 18,
    "start_time": "2025-03-02T15:33:43.199Z"
   },
   {
    "duration": 8,
    "start_time": "2025-03-02T15:33:43.219Z"
   },
   {
    "duration": 9,
    "start_time": "2025-03-02T15:33:43.228Z"
   },
   {
    "duration": 34,
    "start_time": "2025-03-02T15:33:43.240Z"
   },
   {
    "duration": 9,
    "start_time": "2025-03-02T15:33:43.276Z"
   },
   {
    "duration": 101,
    "start_time": "2025-03-02T15:33:43.286Z"
   },
   {
    "duration": 5,
    "start_time": "2025-03-02T15:33:43.389Z"
   },
   {
    "duration": 7,
    "start_time": "2025-03-02T15:33:43.395Z"
   },
   {
    "duration": 9,
    "start_time": "2025-03-02T15:33:43.403Z"
   },
   {
    "duration": 1323,
    "start_time": "2025-03-02T15:33:43.414Z"
   },
   {
    "duration": 4,
    "start_time": "2025-03-02T15:33:44.739Z"
   },
   {
    "duration": 31,
    "start_time": "2025-03-02T15:33:44.744Z"
   },
   {
    "duration": 767,
    "start_time": "2025-03-02T15:33:44.777Z"
   },
   {
    "duration": 390,
    "start_time": "2025-03-02T15:33:45.546Z"
   },
   {
    "duration": 152,
    "start_time": "2025-03-02T15:33:45.938Z"
   },
   {
    "duration": 159,
    "start_time": "2025-03-02T15:33:46.092Z"
   },
   {
    "duration": 557,
    "start_time": "2025-03-02T15:33:46.253Z"
   },
   {
    "duration": 9,
    "start_time": "2025-03-02T15:33:46.811Z"
   },
   {
    "duration": 12,
    "start_time": "2025-03-02T15:33:46.821Z"
   },
   {
    "duration": 4,
    "start_time": "2025-03-02T15:33:46.835Z"
   },
   {
    "duration": 11,
    "start_time": "2025-03-02T15:33:46.840Z"
   },
   {
    "duration": 21,
    "start_time": "2025-03-02T15:33:46.853Z"
   },
   {
    "duration": 161,
    "start_time": "2025-03-02T15:33:46.876Z"
   },
   {
    "duration": 7,
    "start_time": "2025-03-02T15:33:47.038Z"
   },
   {
    "duration": 7,
    "start_time": "2025-03-02T15:33:47.047Z"
   },
   {
    "duration": 5,
    "start_time": "2025-03-02T15:33:47.056Z"
   },
   {
    "duration": 11,
    "start_time": "2025-03-02T15:33:47.062Z"
   },
   {
    "duration": 14,
    "start_time": "2025-03-02T15:33:47.074Z"
   },
   {
    "duration": 16,
    "start_time": "2025-03-02T15:33:47.090Z"
   },
   {
    "duration": 8,
    "start_time": "2025-03-02T15:33:47.107Z"
   },
   {
    "duration": 6,
    "start_time": "2025-03-02T15:33:47.118Z"
   },
   {
    "duration": 6,
    "start_time": "2025-03-02T15:33:47.125Z"
   },
   {
    "duration": 5,
    "start_time": "2025-03-02T15:33:47.133Z"
   },
   {
    "duration": 4,
    "start_time": "2025-03-02T15:33:47.140Z"
   },
   {
    "duration": 4,
    "start_time": "2025-03-02T15:33:47.146Z"
   },
   {
    "duration": 18,
    "start_time": "2025-03-02T15:33:47.151Z"
   },
   {
    "duration": 11,
    "start_time": "2025-03-02T15:33:47.175Z"
   },
   {
    "duration": 518,
    "start_time": "2025-03-02T15:33:47.187Z"
   },
   {
    "duration": 0,
    "start_time": "2025-03-02T15:33:47.707Z"
   },
   {
    "duration": 0,
    "start_time": "2025-03-02T15:33:47.708Z"
   },
   {
    "duration": 0,
    "start_time": "2025-03-02T15:33:47.709Z"
   },
   {
    "duration": 0,
    "start_time": "2025-03-02T15:33:47.711Z"
   },
   {
    "duration": 0,
    "start_time": "2025-03-02T15:33:47.712Z"
   },
   {
    "duration": 0,
    "start_time": "2025-03-02T15:33:47.713Z"
   },
   {
    "duration": 0,
    "start_time": "2025-03-02T15:33:47.714Z"
   },
   {
    "duration": 2260,
    "start_time": "2025-03-02T15:34:57.937Z"
   },
   {
    "duration": 28,
    "start_time": "2025-03-02T15:35:00.199Z"
   },
   {
    "duration": 104,
    "start_time": "2025-03-02T15:35:00.228Z"
   },
   {
    "duration": 147,
    "start_time": "2025-03-02T15:35:00.334Z"
   },
   {
    "duration": 133,
    "start_time": "2025-03-02T15:35:00.483Z"
   },
   {
    "duration": 122,
    "start_time": "2025-03-02T15:35:00.618Z"
   },
   {
    "duration": 9,
    "start_time": "2025-03-02T15:35:00.742Z"
   },
   {
    "duration": 49,
    "start_time": "2025-03-02T15:35:00.752Z"
   },
   {
    "duration": 155,
    "start_time": "2025-03-02T15:35:00.802Z"
   },
   {
    "duration": 236,
    "start_time": "2025-03-02T15:35:00.959Z"
   },
   {
    "duration": 21,
    "start_time": "2025-03-02T15:35:01.197Z"
   },
   {
    "duration": 288,
    "start_time": "2025-03-02T15:35:01.220Z"
   },
   {
    "duration": 90,
    "start_time": "2025-03-02T15:35:01.509Z"
   },
   {
    "duration": 49,
    "start_time": "2025-03-02T15:35:01.601Z"
   },
   {
    "duration": 45,
    "start_time": "2025-03-02T15:35:01.652Z"
   },
   {
    "duration": 35,
    "start_time": "2025-03-02T15:35:01.698Z"
   },
   {
    "duration": 8,
    "start_time": "2025-03-02T15:35:01.735Z"
   },
   {
    "duration": 36,
    "start_time": "2025-03-02T15:35:01.744Z"
   },
   {
    "duration": 114,
    "start_time": "2025-03-02T15:35:01.782Z"
   },
   {
    "duration": 1475,
    "start_time": "2025-03-02T15:35:01.898Z"
   },
   {
    "duration": 6,
    "start_time": "2025-03-02T15:35:03.375Z"
   },
   {
    "duration": 58,
    "start_time": "2025-03-02T15:35:03.382Z"
   },
   {
    "duration": 792,
    "start_time": "2025-03-02T15:35:03.442Z"
   },
   {
    "duration": 352,
    "start_time": "2025-03-02T15:35:04.235Z"
   },
   {
    "duration": 146,
    "start_time": "2025-03-02T15:35:04.589Z"
   },
   {
    "duration": 169,
    "start_time": "2025-03-02T15:35:04.736Z"
   },
   {
    "duration": 535,
    "start_time": "2025-03-02T15:35:04.907Z"
   },
   {
    "duration": 29,
    "start_time": "2025-03-02T15:35:05.445Z"
   },
   {
    "duration": 34,
    "start_time": "2025-03-02T15:35:05.476Z"
   },
   {
    "duration": 34,
    "start_time": "2025-03-02T15:35:05.511Z"
   },
   {
    "duration": 32,
    "start_time": "2025-03-02T15:35:05.546Z"
   },
   {
    "duration": 37,
    "start_time": "2025-03-02T15:35:05.580Z"
   },
   {
    "duration": 25,
    "start_time": "2025-03-02T15:35:05.618Z"
   },
   {
    "duration": 36,
    "start_time": "2025-03-02T15:35:05.645Z"
   },
   {
    "duration": 50,
    "start_time": "2025-03-02T15:35:05.683Z"
   },
   {
    "duration": 16,
    "start_time": "2025-03-02T15:35:05.735Z"
   },
   {
    "duration": 19,
    "start_time": "2025-03-02T15:35:05.753Z"
   },
   {
    "duration": 30,
    "start_time": "2025-03-02T15:35:05.774Z"
   },
   {
    "duration": 43,
    "start_time": "2025-03-02T15:35:05.806Z"
   },
   {
    "duration": 30,
    "start_time": "2025-03-02T15:35:05.851Z"
   },
   {
    "duration": 35,
    "start_time": "2025-03-02T15:35:05.883Z"
   },
   {
    "duration": 56,
    "start_time": "2025-03-02T15:35:05.920Z"
   },
   {
    "duration": 41,
    "start_time": "2025-03-02T15:35:05.977Z"
   },
   {
    "duration": 13,
    "start_time": "2025-03-02T15:35:06.020Z"
   },
   {
    "duration": 75,
    "start_time": "2025-03-02T15:35:06.034Z"
   },
   {
    "duration": 48,
    "start_time": "2025-03-02T15:35:06.110Z"
   },
   {
    "duration": 513,
    "start_time": "2025-03-02T15:35:06.160Z"
   },
   {
    "duration": 0,
    "start_time": "2025-03-02T15:35:06.676Z"
   },
   {
    "duration": 0,
    "start_time": "2025-03-02T15:35:06.677Z"
   },
   {
    "duration": 0,
    "start_time": "2025-03-02T15:35:06.679Z"
   },
   {
    "duration": 0,
    "start_time": "2025-03-02T15:35:06.680Z"
   },
   {
    "duration": 0,
    "start_time": "2025-03-02T15:35:06.682Z"
   },
   {
    "duration": 0,
    "start_time": "2025-03-02T15:35:06.683Z"
   },
   {
    "duration": 0,
    "start_time": "2025-03-02T15:35:06.684Z"
   },
   {
    "duration": 341,
    "start_time": "2025-03-02T15:36:16.632Z"
   },
   {
    "duration": 2105,
    "start_time": "2025-03-02T15:36:27.007Z"
   },
   {
    "duration": 17,
    "start_time": "2025-03-02T15:36:29.113Z"
   },
   {
    "duration": 40,
    "start_time": "2025-03-02T15:36:29.132Z"
   },
   {
    "duration": 12,
    "start_time": "2025-03-02T15:36:29.175Z"
   },
   {
    "duration": 41,
    "start_time": "2025-03-02T15:36:29.189Z"
   },
   {
    "duration": 271,
    "start_time": "2025-03-02T15:36:29.232Z"
   },
   {
    "duration": 39,
    "start_time": "2025-03-02T15:36:29.505Z"
   },
   {
    "duration": 87,
    "start_time": "2025-03-02T15:36:29.545Z"
   },
   {
    "duration": 40,
    "start_time": "2025-03-02T15:36:29.634Z"
   },
   {
    "duration": 97,
    "start_time": "2025-03-02T15:36:29.676Z"
   },
   {
    "duration": 33,
    "start_time": "2025-03-02T15:36:29.775Z"
   },
   {
    "duration": 36,
    "start_time": "2025-03-02T15:36:29.810Z"
   },
   {
    "duration": 54,
    "start_time": "2025-03-02T15:36:29.847Z"
   },
   {
    "duration": 24,
    "start_time": "2025-03-02T15:36:29.905Z"
   },
   {
    "duration": 51,
    "start_time": "2025-03-02T15:36:29.930Z"
   },
   {
    "duration": 91,
    "start_time": "2025-03-02T15:36:29.982Z"
   },
   {
    "duration": 72,
    "start_time": "2025-03-02T15:36:30.076Z"
   },
   {
    "duration": 73,
    "start_time": "2025-03-02T15:36:30.149Z"
   },
   {
    "duration": 133,
    "start_time": "2025-03-02T15:36:30.224Z"
   },
   {
    "duration": 1345,
    "start_time": "2025-03-02T15:36:30.359Z"
   },
   {
    "duration": 5,
    "start_time": "2025-03-02T15:36:31.706Z"
   },
   {
    "duration": 26,
    "start_time": "2025-03-02T15:36:31.712Z"
   },
   {
    "duration": 767,
    "start_time": "2025-03-02T15:36:31.739Z"
   },
   {
    "duration": 342,
    "start_time": "2025-03-02T15:36:32.508Z"
   },
   {
    "duration": 159,
    "start_time": "2025-03-02T15:36:32.852Z"
   },
   {
    "duration": 213,
    "start_time": "2025-03-02T15:36:33.013Z"
   },
   {
    "duration": 576,
    "start_time": "2025-03-02T15:36:33.229Z"
   },
   {
    "duration": 10,
    "start_time": "2025-03-02T15:36:33.807Z"
   },
   {
    "duration": 41,
    "start_time": "2025-03-02T15:36:33.818Z"
   },
   {
    "duration": 69,
    "start_time": "2025-03-02T15:36:33.860Z"
   },
   {
    "duration": 147,
    "start_time": "2025-03-02T15:36:33.931Z"
   },
   {
    "duration": 80,
    "start_time": "2025-03-02T15:36:34.080Z"
   },
   {
    "duration": 65,
    "start_time": "2025-03-02T15:36:34.161Z"
   },
   {
    "duration": 14,
    "start_time": "2025-03-02T15:36:34.228Z"
   },
   {
    "duration": 14,
    "start_time": "2025-03-02T15:36:34.243Z"
   },
   {
    "duration": 17,
    "start_time": "2025-03-02T15:36:34.258Z"
   },
   {
    "duration": 46,
    "start_time": "2025-03-02T15:36:34.277Z"
   },
   {
    "duration": 5,
    "start_time": "2025-03-02T15:36:34.325Z"
   },
   {
    "duration": 33,
    "start_time": "2025-03-02T15:36:34.332Z"
   },
   {
    "duration": 37,
    "start_time": "2025-03-02T15:36:34.375Z"
   },
   {
    "duration": 14,
    "start_time": "2025-03-02T15:36:34.415Z"
   },
   {
    "duration": 12,
    "start_time": "2025-03-02T15:36:34.431Z"
   },
   {
    "duration": 12,
    "start_time": "2025-03-02T15:36:34.444Z"
   },
   {
    "duration": 19,
    "start_time": "2025-03-02T15:36:34.457Z"
   },
   {
    "duration": 45,
    "start_time": "2025-03-02T15:36:34.478Z"
   },
   {
    "duration": 17,
    "start_time": "2025-03-02T15:36:34.525Z"
   },
   {
    "duration": 31,
    "start_time": "2025-03-02T15:36:34.543Z"
   },
   {
    "duration": 624,
    "start_time": "2025-03-02T15:36:34.576Z"
   },
   {
    "duration": 1,
    "start_time": "2025-03-02T15:36:35.201Z"
   },
   {
    "duration": 0,
    "start_time": "2025-03-02T15:36:35.203Z"
   },
   {
    "duration": 0,
    "start_time": "2025-03-02T15:36:35.204Z"
   },
   {
    "duration": 0,
    "start_time": "2025-03-02T15:36:35.205Z"
   },
   {
    "duration": 0,
    "start_time": "2025-03-02T15:36:35.206Z"
   },
   {
    "duration": 0,
    "start_time": "2025-03-02T15:36:35.207Z"
   },
   {
    "duration": 2084,
    "start_time": "2025-03-02T15:38:00.689Z"
   },
   {
    "duration": 17,
    "start_time": "2025-03-02T15:38:02.776Z"
   },
   {
    "duration": 40,
    "start_time": "2025-03-02T15:38:02.795Z"
   },
   {
    "duration": 40,
    "start_time": "2025-03-02T15:38:02.837Z"
   },
   {
    "duration": 148,
    "start_time": "2025-03-02T15:38:02.879Z"
   },
   {
    "duration": 188,
    "start_time": "2025-03-02T15:38:03.028Z"
   },
   {
    "duration": 38,
    "start_time": "2025-03-02T15:38:03.218Z"
   },
   {
    "duration": 319,
    "start_time": "2025-03-02T15:38:03.257Z"
   },
   {
    "duration": 167,
    "start_time": "2025-03-02T15:38:03.578Z"
   },
   {
    "duration": 82,
    "start_time": "2025-03-02T15:38:03.748Z"
   },
   {
    "duration": 32,
    "start_time": "2025-03-02T15:38:03.832Z"
   },
   {
    "duration": 24,
    "start_time": "2025-03-02T15:38:03.865Z"
   },
   {
    "duration": 56,
    "start_time": "2025-03-02T15:38:03.891Z"
   },
   {
    "duration": 65,
    "start_time": "2025-03-02T15:38:03.949Z"
   },
   {
    "duration": 18,
    "start_time": "2025-03-02T15:38:04.016Z"
   },
   {
    "duration": 34,
    "start_time": "2025-03-02T15:38:04.036Z"
   },
   {
    "duration": 6,
    "start_time": "2025-03-02T15:38:04.075Z"
   },
   {
    "duration": 31,
    "start_time": "2025-03-02T15:38:04.082Z"
   },
   {
    "duration": 40,
    "start_time": "2025-03-02T15:38:04.114Z"
   },
   {
    "duration": 1334,
    "start_time": "2025-03-02T15:38:04.156Z"
   },
   {
    "duration": 5,
    "start_time": "2025-03-02T15:38:05.491Z"
   },
   {
    "duration": 92,
    "start_time": "2025-03-02T15:38:05.498Z"
   },
   {
    "duration": 815,
    "start_time": "2025-03-02T15:38:05.592Z"
   },
   {
    "duration": 348,
    "start_time": "2025-03-02T15:38:06.409Z"
   },
   {
    "duration": 159,
    "start_time": "2025-03-02T15:38:06.759Z"
   },
   {
    "duration": 165,
    "start_time": "2025-03-02T15:38:06.919Z"
   },
   {
    "duration": 555,
    "start_time": "2025-03-02T15:38:07.086Z"
   },
   {
    "duration": 8,
    "start_time": "2025-03-02T15:38:07.645Z"
   },
   {
    "duration": 17,
    "start_time": "2025-03-02T15:38:07.662Z"
   },
   {
    "duration": 31,
    "start_time": "2025-03-02T15:38:07.681Z"
   },
   {
    "duration": 65,
    "start_time": "2025-03-02T15:38:07.713Z"
   },
   {
    "duration": 51,
    "start_time": "2025-03-02T15:38:07.780Z"
   },
   {
    "duration": 9,
    "start_time": "2025-03-02T15:38:07.833Z"
   },
   {
    "duration": 71,
    "start_time": "2025-03-02T15:38:07.843Z"
   },
   {
    "duration": 22,
    "start_time": "2025-03-02T15:38:07.915Z"
   },
   {
    "duration": 47,
    "start_time": "2025-03-02T15:38:07.939Z"
   },
   {
    "duration": 35,
    "start_time": "2025-03-02T15:38:07.987Z"
   },
   {
    "duration": 9,
    "start_time": "2025-03-02T15:38:08.023Z"
   },
   {
    "duration": 24,
    "start_time": "2025-03-02T15:38:08.034Z"
   },
   {
    "duration": 51,
    "start_time": "2025-03-02T15:38:08.059Z"
   },
   {
    "duration": 65,
    "start_time": "2025-03-02T15:38:08.111Z"
   },
   {
    "duration": 97,
    "start_time": "2025-03-02T15:38:08.178Z"
   },
   {
    "duration": 102,
    "start_time": "2025-03-02T15:38:08.277Z"
   },
   {
    "duration": 16,
    "start_time": "2025-03-02T15:38:08.381Z"
   },
   {
    "duration": 17,
    "start_time": "2025-03-02T15:38:08.399Z"
   },
   {
    "duration": 533,
    "start_time": "2025-03-02T15:38:08.417Z"
   },
   {
    "duration": 0,
    "start_time": "2025-03-02T15:38:08.952Z"
   },
   {
    "duration": 0,
    "start_time": "2025-03-02T15:38:08.953Z"
   },
   {
    "duration": 0,
    "start_time": "2025-03-02T15:38:08.954Z"
   },
   {
    "duration": 0,
    "start_time": "2025-03-02T15:38:08.961Z"
   },
   {
    "duration": 0,
    "start_time": "2025-03-02T15:38:08.962Z"
   },
   {
    "duration": 0,
    "start_time": "2025-03-02T15:38:08.963Z"
   },
   {
    "duration": 0,
    "start_time": "2025-03-02T15:38:08.963Z"
   },
   {
    "duration": 2219,
    "start_time": "2025-03-02T15:39:51.595Z"
   },
   {
    "duration": 16,
    "start_time": "2025-03-02T15:39:53.816Z"
   },
   {
    "duration": 41,
    "start_time": "2025-03-02T15:39:53.834Z"
   },
   {
    "duration": 41,
    "start_time": "2025-03-02T15:39:53.877Z"
   },
   {
    "duration": 54,
    "start_time": "2025-03-02T15:39:53.920Z"
   },
   {
    "duration": 35,
    "start_time": "2025-03-02T15:39:53.976Z"
   },
   {
    "duration": 63,
    "start_time": "2025-03-02T15:39:54.013Z"
   },
   {
    "duration": 38,
    "start_time": "2025-03-02T15:39:54.078Z"
   },
   {
    "duration": 28,
    "start_time": "2025-03-02T15:39:54.117Z"
   },
   {
    "duration": 78,
    "start_time": "2025-03-02T15:39:54.147Z"
   },
   {
    "duration": 19,
    "start_time": "2025-03-02T15:39:54.227Z"
   },
   {
    "duration": 32,
    "start_time": "2025-03-02T15:39:54.248Z"
   },
   {
    "duration": 20,
    "start_time": "2025-03-02T15:39:54.281Z"
   },
   {
    "duration": 22,
    "start_time": "2025-03-02T15:39:54.304Z"
   },
   {
    "duration": 20,
    "start_time": "2025-03-02T15:39:54.327Z"
   },
   {
    "duration": 27,
    "start_time": "2025-03-02T15:39:54.348Z"
   },
   {
    "duration": 28,
    "start_time": "2025-03-02T15:39:54.377Z"
   },
   {
    "duration": 15,
    "start_time": "2025-03-02T15:39:54.407Z"
   },
   {
    "duration": 27,
    "start_time": "2025-03-02T15:39:54.424Z"
   },
   {
    "duration": 1324,
    "start_time": "2025-03-02T15:39:54.452Z"
   },
   {
    "duration": 10,
    "start_time": "2025-03-02T15:39:55.778Z"
   },
   {
    "duration": 27,
    "start_time": "2025-03-02T15:39:55.790Z"
   },
   {
    "duration": 796,
    "start_time": "2025-03-02T15:39:55.818Z"
   },
   {
    "duration": 346,
    "start_time": "2025-03-02T15:39:56.616Z"
   },
   {
    "duration": 149,
    "start_time": "2025-03-02T15:39:56.966Z"
   },
   {
    "duration": 165,
    "start_time": "2025-03-02T15:39:57.116Z"
   },
   {
    "duration": 534,
    "start_time": "2025-03-02T15:39:57.283Z"
   },
   {
    "duration": 8,
    "start_time": "2025-03-02T15:39:57.820Z"
   },
   {
    "duration": 46,
    "start_time": "2025-03-02T15:39:57.829Z"
   },
   {
    "duration": 27,
    "start_time": "2025-03-02T15:39:57.877Z"
   },
   {
    "duration": 27,
    "start_time": "2025-03-02T15:39:57.906Z"
   },
   {
    "duration": 7,
    "start_time": "2025-03-02T15:39:57.934Z"
   },
   {
    "duration": 32,
    "start_time": "2025-03-02T15:39:57.943Z"
   },
   {
    "duration": 13,
    "start_time": "2025-03-02T15:39:57.977Z"
   },
   {
    "duration": 16,
    "start_time": "2025-03-02T15:39:57.992Z"
   },
   {
    "duration": 42,
    "start_time": "2025-03-02T15:39:58.009Z"
   },
   {
    "duration": 10,
    "start_time": "2025-03-02T15:39:58.052Z"
   },
   {
    "duration": 35,
    "start_time": "2025-03-02T15:39:58.066Z"
   },
   {
    "duration": 22,
    "start_time": "2025-03-02T15:39:58.103Z"
   },
   {
    "duration": 26,
    "start_time": "2025-03-02T15:39:58.126Z"
   },
   {
    "duration": 20,
    "start_time": "2025-03-02T15:39:58.156Z"
   },
   {
    "duration": 47,
    "start_time": "2025-03-02T15:39:58.177Z"
   },
   {
    "duration": 17,
    "start_time": "2025-03-02T15:39:58.225Z"
   },
   {
    "duration": 33,
    "start_time": "2025-03-02T15:39:58.244Z"
   },
   {
    "duration": 32,
    "start_time": "2025-03-02T15:39:58.279Z"
   },
   {
    "duration": 564,
    "start_time": "2025-03-02T15:39:58.312Z"
   },
   {
    "duration": 0,
    "start_time": "2025-03-02T15:39:58.878Z"
   },
   {
    "duration": 0,
    "start_time": "2025-03-02T15:39:58.880Z"
   },
   {
    "duration": 0,
    "start_time": "2025-03-02T15:39:58.881Z"
   },
   {
    "duration": 0,
    "start_time": "2025-03-02T15:39:58.882Z"
   },
   {
    "duration": 0,
    "start_time": "2025-03-02T15:39:58.883Z"
   },
   {
    "duration": 0,
    "start_time": "2025-03-02T15:39:58.884Z"
   },
   {
    "duration": 0,
    "start_time": "2025-03-02T15:39:58.886Z"
   },
   {
    "duration": 2162,
    "start_time": "2025-03-02T15:43:02.236Z"
   },
   {
    "duration": 17,
    "start_time": "2025-03-02T15:43:04.399Z"
   },
   {
    "duration": 3,
    "start_time": "2025-03-02T15:43:04.417Z"
   },
   {
    "duration": 16,
    "start_time": "2025-03-02T15:43:04.421Z"
   },
   {
    "duration": 4,
    "start_time": "2025-03-02T15:43:04.439Z"
   },
   {
    "duration": 19,
    "start_time": "2025-03-02T15:43:04.445Z"
   },
   {
    "duration": 6,
    "start_time": "2025-03-02T15:43:04.465Z"
   },
   {
    "duration": 26,
    "start_time": "2025-03-02T15:43:04.472Z"
   },
   {
    "duration": 27,
    "start_time": "2025-03-02T15:43:04.500Z"
   },
   {
    "duration": 85,
    "start_time": "2025-03-02T15:43:04.528Z"
   },
   {
    "duration": 28,
    "start_time": "2025-03-02T15:43:04.615Z"
   },
   {
    "duration": 98,
    "start_time": "2025-03-02T15:43:04.645Z"
   },
   {
    "duration": 30,
    "start_time": "2025-03-02T15:43:04.745Z"
   },
   {
    "duration": 29,
    "start_time": "2025-03-02T15:43:04.778Z"
   },
   {
    "duration": 36,
    "start_time": "2025-03-02T15:43:04.809Z"
   },
   {
    "duration": 19,
    "start_time": "2025-03-02T15:43:04.847Z"
   },
   {
    "duration": 52,
    "start_time": "2025-03-02T15:43:04.868Z"
   },
   {
    "duration": 156,
    "start_time": "2025-03-02T15:43:04.921Z"
   },
   {
    "duration": 47,
    "start_time": "2025-03-02T15:43:05.078Z"
   },
   {
    "duration": 1289,
    "start_time": "2025-03-02T15:43:05.127Z"
   },
   {
    "duration": 5,
    "start_time": "2025-03-02T15:43:06.418Z"
   },
   {
    "duration": 13,
    "start_time": "2025-03-02T15:43:06.424Z"
   },
   {
    "duration": 772,
    "start_time": "2025-03-02T15:43:06.439Z"
   },
   {
    "duration": 372,
    "start_time": "2025-03-02T15:43:07.213Z"
   },
   {
    "duration": 150,
    "start_time": "2025-03-02T15:43:07.587Z"
   },
   {
    "duration": 160,
    "start_time": "2025-03-02T15:43:07.739Z"
   },
   {
    "duration": 509,
    "start_time": "2025-03-02T15:43:07.901Z"
   },
   {
    "duration": 8,
    "start_time": "2025-03-02T15:43:08.412Z"
   },
   {
    "duration": 8,
    "start_time": "2025-03-02T15:43:08.421Z"
   },
   {
    "duration": 10,
    "start_time": "2025-03-02T15:43:08.430Z"
   },
   {
    "duration": 23,
    "start_time": "2025-03-02T15:43:08.441Z"
   },
   {
    "duration": 16,
    "start_time": "2025-03-02T15:43:08.465Z"
   },
   {
    "duration": 5,
    "start_time": "2025-03-02T15:43:08.483Z"
   },
   {
    "duration": 32,
    "start_time": "2025-03-02T15:43:08.489Z"
   },
   {
    "duration": 13,
    "start_time": "2025-03-02T15:43:08.522Z"
   },
   {
    "duration": 11,
    "start_time": "2025-03-02T15:43:08.537Z"
   },
   {
    "duration": 15,
    "start_time": "2025-03-02T15:43:08.549Z"
   },
   {
    "duration": 12,
    "start_time": "2025-03-02T15:43:08.566Z"
   },
   {
    "duration": 20,
    "start_time": "2025-03-02T15:43:08.579Z"
   },
   {
    "duration": 104,
    "start_time": "2025-03-02T15:43:08.600Z"
   },
   {
    "duration": 16,
    "start_time": "2025-03-02T15:43:08.708Z"
   },
   {
    "duration": 15,
    "start_time": "2025-03-02T15:43:08.727Z"
   },
   {
    "duration": 7,
    "start_time": "2025-03-02T15:43:08.744Z"
   },
   {
    "duration": 15,
    "start_time": "2025-03-02T15:43:08.752Z"
   },
   {
    "duration": 31,
    "start_time": "2025-03-02T15:43:08.769Z"
   },
   {
    "duration": 223481,
    "start_time": "2025-03-02T15:43:08.802Z"
   },
   {
    "duration": 0,
    "start_time": "2025-03-02T15:46:52.284Z"
   },
   {
    "duration": 0,
    "start_time": "2025-03-02T15:46:52.285Z"
   },
   {
    "duration": 0,
    "start_time": "2025-03-02T15:46:52.286Z"
   },
   {
    "duration": 0,
    "start_time": "2025-03-02T15:46:52.287Z"
   },
   {
    "duration": 0,
    "start_time": "2025-03-02T15:46:52.288Z"
   },
   {
    "duration": 0,
    "start_time": "2025-03-02T15:46:52.289Z"
   },
   {
    "duration": 0,
    "start_time": "2025-03-02T15:46:52.290Z"
   },
   {
    "duration": 2215,
    "start_time": "2025-03-02T15:51:04.739Z"
   },
   {
    "duration": 31,
    "start_time": "2025-03-02T15:51:06.956Z"
   },
   {
    "duration": 99,
    "start_time": "2025-03-02T15:51:06.988Z"
   },
   {
    "duration": 50,
    "start_time": "2025-03-02T15:51:07.089Z"
   },
   {
    "duration": 6,
    "start_time": "2025-03-02T15:51:07.140Z"
   },
   {
    "duration": 50,
    "start_time": "2025-03-02T15:51:07.147Z"
   },
   {
    "duration": 29,
    "start_time": "2025-03-02T15:51:07.199Z"
   },
   {
    "duration": 45,
    "start_time": "2025-03-02T15:51:07.230Z"
   },
   {
    "duration": 23,
    "start_time": "2025-03-02T15:51:07.277Z"
   },
   {
    "duration": 91,
    "start_time": "2025-03-02T15:51:07.303Z"
   },
   {
    "duration": 79,
    "start_time": "2025-03-02T15:51:07.396Z"
   },
   {
    "duration": 17,
    "start_time": "2025-03-02T15:51:07.478Z"
   },
   {
    "duration": 58,
    "start_time": "2025-03-02T15:51:07.498Z"
   },
   {
    "duration": 57,
    "start_time": "2025-03-02T15:51:07.558Z"
   },
   {
    "duration": 23,
    "start_time": "2025-03-02T15:51:07.617Z"
   },
   {
    "duration": 12,
    "start_time": "2025-03-02T15:51:07.641Z"
   },
   {
    "duration": 50,
    "start_time": "2025-03-02T15:51:07.654Z"
   },
   {
    "duration": 27,
    "start_time": "2025-03-02T15:51:07.705Z"
   },
   {
    "duration": 17,
    "start_time": "2025-03-02T15:51:07.734Z"
   },
   {
    "duration": 1343,
    "start_time": "2025-03-02T15:51:07.752Z"
   },
   {
    "duration": 5,
    "start_time": "2025-03-02T15:51:09.096Z"
   },
   {
    "duration": 33,
    "start_time": "2025-03-02T15:51:09.103Z"
   },
   {
    "duration": 810,
    "start_time": "2025-03-02T15:51:09.138Z"
   },
   {
    "duration": 380,
    "start_time": "2025-03-02T15:51:09.950Z"
   },
   {
    "duration": 177,
    "start_time": "2025-03-02T15:51:10.331Z"
   },
   {
    "duration": 163,
    "start_time": "2025-03-02T15:51:10.510Z"
   },
   {
    "duration": 544,
    "start_time": "2025-03-02T15:51:10.675Z"
   },
   {
    "duration": 8,
    "start_time": "2025-03-02T15:51:11.222Z"
   },
   {
    "duration": 8,
    "start_time": "2025-03-02T15:51:11.232Z"
   },
   {
    "duration": 10,
    "start_time": "2025-03-02T15:51:11.241Z"
   },
   {
    "duration": 28,
    "start_time": "2025-03-02T15:51:11.252Z"
   },
   {
    "duration": 31,
    "start_time": "2025-03-02T15:51:11.282Z"
   },
   {
    "duration": 16,
    "start_time": "2025-03-02T15:51:11.315Z"
   },
   {
    "duration": 99,
    "start_time": "2025-03-02T15:51:11.333Z"
   },
   {
    "duration": 14,
    "start_time": "2025-03-02T15:51:11.434Z"
   },
   {
    "duration": 10,
    "start_time": "2025-03-02T15:51:11.449Z"
   },
   {
    "duration": 15,
    "start_time": "2025-03-02T15:51:11.461Z"
   },
   {
    "duration": 6,
    "start_time": "2025-03-02T15:51:11.477Z"
   },
   {
    "duration": 23,
    "start_time": "2025-03-02T15:51:11.485Z"
   },
   {
    "duration": 3,
    "start_time": "2025-03-02T15:51:11.510Z"
   },
   {
    "duration": 6,
    "start_time": "2025-03-02T15:51:11.515Z"
   },
   {
    "duration": 9,
    "start_time": "2025-03-02T15:51:11.522Z"
   },
   {
    "duration": 42,
    "start_time": "2025-03-02T15:51:11.532Z"
   },
   {
    "duration": 8,
    "start_time": "2025-03-02T15:51:11.576Z"
   },
   {
    "duration": 18,
    "start_time": "2025-03-02T15:51:11.585Z"
   },
   {
    "duration": 9,
    "start_time": "2025-03-02T15:51:11.605Z"
   },
   {
    "duration": 536,
    "start_time": "2025-03-02T15:51:11.615Z"
   },
   {
    "duration": 0,
    "start_time": "2025-03-02T15:51:12.153Z"
   },
   {
    "duration": 0,
    "start_time": "2025-03-02T15:51:12.154Z"
   },
   {
    "duration": 0,
    "start_time": "2025-03-02T15:51:12.155Z"
   },
   {
    "duration": 0,
    "start_time": "2025-03-02T15:51:12.156Z"
   },
   {
    "duration": 0,
    "start_time": "2025-03-02T15:51:12.157Z"
   },
   {
    "duration": 0,
    "start_time": "2025-03-02T15:51:12.161Z"
   },
   {
    "duration": 0,
    "start_time": "2025-03-02T15:51:12.162Z"
   },
   {
    "duration": 2076,
    "start_time": "2025-03-02T15:52:20.208Z"
   },
   {
    "duration": 18,
    "start_time": "2025-03-02T15:52:22.286Z"
   },
   {
    "duration": 27,
    "start_time": "2025-03-02T15:52:22.305Z"
   },
   {
    "duration": 48,
    "start_time": "2025-03-02T15:52:22.333Z"
   },
   {
    "duration": 12,
    "start_time": "2025-03-02T15:52:22.383Z"
   },
   {
    "duration": 12,
    "start_time": "2025-03-02T15:52:22.396Z"
   },
   {
    "duration": 64,
    "start_time": "2025-03-02T15:52:22.410Z"
   },
   {
    "duration": 24,
    "start_time": "2025-03-02T15:52:22.476Z"
   },
   {
    "duration": 23,
    "start_time": "2025-03-02T15:52:22.501Z"
   },
   {
    "duration": 81,
    "start_time": "2025-03-02T15:52:22.526Z"
   },
   {
    "duration": 21,
    "start_time": "2025-03-02T15:52:22.608Z"
   },
   {
    "duration": 22,
    "start_time": "2025-03-02T15:52:22.630Z"
   },
   {
    "duration": 29,
    "start_time": "2025-03-02T15:52:22.653Z"
   },
   {
    "duration": 42,
    "start_time": "2025-03-02T15:52:22.686Z"
   },
   {
    "duration": 66,
    "start_time": "2025-03-02T15:52:22.730Z"
   },
   {
    "duration": 37,
    "start_time": "2025-03-02T15:52:22.798Z"
   },
   {
    "duration": 47,
    "start_time": "2025-03-02T15:52:22.836Z"
   },
   {
    "duration": 33,
    "start_time": "2025-03-02T15:52:22.884Z"
   },
   {
    "duration": 272,
    "start_time": "2025-03-02T15:52:22.919Z"
   },
   {
    "duration": 1327,
    "start_time": "2025-03-02T15:52:23.193Z"
   },
   {
    "duration": 5,
    "start_time": "2025-03-02T15:52:24.522Z"
   },
   {
    "duration": 118,
    "start_time": "2025-03-02T15:52:24.528Z"
   },
   {
    "duration": 785,
    "start_time": "2025-03-02T15:52:24.648Z"
   },
   {
    "duration": 374,
    "start_time": "2025-03-02T15:52:25.435Z"
   },
   {
    "duration": 163,
    "start_time": "2025-03-02T15:52:25.811Z"
   },
   {
    "duration": 158,
    "start_time": "2025-03-02T15:52:25.976Z"
   },
   {
    "duration": 581,
    "start_time": "2025-03-02T15:52:26.136Z"
   },
   {
    "duration": 9,
    "start_time": "2025-03-02T15:52:26.719Z"
   },
   {
    "duration": 72,
    "start_time": "2025-03-02T15:52:26.729Z"
   },
   {
    "duration": 10,
    "start_time": "2025-03-02T15:52:26.802Z"
   },
   {
    "duration": 18,
    "start_time": "2025-03-02T15:52:26.813Z"
   },
   {
    "duration": 10,
    "start_time": "2025-03-02T15:52:26.833Z"
   },
   {
    "duration": 7,
    "start_time": "2025-03-02T15:52:26.845Z"
   },
   {
    "duration": 25,
    "start_time": "2025-03-02T15:52:26.854Z"
   },
   {
    "duration": 21,
    "start_time": "2025-03-02T15:52:26.880Z"
   },
   {
    "duration": 112,
    "start_time": "2025-03-02T15:52:26.903Z"
   },
   {
    "duration": 159,
    "start_time": "2025-03-02T15:52:27.017Z"
   },
   {
    "duration": 52,
    "start_time": "2025-03-02T15:52:27.177Z"
   },
   {
    "duration": 43,
    "start_time": "2025-03-02T15:52:27.231Z"
   },
   {
    "duration": 50,
    "start_time": "2025-03-02T15:52:27.276Z"
   },
   {
    "duration": 117,
    "start_time": "2025-03-02T15:52:27.330Z"
   },
   {
    "duration": 270,
    "start_time": "2025-03-02T15:52:27.449Z"
   },
   {
    "duration": 12,
    "start_time": "2025-03-02T15:52:27.721Z"
   },
   {
    "duration": 12,
    "start_time": "2025-03-02T15:52:27.734Z"
   },
   {
    "duration": 27,
    "start_time": "2025-03-02T15:52:27.748Z"
   },
   {
    "duration": 25,
    "start_time": "2025-03-02T15:52:27.777Z"
   },
   {
    "duration": 519,
    "start_time": "2025-03-02T15:52:27.803Z"
   },
   {
    "duration": 0,
    "start_time": "2025-03-02T15:52:28.324Z"
   },
   {
    "duration": 0,
    "start_time": "2025-03-02T15:52:28.325Z"
   },
   {
    "duration": 0,
    "start_time": "2025-03-02T15:52:28.326Z"
   },
   {
    "duration": 0,
    "start_time": "2025-03-02T15:52:28.327Z"
   },
   {
    "duration": 0,
    "start_time": "2025-03-02T15:52:28.328Z"
   },
   {
    "duration": 0,
    "start_time": "2025-03-02T15:52:28.330Z"
   },
   {
    "duration": 0,
    "start_time": "2025-03-02T15:52:28.331Z"
   },
   {
    "duration": 2101,
    "start_time": "2025-03-02T15:53:31.912Z"
   },
   {
    "duration": 17,
    "start_time": "2025-03-02T15:53:34.015Z"
   },
   {
    "duration": 25,
    "start_time": "2025-03-02T15:53:34.033Z"
   },
   {
    "duration": 39,
    "start_time": "2025-03-02T15:53:34.060Z"
   },
   {
    "duration": 24,
    "start_time": "2025-03-02T15:53:34.101Z"
   },
   {
    "duration": 19,
    "start_time": "2025-03-02T15:53:34.126Z"
   },
   {
    "duration": 31,
    "start_time": "2025-03-02T15:53:34.147Z"
   },
   {
    "duration": 46,
    "start_time": "2025-03-02T15:53:34.179Z"
   },
   {
    "duration": 30,
    "start_time": "2025-03-02T15:53:34.227Z"
   },
   {
    "duration": 77,
    "start_time": "2025-03-02T15:53:34.259Z"
   },
   {
    "duration": 20,
    "start_time": "2025-03-02T15:53:34.338Z"
   },
   {
    "duration": 52,
    "start_time": "2025-03-02T15:53:34.360Z"
   },
   {
    "duration": 114,
    "start_time": "2025-03-02T15:53:34.413Z"
   },
   {
    "duration": 23,
    "start_time": "2025-03-02T15:53:34.530Z"
   },
   {
    "duration": 42,
    "start_time": "2025-03-02T15:53:34.555Z"
   },
   {
    "duration": 31,
    "start_time": "2025-03-02T15:53:34.599Z"
   },
   {
    "duration": 50,
    "start_time": "2025-03-02T15:53:34.632Z"
   },
   {
    "duration": 124,
    "start_time": "2025-03-02T15:53:34.683Z"
   },
   {
    "duration": 65,
    "start_time": "2025-03-02T15:53:34.808Z"
   },
   {
    "duration": 1376,
    "start_time": "2025-03-02T15:53:34.874Z"
   },
   {
    "duration": 22,
    "start_time": "2025-03-02T15:53:36.252Z"
   },
   {
    "duration": 66,
    "start_time": "2025-03-02T15:53:36.275Z"
   },
   {
    "duration": 794,
    "start_time": "2025-03-02T15:53:36.343Z"
   },
   {
    "duration": 381,
    "start_time": "2025-03-02T15:53:37.138Z"
   },
   {
    "duration": 159,
    "start_time": "2025-03-02T15:53:37.521Z"
   },
   {
    "duration": 223,
    "start_time": "2025-03-02T15:53:37.681Z"
   },
   {
    "duration": 548,
    "start_time": "2025-03-02T15:53:37.906Z"
   },
   {
    "duration": 27,
    "start_time": "2025-03-02T15:53:38.455Z"
   },
   {
    "duration": 91,
    "start_time": "2025-03-02T15:53:38.484Z"
   },
   {
    "duration": 39,
    "start_time": "2025-03-02T15:53:38.577Z"
   },
   {
    "duration": 57,
    "start_time": "2025-03-02T15:53:38.618Z"
   },
   {
    "duration": 107,
    "start_time": "2025-03-02T15:53:38.677Z"
   },
   {
    "duration": 29,
    "start_time": "2025-03-02T15:53:38.785Z"
   },
   {
    "duration": 24,
    "start_time": "2025-03-02T15:53:38.816Z"
   },
   {
    "duration": 41,
    "start_time": "2025-03-02T15:53:38.841Z"
   },
   {
    "duration": 34,
    "start_time": "2025-03-02T15:53:38.884Z"
   },
   {
    "duration": 199,
    "start_time": "2025-03-02T15:53:38.919Z"
   },
   {
    "duration": 89,
    "start_time": "2025-03-02T15:53:39.119Z"
   },
   {
    "duration": 46,
    "start_time": "2025-03-02T15:53:39.210Z"
   },
   {
    "duration": 38,
    "start_time": "2025-03-02T15:53:39.258Z"
   },
   {
    "duration": 37,
    "start_time": "2025-03-02T15:53:39.300Z"
   },
   {
    "duration": 114,
    "start_time": "2025-03-02T15:53:39.339Z"
   },
   {
    "duration": 31,
    "start_time": "2025-03-02T15:53:39.455Z"
   },
   {
    "duration": 38,
    "start_time": "2025-03-02T15:53:39.488Z"
   },
   {
    "duration": 65,
    "start_time": "2025-03-02T15:53:39.528Z"
   },
   {
    "duration": 28,
    "start_time": "2025-03-02T15:53:39.595Z"
   },
   {
    "duration": 551,
    "start_time": "2025-03-02T15:53:39.625Z"
   },
   {
    "duration": 0,
    "start_time": "2025-03-02T15:53:40.178Z"
   },
   {
    "duration": 0,
    "start_time": "2025-03-02T15:53:40.179Z"
   },
   {
    "duration": 0,
    "start_time": "2025-03-02T15:53:40.180Z"
   },
   {
    "duration": 0,
    "start_time": "2025-03-02T15:53:40.181Z"
   },
   {
    "duration": 0,
    "start_time": "2025-03-02T15:53:40.183Z"
   },
   {
    "duration": 0,
    "start_time": "2025-03-02T15:53:40.184Z"
   },
   {
    "duration": 0,
    "start_time": "2025-03-02T15:53:40.185Z"
   },
   {
    "duration": 368,
    "start_time": "2025-03-02T15:54:04.906Z"
   },
   {
    "duration": 11,
    "start_time": "2025-03-02T15:54:10.336Z"
   },
   {
    "duration": 294,
    "start_time": "2025-03-02T15:54:13.008Z"
   },
   {
    "duration": 2123,
    "start_time": "2025-03-02T15:57:29.481Z"
   },
   {
    "duration": 17,
    "start_time": "2025-03-02T15:57:31.606Z"
   },
   {
    "duration": 451,
    "start_time": "2025-03-02T15:57:31.624Z"
   },
   {
    "duration": 33,
    "start_time": "2025-03-02T15:57:32.078Z"
   },
   {
    "duration": 24,
    "start_time": "2025-03-02T15:57:32.112Z"
   },
   {
    "duration": 15,
    "start_time": "2025-03-02T15:57:32.137Z"
   },
   {
    "duration": 7,
    "start_time": "2025-03-02T15:57:32.154Z"
   },
   {
    "duration": 31,
    "start_time": "2025-03-02T15:57:32.166Z"
   },
   {
    "duration": 19,
    "start_time": "2025-03-02T15:57:32.199Z"
   },
   {
    "duration": 71,
    "start_time": "2025-03-02T15:57:32.220Z"
   },
   {
    "duration": 20,
    "start_time": "2025-03-02T15:57:32.293Z"
   },
   {
    "duration": 21,
    "start_time": "2025-03-02T15:57:32.315Z"
   },
   {
    "duration": 39,
    "start_time": "2025-03-02T15:57:32.337Z"
   },
   {
    "duration": 27,
    "start_time": "2025-03-02T15:57:32.377Z"
   },
   {
    "duration": 37,
    "start_time": "2025-03-02T15:57:32.406Z"
   },
   {
    "duration": 7,
    "start_time": "2025-03-02T15:57:32.444Z"
   },
   {
    "duration": 25,
    "start_time": "2025-03-02T15:57:32.453Z"
   },
   {
    "duration": 43,
    "start_time": "2025-03-02T15:57:32.480Z"
   },
   {
    "duration": 10,
    "start_time": "2025-03-02T15:57:32.524Z"
   },
   {
    "duration": 1371,
    "start_time": "2025-03-02T15:57:32.535Z"
   },
   {
    "duration": 5,
    "start_time": "2025-03-02T15:57:33.908Z"
   },
   {
    "duration": 46,
    "start_time": "2025-03-02T15:57:33.914Z"
   },
   {
    "duration": 777,
    "start_time": "2025-03-02T15:57:33.962Z"
   },
   {
    "duration": 353,
    "start_time": "2025-03-02T15:57:34.740Z"
   },
   {
    "duration": 152,
    "start_time": "2025-03-02T15:57:35.094Z"
   },
   {
    "duration": 229,
    "start_time": "2025-03-02T15:57:35.248Z"
   },
   {
    "duration": 559,
    "start_time": "2025-03-02T15:57:35.479Z"
   },
   {
    "duration": 9,
    "start_time": "2025-03-02T15:57:36.042Z"
   },
   {
    "duration": 27,
    "start_time": "2025-03-02T15:57:36.053Z"
   },
   {
    "duration": 30,
    "start_time": "2025-03-02T15:57:36.082Z"
   },
   {
    "duration": 25,
    "start_time": "2025-03-02T15:57:36.113Z"
   },
   {
    "duration": 38,
    "start_time": "2025-03-02T15:57:36.140Z"
   },
   {
    "duration": 40,
    "start_time": "2025-03-02T15:57:36.180Z"
   },
   {
    "duration": 22,
    "start_time": "2025-03-02T15:57:36.222Z"
   },
   {
    "duration": 20,
    "start_time": "2025-03-02T15:57:36.246Z"
   },
   {
    "duration": 34,
    "start_time": "2025-03-02T15:57:36.267Z"
   },
   {
    "duration": 37,
    "start_time": "2025-03-02T15:57:36.303Z"
   },
   {
    "duration": 15,
    "start_time": "2025-03-02T15:57:36.342Z"
   },
   {
    "duration": 29,
    "start_time": "2025-03-02T15:57:36.359Z"
   },
   {
    "duration": 22,
    "start_time": "2025-03-02T15:57:36.390Z"
   },
   {
    "duration": 11,
    "start_time": "2025-03-02T15:57:36.414Z"
   },
   {
    "duration": 8,
    "start_time": "2025-03-02T15:57:36.427Z"
   },
   {
    "duration": 14,
    "start_time": "2025-03-02T15:57:36.437Z"
   },
   {
    "duration": 30,
    "start_time": "2025-03-02T15:57:36.452Z"
   },
   {
    "duration": 29,
    "start_time": "2025-03-02T15:57:36.483Z"
   },
   {
    "duration": 246769,
    "start_time": "2025-03-02T15:57:36.514Z"
   },
   {
    "duration": 1,
    "start_time": "2025-03-02T16:01:43.285Z"
   },
   {
    "duration": 186,
    "start_time": "2025-03-02T16:01:43.288Z"
   },
   {
    "duration": 156,
    "start_time": "2025-03-02T16:01:43.476Z"
   },
   {
    "duration": 6,
    "start_time": "2025-03-02T16:01:43.634Z"
   },
   {
    "duration": 5,
    "start_time": "2025-03-02T16:01:43.642Z"
   },
   {
    "duration": 7,
    "start_time": "2025-03-02T16:01:43.648Z"
   },
   {
    "duration": 11,
    "start_time": "2025-03-02T16:01:43.656Z"
   },
   {
    "duration": 2064,
    "start_time": "2025-03-02T16:02:09.587Z"
   },
   {
    "duration": 28,
    "start_time": "2025-03-02T16:02:11.652Z"
   },
   {
    "duration": 3,
    "start_time": "2025-03-02T16:02:11.681Z"
   },
   {
    "duration": 13,
    "start_time": "2025-03-02T16:02:11.685Z"
   },
   {
    "duration": 20,
    "start_time": "2025-03-02T16:02:11.700Z"
   },
   {
    "duration": 5,
    "start_time": "2025-03-02T16:02:11.721Z"
   },
   {
    "duration": 6,
    "start_time": "2025-03-02T16:02:11.727Z"
   },
   {
    "duration": 19,
    "start_time": "2025-03-02T16:02:11.735Z"
   },
   {
    "duration": 4,
    "start_time": "2025-03-02T16:02:11.755Z"
   },
   {
    "duration": 85,
    "start_time": "2025-03-02T16:02:11.760Z"
   },
   {
    "duration": 27,
    "start_time": "2025-03-02T16:02:11.847Z"
   },
   {
    "duration": 8,
    "start_time": "2025-03-02T16:02:11.875Z"
   },
   {
    "duration": 13,
    "start_time": "2025-03-02T16:02:11.884Z"
   },
   {
    "duration": 6,
    "start_time": "2025-03-02T16:02:11.900Z"
   },
   {
    "duration": 21,
    "start_time": "2025-03-02T16:02:11.907Z"
   },
   {
    "duration": 21,
    "start_time": "2025-03-02T16:02:11.929Z"
   },
   {
    "duration": 5,
    "start_time": "2025-03-02T16:02:11.952Z"
   },
   {
    "duration": 23,
    "start_time": "2025-03-02T16:02:11.958Z"
   },
   {
    "duration": 49,
    "start_time": "2025-03-02T16:02:11.983Z"
   },
   {
    "duration": 1359,
    "start_time": "2025-03-02T16:02:12.033Z"
   },
   {
    "duration": 5,
    "start_time": "2025-03-02T16:02:13.393Z"
   },
   {
    "duration": 82,
    "start_time": "2025-03-02T16:02:13.399Z"
   },
   {
    "duration": 836,
    "start_time": "2025-03-02T16:02:13.482Z"
   },
   {
    "duration": 337,
    "start_time": "2025-03-02T16:02:14.321Z"
   },
   {
    "duration": 140,
    "start_time": "2025-03-02T16:02:14.669Z"
   },
   {
    "duration": 168,
    "start_time": "2025-03-02T16:02:14.811Z"
   },
   {
    "duration": 530,
    "start_time": "2025-03-02T16:02:14.980Z"
   },
   {
    "duration": 9,
    "start_time": "2025-03-02T16:02:15.512Z"
   },
   {
    "duration": 11,
    "start_time": "2025-03-02T16:02:15.523Z"
   },
   {
    "duration": 58,
    "start_time": "2025-03-02T16:02:15.535Z"
   },
   {
    "duration": 24,
    "start_time": "2025-03-02T16:02:15.595Z"
   },
   {
    "duration": 8,
    "start_time": "2025-03-02T16:02:15.621Z"
   },
   {
    "duration": 11,
    "start_time": "2025-03-02T16:02:15.630Z"
   },
   {
    "duration": 14,
    "start_time": "2025-03-02T16:02:15.643Z"
   },
   {
    "duration": 20,
    "start_time": "2025-03-02T16:02:15.658Z"
   },
   {
    "duration": 61,
    "start_time": "2025-03-02T16:02:15.680Z"
   },
   {
    "duration": 10,
    "start_time": "2025-03-02T16:02:15.743Z"
   },
   {
    "duration": 4,
    "start_time": "2025-03-02T16:02:15.754Z"
   },
   {
    "duration": 34,
    "start_time": "2025-03-02T16:02:15.760Z"
   },
   {
    "duration": 5,
    "start_time": "2025-03-02T16:02:15.796Z"
   },
   {
    "duration": 8,
    "start_time": "2025-03-02T16:02:15.805Z"
   },
   {
    "duration": 27,
    "start_time": "2025-03-02T16:02:15.814Z"
   },
   {
    "duration": 9,
    "start_time": "2025-03-02T16:02:15.843Z"
   },
   {
    "duration": 22,
    "start_time": "2025-03-02T16:02:15.854Z"
   },
   {
    "duration": 17,
    "start_time": "2025-03-02T16:02:15.878Z"
   },
   {
    "duration": 249877,
    "start_time": "2025-03-02T16:02:15.896Z"
   },
   {
    "duration": 5,
    "start_time": "2025-03-02T16:06:25.779Z"
   },
   {
    "duration": 38,
    "start_time": "2025-03-02T16:06:25.788Z"
   },
   {
    "duration": 34,
    "start_time": "2025-03-02T16:06:25.827Z"
   },
   {
    "duration": 26,
    "start_time": "2025-03-02T16:06:25.864Z"
   },
   {
    "duration": 25,
    "start_time": "2025-03-02T16:06:25.892Z"
   },
   {
    "duration": 32,
    "start_time": "2025-03-02T16:06:25.918Z"
   },
   {
    "duration": 51,
    "start_time": "2025-03-02T16:06:25.952Z"
   },
   {
    "duration": 2162,
    "start_time": "2025-03-02T16:07:14.162Z"
   },
   {
    "duration": 28,
    "start_time": "2025-03-02T16:07:16.326Z"
   },
   {
    "duration": 3,
    "start_time": "2025-03-02T16:07:16.356Z"
   },
   {
    "duration": 18,
    "start_time": "2025-03-02T16:07:16.360Z"
   },
   {
    "duration": 5,
    "start_time": "2025-03-02T16:07:16.380Z"
   },
   {
    "duration": 5,
    "start_time": "2025-03-02T16:07:16.387Z"
   },
   {
    "duration": 5,
    "start_time": "2025-03-02T16:07:16.394Z"
   },
   {
    "duration": 22,
    "start_time": "2025-03-02T16:07:16.400Z"
   },
   {
    "duration": 3,
    "start_time": "2025-03-02T16:07:16.424Z"
   },
   {
    "duration": 68,
    "start_time": "2025-03-02T16:07:16.428Z"
   },
   {
    "duration": 18,
    "start_time": "2025-03-02T16:07:16.498Z"
   },
   {
    "duration": 36,
    "start_time": "2025-03-02T16:07:16.517Z"
   },
   {
    "duration": 15,
    "start_time": "2025-03-02T16:07:16.554Z"
   },
   {
    "duration": 4,
    "start_time": "2025-03-02T16:07:16.579Z"
   },
   {
    "duration": 14,
    "start_time": "2025-03-02T16:07:16.586Z"
   },
   {
    "duration": 5,
    "start_time": "2025-03-02T16:07:16.601Z"
   },
   {
    "duration": 47,
    "start_time": "2025-03-02T16:07:16.607Z"
   },
   {
    "duration": 22,
    "start_time": "2025-03-02T16:07:16.656Z"
   },
   {
    "duration": 19,
    "start_time": "2025-03-02T16:07:16.679Z"
   },
   {
    "duration": 1328,
    "start_time": "2025-03-02T16:07:16.700Z"
   },
   {
    "duration": 5,
    "start_time": "2025-03-02T16:07:18.029Z"
   },
   {
    "duration": 20,
    "start_time": "2025-03-02T16:07:18.035Z"
   },
   {
    "duration": 758,
    "start_time": "2025-03-02T16:07:18.057Z"
   },
   {
    "duration": 341,
    "start_time": "2025-03-02T16:07:18.817Z"
   },
   {
    "duration": 154,
    "start_time": "2025-03-02T16:07:19.162Z"
   },
   {
    "duration": 166,
    "start_time": "2025-03-02T16:07:19.317Z"
   },
   {
    "duration": 528,
    "start_time": "2025-03-02T16:07:19.484Z"
   },
   {
    "duration": 10,
    "start_time": "2025-03-02T16:07:20.013Z"
   },
   {
    "duration": 221,
    "start_time": "2025-03-02T16:07:20.024Z"
   },
   {
    "duration": 51,
    "start_time": "2025-03-02T16:07:20.247Z"
   },
   {
    "duration": 344,
    "start_time": "2025-03-02T16:07:20.300Z"
   },
   {
    "duration": 232,
    "start_time": "2025-03-02T16:07:20.646Z"
   },
   {
    "duration": 17,
    "start_time": "2025-03-02T16:07:20.880Z"
   },
   {
    "duration": 11,
    "start_time": "2025-03-02T16:07:20.899Z"
   },
   {
    "duration": 5,
    "start_time": "2025-03-02T16:07:20.912Z"
   },
   {
    "duration": 26,
    "start_time": "2025-03-02T16:07:20.918Z"
   },
   {
    "duration": 24,
    "start_time": "2025-03-02T16:07:20.945Z"
   },
   {
    "duration": 3,
    "start_time": "2025-03-02T16:07:20.975Z"
   },
   {
    "duration": 209,
    "start_time": "2025-03-02T16:07:20.979Z"
   },
   {
    "duration": 29,
    "start_time": "2025-03-02T16:07:21.190Z"
   },
   {
    "duration": 6,
    "start_time": "2025-03-02T16:07:21.222Z"
   },
   {
    "duration": 29,
    "start_time": "2025-03-02T16:07:21.229Z"
   },
   {
    "duration": 25,
    "start_time": "2025-03-02T16:07:21.260Z"
   },
   {
    "duration": 32,
    "start_time": "2025-03-02T16:07:21.287Z"
   },
   {
    "duration": 15,
    "start_time": "2025-03-02T16:07:21.321Z"
   },
   {
    "duration": 242748,
    "start_time": "2025-03-02T16:07:21.337Z"
   },
   {
    "duration": 2,
    "start_time": "2025-03-02T16:11:24.087Z"
   },
   {
    "duration": 22,
    "start_time": "2025-03-02T16:11:24.090Z"
   },
   {
    "duration": 13,
    "start_time": "2025-03-02T16:11:24.113Z"
   },
   {
    "duration": 10,
    "start_time": "2025-03-02T16:11:24.128Z"
   },
   {
    "duration": 8,
    "start_time": "2025-03-02T16:11:24.139Z"
   },
   {
    "duration": 5,
    "start_time": "2025-03-02T16:11:24.170Z"
   },
   {
    "duration": 7,
    "start_time": "2025-03-02T16:11:24.177Z"
   },
   {
    "duration": 2205,
    "start_time": "2025-03-02T16:12:01.277Z"
   },
   {
    "duration": 17,
    "start_time": "2025-03-02T16:12:03.484Z"
   },
   {
    "duration": 11,
    "start_time": "2025-03-02T16:12:03.502Z"
   },
   {
    "duration": 19,
    "start_time": "2025-03-02T16:12:03.515Z"
   },
   {
    "duration": 21,
    "start_time": "2025-03-02T16:12:03.536Z"
   },
   {
    "duration": 48,
    "start_time": "2025-03-02T16:12:03.558Z"
   },
   {
    "duration": 11,
    "start_time": "2025-03-02T16:12:03.608Z"
   },
   {
    "duration": 31,
    "start_time": "2025-03-02T16:12:03.620Z"
   },
   {
    "duration": 40,
    "start_time": "2025-03-02T16:12:03.653Z"
   },
   {
    "duration": 85,
    "start_time": "2025-03-02T16:12:03.694Z"
   },
   {
    "duration": 20,
    "start_time": "2025-03-02T16:12:03.780Z"
   },
   {
    "duration": 14,
    "start_time": "2025-03-02T16:12:03.802Z"
   },
   {
    "duration": 23,
    "start_time": "2025-03-02T16:12:03.818Z"
   },
   {
    "duration": 15,
    "start_time": "2025-03-02T16:12:03.845Z"
   },
   {
    "duration": 51,
    "start_time": "2025-03-02T16:12:03.862Z"
   },
   {
    "duration": 15,
    "start_time": "2025-03-02T16:12:03.915Z"
   },
   {
    "duration": 22,
    "start_time": "2025-03-02T16:12:03.931Z"
   },
   {
    "duration": 27,
    "start_time": "2025-03-02T16:12:03.954Z"
   },
   {
    "duration": 74,
    "start_time": "2025-03-02T16:12:03.983Z"
   },
   {
    "duration": 1298,
    "start_time": "2025-03-02T16:12:04.058Z"
   },
   {
    "duration": 13,
    "start_time": "2025-03-02T16:12:05.362Z"
   },
   {
    "duration": 36,
    "start_time": "2025-03-02T16:12:05.376Z"
   },
   {
    "duration": 803,
    "start_time": "2025-03-02T16:12:05.413Z"
   },
   {
    "duration": 354,
    "start_time": "2025-03-02T16:12:06.219Z"
   },
   {
    "duration": 152,
    "start_time": "2025-03-02T16:12:06.575Z"
   },
   {
    "duration": 166,
    "start_time": "2025-03-02T16:12:06.729Z"
   },
   {
    "duration": 520,
    "start_time": "2025-03-02T16:12:06.897Z"
   },
   {
    "duration": 9,
    "start_time": "2025-03-02T16:12:07.419Z"
   },
   {
    "duration": 32,
    "start_time": "2025-03-02T16:12:07.429Z"
   },
   {
    "duration": 33,
    "start_time": "2025-03-02T16:12:07.468Z"
   },
   {
    "duration": 30,
    "start_time": "2025-03-02T16:12:07.503Z"
   },
   {
    "duration": 8,
    "start_time": "2025-03-02T16:12:07.535Z"
   },
   {
    "duration": 33,
    "start_time": "2025-03-02T16:12:07.545Z"
   },
   {
    "duration": 30,
    "start_time": "2025-03-02T16:12:07.580Z"
   },
   {
    "duration": 12,
    "start_time": "2025-03-02T16:12:07.611Z"
   },
   {
    "duration": 50,
    "start_time": "2025-03-02T16:12:07.624Z"
   },
   {
    "duration": 30,
    "start_time": "2025-03-02T16:12:07.676Z"
   },
   {
    "duration": 19,
    "start_time": "2025-03-02T16:12:07.708Z"
   },
   {
    "duration": 60,
    "start_time": "2025-03-02T16:12:07.728Z"
   },
   {
    "duration": 24,
    "start_time": "2025-03-02T16:12:07.789Z"
   },
   {
    "duration": 8,
    "start_time": "2025-03-02T16:12:07.817Z"
   },
   {
    "duration": 16,
    "start_time": "2025-03-02T16:12:07.826Z"
   },
   {
    "duration": 35,
    "start_time": "2025-03-02T16:12:07.843Z"
   },
   {
    "duration": 38,
    "start_time": "2025-03-02T16:12:07.880Z"
   },
   {
    "duration": 36,
    "start_time": "2025-03-02T16:12:07.919Z"
   },
   {
    "duration": 222933,
    "start_time": "2025-03-02T16:12:07.957Z"
   },
   {
    "duration": 8,
    "start_time": "2025-03-02T16:15:50.966Z"
   },
   {
    "duration": 35,
    "start_time": "2025-03-02T16:15:50.976Z"
   },
   {
    "duration": 35,
    "start_time": "2025-03-02T16:15:51.012Z"
   },
   {
    "duration": 26,
    "start_time": "2025-03-02T16:15:51.049Z"
   },
   {
    "duration": 16,
    "start_time": "2025-03-02T16:15:51.077Z"
   },
   {
    "duration": 4,
    "start_time": "2025-03-02T16:15:51.095Z"
   },
   {
    "duration": 10,
    "start_time": "2025-03-02T16:15:51.100Z"
   },
   {
    "duration": 2156,
    "start_time": "2025-03-02T16:19:00.652Z"
   },
   {
    "duration": 28,
    "start_time": "2025-03-02T16:19:02.810Z"
   },
   {
    "duration": 45,
    "start_time": "2025-03-02T16:19:02.839Z"
   },
   {
    "duration": 93,
    "start_time": "2025-03-02T16:19:02.887Z"
   },
   {
    "duration": 77,
    "start_time": "2025-03-02T16:19:02.982Z"
   },
   {
    "duration": 336,
    "start_time": "2025-03-02T16:19:03.060Z"
   },
   {
    "duration": 478,
    "start_time": "2025-03-02T16:19:03.398Z"
   },
   {
    "duration": 222,
    "start_time": "2025-03-02T16:19:03.878Z"
   },
   {
    "duration": 29,
    "start_time": "2025-03-02T16:19:04.102Z"
   },
   {
    "duration": 172,
    "start_time": "2025-03-02T16:19:04.134Z"
   },
   {
    "duration": 42,
    "start_time": "2025-03-02T16:19:04.308Z"
   },
   {
    "duration": 58,
    "start_time": "2025-03-02T16:19:04.351Z"
   },
   {
    "duration": 48,
    "start_time": "2025-03-02T16:19:04.410Z"
   },
   {
    "duration": 60,
    "start_time": "2025-03-02T16:19:04.460Z"
   },
   {
    "duration": 60,
    "start_time": "2025-03-02T16:19:04.522Z"
   },
   {
    "duration": 33,
    "start_time": "2025-03-02T16:19:04.584Z"
   },
   {
    "duration": 50,
    "start_time": "2025-03-02T16:19:04.619Z"
   },
   {
    "duration": 82,
    "start_time": "2025-03-02T16:19:04.671Z"
   },
   {
    "duration": 61,
    "start_time": "2025-03-02T16:19:04.754Z"
   },
   {
    "duration": 1494,
    "start_time": "2025-03-02T16:19:04.816Z"
   },
   {
    "duration": 5,
    "start_time": "2025-03-02T16:19:06.312Z"
   },
   {
    "duration": 274,
    "start_time": "2025-03-02T16:19:06.318Z"
   },
   {
    "duration": 817,
    "start_time": "2025-03-02T16:19:06.594Z"
   },
   {
    "duration": 383,
    "start_time": "2025-03-02T16:19:07.414Z"
   },
   {
    "duration": 151,
    "start_time": "2025-03-02T16:19:07.798Z"
   },
   {
    "duration": 174,
    "start_time": "2025-03-02T16:19:07.950Z"
   },
   {
    "duration": 578,
    "start_time": "2025-03-02T16:19:08.125Z"
   },
   {
    "duration": 8,
    "start_time": "2025-03-02T16:19:08.707Z"
   },
   {
    "duration": 7,
    "start_time": "2025-03-02T16:19:08.717Z"
   },
   {
    "duration": 4,
    "start_time": "2025-03-02T16:19:08.725Z"
   },
   {
    "duration": 16,
    "start_time": "2025-03-02T16:19:08.730Z"
   },
   {
    "duration": 18,
    "start_time": "2025-03-02T16:19:08.747Z"
   },
   {
    "duration": 8,
    "start_time": "2025-03-02T16:19:08.767Z"
   },
   {
    "duration": 7,
    "start_time": "2025-03-02T16:19:08.777Z"
   },
   {
    "duration": 8,
    "start_time": "2025-03-02T16:19:08.786Z"
   },
   {
    "duration": 3,
    "start_time": "2025-03-02T16:19:08.795Z"
   },
   {
    "duration": 8,
    "start_time": "2025-03-02T16:19:08.800Z"
   },
   {
    "duration": 126,
    "start_time": "2025-03-02T16:19:08.809Z"
   },
   {
    "duration": 48,
    "start_time": "2025-03-02T16:19:08.937Z"
   },
   {
    "duration": 14,
    "start_time": "2025-03-02T16:19:08.987Z"
   },
   {
    "duration": 5,
    "start_time": "2025-03-02T16:19:09.002Z"
   },
   {
    "duration": 9,
    "start_time": "2025-03-02T16:19:09.009Z"
   },
   {
    "duration": 11,
    "start_time": "2025-03-02T16:19:09.020Z"
   },
   {
    "duration": 5,
    "start_time": "2025-03-02T16:19:09.032Z"
   },
   {
    "duration": 121,
    "start_time": "2025-03-02T16:19:09.038Z"
   },
   {
    "duration": 228,
    "start_time": "2025-03-02T16:19:09.161Z"
   },
   {
    "duration": 2101,
    "start_time": "2025-03-02T16:39:55.018Z"
   },
   {
    "duration": 17,
    "start_time": "2025-03-02T16:39:57.121Z"
   },
   {
    "duration": 3,
    "start_time": "2025-03-02T16:39:57.139Z"
   },
   {
    "duration": 8,
    "start_time": "2025-03-02T16:39:57.144Z"
   },
   {
    "duration": 47,
    "start_time": "2025-03-02T16:39:57.153Z"
   },
   {
    "duration": 32,
    "start_time": "2025-03-02T16:39:57.201Z"
   },
   {
    "duration": 9,
    "start_time": "2025-03-02T16:39:57.235Z"
   },
   {
    "duration": 35,
    "start_time": "2025-03-02T16:39:57.245Z"
   },
   {
    "duration": 8,
    "start_time": "2025-03-02T16:39:57.282Z"
   },
   {
    "duration": 59,
    "start_time": "2025-03-02T16:39:57.292Z"
   },
   {
    "duration": 79,
    "start_time": "2025-03-02T16:39:57.353Z"
   },
   {
    "duration": 17,
    "start_time": "2025-03-02T16:39:57.434Z"
   },
   {
    "duration": 17,
    "start_time": "2025-03-02T16:39:57.454Z"
   },
   {
    "duration": 20,
    "start_time": "2025-03-02T16:39:57.473Z"
   },
   {
    "duration": 19,
    "start_time": "2025-03-02T16:39:57.495Z"
   },
   {
    "duration": 12,
    "start_time": "2025-03-02T16:39:57.516Z"
   },
   {
    "duration": 105,
    "start_time": "2025-03-02T16:39:57.531Z"
   },
   {
    "duration": 33,
    "start_time": "2025-03-02T16:39:57.638Z"
   },
   {
    "duration": 34,
    "start_time": "2025-03-02T16:39:57.675Z"
   },
   {
    "duration": 1312,
    "start_time": "2025-03-02T16:39:57.710Z"
   },
   {
    "duration": 5,
    "start_time": "2025-03-02T16:39:59.023Z"
   },
   {
    "duration": 41,
    "start_time": "2025-03-02T16:39:59.029Z"
   },
   {
    "duration": 772,
    "start_time": "2025-03-02T16:39:59.073Z"
   },
   {
    "duration": 358,
    "start_time": "2025-03-02T16:39:59.847Z"
   },
   {
    "duration": 155,
    "start_time": "2025-03-02T16:40:00.207Z"
   },
   {
    "duration": 174,
    "start_time": "2025-03-02T16:40:00.371Z"
   },
   {
    "duration": 559,
    "start_time": "2025-03-02T16:40:00.546Z"
   },
   {
    "duration": 9,
    "start_time": "2025-03-02T16:40:01.108Z"
   },
   {
    "duration": 13,
    "start_time": "2025-03-02T16:40:01.118Z"
   },
   {
    "duration": 9,
    "start_time": "2025-03-02T16:40:01.133Z"
   },
   {
    "duration": 8,
    "start_time": "2025-03-02T16:40:01.143Z"
   },
   {
    "duration": 24,
    "start_time": "2025-03-02T16:40:01.152Z"
   },
   {
    "duration": 232,
    "start_time": "2025-03-02T16:40:01.178Z"
   },
   {
    "duration": 18,
    "start_time": "2025-03-02T16:40:01.412Z"
   },
   {
    "duration": 24,
    "start_time": "2025-03-02T16:40:01.431Z"
   },
   {
    "duration": 50,
    "start_time": "2025-03-02T16:40:01.456Z"
   },
   {
    "duration": 17,
    "start_time": "2025-03-02T16:40:01.507Z"
   },
   {
    "duration": 156,
    "start_time": "2025-03-02T16:40:01.525Z"
   },
   {
    "duration": 115,
    "start_time": "2025-03-02T16:40:01.683Z"
   },
   {
    "duration": 45,
    "start_time": "2025-03-02T16:40:01.800Z"
   },
   {
    "duration": 311,
    "start_time": "2025-03-02T16:40:01.846Z"
   },
   {
    "duration": 88,
    "start_time": "2025-03-02T16:40:02.158Z"
   },
   {
    "duration": 197,
    "start_time": "2025-03-02T16:40:02.248Z"
   },
   {
    "duration": 16,
    "start_time": "2025-03-02T16:40:02.447Z"
   },
   {
    "duration": 64,
    "start_time": "2025-03-02T16:40:02.471Z"
   },
   {
    "duration": 98,
    "start_time": "2025-03-02T16:40:02.537Z"
   },
   {
    "duration": 2083,
    "start_time": "2025-03-02T16:49:52.775Z"
   },
   {
    "duration": 19,
    "start_time": "2025-03-02T16:49:54.862Z"
   },
   {
    "duration": 20,
    "start_time": "2025-03-02T16:49:54.882Z"
   },
   {
    "duration": 36,
    "start_time": "2025-03-02T16:49:54.904Z"
   },
   {
    "duration": 4,
    "start_time": "2025-03-02T16:49:54.942Z"
   },
   {
    "duration": 57,
    "start_time": "2025-03-02T16:49:54.948Z"
   },
   {
    "duration": 33,
    "start_time": "2025-03-02T16:49:55.006Z"
   },
   {
    "duration": 55,
    "start_time": "2025-03-02T16:49:55.040Z"
   },
   {
    "duration": 51,
    "start_time": "2025-03-02T16:49:55.097Z"
   },
   {
    "duration": 125,
    "start_time": "2025-03-02T16:49:55.150Z"
   },
   {
    "duration": 45,
    "start_time": "2025-03-02T16:49:55.277Z"
   },
   {
    "duration": 13,
    "start_time": "2025-03-02T16:49:55.324Z"
   },
   {
    "duration": 101,
    "start_time": "2025-03-02T16:49:55.338Z"
   },
   {
    "duration": 44,
    "start_time": "2025-03-02T16:49:55.441Z"
   },
   {
    "duration": 22,
    "start_time": "2025-03-02T16:49:55.487Z"
   },
   {
    "duration": 51,
    "start_time": "2025-03-02T16:49:55.510Z"
   },
   {
    "duration": 112,
    "start_time": "2025-03-02T16:49:55.562Z"
   },
   {
    "duration": 16,
    "start_time": "2025-03-02T16:49:55.675Z"
   },
   {
    "duration": 33,
    "start_time": "2025-03-02T16:49:55.693Z"
   },
   {
    "duration": 1326,
    "start_time": "2025-03-02T16:49:55.728Z"
   },
   {
    "duration": 19,
    "start_time": "2025-03-02T16:49:57.057Z"
   },
   {
    "duration": 25,
    "start_time": "2025-03-02T16:49:57.077Z"
   },
   {
    "duration": 779,
    "start_time": "2025-03-02T16:49:57.104Z"
   },
   {
    "duration": 358,
    "start_time": "2025-03-02T16:49:57.885Z"
   },
   {
    "duration": 151,
    "start_time": "2025-03-02T16:49:58.244Z"
   },
   {
    "duration": 175,
    "start_time": "2025-03-02T16:49:58.397Z"
   },
   {
    "duration": 539,
    "start_time": "2025-03-02T16:49:58.575Z"
   },
   {
    "duration": 9,
    "start_time": "2025-03-02T16:49:59.117Z"
   },
   {
    "duration": 171,
    "start_time": "2025-03-02T16:49:59.127Z"
   },
   {
    "duration": 14,
    "start_time": "2025-03-02T16:49:59.300Z"
   },
   {
    "duration": 13,
    "start_time": "2025-03-02T16:49:59.316Z"
   },
   {
    "duration": 12,
    "start_time": "2025-03-02T16:49:59.331Z"
   },
   {
    "duration": 109,
    "start_time": "2025-03-02T16:49:59.344Z"
   },
   {
    "duration": 30,
    "start_time": "2025-03-02T16:49:59.455Z"
   },
   {
    "duration": 22,
    "start_time": "2025-03-02T16:49:59.487Z"
   },
   {
    "duration": 8,
    "start_time": "2025-03-02T16:49:59.510Z"
   },
   {
    "duration": 10,
    "start_time": "2025-03-02T16:49:59.520Z"
   },
   {
    "duration": 5,
    "start_time": "2025-03-02T16:49:59.532Z"
   },
   {
    "duration": 35,
    "start_time": "2025-03-02T16:49:59.539Z"
   },
   {
    "duration": 106,
    "start_time": "2025-03-02T16:49:59.576Z"
   },
   {
    "duration": 7,
    "start_time": "2025-03-02T16:49:59.684Z"
   },
   {
    "duration": 35,
    "start_time": "2025-03-02T16:49:59.692Z"
   },
   {
    "duration": 30,
    "start_time": "2025-03-02T16:49:59.729Z"
   },
   {
    "duration": 49,
    "start_time": "2025-03-02T16:49:59.760Z"
   },
   {
    "duration": 44,
    "start_time": "2025-03-02T16:49:59.811Z"
   },
   {
    "duration": 234206,
    "start_time": "2025-03-02T16:49:59.857Z"
   },
   {
    "duration": 3,
    "start_time": "2025-03-02T16:53:54.068Z"
   },
   {
    "duration": 140,
    "start_time": "2025-03-02T16:53:54.073Z"
   },
   {
    "duration": 153,
    "start_time": "2025-03-02T16:56:28.394Z"
   },
   {
    "duration": 2071,
    "start_time": "2025-03-02T17:41:37.203Z"
   },
   {
    "duration": 17,
    "start_time": "2025-03-02T17:41:39.276Z"
   },
   {
    "duration": 58,
    "start_time": "2025-03-02T17:41:39.295Z"
   },
   {
    "duration": 53,
    "start_time": "2025-03-02T17:41:39.354Z"
   },
   {
    "duration": 13,
    "start_time": "2025-03-02T17:41:39.410Z"
   },
   {
    "duration": 16,
    "start_time": "2025-03-02T17:41:39.425Z"
   },
   {
    "duration": 134,
    "start_time": "2025-03-02T17:41:39.442Z"
   },
   {
    "duration": 16,
    "start_time": "2025-03-02T17:41:39.578Z"
   },
   {
    "duration": 13,
    "start_time": "2025-03-02T17:41:39.596Z"
   },
   {
    "duration": 67,
    "start_time": "2025-03-02T17:41:39.610Z"
   },
   {
    "duration": 21,
    "start_time": "2025-03-02T17:41:39.679Z"
   },
   {
    "duration": 115,
    "start_time": "2025-03-02T17:41:39.702Z"
   },
   {
    "duration": 76,
    "start_time": "2025-03-02T17:41:39.818Z"
   },
   {
    "duration": 19,
    "start_time": "2025-03-02T17:41:39.897Z"
   },
   {
    "duration": 13,
    "start_time": "2025-03-02T17:41:39.918Z"
   },
   {
    "duration": 23,
    "start_time": "2025-03-02T17:41:39.932Z"
   },
   {
    "duration": 12,
    "start_time": "2025-03-02T17:41:39.957Z"
   },
   {
    "duration": 10,
    "start_time": "2025-03-02T17:41:39.970Z"
   },
   {
    "duration": 5,
    "start_time": "2025-03-02T17:41:39.982Z"
   },
   {
    "duration": 1312,
    "start_time": "2025-03-02T17:41:39.988Z"
   },
   {
    "duration": 4,
    "start_time": "2025-03-02T17:41:41.302Z"
   },
   {
    "duration": 31,
    "start_time": "2025-03-02T17:41:41.308Z"
   },
   {
    "duration": 769,
    "start_time": "2025-03-02T17:41:41.341Z"
   },
   {
    "duration": 366,
    "start_time": "2025-03-02T17:41:42.112Z"
   },
   {
    "duration": 147,
    "start_time": "2025-03-02T17:41:42.480Z"
   },
   {
    "duration": 167,
    "start_time": "2025-03-02T17:41:42.629Z"
   },
   {
    "duration": 533,
    "start_time": "2025-03-02T17:41:42.798Z"
   },
   {
    "duration": 8,
    "start_time": "2025-03-02T17:41:43.333Z"
   },
   {
    "duration": 36,
    "start_time": "2025-03-02T17:41:43.342Z"
   },
   {
    "duration": 30,
    "start_time": "2025-03-02T17:41:43.380Z"
   },
   {
    "duration": 153,
    "start_time": "2025-03-02T17:41:43.412Z"
   },
   {
    "duration": 8,
    "start_time": "2025-03-02T17:41:43.567Z"
   },
   {
    "duration": 6,
    "start_time": "2025-03-02T17:41:43.576Z"
   },
   {
    "duration": 29,
    "start_time": "2025-03-02T17:41:43.584Z"
   },
   {
    "duration": 4,
    "start_time": "2025-03-02T17:41:43.615Z"
   },
   {
    "duration": 8,
    "start_time": "2025-03-02T17:41:43.620Z"
   },
   {
    "duration": 7,
    "start_time": "2025-03-02T17:41:43.629Z"
   },
   {
    "duration": 18,
    "start_time": "2025-03-02T17:41:43.637Z"
   },
   {
    "duration": 3,
    "start_time": "2025-03-02T17:41:43.656Z"
   },
   {
    "duration": 12,
    "start_time": "2025-03-02T17:41:43.661Z"
   },
   {
    "duration": 4,
    "start_time": "2025-03-02T17:41:43.678Z"
   },
   {
    "duration": 160,
    "start_time": "2025-03-02T17:41:43.683Z"
   },
   {
    "duration": 43,
    "start_time": "2025-03-02T17:41:43.844Z"
   },
   {
    "duration": 7,
    "start_time": "2025-03-02T17:41:43.889Z"
   },
   {
    "duration": 231183,
    "start_time": "2025-03-02T17:41:43.898Z"
   },
   {
    "duration": 161,
    "start_time": "2025-03-02T17:45:47.248Z"
   },
   {
    "duration": 2231,
    "start_time": "2025-03-03T17:01:59.635Z"
   },
   {
    "duration": 70,
    "start_time": "2025-03-03T17:02:01.868Z"
   },
   {
    "duration": 3,
    "start_time": "2025-03-03T17:02:01.940Z"
   },
   {
    "duration": 35,
    "start_time": "2025-03-03T17:02:01.945Z"
   },
   {
    "duration": 22,
    "start_time": "2025-03-03T17:02:01.982Z"
   },
   {
    "duration": 37,
    "start_time": "2025-03-03T17:02:02.006Z"
   },
   {
    "duration": 19,
    "start_time": "2025-03-03T17:02:02.045Z"
   },
   {
    "duration": 30,
    "start_time": "2025-03-03T17:02:02.066Z"
   },
   {
    "duration": 42,
    "start_time": "2025-03-03T17:02:02.098Z"
   },
   {
    "duration": 69,
    "start_time": "2025-03-03T17:02:02.141Z"
   },
   {
    "duration": 22,
    "start_time": "2025-03-03T17:02:02.211Z"
   },
   {
    "duration": 37,
    "start_time": "2025-03-03T17:02:02.235Z"
   },
   {
    "duration": 61,
    "start_time": "2025-03-03T17:02:02.274Z"
   },
   {
    "duration": 27,
    "start_time": "2025-03-03T17:02:02.338Z"
   },
   {
    "duration": 54,
    "start_time": "2025-03-03T17:02:02.366Z"
   },
   {
    "duration": 26,
    "start_time": "2025-03-03T17:02:02.422Z"
   },
   {
    "duration": 26,
    "start_time": "2025-03-03T17:02:02.449Z"
   },
   {
    "duration": 81,
    "start_time": "2025-03-03T17:02:02.476Z"
   },
   {
    "duration": 78,
    "start_time": "2025-03-03T17:02:02.558Z"
   },
   {
    "duration": 1292,
    "start_time": "2025-03-03T17:02:02.637Z"
   },
   {
    "duration": 5,
    "start_time": "2025-03-03T17:02:03.931Z"
   },
   {
    "duration": 13,
    "start_time": "2025-03-03T17:02:03.937Z"
   },
   {
    "duration": 777,
    "start_time": "2025-03-03T17:02:03.952Z"
   },
   {
    "duration": 345,
    "start_time": "2025-03-03T17:02:04.731Z"
   },
   {
    "duration": 150,
    "start_time": "2025-03-03T17:02:05.078Z"
   },
   {
    "duration": 163,
    "start_time": "2025-03-03T17:02:05.229Z"
   },
   {
    "duration": 578,
    "start_time": "2025-03-03T17:02:05.394Z"
   },
   {
    "duration": 8,
    "start_time": "2025-03-03T17:02:05.974Z"
   },
   {
    "duration": 33,
    "start_time": "2025-03-03T17:02:05.983Z"
   },
   {
    "duration": 35,
    "start_time": "2025-03-03T17:02:06.018Z"
   },
   {
    "duration": 42,
    "start_time": "2025-03-03T17:02:06.054Z"
   },
   {
    "duration": 30,
    "start_time": "2025-03-03T17:02:06.097Z"
   },
   {
    "duration": 48,
    "start_time": "2025-03-03T17:02:06.128Z"
   },
   {
    "duration": 22,
    "start_time": "2025-03-03T17:02:06.177Z"
   },
   {
    "duration": 33,
    "start_time": "2025-03-03T17:02:06.200Z"
   },
   {
    "duration": 28,
    "start_time": "2025-03-03T17:02:06.235Z"
   },
   {
    "duration": 36,
    "start_time": "2025-03-03T17:02:06.265Z"
   },
   {
    "duration": 57,
    "start_time": "2025-03-03T17:02:06.303Z"
   },
   {
    "duration": 24,
    "start_time": "2025-03-03T17:02:06.362Z"
   },
   {
    "duration": 31,
    "start_time": "2025-03-03T17:02:06.387Z"
   },
   {
    "duration": 83,
    "start_time": "2025-03-03T17:02:06.421Z"
   },
   {
    "duration": 50,
    "start_time": "2025-03-03T17:02:06.506Z"
   },
   {
    "duration": 8,
    "start_time": "2025-03-03T17:02:06.558Z"
   },
   {
    "duration": 11,
    "start_time": "2025-03-03T17:02:06.567Z"
   },
   {
    "duration": 188242,
    "start_time": "2025-03-03T17:02:06.579Z"
   },
   {
    "duration": 192,
    "start_time": "2025-03-03T17:05:14.822Z"
   },
   {
    "duration": 15,
    "start_time": "2025-03-03T17:06:27.389Z"
   },
   {
    "duration": 4,
    "start_time": "2025-03-03T17:09:56.103Z"
   },
   {
    "duration": 16,
    "start_time": "2025-03-03T17:09:57.705Z"
   },
   {
    "duration": 16,
    "start_time": "2025-03-03T17:10:30.264Z"
   },
   {
    "duration": 5,
    "start_time": "2025-03-03T17:14:51.805Z"
   },
   {
    "duration": 11,
    "start_time": "2025-03-03T17:14:54.219Z"
   },
   {
    "duration": 3,
    "start_time": "2025-03-03T17:18:15.716Z"
   },
   {
    "duration": 11,
    "start_time": "2025-03-03T17:18:18.636Z"
   },
   {
    "duration": 1290,
    "start_time": "2025-03-03T17:18:50.683Z"
   },
   {
    "duration": 12,
    "start_time": "2025-03-03T17:39:02.781Z"
   },
   {
    "duration": 6,
    "start_time": "2025-03-03T17:44:02.290Z"
   },
   {
    "duration": 18,
    "start_time": "2025-03-03T17:44:36.917Z"
   },
   {
    "duration": 8,
    "start_time": "2025-03-03T17:44:46.918Z"
   },
   {
    "duration": 1510,
    "start_time": "2025-03-03T17:44:49.360Z"
   },
   {
    "duration": 8,
    "start_time": "2025-03-03T17:46:17.379Z"
   },
   {
    "duration": 7,
    "start_time": "2025-03-03T17:46:20.368Z"
   },
   {
    "duration": 1312,
    "start_time": "2025-03-03T17:46:22.928Z"
   },
   {
    "duration": 23,
    "start_time": "2025-03-03T17:49:34.106Z"
   },
   {
    "duration": 10,
    "start_time": "2025-03-03T17:50:24.229Z"
   },
   {
    "duration": 5,
    "start_time": "2025-03-03T17:50:34.285Z"
   },
   {
    "duration": 2482,
    "start_time": "2025-03-03T17:50:36.061Z"
   },
   {
    "duration": 490,
    "start_time": "2025-03-03T17:50:41.471Z"
   },
   {
    "duration": 7,
    "start_time": "2025-03-03T17:50:43.366Z"
   },
   {
    "duration": 2568,
    "start_time": "2025-03-03T17:50:45.602Z"
   },
   {
    "duration": 67,
    "start_time": "2025-03-03T17:54:37.299Z"
   },
   {
    "duration": 2391,
    "start_time": "2025-03-03T17:54:40.208Z"
   },
   {
    "duration": 5,
    "start_time": "2025-03-03T17:54:45.935Z"
   },
   {
    "duration": 2406,
    "start_time": "2025-03-03T17:54:48.344Z"
   },
   {
    "duration": 6,
    "start_time": "2025-03-03T18:00:23.537Z"
   },
   {
    "duration": 2,
    "start_time": "2025-03-03T18:02:00.347Z"
   },
   {
    "duration": 5,
    "start_time": "2025-03-03T18:02:02.123Z"
   },
   {
    "duration": 2441,
    "start_time": "2025-03-03T18:02:17.597Z"
   },
   {
    "duration": 6,
    "start_time": "2025-03-03T18:02:31.195Z"
   },
   {
    "duration": 2398,
    "start_time": "2025-03-03T18:02:32.992Z"
   },
   {
    "duration": 5,
    "start_time": "2025-03-03T18:03:19.437Z"
   },
   {
    "duration": 3059,
    "start_time": "2025-03-03T18:03:21.235Z"
   },
   {
    "duration": 5,
    "start_time": "2025-03-03T18:05:34.151Z"
   },
   {
    "duration": 2415,
    "start_time": "2025-03-03T18:05:36.482Z"
   },
   {
    "duration": 5,
    "start_time": "2025-03-03T18:06:08.651Z"
   },
   {
    "duration": 2787,
    "start_time": "2025-03-03T18:06:10.385Z"
   },
   {
    "duration": 5,
    "start_time": "2025-03-03T18:06:22.103Z"
   },
   {
    "duration": 2710,
    "start_time": "2025-03-03T18:06:24.395Z"
   },
   {
    "duration": 5,
    "start_time": "2025-03-03T18:06:36.090Z"
   },
   {
    "duration": 2694,
    "start_time": "2025-03-03T18:06:39.078Z"
   },
   {
    "duration": 6,
    "start_time": "2025-03-03T18:08:27.746Z"
   },
   {
    "duration": 3187,
    "start_time": "2025-03-03T18:08:29.944Z"
   },
   {
    "duration": 6,
    "start_time": "2025-03-03T18:08:43.256Z"
   },
   {
    "duration": 2840,
    "start_time": "2025-03-03T18:08:45.356Z"
   },
   {
    "duration": 9,
    "start_time": "2025-03-03T18:08:56.064Z"
   },
   {
    "duration": 2849,
    "start_time": "2025-03-03T18:08:57.883Z"
   },
   {
    "duration": 5,
    "start_time": "2025-03-03T18:10:03.141Z"
   },
   {
    "duration": 2421,
    "start_time": "2025-03-03T18:10:05.394Z"
   },
   {
    "duration": 5,
    "start_time": "2025-03-03T18:11:46.422Z"
   },
   {
    "duration": 3090,
    "start_time": "2025-03-03T18:11:48.088Z"
   },
   {
    "duration": 2758,
    "start_time": "2025-03-03T18:12:16.687Z"
   },
   {
    "duration": 2290,
    "start_time": "2025-03-04T16:23:29.813Z"
   },
   {
    "duration": 29,
    "start_time": "2025-03-04T16:23:32.105Z"
   },
   {
    "duration": 3,
    "start_time": "2025-03-04T16:23:32.135Z"
   },
   {
    "duration": 40,
    "start_time": "2025-03-04T16:23:32.139Z"
   },
   {
    "duration": 5,
    "start_time": "2025-03-04T16:23:32.184Z"
   },
   {
    "duration": 56,
    "start_time": "2025-03-04T16:23:32.191Z"
   },
   {
    "duration": 37,
    "start_time": "2025-03-04T16:23:32.249Z"
   },
   {
    "duration": 78,
    "start_time": "2025-03-04T16:23:32.287Z"
   },
   {
    "duration": 22,
    "start_time": "2025-03-04T16:23:32.367Z"
   },
   {
    "duration": 91,
    "start_time": "2025-03-04T16:23:32.392Z"
   },
   {
    "duration": 20,
    "start_time": "2025-03-04T16:23:32.485Z"
   },
   {
    "duration": 54,
    "start_time": "2025-03-04T16:23:32.506Z"
   },
   {
    "duration": 36,
    "start_time": "2025-03-04T16:23:32.561Z"
   },
   {
    "duration": 33,
    "start_time": "2025-03-04T16:23:32.599Z"
   },
   {
    "duration": 67,
    "start_time": "2025-03-04T16:23:32.634Z"
   },
   {
    "duration": 63,
    "start_time": "2025-03-04T16:23:32.703Z"
   },
   {
    "duration": 18,
    "start_time": "2025-03-04T16:23:32.768Z"
   },
   {
    "duration": 23,
    "start_time": "2025-03-04T16:23:32.788Z"
   },
   {
    "duration": 45,
    "start_time": "2025-03-04T16:23:32.813Z"
   },
   {
    "duration": 1355,
    "start_time": "2025-03-04T16:23:32.859Z"
   },
   {
    "duration": 6,
    "start_time": "2025-03-04T16:23:34.215Z"
   },
   {
    "duration": 28,
    "start_time": "2025-03-04T16:23:34.223Z"
   },
   {
    "duration": 789,
    "start_time": "2025-03-04T16:23:34.253Z"
   },
   {
    "duration": 379,
    "start_time": "2025-03-04T16:23:35.044Z"
   },
   {
    "duration": 164,
    "start_time": "2025-03-04T16:23:35.425Z"
   },
   {
    "duration": 171,
    "start_time": "2025-03-04T16:23:35.590Z"
   },
   {
    "duration": 600,
    "start_time": "2025-03-04T16:23:35.763Z"
   },
   {
    "duration": 16,
    "start_time": "2025-03-04T16:23:36.372Z"
   },
   {
    "duration": 31,
    "start_time": "2025-03-04T16:23:36.393Z"
   },
   {
    "duration": 31,
    "start_time": "2025-03-04T16:23:36.427Z"
   },
   {
    "duration": 24,
    "start_time": "2025-03-04T16:23:36.460Z"
   },
   {
    "duration": 20,
    "start_time": "2025-03-04T16:23:36.486Z"
   },
   {
    "duration": 42,
    "start_time": "2025-03-04T16:23:36.508Z"
   },
   {
    "duration": 33,
    "start_time": "2025-03-04T16:23:36.552Z"
   },
   {
    "duration": 19,
    "start_time": "2025-03-04T16:23:36.587Z"
   },
   {
    "duration": 33,
    "start_time": "2025-03-04T16:23:36.608Z"
   },
   {
    "duration": 26,
    "start_time": "2025-03-04T16:23:36.643Z"
   },
   {
    "duration": 32,
    "start_time": "2025-03-04T16:23:36.671Z"
   },
   {
    "duration": 42,
    "start_time": "2025-03-04T16:23:36.705Z"
   },
   {
    "duration": 27,
    "start_time": "2025-03-04T16:23:36.749Z"
   },
   {
    "duration": 14,
    "start_time": "2025-03-04T16:23:36.778Z"
   },
   {
    "duration": 34,
    "start_time": "2025-03-04T16:23:36.793Z"
   },
   {
    "duration": 20,
    "start_time": "2025-03-04T16:23:36.829Z"
   },
   {
    "duration": 58,
    "start_time": "2025-03-04T16:23:36.853Z"
   },
   {
    "duration": 283858,
    "start_time": "2025-03-04T16:23:36.913Z"
   },
   {
    "duration": 4,
    "start_time": "2025-03-04T16:28:20.780Z"
   },
   {
    "duration": 30,
    "start_time": "2025-03-04T16:28:20.787Z"
   },
   {
    "duration": 12,
    "start_time": "2025-03-04T16:28:20.818Z"
   },
   {
    "duration": 1655,
    "start_time": "2025-03-04T16:28:20.832Z"
   },
   {
    "duration": 1652,
    "start_time": "2025-03-04T16:28:22.489Z"
   },
   {
    "duration": 7,
    "start_time": "2025-03-04T16:28:57.587Z"
   },
   {
    "duration": 1757,
    "start_time": "2025-03-04T16:29:01.424Z"
   },
   {
    "duration": 1575,
    "start_time": "2025-03-04T16:29:09.335Z"
   },
   {
    "duration": 6,
    "start_time": "2025-03-04T16:29:21.109Z"
   },
   {
    "duration": 1528,
    "start_time": "2025-03-04T16:29:23.243Z"
   },
   {
    "duration": 5,
    "start_time": "2025-03-04T16:29:37.842Z"
   },
   {
    "duration": 1579,
    "start_time": "2025-03-04T16:29:40.583Z"
   },
   {
    "duration": 1834,
    "start_time": "2025-03-04T16:29:46.911Z"
   },
   {
    "duration": 2234,
    "start_time": "2025-03-04T16:31:06.112Z"
   },
   {
    "duration": 17,
    "start_time": "2025-03-04T16:31:08.348Z"
   },
   {
    "duration": 21,
    "start_time": "2025-03-04T16:31:08.366Z"
   },
   {
    "duration": 12,
    "start_time": "2025-03-04T16:31:08.389Z"
   },
   {
    "duration": 5,
    "start_time": "2025-03-04T16:31:08.402Z"
   },
   {
    "duration": 34,
    "start_time": "2025-03-04T16:31:08.408Z"
   },
   {
    "duration": 13,
    "start_time": "2025-03-04T16:31:08.444Z"
   },
   {
    "duration": 30,
    "start_time": "2025-03-04T16:31:08.458Z"
   },
   {
    "duration": 4,
    "start_time": "2025-03-04T16:31:08.492Z"
   },
   {
    "duration": 86,
    "start_time": "2025-03-04T16:31:08.498Z"
   },
   {
    "duration": 20,
    "start_time": "2025-03-04T16:31:08.587Z"
   },
   {
    "duration": 7,
    "start_time": "2025-03-04T16:31:08.608Z"
   },
   {
    "duration": 14,
    "start_time": "2025-03-04T16:31:08.617Z"
   },
   {
    "duration": 7,
    "start_time": "2025-03-04T16:31:08.633Z"
   },
   {
    "duration": 32,
    "start_time": "2025-03-04T16:31:08.642Z"
   },
   {
    "duration": 11,
    "start_time": "2025-03-04T16:31:08.685Z"
   },
   {
    "duration": 10,
    "start_time": "2025-03-04T16:31:08.698Z"
   },
   {
    "duration": 10,
    "start_time": "2025-03-04T16:31:08.709Z"
   },
   {
    "duration": 15,
    "start_time": "2025-03-04T16:31:08.721Z"
   },
   {
    "duration": 1339,
    "start_time": "2025-03-04T16:31:08.738Z"
   },
   {
    "duration": 7,
    "start_time": "2025-03-04T16:31:10.081Z"
   },
   {
    "duration": 23,
    "start_time": "2025-03-04T16:31:10.090Z"
   },
   {
    "duration": 744,
    "start_time": "2025-03-04T16:31:10.115Z"
   },
   {
    "duration": 351,
    "start_time": "2025-03-04T16:31:10.860Z"
   },
   {
    "duration": 172,
    "start_time": "2025-03-04T16:31:11.213Z"
   },
   {
    "duration": 172,
    "start_time": "2025-03-04T16:31:11.388Z"
   },
   {
    "duration": 532,
    "start_time": "2025-03-04T16:31:11.570Z"
   },
   {
    "duration": 9,
    "start_time": "2025-03-04T16:31:12.106Z"
   },
   {
    "duration": 29,
    "start_time": "2025-03-04T16:31:12.116Z"
   },
   {
    "duration": 7,
    "start_time": "2025-03-04T16:31:12.147Z"
   },
   {
    "duration": 29,
    "start_time": "2025-03-04T16:31:12.155Z"
   },
   {
    "duration": 2,
    "start_time": "2025-03-04T16:31:12.186Z"
   },
   {
    "duration": 6,
    "start_time": "2025-03-04T16:31:12.190Z"
   },
   {
    "duration": 5,
    "start_time": "2025-03-04T16:31:12.198Z"
   },
   {
    "duration": 5,
    "start_time": "2025-03-04T16:31:12.205Z"
   },
   {
    "duration": 16,
    "start_time": "2025-03-04T16:31:12.211Z"
   },
   {
    "duration": 11,
    "start_time": "2025-03-04T16:31:12.229Z"
   },
   {
    "duration": 44,
    "start_time": "2025-03-04T16:31:12.241Z"
   },
   {
    "duration": 4,
    "start_time": "2025-03-04T16:31:12.287Z"
   },
   {
    "duration": 7,
    "start_time": "2025-03-04T16:31:12.292Z"
   },
   {
    "duration": 7,
    "start_time": "2025-03-04T16:31:12.300Z"
   },
   {
    "duration": 21,
    "start_time": "2025-03-04T16:31:12.308Z"
   },
   {
    "duration": 15,
    "start_time": "2025-03-04T16:31:12.330Z"
   },
   {
    "duration": 13,
    "start_time": "2025-03-04T16:31:12.347Z"
   },
   {
    "duration": 321824,
    "start_time": "2025-03-04T16:31:12.361Z"
   },
   {
    "duration": 3,
    "start_time": "2025-03-04T16:36:34.189Z"
   },
   {
    "duration": 16,
    "start_time": "2025-03-04T16:36:34.194Z"
   },
   {
    "duration": 1744,
    "start_time": "2025-03-04T16:36:34.211Z"
   },
   {
    "duration": 1686,
    "start_time": "2025-03-04T16:36:35.957Z"
   },
   {
    "duration": 146,
    "start_time": "2025-03-04T16:39:56.543Z"
   },
   {
    "duration": 159,
    "start_time": "2025-03-04T16:40:29.394Z"
   },
   {
    "duration": 21,
    "start_time": "2025-03-04T16:40:32.580Z"
   },
   {
    "duration": 22,
    "start_time": "2025-03-04T16:41:26.755Z"
   },
   {
    "duration": 253045,
    "start_time": "2025-03-04T16:41:45.359Z"
   },
   {
    "duration": 2212,
    "start_time": "2025-03-04T16:47:25.419Z"
   },
   {
    "duration": 17,
    "start_time": "2025-03-04T16:47:27.633Z"
   },
   {
    "duration": 24,
    "start_time": "2025-03-04T16:47:27.651Z"
   },
   {
    "duration": 32,
    "start_time": "2025-03-04T16:47:27.683Z"
   },
   {
    "duration": 17,
    "start_time": "2025-03-04T16:47:27.717Z"
   },
   {
    "duration": 49,
    "start_time": "2025-03-04T16:47:27.736Z"
   },
   {
    "duration": 28,
    "start_time": "2025-03-04T16:47:27.787Z"
   },
   {
    "duration": 41,
    "start_time": "2025-03-04T16:47:27.817Z"
   },
   {
    "duration": 7,
    "start_time": "2025-03-04T16:47:27.859Z"
   },
   {
    "duration": 93,
    "start_time": "2025-03-04T16:47:27.867Z"
   },
   {
    "duration": 25,
    "start_time": "2025-03-04T16:47:27.962Z"
   },
   {
    "duration": 23,
    "start_time": "2025-03-04T16:47:27.989Z"
   },
   {
    "duration": 29,
    "start_time": "2025-03-04T16:47:28.013Z"
   },
   {
    "duration": 46,
    "start_time": "2025-03-04T16:47:28.044Z"
   },
   {
    "duration": 67,
    "start_time": "2025-03-04T16:47:28.092Z"
   },
   {
    "duration": 37,
    "start_time": "2025-03-04T16:47:28.160Z"
   },
   {
    "duration": 33,
    "start_time": "2025-03-04T16:47:28.199Z"
   },
   {
    "duration": 51,
    "start_time": "2025-03-04T16:47:28.234Z"
   },
   {
    "duration": 40,
    "start_time": "2025-03-04T16:47:28.287Z"
   },
   {
    "duration": 1366,
    "start_time": "2025-03-04T16:47:28.329Z"
   },
   {
    "duration": 5,
    "start_time": "2025-03-04T16:47:29.696Z"
   },
   {
    "duration": 23,
    "start_time": "2025-03-04T16:47:29.703Z"
   },
   {
    "duration": 785,
    "start_time": "2025-03-04T16:47:29.728Z"
   },
   {
    "duration": 342,
    "start_time": "2025-03-04T16:47:30.515Z"
   },
   {
    "duration": 156,
    "start_time": "2025-03-04T16:47:30.858Z"
   },
   {
    "duration": 159,
    "start_time": "2025-03-04T16:47:31.016Z"
   },
   {
    "duration": 528,
    "start_time": "2025-03-04T16:47:31.177Z"
   },
   {
    "duration": 8,
    "start_time": "2025-03-04T16:47:31.706Z"
   },
   {
    "duration": 30,
    "start_time": "2025-03-04T16:47:31.715Z"
   },
   {
    "duration": 42,
    "start_time": "2025-03-04T16:47:31.746Z"
   },
   {
    "duration": 45,
    "start_time": "2025-03-04T16:47:31.789Z"
   },
   {
    "duration": 18,
    "start_time": "2025-03-04T16:47:31.835Z"
   },
   {
    "duration": 49,
    "start_time": "2025-03-04T16:47:31.855Z"
   },
   {
    "duration": 46,
    "start_time": "2025-03-04T16:47:31.905Z"
   },
   {
    "duration": 53,
    "start_time": "2025-03-04T16:47:31.952Z"
   },
   {
    "duration": 41,
    "start_time": "2025-03-04T16:47:32.006Z"
   },
   {
    "duration": 31,
    "start_time": "2025-03-04T16:47:32.048Z"
   },
   {
    "duration": 53,
    "start_time": "2025-03-04T16:47:32.081Z"
   },
   {
    "duration": 28,
    "start_time": "2025-03-04T16:47:32.135Z"
   },
   {
    "duration": 37,
    "start_time": "2025-03-04T16:47:32.164Z"
   },
   {
    "duration": 42,
    "start_time": "2025-03-04T16:47:32.204Z"
   },
   {
    "duration": 43,
    "start_time": "2025-03-04T16:47:32.248Z"
   },
   {
    "duration": 18,
    "start_time": "2025-03-04T16:47:32.293Z"
   },
   {
    "duration": 46,
    "start_time": "2025-03-04T16:47:32.313Z"
   },
   {
    "duration": 284231,
    "start_time": "2025-03-04T16:47:32.360Z"
   },
   {
    "duration": 2,
    "start_time": "2025-03-04T16:52:16.592Z"
   },
   {
    "duration": 7,
    "start_time": "2025-03-04T16:52:16.596Z"
   },
   {
    "duration": 1695,
    "start_time": "2025-03-04T16:52:16.604Z"
   },
   {
    "duration": 1583,
    "start_time": "2025-03-04T16:52:18.301Z"
   },
   {
    "duration": 2708412,
    "start_time": "2025-03-04T16:52:19.887Z"
   },
   {
    "duration": 6,
    "start_time": "2025-03-04T17:39:44.826Z"
   },
   {
    "duration": 259124,
    "start_time": "2025-03-04T17:44:57.313Z"
   },
   {
    "duration": 2528660,
    "start_time": "2025-03-04T17:51:44.339Z"
   },
   {
    "duration": 48,
    "start_time": "2025-03-05T17:05:59.971Z"
   },
   {
    "duration": 2230,
    "start_time": "2025-03-05T17:14:32.038Z"
   },
   {
    "duration": 16,
    "start_time": "2025-03-05T17:14:34.270Z"
   },
   {
    "duration": 14,
    "start_time": "2025-03-05T17:14:34.288Z"
   },
   {
    "duration": 30,
    "start_time": "2025-03-05T17:14:34.304Z"
   },
   {
    "duration": 73,
    "start_time": "2025-03-05T17:14:34.336Z"
   },
   {
    "duration": 33,
    "start_time": "2025-03-05T17:14:34.410Z"
   },
   {
    "duration": 21,
    "start_time": "2025-03-05T17:14:34.445Z"
   },
   {
    "duration": 34,
    "start_time": "2025-03-05T17:14:34.468Z"
   },
   {
    "duration": 10,
    "start_time": "2025-03-05T17:14:34.504Z"
   },
   {
    "duration": 90,
    "start_time": "2025-03-05T17:14:34.516Z"
   },
   {
    "duration": 20,
    "start_time": "2025-03-05T17:14:34.607Z"
   },
   {
    "duration": 8,
    "start_time": "2025-03-05T17:14:34.628Z"
   },
   {
    "duration": 33,
    "start_time": "2025-03-05T17:14:34.637Z"
   },
   {
    "duration": 81,
    "start_time": "2025-03-05T17:14:34.673Z"
   },
   {
    "duration": 51,
    "start_time": "2025-03-05T17:14:34.755Z"
   },
   {
    "duration": 37,
    "start_time": "2025-03-05T17:14:34.807Z"
   },
   {
    "duration": 22,
    "start_time": "2025-03-05T17:14:34.846Z"
   },
   {
    "duration": 15,
    "start_time": "2025-03-05T17:14:34.870Z"
   },
   {
    "duration": 32,
    "start_time": "2025-03-05T17:14:34.887Z"
   },
   {
    "duration": 1353,
    "start_time": "2025-03-05T17:14:34.921Z"
   },
   {
    "duration": 5,
    "start_time": "2025-03-05T17:14:36.276Z"
   },
   {
    "duration": 24,
    "start_time": "2025-03-05T17:14:36.283Z"
   },
   {
    "duration": 736,
    "start_time": "2025-03-05T17:14:36.308Z"
   },
   {
    "duration": 337,
    "start_time": "2025-03-05T17:14:37.046Z"
   },
   {
    "duration": 149,
    "start_time": "2025-03-05T17:14:37.384Z"
   },
   {
    "duration": 157,
    "start_time": "2025-03-05T17:14:37.535Z"
   },
   {
    "duration": 566,
    "start_time": "2025-03-05T17:14:37.694Z"
   },
   {
    "duration": 9,
    "start_time": "2025-03-05T17:14:38.262Z"
   },
   {
    "duration": 14,
    "start_time": "2025-03-05T17:14:38.272Z"
   },
   {
    "duration": 21,
    "start_time": "2025-03-05T17:14:38.287Z"
   },
   {
    "duration": 6,
    "start_time": "2025-03-05T17:14:38.309Z"
   },
   {
    "duration": 2,
    "start_time": "2025-03-05T17:14:38.317Z"
   },
   {
    "duration": 25,
    "start_time": "2025-03-05T17:14:38.321Z"
   },
   {
    "duration": 86,
    "start_time": "2025-03-05T17:14:38.347Z"
   },
   {
    "duration": 6,
    "start_time": "2025-03-05T17:14:38.435Z"
   },
   {
    "duration": 5,
    "start_time": "2025-03-05T17:14:38.443Z"
   },
   {
    "duration": 5,
    "start_time": "2025-03-05T17:14:38.450Z"
   },
   {
    "duration": 113,
    "start_time": "2025-03-05T17:14:38.456Z"
   },
   {
    "duration": 4,
    "start_time": "2025-03-05T17:14:38.571Z"
   },
   {
    "duration": 6,
    "start_time": "2025-03-05T17:14:38.576Z"
   },
   {
    "duration": 4,
    "start_time": "2025-03-05T17:14:38.585Z"
   },
   {
    "duration": 5,
    "start_time": "2025-03-05T17:14:38.590Z"
   },
   {
    "duration": 5,
    "start_time": "2025-03-05T17:14:38.596Z"
   },
   {
    "duration": 15,
    "start_time": "2025-03-05T17:14:38.602Z"
   },
   {
    "duration": 188407,
    "start_time": "2025-03-05T17:14:38.619Z"
   },
   {
    "duration": 2,
    "start_time": "2025-03-05T17:17:47.028Z"
   },
   {
    "duration": 5,
    "start_time": "2025-03-05T17:17:47.107Z"
   },
   {
    "duration": 1626,
    "start_time": "2025-03-05T17:17:47.113Z"
   },
   {
    "duration": 1544,
    "start_time": "2025-03-05T17:17:48.741Z"
   },
   {
    "duration": 0,
    "start_time": "2025-03-05T17:30:11.037Z"
   },
   {
    "duration": 0,
    "start_time": "2025-03-05T17:30:11.039Z"
   },
   {
    "duration": 0,
    "start_time": "2025-03-05T17:30:11.041Z"
   },
   {
    "duration": 1875,
    "start_time": "2025-03-05T17:30:15.154Z"
   },
   {
    "duration": 54971,
    "start_time": "2025-03-05T17:30:20.055Z"
   },
   {
    "duration": 340766,
    "start_time": "2025-03-05T17:31:35.165Z"
   },
   {
    "duration": 1906921,
    "start_time": "2025-03-05T17:37:35.993Z"
   },
   {
    "duration": 11,
    "start_time": "2025-03-05T18:15:55.581Z"
   },
   {
    "duration": 15,
    "start_time": "2025-03-05T18:16:14.434Z"
   },
   {
    "duration": 17,
    "start_time": "2025-03-05T18:20:02.179Z"
   },
   {
    "duration": 17,
    "start_time": "2025-03-05T18:20:27.456Z"
   },
   {
    "duration": 17,
    "start_time": "2025-03-05T18:20:35.868Z"
   },
   {
    "duration": 2546,
    "start_time": "2025-03-06T14:25:41.528Z"
   },
   {
    "duration": 71,
    "start_time": "2025-03-06T14:25:44.076Z"
   },
   {
    "duration": 3,
    "start_time": "2025-03-06T14:25:44.149Z"
   },
   {
    "duration": 21,
    "start_time": "2025-03-06T14:25:44.154Z"
   },
   {
    "duration": 6,
    "start_time": "2025-03-06T14:25:44.177Z"
   },
   {
    "duration": 41,
    "start_time": "2025-03-06T14:25:44.185Z"
   },
   {
    "duration": 8,
    "start_time": "2025-03-06T14:25:44.228Z"
   },
   {
    "duration": 86,
    "start_time": "2025-03-06T14:25:44.238Z"
   },
   {
    "duration": 5,
    "start_time": "2025-03-06T14:25:44.326Z"
   },
   {
    "duration": 66,
    "start_time": "2025-03-06T14:25:44.333Z"
   },
   {
    "duration": 23,
    "start_time": "2025-03-06T14:25:44.400Z"
   },
   {
    "duration": 10,
    "start_time": "2025-03-06T14:25:44.425Z"
   },
   {
    "duration": 40,
    "start_time": "2025-03-06T14:25:44.437Z"
   },
   {
    "duration": 19,
    "start_time": "2025-03-06T14:25:44.481Z"
   },
   {
    "duration": 14,
    "start_time": "2025-03-06T14:25:44.501Z"
   },
   {
    "duration": 13,
    "start_time": "2025-03-06T14:25:44.517Z"
   },
   {
    "duration": 10,
    "start_time": "2025-03-06T14:25:44.532Z"
   },
   {
    "duration": 7,
    "start_time": "2025-03-06T14:25:44.543Z"
   },
   {
    "duration": 7,
    "start_time": "2025-03-06T14:25:44.572Z"
   },
   {
    "duration": 1386,
    "start_time": "2025-03-06T14:25:44.581Z"
   },
   {
    "duration": 6,
    "start_time": "2025-03-06T14:25:45.972Z"
   },
   {
    "duration": 13,
    "start_time": "2025-03-06T14:25:45.980Z"
   },
   {
    "duration": 830,
    "start_time": "2025-03-06T14:25:45.994Z"
   },
   {
    "duration": 409,
    "start_time": "2025-03-06T14:25:46.826Z"
   },
   {
    "duration": 173,
    "start_time": "2025-03-06T14:25:47.237Z"
   },
   {
    "duration": 186,
    "start_time": "2025-03-06T14:25:47.412Z"
   },
   {
    "duration": 657,
    "start_time": "2025-03-06T14:25:47.600Z"
   },
   {
    "duration": 15,
    "start_time": "2025-03-06T14:25:48.260Z"
   },
   {
    "duration": 58,
    "start_time": "2025-03-06T14:25:48.277Z"
   },
   {
    "duration": 7,
    "start_time": "2025-03-06T14:25:48.338Z"
   },
   {
    "duration": 21,
    "start_time": "2025-03-06T14:25:48.348Z"
   },
   {
    "duration": 78,
    "start_time": "2025-03-06T14:25:48.371Z"
   },
   {
    "duration": 10,
    "start_time": "2025-03-06T14:25:48.451Z"
   },
   {
    "duration": 17,
    "start_time": "2025-03-06T14:25:48.463Z"
   },
   {
    "duration": 16,
    "start_time": "2025-03-06T14:25:48.482Z"
   },
   {
    "duration": 18,
    "start_time": "2025-03-06T14:25:48.500Z"
   },
   {
    "duration": 5,
    "start_time": "2025-03-06T14:25:48.519Z"
   },
   {
    "duration": 18,
    "start_time": "2025-03-06T14:25:48.526Z"
   },
   {
    "duration": 5,
    "start_time": "2025-03-06T14:25:48.546Z"
   },
   {
    "duration": 7,
    "start_time": "2025-03-06T14:25:48.553Z"
   },
   {
    "duration": 20,
    "start_time": "2025-03-06T14:25:48.572Z"
   },
   {
    "duration": 6,
    "start_time": "2025-03-06T14:25:48.595Z"
   },
   {
    "duration": 5,
    "start_time": "2025-03-06T14:25:48.603Z"
   },
   {
    "duration": 8,
    "start_time": "2025-03-06T14:25:48.610Z"
   },
   {
    "duration": 226269,
    "start_time": "2025-03-06T14:25:48.620Z"
   },
   {
    "duration": 3,
    "start_time": "2025-03-06T14:29:34.891Z"
   },
   {
    "duration": 78,
    "start_time": "2025-03-06T14:29:34.896Z"
   },
   {
    "duration": 1821,
    "start_time": "2025-03-06T14:29:34.976Z"
   },
   {
    "duration": 1801,
    "start_time": "2025-03-06T14:29:36.798Z"
   },
   {
    "duration": 2227081,
    "start_time": "2025-03-06T14:29:38.601Z"
   },
   {
    "duration": 22,
    "start_time": "2025-03-06T15:06:45.685Z"
   },
   {
    "duration": 53,
    "start_time": "2025-03-09T13:38:00.585Z"
   },
   {
    "duration": 2239,
    "start_time": "2025-03-09T13:56:57.919Z"
   },
   {
    "duration": 30,
    "start_time": "2025-03-09T13:57:00.160Z"
   },
   {
    "duration": 3,
    "start_time": "2025-03-09T13:57:00.192Z"
   },
   {
    "duration": 6,
    "start_time": "2025-03-09T13:57:00.196Z"
   },
   {
    "duration": 90,
    "start_time": "2025-03-09T13:57:00.204Z"
   },
   {
    "duration": 7,
    "start_time": "2025-03-09T13:57:00.296Z"
   },
   {
    "duration": 13,
    "start_time": "2025-03-09T13:57:00.305Z"
   },
   {
    "duration": 25,
    "start_time": "2025-03-09T13:57:00.320Z"
   },
   {
    "duration": 4,
    "start_time": "2025-03-09T13:57:00.346Z"
   },
   {
    "duration": 63,
    "start_time": "2025-03-09T13:57:00.351Z"
   },
   {
    "duration": 22,
    "start_time": "2025-03-09T13:57:00.415Z"
   },
   {
    "duration": 7,
    "start_time": "2025-03-09T13:57:00.439Z"
   },
   {
    "duration": 12,
    "start_time": "2025-03-09T13:57:00.448Z"
   },
   {
    "duration": 5,
    "start_time": "2025-03-09T13:57:00.463Z"
   },
   {
    "duration": 16,
    "start_time": "2025-03-09T13:57:00.470Z"
   },
   {
    "duration": 29,
    "start_time": "2025-03-09T13:57:00.488Z"
   },
   {
    "duration": 12,
    "start_time": "2025-03-09T13:57:00.518Z"
   },
   {
    "duration": 5,
    "start_time": "2025-03-09T13:57:00.532Z"
   },
   {
    "duration": 16,
    "start_time": "2025-03-09T13:57:00.539Z"
   },
   {
    "duration": 1295,
    "start_time": "2025-03-09T13:57:00.557Z"
   },
   {
    "duration": 5,
    "start_time": "2025-03-09T13:57:01.853Z"
   },
   {
    "duration": 5,
    "start_time": "2025-03-09T13:57:01.860Z"
   },
   {
    "duration": 792,
    "start_time": "2025-03-09T13:57:01.866Z"
   },
   {
    "duration": 367,
    "start_time": "2025-03-09T13:57:02.659Z"
   },
   {
    "duration": 176,
    "start_time": "2025-03-09T13:57:03.027Z"
   },
   {
    "duration": 160,
    "start_time": "2025-03-09T13:57:03.204Z"
   },
   {
    "duration": 640,
    "start_time": "2025-03-09T13:57:03.366Z"
   },
   {
    "duration": 17,
    "start_time": "2025-03-09T13:57:04.008Z"
   },
   {
    "duration": 47,
    "start_time": "2025-03-09T13:57:04.027Z"
   },
   {
    "duration": 8,
    "start_time": "2025-03-09T13:57:04.076Z"
   },
   {
    "duration": 8,
    "start_time": "2025-03-09T13:57:04.086Z"
   },
   {
    "duration": 6,
    "start_time": "2025-03-09T13:57:04.096Z"
   },
   {
    "duration": 17,
    "start_time": "2025-03-09T13:57:04.104Z"
   },
   {
    "duration": 8,
    "start_time": "2025-03-09T13:57:04.123Z"
   },
   {
    "duration": 5,
    "start_time": "2025-03-09T13:57:04.133Z"
   },
   {
    "duration": 3,
    "start_time": "2025-03-09T13:57:04.140Z"
   },
   {
    "duration": 19,
    "start_time": "2025-03-09T13:57:04.145Z"
   },
   {
    "duration": 3,
    "start_time": "2025-03-09T13:57:04.166Z"
   },
   {
    "duration": 21,
    "start_time": "2025-03-09T13:57:04.171Z"
   },
   {
    "duration": 11,
    "start_time": "2025-03-09T13:57:04.193Z"
   },
   {
    "duration": 89,
    "start_time": "2025-03-09T13:57:04.208Z"
   },
   {
    "duration": 17,
    "start_time": "2025-03-09T13:57:04.298Z"
   },
   {
    "duration": 21,
    "start_time": "2025-03-09T13:57:04.316Z"
   },
   {
    "duration": 202798,
    "start_time": "2025-03-09T13:57:04.339Z"
   },
   {
    "duration": 75,
    "start_time": "2025-03-09T14:00:27.139Z"
   },
   {
    "duration": 11,
    "start_time": "2025-03-09T14:00:27.215Z"
   },
   {
    "duration": 1826,
    "start_time": "2025-03-09T14:00:27.228Z"
   },
   {
    "duration": 1738,
    "start_time": "2025-03-09T14:00:29.056Z"
   },
   {
    "duration": 2018843,
    "start_time": "2025-03-09T14:00:30.796Z"
   },
   {
    "duration": 76,
    "start_time": "2025-03-09T14:34:09.641Z"
   },
   {
    "duration": 6,
    "start_time": "2025-03-09T16:27:32.592Z"
   },
   {
    "duration": 1888,
    "start_time": "2025-03-09T16:27:34.678Z"
   },
   {
    "duration": 6,
    "start_time": "2025-03-09T16:28:31.783Z"
   },
   {
    "duration": 1709,
    "start_time": "2025-03-09T16:28:34.132Z"
   },
   {
    "duration": 1780,
    "start_time": "2025-03-09T16:28:50.692Z"
   },
   {
    "duration": 6,
    "start_time": "2025-03-09T16:34:45.675Z"
   },
   {
    "duration": 1649,
    "start_time": "2025-03-09T16:34:47.754Z"
   },
   {
    "duration": 7,
    "start_time": "2025-03-09T16:34:54.970Z"
   },
   {
    "duration": 1903,
    "start_time": "2025-03-09T16:34:56.618Z"
   },
   {
    "duration": 6,
    "start_time": "2025-03-09T16:37:13.114Z"
   },
   {
    "duration": 1722,
    "start_time": "2025-03-09T16:37:15.418Z"
   },
   {
    "duration": 1710,
    "start_time": "2025-03-09T16:37:25.096Z"
   },
   {
    "duration": 6,
    "start_time": "2025-03-09T16:40:42.245Z"
   },
   {
    "duration": 1727,
    "start_time": "2025-03-09T16:40:45.472Z"
   },
   {
    "duration": 1944,
    "start_time": "2025-03-09T16:41:20.646Z"
   },
   {
    "duration": 6,
    "start_time": "2025-03-09T16:42:18.886Z"
   },
   {
    "duration": 1784,
    "start_time": "2025-03-09T16:42:21.484Z"
   },
   {
    "duration": 1760,
    "start_time": "2025-03-09T16:42:31.218Z"
   },
   {
    "duration": 10,
    "start_time": "2025-03-09T16:58:52.682Z"
   },
   {
    "duration": 13,
    "start_time": "2025-03-09T17:00:32.024Z"
   },
   {
    "duration": 169,
    "start_time": "2025-03-09T17:01:13.276Z"
   },
   {
    "duration": 18,
    "start_time": "2025-03-09T17:01:45.217Z"
   },
   {
    "duration": 19,
    "start_time": "2025-03-09T17:01:49.245Z"
   },
   {
    "duration": 21,
    "start_time": "2025-03-09T17:02:03.110Z"
   },
   {
    "duration": 19,
    "start_time": "2025-03-09T17:02:11.704Z"
   },
   {
    "duration": 19,
    "start_time": "2025-03-09T17:02:14.000Z"
   },
   {
    "duration": 11,
    "start_time": "2025-03-09T17:37:51.223Z"
   },
   {
    "duration": 17,
    "start_time": "2025-03-09T17:37:59.507Z"
   },
   {
    "duration": 17,
    "start_time": "2025-03-09T17:38:13.906Z"
   },
   {
    "duration": 2356,
    "start_time": "2025-03-09T17:38:33.087Z"
   },
   {
    "duration": 18,
    "start_time": "2025-03-09T17:38:35.445Z"
   },
   {
    "duration": 3,
    "start_time": "2025-03-09T17:38:35.464Z"
   },
   {
    "duration": 5,
    "start_time": "2025-03-09T17:38:35.469Z"
   },
   {
    "duration": 6,
    "start_time": "2025-03-09T17:38:35.475Z"
   },
   {
    "duration": 18,
    "start_time": "2025-03-09T17:38:35.483Z"
   },
   {
    "duration": 11,
    "start_time": "2025-03-09T17:38:35.503Z"
   },
   {
    "duration": 29,
    "start_time": "2025-03-09T17:38:35.516Z"
   },
   {
    "duration": 32,
    "start_time": "2025-03-09T17:38:35.547Z"
   },
   {
    "duration": 86,
    "start_time": "2025-03-09T17:38:35.582Z"
   },
   {
    "duration": 22,
    "start_time": "2025-03-09T17:38:35.669Z"
   },
   {
    "duration": 22,
    "start_time": "2025-03-09T17:38:35.692Z"
   },
   {
    "duration": 16,
    "start_time": "2025-03-09T17:38:35.716Z"
   },
   {
    "duration": 11,
    "start_time": "2025-03-09T17:38:35.734Z"
   },
   {
    "duration": 18,
    "start_time": "2025-03-09T17:38:35.746Z"
   },
   {
    "duration": 5,
    "start_time": "2025-03-09T17:38:35.765Z"
   },
   {
    "duration": 15,
    "start_time": "2025-03-09T17:38:35.772Z"
   },
   {
    "duration": 107,
    "start_time": "2025-03-09T17:38:35.788Z"
   },
   {
    "duration": 23,
    "start_time": "2025-03-09T17:38:35.897Z"
   },
   {
    "duration": 1342,
    "start_time": "2025-03-09T17:38:35.922Z"
   },
   {
    "duration": 5,
    "start_time": "2025-03-09T17:38:37.266Z"
   },
   {
    "duration": 7,
    "start_time": "2025-03-09T17:38:37.272Z"
   },
   {
    "duration": 778,
    "start_time": "2025-03-09T17:38:37.280Z"
   },
   {
    "duration": 355,
    "start_time": "2025-03-09T17:38:38.059Z"
   },
   {
    "duration": 156,
    "start_time": "2025-03-09T17:38:38.415Z"
   },
   {
    "duration": 168,
    "start_time": "2025-03-09T17:38:38.573Z"
   },
   {
    "duration": 528,
    "start_time": "2025-03-09T17:38:38.743Z"
   },
   {
    "duration": 16,
    "start_time": "2025-03-09T17:38:39.275Z"
   },
   {
    "duration": 23,
    "start_time": "2025-03-09T17:38:39.292Z"
   },
   {
    "duration": 7,
    "start_time": "2025-03-09T17:38:39.317Z"
   },
   {
    "duration": 2,
    "start_time": "2025-03-09T17:38:39.326Z"
   },
   {
    "duration": 7,
    "start_time": "2025-03-09T17:38:39.330Z"
   },
   {
    "duration": 7,
    "start_time": "2025-03-09T17:38:39.338Z"
   },
   {
    "duration": 3,
    "start_time": "2025-03-09T17:38:39.347Z"
   },
   {
    "duration": 7,
    "start_time": "2025-03-09T17:38:39.351Z"
   },
   {
    "duration": 5,
    "start_time": "2025-03-09T17:38:39.360Z"
   },
   {
    "duration": 57,
    "start_time": "2025-03-09T17:38:39.366Z"
   },
   {
    "duration": 3,
    "start_time": "2025-03-09T17:38:39.425Z"
   },
   {
    "duration": 21,
    "start_time": "2025-03-09T17:38:39.430Z"
   },
   {
    "duration": 17,
    "start_time": "2025-03-09T17:38:39.452Z"
   },
   {
    "duration": 6,
    "start_time": "2025-03-09T17:38:39.471Z"
   },
   {
    "duration": 5,
    "start_time": "2025-03-09T17:38:39.479Z"
   },
   {
    "duration": 9,
    "start_time": "2025-03-09T17:38:39.486Z"
   },
   {
    "duration": 249328,
    "start_time": "2025-03-09T17:38:39.497Z"
   },
   {
    "duration": 9,
    "start_time": "2025-03-09T17:42:48.829Z"
   },
   {
    "duration": 2065,
    "start_time": "2025-03-09T17:42:48.841Z"
   },
   {
    "duration": 1959,
    "start_time": "2025-03-09T17:42:50.908Z"
   },
   {
    "duration": 3291568,
    "start_time": "2025-03-09T17:42:52.869Z"
   },
   {
    "duration": 3,
    "start_time": "2025-03-09T18:37:44.439Z"
   },
   {
    "duration": 210,
    "start_time": "2025-03-09T18:37:44.444Z"
   },
   {
    "duration": 20,
    "start_time": "2025-03-09T18:40:21.357Z"
   },
   {
    "duration": 19,
    "start_time": "2025-03-09T18:40:56.646Z"
   },
   {
    "duration": 17,
    "start_time": "2025-03-09T18:42:33.092Z"
   },
   {
    "duration": 12,
    "start_time": "2025-03-09T18:43:31.376Z"
   },
   {
    "duration": 15,
    "start_time": "2025-03-09T18:44:20.898Z"
   },
   {
    "duration": 12,
    "start_time": "2025-03-09T18:44:54.022Z"
   },
   {
    "duration": 2253,
    "start_time": "2025-03-10T17:34:00.293Z"
   },
   {
    "duration": 17,
    "start_time": "2025-03-10T17:34:02.548Z"
   },
   {
    "duration": 12,
    "start_time": "2025-03-10T17:34:02.566Z"
   },
   {
    "duration": 36,
    "start_time": "2025-03-10T17:34:02.581Z"
   },
   {
    "duration": 26,
    "start_time": "2025-03-10T17:34:02.619Z"
   },
   {
    "duration": 36,
    "start_time": "2025-03-10T17:34:02.647Z"
   },
   {
    "duration": 34,
    "start_time": "2025-03-10T17:34:02.685Z"
   },
   {
    "duration": 59,
    "start_time": "2025-03-10T17:34:02.721Z"
   },
   {
    "duration": 22,
    "start_time": "2025-03-10T17:34:02.782Z"
   },
   {
    "duration": 89,
    "start_time": "2025-03-10T17:34:02.808Z"
   },
   {
    "duration": 23,
    "start_time": "2025-03-10T17:34:02.899Z"
   },
   {
    "duration": 9,
    "start_time": "2025-03-10T17:34:02.923Z"
   },
   {
    "duration": 36,
    "start_time": "2025-03-10T17:34:02.933Z"
   },
   {
    "duration": 5,
    "start_time": "2025-03-10T17:34:02.971Z"
   },
   {
    "duration": 25,
    "start_time": "2025-03-10T17:34:02.978Z"
   },
   {
    "duration": 33,
    "start_time": "2025-03-10T17:34:03.004Z"
   },
   {
    "duration": 31,
    "start_time": "2025-03-10T17:34:03.039Z"
   },
   {
    "duration": 12,
    "start_time": "2025-03-10T17:34:03.071Z"
   },
   {
    "duration": 24,
    "start_time": "2025-03-10T17:34:03.085Z"
   },
   {
    "duration": 1350,
    "start_time": "2025-03-10T17:34:03.112Z"
   },
   {
    "duration": 6,
    "start_time": "2025-03-10T17:34:04.463Z"
   },
   {
    "duration": 34,
    "start_time": "2025-03-10T17:34:04.470Z"
   },
   {
    "duration": 867,
    "start_time": "2025-03-10T17:34:04.506Z"
   },
   {
    "duration": 555,
    "start_time": "2025-03-10T17:34:05.375Z"
   },
   {
    "duration": 284,
    "start_time": "2025-03-10T17:34:05.932Z"
   },
   {
    "duration": 288,
    "start_time": "2025-03-10T17:34:06.218Z"
   },
   {
    "duration": 386,
    "start_time": "2025-03-10T17:34:06.508Z"
   },
   {
    "duration": 20,
    "start_time": "2025-03-10T17:34:06.897Z"
   },
   {
    "duration": 31,
    "start_time": "2025-03-10T17:34:06.918Z"
   },
   {
    "duration": 52,
    "start_time": "2025-03-10T17:34:06.951Z"
   },
   {
    "duration": 31,
    "start_time": "2025-03-10T17:34:07.005Z"
   },
   {
    "duration": 22,
    "start_time": "2025-03-10T17:34:07.037Z"
   },
   {
    "duration": 69,
    "start_time": "2025-03-10T17:34:07.060Z"
   },
   {
    "duration": 37,
    "start_time": "2025-03-10T17:34:07.130Z"
   },
   {
    "duration": 48,
    "start_time": "2025-03-10T17:34:07.169Z"
   },
   {
    "duration": 15,
    "start_time": "2025-03-10T17:34:07.220Z"
   },
   {
    "duration": 49,
    "start_time": "2025-03-10T17:34:07.236Z"
   },
   {
    "duration": 25,
    "start_time": "2025-03-10T17:34:07.287Z"
   },
   {
    "duration": 25,
    "start_time": "2025-03-10T17:34:07.314Z"
   },
   {
    "duration": 34,
    "start_time": "2025-03-10T17:34:07.340Z"
   },
   {
    "duration": 51,
    "start_time": "2025-03-10T17:34:07.376Z"
   },
   {
    "duration": 23,
    "start_time": "2025-03-10T17:34:07.429Z"
   },
   {
    "duration": 30,
    "start_time": "2025-03-10T17:34:07.453Z"
   },
   {
    "duration": 183032,
    "start_time": "2025-03-10T17:34:07.485Z"
   },
   {
    "duration": 6,
    "start_time": "2025-03-10T17:37:10.519Z"
   },
   {
    "duration": 1455,
    "start_time": "2025-03-10T17:37:10.527Z"
   },
   {
    "duration": 1400,
    "start_time": "2025-03-10T17:37:11.984Z"
   },
   {
    "duration": 1828122,
    "start_time": "2025-03-10T17:37:13.385Z"
   },
   {
    "duration": 3,
    "start_time": "2025-03-10T18:07:41.508Z"
   },
   {
    "duration": 13,
    "start_time": "2025-03-10T18:07:41.513Z"
   },
   {
    "duration": 2186,
    "start_time": "2025-03-10T18:23:41.313Z"
   },
   {
    "duration": 28,
    "start_time": "2025-03-10T18:23:43.503Z"
   },
   {
    "duration": 3,
    "start_time": "2025-03-10T18:23:43.532Z"
   },
   {
    "duration": 12,
    "start_time": "2025-03-10T18:23:43.536Z"
   },
   {
    "duration": 7,
    "start_time": "2025-03-10T18:23:43.549Z"
   },
   {
    "duration": 5,
    "start_time": "2025-03-10T18:23:43.558Z"
   },
   {
    "duration": 8,
    "start_time": "2025-03-10T18:23:43.565Z"
   },
   {
    "duration": 18,
    "start_time": "2025-03-10T18:23:43.574Z"
   },
   {
    "duration": 7,
    "start_time": "2025-03-10T18:23:43.594Z"
   },
   {
    "duration": 67,
    "start_time": "2025-03-10T18:23:43.605Z"
   },
   {
    "duration": 31,
    "start_time": "2025-03-10T18:23:43.674Z"
   },
   {
    "duration": 9,
    "start_time": "2025-03-10T18:23:43.706Z"
   },
   {
    "duration": 11,
    "start_time": "2025-03-10T18:23:43.716Z"
   },
   {
    "duration": 5,
    "start_time": "2025-03-10T18:23:43.728Z"
   },
   {
    "duration": 12,
    "start_time": "2025-03-10T18:23:43.734Z"
   },
   {
    "duration": 5,
    "start_time": "2025-03-10T18:23:43.747Z"
   },
   {
    "duration": 7,
    "start_time": "2025-03-10T18:23:43.753Z"
   },
   {
    "duration": 45,
    "start_time": "2025-03-10T18:23:43.761Z"
   },
   {
    "duration": 15,
    "start_time": "2025-03-10T18:23:43.808Z"
   },
   {
    "duration": 1462,
    "start_time": "2025-03-10T18:23:43.824Z"
   },
   {
    "duration": 6,
    "start_time": "2025-03-10T18:23:45.288Z"
   },
   {
    "duration": 13,
    "start_time": "2025-03-10T18:23:45.303Z"
   },
   {
    "duration": 835,
    "start_time": "2025-03-10T18:23:45.317Z"
   },
   {
    "duration": 517,
    "start_time": "2025-03-10T18:23:46.154Z"
   },
   {
    "duration": 322,
    "start_time": "2025-03-10T18:23:46.673Z"
   },
   {
    "duration": 312,
    "start_time": "2025-03-10T18:23:46.996Z"
   },
   {
    "duration": 414,
    "start_time": "2025-03-10T18:23:47.310Z"
   },
   {
    "duration": 18,
    "start_time": "2025-03-10T18:23:47.727Z"
   },
   {
    "duration": 7,
    "start_time": "2025-03-10T18:23:47.748Z"
   },
   {
    "duration": 10,
    "start_time": "2025-03-10T18:23:47.756Z"
   },
   {
    "duration": 13,
    "start_time": "2025-03-10T18:23:47.767Z"
   },
   {
    "duration": 25,
    "start_time": "2025-03-10T18:23:47.782Z"
   },
   {
    "duration": 29,
    "start_time": "2025-03-10T18:23:47.809Z"
   },
   {
    "duration": 7,
    "start_time": "2025-03-10T18:23:47.841Z"
   },
   {
    "duration": 6,
    "start_time": "2025-03-10T18:23:47.850Z"
   },
   {
    "duration": 5,
    "start_time": "2025-03-10T18:23:47.858Z"
   },
   {
    "duration": 23,
    "start_time": "2025-03-10T18:23:47.864Z"
   },
   {
    "duration": 14,
    "start_time": "2025-03-10T18:23:47.889Z"
   },
   {
    "duration": 7,
    "start_time": "2025-03-10T18:23:47.906Z"
   },
   {
    "duration": 11,
    "start_time": "2025-03-10T18:23:47.914Z"
   },
   {
    "duration": 11,
    "start_time": "2025-03-10T18:23:47.926Z"
   },
   {
    "duration": 15,
    "start_time": "2025-03-10T18:23:47.938Z"
   },
   {
    "duration": 25,
    "start_time": "2025-03-10T18:23:47.955Z"
   },
   {
    "duration": 2179,
    "start_time": "2025-03-10T18:25:22.416Z"
   },
   {
    "duration": 26,
    "start_time": "2025-03-10T18:25:24.597Z"
   },
   {
    "duration": 3,
    "start_time": "2025-03-10T18:25:24.625Z"
   },
   {
    "duration": 5,
    "start_time": "2025-03-10T18:25:24.630Z"
   },
   {
    "duration": 6,
    "start_time": "2025-03-10T18:25:24.636Z"
   },
   {
    "duration": 5,
    "start_time": "2025-03-10T18:25:24.643Z"
   },
   {
    "duration": 8,
    "start_time": "2025-03-10T18:25:24.650Z"
   },
   {
    "duration": 17,
    "start_time": "2025-03-10T18:25:24.660Z"
   },
   {
    "duration": 4,
    "start_time": "2025-03-10T18:25:24.678Z"
   },
   {
    "duration": 72,
    "start_time": "2025-03-10T18:25:24.684Z"
   },
   {
    "duration": 23,
    "start_time": "2025-03-10T18:25:24.758Z"
   },
   {
    "duration": 77,
    "start_time": "2025-03-10T18:25:24.782Z"
   },
   {
    "duration": 0,
    "start_time": "2025-03-10T18:25:24.861Z"
   },
   {
    "duration": 0,
    "start_time": "2025-03-10T18:25:24.863Z"
   },
   {
    "duration": 0,
    "start_time": "2025-03-10T18:25:24.864Z"
   },
   {
    "duration": 0,
    "start_time": "2025-03-10T18:25:24.865Z"
   },
   {
    "duration": 0,
    "start_time": "2025-03-10T18:25:24.866Z"
   },
   {
    "duration": 0,
    "start_time": "2025-03-10T18:25:24.867Z"
   },
   {
    "duration": 0,
    "start_time": "2025-03-10T18:25:24.868Z"
   },
   {
    "duration": 0,
    "start_time": "2025-03-10T18:25:24.869Z"
   },
   {
    "duration": 0,
    "start_time": "2025-03-10T18:25:24.870Z"
   },
   {
    "duration": 0,
    "start_time": "2025-03-10T18:25:24.871Z"
   },
   {
    "duration": 0,
    "start_time": "2025-03-10T18:25:24.872Z"
   },
   {
    "duration": 0,
    "start_time": "2025-03-10T18:25:24.873Z"
   },
   {
    "duration": 0,
    "start_time": "2025-03-10T18:25:24.874Z"
   },
   {
    "duration": 0,
    "start_time": "2025-03-10T18:25:24.875Z"
   },
   {
    "duration": 0,
    "start_time": "2025-03-10T18:25:24.875Z"
   },
   {
    "duration": 0,
    "start_time": "2025-03-10T18:25:24.876Z"
   },
   {
    "duration": 0,
    "start_time": "2025-03-10T18:25:24.877Z"
   },
   {
    "duration": 0,
    "start_time": "2025-03-10T18:25:24.878Z"
   },
   {
    "duration": 0,
    "start_time": "2025-03-10T18:25:24.879Z"
   },
   {
    "duration": 1,
    "start_time": "2025-03-10T18:25:24.879Z"
   },
   {
    "duration": 0,
    "start_time": "2025-03-10T18:25:24.880Z"
   },
   {
    "duration": 0,
    "start_time": "2025-03-10T18:25:24.881Z"
   },
   {
    "duration": 0,
    "start_time": "2025-03-10T18:25:24.882Z"
   },
   {
    "duration": 0,
    "start_time": "2025-03-10T18:25:24.883Z"
   },
   {
    "duration": 0,
    "start_time": "2025-03-10T18:25:24.884Z"
   },
   {
    "duration": 0,
    "start_time": "2025-03-10T18:25:24.885Z"
   },
   {
    "duration": 0,
    "start_time": "2025-03-10T18:25:24.887Z"
   },
   {
    "duration": 0,
    "start_time": "2025-03-10T18:25:24.887Z"
   },
   {
    "duration": 0,
    "start_time": "2025-03-10T18:25:24.889Z"
   },
   {
    "duration": 0,
    "start_time": "2025-03-10T18:25:24.889Z"
   },
   {
    "duration": 0,
    "start_time": "2025-03-10T18:25:24.891Z"
   },
   {
    "duration": 0,
    "start_time": "2025-03-10T18:25:24.892Z"
   },
   {
    "duration": 0,
    "start_time": "2025-03-10T18:25:24.893Z"
   },
   {
    "duration": 0,
    "start_time": "2025-03-10T18:25:24.894Z"
   },
   {
    "duration": 0,
    "start_time": "2025-03-10T18:25:24.895Z"
   },
   {
    "duration": 0,
    "start_time": "2025-03-10T18:25:24.896Z"
   },
   {
    "duration": 0,
    "start_time": "2025-03-10T18:25:24.897Z"
   },
   {
    "duration": 0,
    "start_time": "2025-03-10T18:25:24.903Z"
   },
   {
    "duration": 5,
    "start_time": "2025-03-10T18:26:00.016Z"
   },
   {
    "duration": 10,
    "start_time": "2025-03-10T18:26:02.014Z"
   },
   {
    "duration": 6,
    "start_time": "2025-03-10T18:26:29.629Z"
   },
   {
    "duration": 18,
    "start_time": "2025-03-10T18:26:30.538Z"
   },
   {
    "duration": 6,
    "start_time": "2025-03-10T18:27:06.643Z"
   },
   {
    "duration": 7,
    "start_time": "2025-03-10T18:27:08.989Z"
   },
   {
    "duration": 6,
    "start_time": "2025-03-10T18:27:23.812Z"
   },
   {
    "duration": 13,
    "start_time": "2025-03-10T18:27:28.408Z"
   },
   {
    "duration": 170,
    "start_time": "2025-03-10T18:27:53.424Z"
   },
   {
    "duration": 18,
    "start_time": "2025-03-10T18:28:06.711Z"
   },
   {
    "duration": 13,
    "start_time": "2025-03-10T18:28:07.681Z"
   },
   {
    "duration": 5,
    "start_time": "2025-03-10T18:28:07.923Z"
   },
   {
    "duration": 20,
    "start_time": "2025-03-10T18:28:09.035Z"
   },
   {
    "duration": 25,
    "start_time": "2025-03-10T18:28:10.215Z"
   },
   {
    "duration": 17,
    "start_time": "2025-03-10T18:28:11.518Z"
   },
   {
    "duration": 609,
    "start_time": "2025-03-10T18:28:43.103Z"
   },
   {
    "duration": 19,
    "start_time": "2025-03-10T18:29:02.801Z"
   },
   {
    "duration": 17,
    "start_time": "2025-03-10T18:29:24.601Z"
   },
   {
    "duration": 9,
    "start_time": "2025-03-10T18:29:36.286Z"
   },
   {
    "duration": 11,
    "start_time": "2025-03-10T18:29:49.661Z"
   },
   {
    "duration": 8,
    "start_time": "2025-03-10T18:30:38.653Z"
   },
   {
    "duration": 15,
    "start_time": "2025-03-10T18:30:40.142Z"
   },
   {
    "duration": 2261,
    "start_time": "2025-03-10T18:32:11.630Z"
   },
   {
    "duration": 28,
    "start_time": "2025-03-10T18:32:13.893Z"
   },
   {
    "duration": 2,
    "start_time": "2025-03-10T18:32:13.923Z"
   },
   {
    "duration": 17,
    "start_time": "2025-03-10T18:32:13.928Z"
   },
   {
    "duration": 14,
    "start_time": "2025-03-10T18:32:13.947Z"
   },
   {
    "duration": 17,
    "start_time": "2025-03-10T18:32:13.963Z"
   },
   {
    "duration": 20,
    "start_time": "2025-03-10T18:32:13.982Z"
   },
   {
    "duration": 31,
    "start_time": "2025-03-10T18:32:14.004Z"
   },
   {
    "duration": 5,
    "start_time": "2025-03-10T18:32:14.037Z"
   },
   {
    "duration": 85,
    "start_time": "2025-03-10T18:32:14.045Z"
   },
   {
    "duration": 23,
    "start_time": "2025-03-10T18:32:14.131Z"
   },
   {
    "duration": 9,
    "start_time": "2025-03-10T18:32:14.155Z"
   },
   {
    "duration": 15,
    "start_time": "2025-03-10T18:32:14.166Z"
   },
   {
    "duration": 29,
    "start_time": "2025-03-10T18:32:14.183Z"
   },
   {
    "duration": 41,
    "start_time": "2025-03-10T18:32:14.214Z"
   },
   {
    "duration": 36,
    "start_time": "2025-03-10T18:32:14.257Z"
   },
   {
    "duration": 33,
    "start_time": "2025-03-10T18:32:14.295Z"
   },
   {
    "duration": 16,
    "start_time": "2025-03-10T18:32:14.330Z"
   },
   {
    "duration": 34,
    "start_time": "2025-03-10T18:32:14.348Z"
   },
   {
    "duration": 1290,
    "start_time": "2025-03-10T18:32:14.384Z"
   },
   {
    "duration": 5,
    "start_time": "2025-03-10T18:32:15.676Z"
   },
   {
    "duration": 33,
    "start_time": "2025-03-10T18:32:15.683Z"
   },
   {
    "duration": 844,
    "start_time": "2025-03-10T18:32:15.717Z"
   },
   {
    "duration": 530,
    "start_time": "2025-03-10T18:32:16.563Z"
   },
   {
    "duration": 309,
    "start_time": "2025-03-10T18:32:17.096Z"
   },
   {
    "duration": 320,
    "start_time": "2025-03-10T18:32:17.407Z"
   },
   {
    "duration": 367,
    "start_time": "2025-03-10T18:32:17.730Z"
   },
   {
    "duration": 14,
    "start_time": "2025-03-10T18:32:18.101Z"
   },
   {
    "duration": 9,
    "start_time": "2025-03-10T18:32:18.117Z"
   },
   {
    "duration": 24,
    "start_time": "2025-03-10T18:32:18.127Z"
   },
   {
    "duration": 3,
    "start_time": "2025-03-10T18:32:18.153Z"
   },
   {
    "duration": 13,
    "start_time": "2025-03-10T18:32:18.157Z"
   },
   {
    "duration": 7,
    "start_time": "2025-03-10T18:32:18.171Z"
   },
   {
    "duration": 3,
    "start_time": "2025-03-10T18:32:18.180Z"
   },
   {
    "duration": 40,
    "start_time": "2025-03-10T18:32:18.185Z"
   },
   {
    "duration": 40,
    "start_time": "2025-03-10T18:32:18.226Z"
   },
   {
    "duration": 46,
    "start_time": "2025-03-10T18:32:18.267Z"
   },
   {
    "duration": 4,
    "start_time": "2025-03-10T18:32:18.315Z"
   },
   {
    "duration": 7,
    "start_time": "2025-03-10T18:32:18.320Z"
   },
   {
    "duration": 26,
    "start_time": "2025-03-10T18:32:18.328Z"
   },
   {
    "duration": 9,
    "start_time": "2025-03-10T18:32:18.356Z"
   },
   {
    "duration": 21,
    "start_time": "2025-03-10T18:32:18.366Z"
   },
   {
    "duration": 8,
    "start_time": "2025-03-10T18:32:18.389Z"
   },
   {
    "duration": 179207,
    "start_time": "2025-03-10T18:32:18.399Z"
   },
   {
    "duration": 6,
    "start_time": "2025-03-10T18:35:17.608Z"
   },
   {
    "duration": 1419,
    "start_time": "2025-03-10T18:35:17.616Z"
   },
   {
    "duration": 1468,
    "start_time": "2025-03-10T18:35:19.036Z"
   },
   {
    "duration": 2238,
    "start_time": "2025-03-15T14:32:23.221Z"
   },
   {
    "duration": 30,
    "start_time": "2025-03-15T14:32:30.588Z"
   },
   {
    "duration": 2,
    "start_time": "2025-03-15T14:32:32.660Z"
   },
   {
    "duration": 5,
    "start_time": "2025-03-15T14:32:34.797Z"
   },
   {
    "duration": 4,
    "start_time": "2025-03-15T14:32:36.562Z"
   },
   {
    "duration": 6,
    "start_time": "2025-03-15T14:32:38.786Z"
   },
   {
    "duration": 17,
    "start_time": "2025-03-15T14:33:24.747Z"
   },
   {
    "duration": 2,
    "start_time": "2025-03-15T14:33:31.451Z"
   },
   {
    "duration": 16,
    "start_time": "2025-03-15T14:33:35.727Z"
   },
   {
    "duration": 58,
    "start_time": "2025-03-15T14:34:04.136Z"
   },
   {
    "duration": 28,
    "start_time": "2025-03-15T14:34:08.746Z"
   },
   {
    "duration": 155,
    "start_time": "2025-03-15T14:35:02.768Z"
   },
   {
    "duration": 2,
    "start_time": "2025-03-15T14:35:09.591Z"
   },
   {
    "duration": 6,
    "start_time": "2025-03-15T14:36:04.878Z"
   },
   {
    "duration": 10,
    "start_time": "2025-03-15T14:36:11.687Z"
   },
   {
    "duration": 16,
    "start_time": "2025-03-15T14:36:53.164Z"
   },
   {
    "duration": 11,
    "start_time": "2025-03-15T14:38:01.683Z"
   },
   {
    "duration": 17,
    "start_time": "2025-03-15T14:38:19.330Z"
   },
   {
    "duration": 6,
    "start_time": "2025-03-15T14:38:57.359Z"
   },
   {
    "duration": 17,
    "start_time": "2025-03-15T14:38:59.309Z"
   },
   {
    "duration": 5,
    "start_time": "2025-03-15T14:39:21.059Z"
   },
   {
    "duration": 19,
    "start_time": "2025-03-15T14:39:22.651Z"
   },
   {
    "duration": 5,
    "start_time": "2025-03-15T14:39:39.868Z"
   },
   {
    "duration": 18,
    "start_time": "2025-03-15T14:39:42.010Z"
   },
   {
    "duration": 6,
    "start_time": "2025-03-15T14:40:11.345Z"
   },
   {
    "duration": 20,
    "start_time": "2025-03-15T14:40:13.730Z"
   },
   {
    "duration": 7,
    "start_time": "2025-03-15T14:47:07.234Z"
   },
   {
    "duration": 8,
    "start_time": "2025-03-15T14:49:22.252Z"
   },
   {
    "duration": 7,
    "start_time": "2025-03-15T14:52:18.218Z"
   },
   {
    "duration": 6,
    "start_time": "2025-03-15T14:54:33.453Z"
   },
   {
    "duration": 6,
    "start_time": "2025-03-15T14:54:36.067Z"
   },
   {
    "duration": 12,
    "start_time": "2025-03-15T14:54:39.020Z"
   },
   {
    "duration": 7,
    "start_time": "2025-03-15T14:55:26.215Z"
   },
   {
    "duration": 3,
    "start_time": "2025-03-15T14:55:28.216Z"
   },
   {
    "duration": 3,
    "start_time": "2025-03-15T14:55:31.266Z"
   },
   {
    "duration": 6,
    "start_time": "2025-03-15T14:55:33.551Z"
   },
   {
    "duration": 6,
    "start_time": "2025-03-15T14:55:36.376Z"
   },
   {
    "duration": 11,
    "start_time": "2025-03-15T14:55:55.135Z"
   },
   {
    "duration": 5,
    "start_time": "2025-03-15T15:00:47.549Z"
   },
   {
    "duration": 6,
    "start_time": "2025-03-15T15:01:07.242Z"
   },
   {
    "duration": 8,
    "start_time": "2025-03-15T15:01:49.201Z"
   },
   {
    "duration": 4,
    "start_time": "2025-03-15T15:03:46.904Z"
   },
   {
    "duration": 2098,
    "start_time": "2025-03-15T15:04:11.645Z"
   },
   {
    "duration": 18,
    "start_time": "2025-03-15T15:04:13.747Z"
   },
   {
    "duration": 15,
    "start_time": "2025-03-15T15:04:13.766Z"
   },
   {
    "duration": 30,
    "start_time": "2025-03-15T15:04:13.782Z"
   },
   {
    "duration": 30,
    "start_time": "2025-03-15T15:04:13.814Z"
   },
   {
    "duration": 18,
    "start_time": "2025-03-15T15:04:13.846Z"
   },
   {
    "duration": 57,
    "start_time": "2025-03-15T15:04:13.865Z"
   },
   {
    "duration": 22,
    "start_time": "2025-03-15T15:04:13.923Z"
   },
   {
    "duration": 21,
    "start_time": "2025-03-15T15:04:13.947Z"
   },
   {
    "duration": 16,
    "start_time": "2025-03-15T15:04:13.970Z"
   },
   {
    "duration": 77,
    "start_time": "2025-03-15T15:04:13.988Z"
   },
   {
    "duration": 23,
    "start_time": "2025-03-15T15:04:14.066Z"
   },
   {
    "duration": 14,
    "start_time": "2025-03-15T15:04:14.091Z"
   },
   {
    "duration": 21,
    "start_time": "2025-03-15T15:04:14.108Z"
   },
   {
    "duration": 5,
    "start_time": "2025-03-15T15:04:14.131Z"
   },
   {
    "duration": 34,
    "start_time": "2025-03-15T15:04:14.137Z"
   },
   {
    "duration": 2,
    "start_time": "2025-03-15T15:04:14.173Z"
   },
   {
    "duration": 18,
    "start_time": "2025-03-15T15:04:14.177Z"
   },
   {
    "duration": 15,
    "start_time": "2025-03-15T15:04:14.196Z"
   },
   {
    "duration": 10,
    "start_time": "2025-03-15T15:04:14.213Z"
   },
   {
    "duration": 7,
    "start_time": "2025-03-15T15:04:14.225Z"
   },
   {
    "duration": 19,
    "start_time": "2025-03-15T15:04:14.233Z"
   },
   {
    "duration": 15,
    "start_time": "2025-03-15T15:04:14.254Z"
   },
   {
    "duration": 5,
    "start_time": "2025-03-15T15:04:14.271Z"
   },
   {
    "duration": 738,
    "start_time": "2025-03-15T15:04:14.278Z"
   },
   {
    "duration": 401,
    "start_time": "2025-03-15T15:04:15.018Z"
   },
   {
    "duration": 155,
    "start_time": "2025-03-15T15:04:15.420Z"
   },
   {
    "duration": 183,
    "start_time": "2025-03-15T15:04:15.576Z"
   },
   {
    "duration": 587,
    "start_time": "2025-03-15T15:04:15.761Z"
   },
   {
    "duration": 2,
    "start_time": "2025-03-15T15:04:16.350Z"
   },
   {
    "duration": 18,
    "start_time": "2025-03-15T15:04:16.354Z"
   },
   {
    "duration": 30,
    "start_time": "2025-03-15T15:04:16.373Z"
   },
   {
    "duration": 19,
    "start_time": "2025-03-15T15:04:16.405Z"
   },
   {
    "duration": 13,
    "start_time": "2025-03-15T15:04:16.426Z"
   },
   {
    "duration": 6,
    "start_time": "2025-03-15T15:04:16.441Z"
   },
   {
    "duration": 5,
    "start_time": "2025-03-15T15:04:16.449Z"
   },
   {
    "duration": 13,
    "start_time": "2025-03-15T15:04:16.456Z"
   },
   {
    "duration": 13,
    "start_time": "2025-03-15T15:04:16.470Z"
   },
   {
    "duration": 24,
    "start_time": "2025-03-15T15:04:16.485Z"
   },
   {
    "duration": 16,
    "start_time": "2025-03-15T15:04:16.511Z"
   },
   {
    "duration": 178,
    "start_time": "2025-03-15T15:04:16.531Z"
   },
   {
    "duration": 0,
    "start_time": "2025-03-15T15:04:16.710Z"
   },
   {
    "duration": 0,
    "start_time": "2025-03-15T15:04:16.712Z"
   },
   {
    "duration": 0,
    "start_time": "2025-03-15T15:04:16.712Z"
   },
   {
    "duration": 0,
    "start_time": "2025-03-15T15:04:16.713Z"
   },
   {
    "duration": 0,
    "start_time": "2025-03-15T15:04:16.714Z"
   },
   {
    "duration": 0,
    "start_time": "2025-03-15T15:04:16.715Z"
   },
   {
    "duration": 0,
    "start_time": "2025-03-15T15:04:16.716Z"
   },
   {
    "duration": 0,
    "start_time": "2025-03-15T15:04:16.717Z"
   },
   {
    "duration": 0,
    "start_time": "2025-03-15T15:04:16.718Z"
   },
   {
    "duration": 0,
    "start_time": "2025-03-15T15:04:16.719Z"
   },
   {
    "duration": 0,
    "start_time": "2025-03-15T15:04:16.721Z"
   },
   {
    "duration": 0,
    "start_time": "2025-03-15T15:04:16.722Z"
   },
   {
    "duration": 0,
    "start_time": "2025-03-15T15:04:16.723Z"
   },
   {
    "duration": 9,
    "start_time": "2025-03-15T15:07:33.332Z"
   },
   {
    "duration": 8,
    "start_time": "2025-03-15T15:09:30.898Z"
   },
   {
    "duration": 2176,
    "start_time": "2025-03-15T15:09:46.377Z"
   },
   {
    "duration": 17,
    "start_time": "2025-03-15T15:09:48.555Z"
   },
   {
    "duration": 3,
    "start_time": "2025-03-15T15:09:48.574Z"
   },
   {
    "duration": 14,
    "start_time": "2025-03-15T15:09:48.579Z"
   },
   {
    "duration": 21,
    "start_time": "2025-03-15T15:09:48.594Z"
   },
   {
    "duration": 10,
    "start_time": "2025-03-15T15:09:48.617Z"
   },
   {
    "duration": 23,
    "start_time": "2025-03-15T15:09:48.629Z"
   },
   {
    "duration": 16,
    "start_time": "2025-03-15T15:09:48.654Z"
   },
   {
    "duration": 16,
    "start_time": "2025-03-15T15:09:48.671Z"
   },
   {
    "duration": 4,
    "start_time": "2025-03-15T15:09:48.690Z"
   },
   {
    "duration": 60,
    "start_time": "2025-03-15T15:09:48.695Z"
   },
   {
    "duration": 25,
    "start_time": "2025-03-15T15:09:48.756Z"
   },
   {
    "duration": 22,
    "start_time": "2025-03-15T15:09:48.783Z"
   },
   {
    "duration": 29,
    "start_time": "2025-03-15T15:09:48.807Z"
   },
   {
    "duration": 5,
    "start_time": "2025-03-15T15:09:48.837Z"
   },
   {
    "duration": 38,
    "start_time": "2025-03-15T15:09:48.844Z"
   },
   {
    "duration": 2,
    "start_time": "2025-03-15T15:09:48.884Z"
   },
   {
    "duration": 9,
    "start_time": "2025-03-15T15:09:48.888Z"
   },
   {
    "duration": 3,
    "start_time": "2025-03-15T15:09:48.899Z"
   },
   {
    "duration": 4,
    "start_time": "2025-03-15T15:09:48.903Z"
   },
   {
    "duration": 14,
    "start_time": "2025-03-15T15:09:48.908Z"
   },
   {
    "duration": 15,
    "start_time": "2025-03-15T15:09:48.923Z"
   },
   {
    "duration": 10,
    "start_time": "2025-03-15T15:09:48.939Z"
   },
   {
    "duration": 4,
    "start_time": "2025-03-15T15:09:48.950Z"
   },
   {
    "duration": 736,
    "start_time": "2025-03-15T15:09:48.956Z"
   },
   {
    "duration": 403,
    "start_time": "2025-03-15T15:09:49.694Z"
   },
   {
    "duration": 168,
    "start_time": "2025-03-15T15:09:50.099Z"
   },
   {
    "duration": 180,
    "start_time": "2025-03-15T15:09:50.270Z"
   },
   {
    "duration": 598,
    "start_time": "2025-03-15T15:09:50.452Z"
   },
   {
    "duration": 3,
    "start_time": "2025-03-15T15:09:51.051Z"
   },
   {
    "duration": 20,
    "start_time": "2025-03-15T15:09:51.055Z"
   },
   {
    "duration": 17,
    "start_time": "2025-03-15T15:09:51.076Z"
   },
   {
    "duration": 13,
    "start_time": "2025-03-15T15:09:51.095Z"
   },
   {
    "duration": 17,
    "start_time": "2025-03-15T15:09:51.110Z"
   },
   {
    "duration": 20,
    "start_time": "2025-03-15T15:09:51.129Z"
   },
   {
    "duration": 9,
    "start_time": "2025-03-15T15:09:51.151Z"
   },
   {
    "duration": 36,
    "start_time": "2025-03-15T15:09:51.162Z"
   },
   {
    "duration": 5,
    "start_time": "2025-03-15T15:09:51.200Z"
   },
   {
    "duration": 26,
    "start_time": "2025-03-15T15:09:51.207Z"
   },
   {
    "duration": 28,
    "start_time": "2025-03-15T15:09:51.234Z"
   },
   {
    "duration": 176,
    "start_time": "2025-03-15T15:09:51.264Z"
   },
   {
    "duration": 0,
    "start_time": "2025-03-15T15:09:51.442Z"
   },
   {
    "duration": 0,
    "start_time": "2025-03-15T15:09:51.444Z"
   },
   {
    "duration": 0,
    "start_time": "2025-03-15T15:09:51.446Z"
   },
   {
    "duration": 0,
    "start_time": "2025-03-15T15:09:51.447Z"
   },
   {
    "duration": 0,
    "start_time": "2025-03-15T15:09:51.449Z"
   },
   {
    "duration": 0,
    "start_time": "2025-03-15T15:09:51.450Z"
   },
   {
    "duration": 0,
    "start_time": "2025-03-15T15:09:51.451Z"
   },
   {
    "duration": 0,
    "start_time": "2025-03-15T15:09:51.453Z"
   },
   {
    "duration": 0,
    "start_time": "2025-03-15T15:09:51.455Z"
   },
   {
    "duration": 0,
    "start_time": "2025-03-15T15:09:51.456Z"
   },
   {
    "duration": 0,
    "start_time": "2025-03-15T15:09:51.457Z"
   },
   {
    "duration": 0,
    "start_time": "2025-03-15T15:09:51.459Z"
   },
   {
    "duration": 0,
    "start_time": "2025-03-15T15:09:51.460Z"
   },
   {
    "duration": 13,
    "start_time": "2025-03-15T15:11:06.203Z"
   },
   {
    "duration": 7,
    "start_time": "2025-03-15T15:12:09.327Z"
   },
   {
    "duration": 3,
    "start_time": "2025-03-15T15:14:32.781Z"
   },
   {
    "duration": 3,
    "start_time": "2025-03-15T15:14:36.203Z"
   },
   {
    "duration": 32,
    "start_time": "2025-03-15T15:14:37.978Z"
   },
   {
    "duration": 33,
    "start_time": "2025-03-15T15:17:06.573Z"
   },
   {
    "duration": 4,
    "start_time": "2025-03-15T15:20:44.385Z"
   },
   {
    "duration": 11,
    "start_time": "2025-03-15T15:20:46.261Z"
   },
   {
    "duration": 4,
    "start_time": "2025-03-15T15:20:59.404Z"
   },
   {
    "duration": 4,
    "start_time": "2025-03-15T15:21:05.742Z"
   },
   {
    "duration": 11,
    "start_time": "2025-03-15T15:21:08.152Z"
   },
   {
    "duration": 8,
    "start_time": "2025-03-15T15:21:23.734Z"
   },
   {
    "duration": 7,
    "start_time": "2025-03-15T15:21:47.479Z"
   },
   {
    "duration": 2194,
    "start_time": "2025-03-15T15:21:54.868Z"
   },
   {
    "duration": 18,
    "start_time": "2025-03-15T15:21:57.064Z"
   },
   {
    "duration": 3,
    "start_time": "2025-03-15T15:21:57.083Z"
   },
   {
    "duration": 18,
    "start_time": "2025-03-15T15:21:57.088Z"
   },
   {
    "duration": 11,
    "start_time": "2025-03-15T15:21:57.108Z"
   },
   {
    "duration": 8,
    "start_time": "2025-03-15T15:21:57.120Z"
   },
   {
    "duration": 13,
    "start_time": "2025-03-15T15:21:57.129Z"
   },
   {
    "duration": 18,
    "start_time": "2025-03-15T15:21:57.144Z"
   },
   {
    "duration": 28,
    "start_time": "2025-03-15T15:21:57.163Z"
   },
   {
    "duration": 8,
    "start_time": "2025-03-15T15:21:57.193Z"
   },
   {
    "duration": 67,
    "start_time": "2025-03-15T15:21:57.202Z"
   },
   {
    "duration": 23,
    "start_time": "2025-03-15T15:21:57.271Z"
   },
   {
    "duration": 5,
    "start_time": "2025-03-15T15:21:57.295Z"
   },
   {
    "duration": 31,
    "start_time": "2025-03-15T15:21:57.303Z"
   },
   {
    "duration": 6,
    "start_time": "2025-03-15T15:21:57.337Z"
   },
   {
    "duration": 30,
    "start_time": "2025-03-15T15:21:57.345Z"
   },
   {
    "duration": 2,
    "start_time": "2025-03-15T15:21:57.377Z"
   },
   {
    "duration": 16,
    "start_time": "2025-03-15T15:21:57.380Z"
   },
   {
    "duration": 5,
    "start_time": "2025-03-15T15:21:57.398Z"
   },
   {
    "duration": 13,
    "start_time": "2025-03-15T15:21:57.405Z"
   },
   {
    "duration": 5,
    "start_time": "2025-03-15T15:21:57.420Z"
   },
   {
    "duration": 9,
    "start_time": "2025-03-15T15:21:57.426Z"
   },
   {
    "duration": 5,
    "start_time": "2025-03-15T15:21:57.436Z"
   },
   {
    "duration": 4,
    "start_time": "2025-03-15T15:21:57.442Z"
   },
   {
    "duration": 729,
    "start_time": "2025-03-15T15:21:57.447Z"
   },
   {
    "duration": 338,
    "start_time": "2025-03-15T15:21:58.178Z"
   },
   {
    "duration": 157,
    "start_time": "2025-03-15T15:21:58.518Z"
   },
   {
    "duration": 164,
    "start_time": "2025-03-15T15:21:58.677Z"
   },
   {
    "duration": 543,
    "start_time": "2025-03-15T15:21:58.843Z"
   },
   {
    "duration": 2,
    "start_time": "2025-03-15T15:21:59.388Z"
   },
   {
    "duration": 18,
    "start_time": "2025-03-15T15:21:59.403Z"
   },
   {
    "duration": 29,
    "start_time": "2025-03-15T15:21:59.422Z"
   },
   {
    "duration": 31,
    "start_time": "2025-03-15T15:21:59.453Z"
   },
   {
    "duration": 41,
    "start_time": "2025-03-15T15:21:59.485Z"
   },
   {
    "duration": 12,
    "start_time": "2025-03-15T15:21:59.528Z"
   },
   {
    "duration": 19,
    "start_time": "2025-03-15T15:21:59.542Z"
   },
   {
    "duration": 42,
    "start_time": "2025-03-15T15:21:59.563Z"
   },
   {
    "duration": 27,
    "start_time": "2025-03-15T15:21:59.607Z"
   },
   {
    "duration": 14,
    "start_time": "2025-03-15T15:21:59.636Z"
   },
   {
    "duration": 15,
    "start_time": "2025-03-15T15:21:59.652Z"
   },
   {
    "duration": 20,
    "start_time": "2025-03-15T15:21:59.671Z"
   },
   {
    "duration": 218,
    "start_time": "2025-03-15T15:21:59.693Z"
   },
   {
    "duration": 0,
    "start_time": "2025-03-15T15:21:59.913Z"
   },
   {
    "duration": 0,
    "start_time": "2025-03-15T15:21:59.914Z"
   },
   {
    "duration": 0,
    "start_time": "2025-03-15T15:21:59.915Z"
   },
   {
    "duration": 0,
    "start_time": "2025-03-15T15:21:59.916Z"
   },
   {
    "duration": 0,
    "start_time": "2025-03-15T15:21:59.917Z"
   },
   {
    "duration": 0,
    "start_time": "2025-03-15T15:21:59.918Z"
   },
   {
    "duration": 0,
    "start_time": "2025-03-15T15:21:59.920Z"
   },
   {
    "duration": 0,
    "start_time": "2025-03-15T15:21:59.921Z"
   },
   {
    "duration": 0,
    "start_time": "2025-03-15T15:21:59.922Z"
   },
   {
    "duration": 0,
    "start_time": "2025-03-15T15:21:59.922Z"
   },
   {
    "duration": 0,
    "start_time": "2025-03-15T15:21:59.923Z"
   },
   {
    "duration": 0,
    "start_time": "2025-03-15T15:21:59.925Z"
   },
   {
    "duration": 0,
    "start_time": "2025-03-15T15:21:59.926Z"
   },
   {
    "duration": 0,
    "start_time": "2025-03-15T15:21:59.926Z"
   },
   {
    "duration": 2157,
    "start_time": "2025-03-15T15:22:30.504Z"
   },
   {
    "duration": 18,
    "start_time": "2025-03-15T15:22:32.662Z"
   },
   {
    "duration": 2,
    "start_time": "2025-03-15T15:22:32.682Z"
   },
   {
    "duration": 7,
    "start_time": "2025-03-15T15:22:32.686Z"
   },
   {
    "duration": 9,
    "start_time": "2025-03-15T15:22:32.695Z"
   },
   {
    "duration": 7,
    "start_time": "2025-03-15T15:22:32.705Z"
   },
   {
    "duration": 13,
    "start_time": "2025-03-15T15:22:32.713Z"
   },
   {
    "duration": 10,
    "start_time": "2025-03-15T15:22:32.727Z"
   },
   {
    "duration": 14,
    "start_time": "2025-03-15T15:22:32.738Z"
   },
   {
    "duration": 3,
    "start_time": "2025-03-15T15:22:32.754Z"
   },
   {
    "duration": 63,
    "start_time": "2025-03-15T15:22:32.759Z"
   },
   {
    "duration": 21,
    "start_time": "2025-03-15T15:22:32.824Z"
   },
   {
    "duration": 5,
    "start_time": "2025-03-15T15:22:32.847Z"
   },
   {
    "duration": 36,
    "start_time": "2025-03-15T15:22:32.855Z"
   },
   {
    "duration": 5,
    "start_time": "2025-03-15T15:22:32.903Z"
   },
   {
    "duration": 25,
    "start_time": "2025-03-15T15:22:32.910Z"
   },
   {
    "duration": 3,
    "start_time": "2025-03-15T15:22:32.937Z"
   },
   {
    "duration": 26,
    "start_time": "2025-03-15T15:22:32.942Z"
   },
   {
    "duration": 4,
    "start_time": "2025-03-15T15:22:32.970Z"
   },
   {
    "duration": 12,
    "start_time": "2025-03-15T15:22:32.976Z"
   },
   {
    "duration": 23,
    "start_time": "2025-03-15T15:22:32.989Z"
   },
   {
    "duration": 17,
    "start_time": "2025-03-15T15:22:33.014Z"
   },
   {
    "duration": 17,
    "start_time": "2025-03-15T15:22:33.033Z"
   },
   {
    "duration": 29,
    "start_time": "2025-03-15T15:22:33.051Z"
   },
   {
    "duration": 710,
    "start_time": "2025-03-15T15:22:33.082Z"
   },
   {
    "duration": 356,
    "start_time": "2025-03-15T15:22:33.794Z"
   },
   {
    "duration": 162,
    "start_time": "2025-03-15T15:22:34.152Z"
   },
   {
    "duration": 171,
    "start_time": "2025-03-15T15:22:34.316Z"
   },
   {
    "duration": 549,
    "start_time": "2025-03-15T15:22:34.488Z"
   },
   {
    "duration": 2,
    "start_time": "2025-03-15T15:22:35.039Z"
   },
   {
    "duration": 24,
    "start_time": "2025-03-15T15:22:35.043Z"
   },
   {
    "duration": 34,
    "start_time": "2025-03-15T15:22:35.069Z"
   },
   {
    "duration": 16,
    "start_time": "2025-03-15T15:22:35.105Z"
   },
   {
    "duration": 5,
    "start_time": "2025-03-15T15:22:35.123Z"
   },
   {
    "duration": 9,
    "start_time": "2025-03-15T15:22:35.129Z"
   },
   {
    "duration": 5,
    "start_time": "2025-03-15T15:22:35.140Z"
   },
   {
    "duration": 27,
    "start_time": "2025-03-15T15:22:35.146Z"
   },
   {
    "duration": 5,
    "start_time": "2025-03-15T15:22:35.174Z"
   },
   {
    "duration": 21,
    "start_time": "2025-03-15T15:22:35.180Z"
   },
   {
    "duration": 20,
    "start_time": "2025-03-15T15:22:35.203Z"
   },
   {
    "duration": 178,
    "start_time": "2025-03-15T15:22:35.227Z"
   },
   {
    "duration": 1,
    "start_time": "2025-03-15T15:22:35.406Z"
   },
   {
    "duration": 0,
    "start_time": "2025-03-15T15:22:35.408Z"
   },
   {
    "duration": 0,
    "start_time": "2025-03-15T15:22:35.409Z"
   },
   {
    "duration": 0,
    "start_time": "2025-03-15T15:22:35.410Z"
   },
   {
    "duration": 0,
    "start_time": "2025-03-15T15:22:35.411Z"
   },
   {
    "duration": 0,
    "start_time": "2025-03-15T15:22:35.412Z"
   },
   {
    "duration": 0,
    "start_time": "2025-03-15T15:22:35.413Z"
   },
   {
    "duration": 0,
    "start_time": "2025-03-15T15:22:35.414Z"
   },
   {
    "duration": 0,
    "start_time": "2025-03-15T15:22:35.415Z"
   },
   {
    "duration": 0,
    "start_time": "2025-03-15T15:22:35.416Z"
   },
   {
    "duration": 0,
    "start_time": "2025-03-15T15:22:35.417Z"
   },
   {
    "duration": 0,
    "start_time": "2025-03-15T15:22:35.418Z"
   },
   {
    "duration": 0,
    "start_time": "2025-03-15T15:22:35.419Z"
   },
   {
    "duration": 0,
    "start_time": "2025-03-15T15:22:35.420Z"
   },
   {
    "duration": 32,
    "start_time": "2025-03-15T15:24:06.534Z"
   },
   {
    "duration": 2,
    "start_time": "2025-03-15T15:26:22.720Z"
   },
   {
    "duration": 35,
    "start_time": "2025-03-15T15:26:33.220Z"
   },
   {
    "duration": 2184,
    "start_time": "2025-03-15T15:32:38.820Z"
   },
   {
    "duration": 18,
    "start_time": "2025-03-15T15:32:41.006Z"
   },
   {
    "duration": 12,
    "start_time": "2025-03-15T15:32:41.025Z"
   },
   {
    "duration": 29,
    "start_time": "2025-03-15T15:32:41.038Z"
   },
   {
    "duration": 44,
    "start_time": "2025-03-15T15:32:41.069Z"
   },
   {
    "duration": 27,
    "start_time": "2025-03-15T15:32:41.115Z"
   },
   {
    "duration": 39,
    "start_time": "2025-03-15T15:32:41.144Z"
   },
   {
    "duration": 44,
    "start_time": "2025-03-15T15:32:41.185Z"
   },
   {
    "duration": 33,
    "start_time": "2025-03-15T15:32:41.231Z"
   },
   {
    "duration": 6,
    "start_time": "2025-03-15T15:32:41.266Z"
   },
   {
    "duration": 72,
    "start_time": "2025-03-15T15:32:41.273Z"
   },
   {
    "duration": 21,
    "start_time": "2025-03-15T15:32:41.347Z"
   },
   {
    "duration": 9,
    "start_time": "2025-03-15T15:32:41.369Z"
   },
   {
    "duration": 56,
    "start_time": "2025-03-15T15:32:41.381Z"
   },
   {
    "duration": 19,
    "start_time": "2025-03-15T15:32:41.438Z"
   },
   {
    "duration": 58,
    "start_time": "2025-03-15T15:32:41.458Z"
   },
   {
    "duration": 39,
    "start_time": "2025-03-15T15:32:41.518Z"
   },
   {
    "duration": 47,
    "start_time": "2025-03-15T15:32:41.559Z"
   },
   {
    "duration": 42,
    "start_time": "2025-03-15T15:32:41.607Z"
   },
   {
    "duration": 39,
    "start_time": "2025-03-15T15:32:41.651Z"
   },
   {
    "duration": 26,
    "start_time": "2025-03-15T15:32:41.692Z"
   },
   {
    "duration": 40,
    "start_time": "2025-03-15T15:32:41.720Z"
   },
   {
    "duration": 56,
    "start_time": "2025-03-15T15:32:41.762Z"
   },
   {
    "duration": 33,
    "start_time": "2025-03-15T15:32:41.820Z"
   },
   {
    "duration": 720,
    "start_time": "2025-03-15T15:32:41.855Z"
   },
   {
    "duration": 348,
    "start_time": "2025-03-15T15:32:42.577Z"
   },
   {
    "duration": 158,
    "start_time": "2025-03-15T15:32:42.926Z"
   },
   {
    "duration": 163,
    "start_time": "2025-03-15T15:32:43.085Z"
   },
   {
    "duration": 549,
    "start_time": "2025-03-15T15:32:43.249Z"
   },
   {
    "duration": 3,
    "start_time": "2025-03-15T15:32:43.803Z"
   },
   {
    "duration": 39,
    "start_time": "2025-03-15T15:32:43.807Z"
   },
   {
    "duration": 38,
    "start_time": "2025-03-15T15:32:43.848Z"
   },
   {
    "duration": 46,
    "start_time": "2025-03-15T15:32:43.888Z"
   },
   {
    "duration": 18,
    "start_time": "2025-03-15T15:32:43.936Z"
   },
   {
    "duration": 27,
    "start_time": "2025-03-15T15:32:43.956Z"
   },
   {
    "duration": 16,
    "start_time": "2025-03-15T15:32:43.984Z"
   },
   {
    "duration": 48,
    "start_time": "2025-03-15T15:32:44.001Z"
   },
   {
    "duration": 52,
    "start_time": "2025-03-15T15:32:44.050Z"
   },
   {
    "duration": 12,
    "start_time": "2025-03-15T15:32:44.104Z"
   },
   {
    "duration": 35,
    "start_time": "2025-03-15T15:32:44.118Z"
   },
   {
    "duration": 37,
    "start_time": "2025-03-15T15:32:44.158Z"
   },
   {
    "duration": 197,
    "start_time": "2025-03-15T15:32:44.197Z"
   },
   {
    "duration": 0,
    "start_time": "2025-03-15T15:32:44.403Z"
   },
   {
    "duration": 0,
    "start_time": "2025-03-15T15:32:44.404Z"
   },
   {
    "duration": 0,
    "start_time": "2025-03-15T15:32:44.405Z"
   },
   {
    "duration": 0,
    "start_time": "2025-03-15T15:32:44.407Z"
   },
   {
    "duration": 0,
    "start_time": "2025-03-15T15:32:44.408Z"
   },
   {
    "duration": 0,
    "start_time": "2025-03-15T15:32:44.409Z"
   },
   {
    "duration": 0,
    "start_time": "2025-03-15T15:32:44.411Z"
   },
   {
    "duration": 0,
    "start_time": "2025-03-15T15:32:44.412Z"
   },
   {
    "duration": 0,
    "start_time": "2025-03-15T15:32:44.413Z"
   },
   {
    "duration": 0,
    "start_time": "2025-03-15T15:32:44.414Z"
   },
   {
    "duration": 0,
    "start_time": "2025-03-15T15:32:44.415Z"
   },
   {
    "duration": 0,
    "start_time": "2025-03-15T15:32:44.416Z"
   },
   {
    "duration": 0,
    "start_time": "2025-03-15T15:32:44.417Z"
   },
   {
    "duration": 0,
    "start_time": "2025-03-15T15:32:44.419Z"
   },
   {
    "duration": 51,
    "start_time": "2025-03-16T01:13:16.261Z"
   },
   {
    "duration": 2050,
    "start_time": "2025-03-16T01:13:23.608Z"
   },
   {
    "duration": 18,
    "start_time": "2025-03-16T01:13:25.660Z"
   },
   {
    "duration": 3,
    "start_time": "2025-03-16T01:13:25.679Z"
   },
   {
    "duration": 18,
    "start_time": "2025-03-16T01:13:25.684Z"
   },
   {
    "duration": 28,
    "start_time": "2025-03-16T01:13:25.704Z"
   },
   {
    "duration": 23,
    "start_time": "2025-03-16T01:13:25.733Z"
   },
   {
    "duration": 44,
    "start_time": "2025-03-16T01:13:25.757Z"
   },
   {
    "duration": 24,
    "start_time": "2025-03-16T01:13:25.803Z"
   },
   {
    "duration": 20,
    "start_time": "2025-03-16T01:13:25.828Z"
   },
   {
    "duration": 10,
    "start_time": "2025-03-16T01:13:25.849Z"
   },
   {
    "duration": 70,
    "start_time": "2025-03-16T01:13:25.861Z"
   },
   {
    "duration": 23,
    "start_time": "2025-03-16T01:13:25.932Z"
   },
   {
    "duration": 13,
    "start_time": "2025-03-16T01:13:25.956Z"
   },
   {
    "duration": 28,
    "start_time": "2025-03-16T01:13:25.971Z"
   },
   {
    "duration": 13,
    "start_time": "2025-03-16T01:13:26.003Z"
   },
   {
    "duration": 28,
    "start_time": "2025-03-16T01:13:26.017Z"
   },
   {
    "duration": 11,
    "start_time": "2025-03-16T01:13:26.047Z"
   },
   {
    "duration": 27,
    "start_time": "2025-03-16T01:13:26.059Z"
   },
   {
    "duration": 23,
    "start_time": "2025-03-16T01:13:26.088Z"
   },
   {
    "duration": 25,
    "start_time": "2025-03-16T01:13:26.113Z"
   },
   {
    "duration": 3,
    "start_time": "2025-03-16T01:13:26.140Z"
   },
   {
    "duration": 8,
    "start_time": "2025-03-16T01:13:26.144Z"
   },
   {
    "duration": 16,
    "start_time": "2025-03-16T01:13:26.153Z"
   },
   {
    "duration": 3,
    "start_time": "2025-03-16T01:13:26.170Z"
   },
   {
    "duration": 678,
    "start_time": "2025-03-16T01:13:26.175Z"
   },
   {
    "duration": 301,
    "start_time": "2025-03-16T01:13:26.855Z"
   },
   {
    "duration": 139,
    "start_time": "2025-03-16T01:13:27.158Z"
   },
   {
    "duration": 163,
    "start_time": "2025-03-16T01:13:27.298Z"
   },
   {
    "duration": 577,
    "start_time": "2025-03-16T01:13:27.463Z"
   },
   {
    "duration": 3,
    "start_time": "2025-03-16T01:13:28.041Z"
   },
   {
    "duration": 10,
    "start_time": "2025-03-16T01:13:28.046Z"
   },
   {
    "duration": 4,
    "start_time": "2025-03-16T01:13:28.058Z"
   },
   {
    "duration": 6,
    "start_time": "2025-03-16T01:13:28.063Z"
   },
   {
    "duration": 33,
    "start_time": "2025-03-16T01:13:28.071Z"
   },
   {
    "duration": 5,
    "start_time": "2025-03-16T01:13:28.105Z"
   },
   {
    "duration": 3,
    "start_time": "2025-03-16T01:13:28.112Z"
   },
   {
    "duration": 20,
    "start_time": "2025-03-16T01:13:28.116Z"
   },
   {
    "duration": 7,
    "start_time": "2025-03-16T01:13:28.137Z"
   },
   {
    "duration": 3,
    "start_time": "2025-03-16T01:13:28.145Z"
   },
   {
    "duration": 5,
    "start_time": "2025-03-16T01:13:28.150Z"
   },
   {
    "duration": 4,
    "start_time": "2025-03-16T01:13:28.158Z"
   },
   {
    "duration": 163,
    "start_time": "2025-03-16T01:13:28.163Z"
   },
   {
    "duration": 0,
    "start_time": "2025-03-16T01:13:28.327Z"
   },
   {
    "duration": 0,
    "start_time": "2025-03-16T01:13:28.329Z"
   },
   {
    "duration": 0,
    "start_time": "2025-03-16T01:13:28.330Z"
   },
   {
    "duration": 0,
    "start_time": "2025-03-16T01:13:28.331Z"
   },
   {
    "duration": 0,
    "start_time": "2025-03-16T01:13:28.332Z"
   },
   {
    "duration": 0,
    "start_time": "2025-03-16T01:13:28.333Z"
   },
   {
    "duration": 0,
    "start_time": "2025-03-16T01:13:28.334Z"
   },
   {
    "duration": 0,
    "start_time": "2025-03-16T01:13:28.335Z"
   },
   {
    "duration": 0,
    "start_time": "2025-03-16T01:13:28.336Z"
   },
   {
    "duration": 1,
    "start_time": "2025-03-16T01:13:28.337Z"
   },
   {
    "duration": 0,
    "start_time": "2025-03-16T01:13:28.339Z"
   },
   {
    "duration": 0,
    "start_time": "2025-03-16T01:13:28.340Z"
   },
   {
    "duration": 0,
    "start_time": "2025-03-16T01:13:28.341Z"
   },
   {
    "duration": 0,
    "start_time": "2025-03-16T01:13:28.342Z"
   },
   {
    "duration": 0,
    "start_time": "2025-03-16T01:13:28.343Z"
   },
   {
    "duration": 6733,
    "start_time": "2025-03-16T01:14:23.230Z"
   },
   {
    "duration": 2107,
    "start_time": "2025-03-16T01:14:29.966Z"
   },
   {
    "duration": 18,
    "start_time": "2025-03-16T01:14:32.074Z"
   },
   {
    "duration": 2,
    "start_time": "2025-03-16T01:14:32.094Z"
   },
   {
    "duration": 15,
    "start_time": "2025-03-16T01:14:32.098Z"
   },
   {
    "duration": 23,
    "start_time": "2025-03-16T01:14:32.114Z"
   },
   {
    "duration": 7,
    "start_time": "2025-03-16T01:14:32.138Z"
   },
   {
    "duration": 28,
    "start_time": "2025-03-16T01:14:32.147Z"
   },
   {
    "duration": 40,
    "start_time": "2025-03-16T01:14:32.177Z"
   },
   {
    "duration": 33,
    "start_time": "2025-03-16T01:14:32.220Z"
   },
   {
    "duration": 4,
    "start_time": "2025-03-16T01:14:32.255Z"
   },
   {
    "duration": 88,
    "start_time": "2025-03-16T01:14:32.260Z"
   },
   {
    "duration": 23,
    "start_time": "2025-03-16T01:14:32.349Z"
   },
   {
    "duration": 5,
    "start_time": "2025-03-16T01:14:32.373Z"
   },
   {
    "duration": 41,
    "start_time": "2025-03-16T01:14:32.380Z"
   },
   {
    "duration": 6,
    "start_time": "2025-03-16T01:14:32.423Z"
   },
   {
    "duration": 50,
    "start_time": "2025-03-16T01:14:32.431Z"
   },
   {
    "duration": 2,
    "start_time": "2025-03-16T01:14:32.483Z"
   },
   {
    "duration": 38,
    "start_time": "2025-03-16T01:14:32.487Z"
   },
   {
    "duration": 25,
    "start_time": "2025-03-16T01:14:32.527Z"
   },
   {
    "duration": 27,
    "start_time": "2025-03-16T01:14:32.554Z"
   },
   {
    "duration": 11,
    "start_time": "2025-03-16T01:14:32.582Z"
   },
   {
    "duration": 9,
    "start_time": "2025-03-16T01:14:32.594Z"
   },
   {
    "duration": 44,
    "start_time": "2025-03-16T01:14:32.605Z"
   },
   {
    "duration": 24,
    "start_time": "2025-03-16T01:14:32.651Z"
   },
   {
    "duration": 673,
    "start_time": "2025-03-16T01:14:32.676Z"
   },
   {
    "duration": 324,
    "start_time": "2025-03-16T01:14:33.351Z"
   },
   {
    "duration": 155,
    "start_time": "2025-03-16T01:14:33.678Z"
   },
   {
    "duration": 148,
    "start_time": "2025-03-16T01:14:33.835Z"
   },
   {
    "duration": 532,
    "start_time": "2025-03-16T01:14:33.985Z"
   },
   {
    "duration": 3,
    "start_time": "2025-03-16T01:14:34.518Z"
   },
   {
    "duration": 15,
    "start_time": "2025-03-16T01:14:34.522Z"
   },
   {
    "duration": 22,
    "start_time": "2025-03-16T01:14:34.539Z"
   },
   {
    "duration": 17,
    "start_time": "2025-03-16T01:14:34.563Z"
   },
   {
    "duration": 23,
    "start_time": "2025-03-16T01:14:34.582Z"
   },
   {
    "duration": 17,
    "start_time": "2025-03-16T01:14:34.607Z"
   },
   {
    "duration": 5,
    "start_time": "2025-03-16T01:14:34.626Z"
   },
   {
    "duration": 21,
    "start_time": "2025-03-16T01:14:34.632Z"
   },
   {
    "duration": 15,
    "start_time": "2025-03-16T01:14:34.655Z"
   },
   {
    "duration": 28,
    "start_time": "2025-03-16T01:14:34.671Z"
   },
   {
    "duration": 10,
    "start_time": "2025-03-16T01:14:34.701Z"
   },
   {
    "duration": 11,
    "start_time": "2025-03-16T01:14:34.713Z"
   },
   {
    "duration": 20,
    "start_time": "2025-03-16T01:14:34.725Z"
   },
   {
    "duration": 165,
    "start_time": "2025-03-16T01:14:34.747Z"
   },
   {
    "duration": 0,
    "start_time": "2025-03-16T01:14:34.914Z"
   },
   {
    "duration": 0,
    "start_time": "2025-03-16T01:14:34.916Z"
   },
   {
    "duration": 0,
    "start_time": "2025-03-16T01:14:34.918Z"
   },
   {
    "duration": 0,
    "start_time": "2025-03-16T01:14:34.919Z"
   },
   {
    "duration": 0,
    "start_time": "2025-03-16T01:14:34.921Z"
   },
   {
    "duration": 0,
    "start_time": "2025-03-16T01:14:34.922Z"
   },
   {
    "duration": 0,
    "start_time": "2025-03-16T01:14:34.924Z"
   },
   {
    "duration": 0,
    "start_time": "2025-03-16T01:14:34.925Z"
   },
   {
    "duration": 0,
    "start_time": "2025-03-16T01:14:34.926Z"
   },
   {
    "duration": 0,
    "start_time": "2025-03-16T01:14:34.927Z"
   },
   {
    "duration": 0,
    "start_time": "2025-03-16T01:14:34.928Z"
   },
   {
    "duration": 0,
    "start_time": "2025-03-16T01:14:34.929Z"
   },
   {
    "duration": 0,
    "start_time": "2025-03-16T01:14:34.930Z"
   },
   {
    "duration": 0,
    "start_time": "2025-03-16T01:14:34.931Z"
   },
   {
    "duration": 3057,
    "start_time": "2025-03-16T01:16:21.667Z"
   },
   {
    "duration": 2320,
    "start_time": "2025-03-16T01:16:24.726Z"
   },
   {
    "duration": 17,
    "start_time": "2025-03-16T01:16:27.047Z"
   },
   {
    "duration": 4,
    "start_time": "2025-03-16T01:16:27.067Z"
   },
   {
    "duration": 7,
    "start_time": "2025-03-16T01:16:27.073Z"
   },
   {
    "duration": 6,
    "start_time": "2025-03-16T01:16:27.082Z"
   },
   {
    "duration": 18,
    "start_time": "2025-03-16T01:16:27.090Z"
   },
   {
    "duration": 10,
    "start_time": "2025-03-16T01:16:27.110Z"
   },
   {
    "duration": 9,
    "start_time": "2025-03-16T01:16:27.121Z"
   },
   {
    "duration": 14,
    "start_time": "2025-03-16T01:16:27.133Z"
   },
   {
    "duration": 4,
    "start_time": "2025-03-16T01:16:27.148Z"
   },
   {
    "duration": 74,
    "start_time": "2025-03-16T01:16:27.154Z"
   },
   {
    "duration": 22,
    "start_time": "2025-03-16T01:16:27.230Z"
   },
   {
    "duration": 5,
    "start_time": "2025-03-16T01:16:27.253Z"
   },
   {
    "duration": 18,
    "start_time": "2025-03-16T01:16:27.259Z"
   },
   {
    "duration": 26,
    "start_time": "2025-03-16T01:16:27.279Z"
   },
   {
    "duration": 16,
    "start_time": "2025-03-16T01:16:27.307Z"
   },
   {
    "duration": 7,
    "start_time": "2025-03-16T01:16:27.325Z"
   },
   {
    "duration": 12,
    "start_time": "2025-03-16T01:16:27.333Z"
   },
   {
    "duration": 13,
    "start_time": "2025-03-16T01:16:27.347Z"
   },
   {
    "duration": 4,
    "start_time": "2025-03-16T01:16:27.361Z"
   },
   {
    "duration": 6,
    "start_time": "2025-03-16T01:16:27.366Z"
   },
   {
    "duration": 10,
    "start_time": "2025-03-16T01:16:27.373Z"
   },
   {
    "duration": 19,
    "start_time": "2025-03-16T01:16:27.384Z"
   },
   {
    "duration": 2,
    "start_time": "2025-03-16T01:16:27.405Z"
   },
   {
    "duration": 678,
    "start_time": "2025-03-16T01:16:27.409Z"
   },
   {
    "duration": 323,
    "start_time": "2025-03-16T01:16:28.088Z"
   },
   {
    "duration": 159,
    "start_time": "2025-03-16T01:16:28.415Z"
   },
   {
    "duration": 162,
    "start_time": "2025-03-16T01:16:28.575Z"
   },
   {
    "duration": 525,
    "start_time": "2025-03-16T01:16:28.739Z"
   },
   {
    "duration": 2,
    "start_time": "2025-03-16T01:16:29.266Z"
   },
   {
    "duration": 18,
    "start_time": "2025-03-16T01:16:29.270Z"
   },
   {
    "duration": 14,
    "start_time": "2025-03-16T01:16:29.290Z"
   },
   {
    "duration": 6,
    "start_time": "2025-03-16T01:16:29.306Z"
   },
   {
    "duration": 8,
    "start_time": "2025-03-16T01:16:29.314Z"
   },
   {
    "duration": 5,
    "start_time": "2025-03-16T01:16:29.323Z"
   },
   {
    "duration": 14,
    "start_time": "2025-03-16T01:16:29.329Z"
   },
   {
    "duration": 16,
    "start_time": "2025-03-16T01:16:29.344Z"
   },
   {
    "duration": 7,
    "start_time": "2025-03-16T01:16:29.362Z"
   },
   {
    "duration": 3,
    "start_time": "2025-03-16T01:16:29.371Z"
   },
   {
    "duration": 4,
    "start_time": "2025-03-16T01:16:29.376Z"
   },
   {
    "duration": 16,
    "start_time": "2025-03-16T01:16:29.381Z"
   },
   {
    "duration": 19,
    "start_time": "2025-03-16T01:16:29.399Z"
   },
   {
    "duration": 6,
    "start_time": "2025-03-16T01:16:29.420Z"
   },
   {
    "duration": 14,
    "start_time": "2025-03-16T01:16:29.428Z"
   },
   {
    "duration": 8,
    "start_time": "2025-03-16T01:16:29.443Z"
   },
   {
    "duration": 10,
    "start_time": "2025-03-16T01:16:29.453Z"
   },
   {
    "duration": 6,
    "start_time": "2025-03-16T01:16:29.465Z"
   },
   {
    "duration": 26,
    "start_time": "2025-03-16T01:16:29.472Z"
   },
   {
    "duration": 185609,
    "start_time": "2025-03-16T01:16:29.503Z"
   },
   {
    "duration": 6,
    "start_time": "2025-03-16T01:19:35.114Z"
   },
   {
    "duration": 1894,
    "start_time": "2025-03-16T01:19:35.121Z"
   },
   {
    "duration": 1776,
    "start_time": "2025-03-16T01:19:37.017Z"
   },
   {
    "duration": 15865,
    "start_time": "2025-03-16T13:00:44.343Z"
   },
   {
    "duration": 2432,
    "start_time": "2025-03-16T13:01:00.210Z"
   },
   {
    "duration": 18,
    "start_time": "2025-03-16T13:01:02.644Z"
   },
   {
    "duration": 3,
    "start_time": "2025-03-16T13:01:02.664Z"
   },
   {
    "duration": 46,
    "start_time": "2025-03-16T13:01:02.670Z"
   },
   {
    "duration": 48,
    "start_time": "2025-03-16T13:01:02.718Z"
   },
   {
    "duration": 6,
    "start_time": "2025-03-16T13:01:02.767Z"
   },
   {
    "duration": 17,
    "start_time": "2025-03-16T13:01:02.774Z"
   },
   {
    "duration": 8,
    "start_time": "2025-03-16T13:01:02.793Z"
   },
   {
    "duration": 15,
    "start_time": "2025-03-16T13:01:02.803Z"
   },
   {
    "duration": 4,
    "start_time": "2025-03-16T13:01:02.819Z"
   },
   {
    "duration": 59,
    "start_time": "2025-03-16T13:01:02.825Z"
   },
   {
    "duration": 24,
    "start_time": "2025-03-16T13:01:02.886Z"
   },
   {
    "duration": 5,
    "start_time": "2025-03-16T13:01:02.913Z"
   },
   {
    "duration": 44,
    "start_time": "2025-03-16T13:01:02.919Z"
   },
   {
    "duration": 5,
    "start_time": "2025-03-16T13:01:02.965Z"
   },
   {
    "duration": 120,
    "start_time": "2025-03-16T13:01:02.971Z"
   },
   {
    "duration": 2,
    "start_time": "2025-03-16T13:01:03.093Z"
   },
   {
    "duration": 12,
    "start_time": "2025-03-16T13:01:03.096Z"
   },
   {
    "duration": 3,
    "start_time": "2025-03-16T13:01:03.109Z"
   },
   {
    "duration": 3,
    "start_time": "2025-03-16T13:01:03.113Z"
   },
   {
    "duration": 3,
    "start_time": "2025-03-16T13:01:03.118Z"
   },
   {
    "duration": 9,
    "start_time": "2025-03-16T13:01:03.122Z"
   },
   {
    "duration": 17,
    "start_time": "2025-03-16T13:01:03.132Z"
   },
   {
    "duration": 4,
    "start_time": "2025-03-16T13:01:03.150Z"
   },
   {
    "duration": 762,
    "start_time": "2025-03-16T13:01:03.156Z"
   },
   {
    "duration": 357,
    "start_time": "2025-03-16T13:01:03.920Z"
   },
   {
    "duration": 164,
    "start_time": "2025-03-16T13:01:04.279Z"
   },
   {
    "duration": 170,
    "start_time": "2025-03-16T13:01:04.444Z"
   },
   {
    "duration": 652,
    "start_time": "2025-03-16T13:01:04.617Z"
   },
   {
    "duration": 3,
    "start_time": "2025-03-16T13:01:05.270Z"
   },
   {
    "duration": 18,
    "start_time": "2025-03-16T13:01:05.274Z"
   },
   {
    "duration": 8,
    "start_time": "2025-03-16T13:01:05.293Z"
   },
   {
    "duration": 7,
    "start_time": "2025-03-16T13:01:05.303Z"
   },
   {
    "duration": 3,
    "start_time": "2025-03-16T13:01:05.312Z"
   },
   {
    "duration": 9,
    "start_time": "2025-03-16T13:01:05.317Z"
   },
   {
    "duration": 31,
    "start_time": "2025-03-16T13:01:05.327Z"
   },
   {
    "duration": 10,
    "start_time": "2025-03-16T13:01:05.360Z"
   },
   {
    "duration": 15,
    "start_time": "2025-03-16T13:01:05.371Z"
   },
   {
    "duration": 4,
    "start_time": "2025-03-16T13:01:05.388Z"
   },
   {
    "duration": 3,
    "start_time": "2025-03-16T13:01:05.396Z"
   },
   {
    "duration": 68,
    "start_time": "2025-03-16T13:01:05.400Z"
   },
   {
    "duration": 30,
    "start_time": "2025-03-16T13:01:05.470Z"
   },
   {
    "duration": 4,
    "start_time": "2025-03-16T13:01:05.502Z"
   },
   {
    "duration": 9,
    "start_time": "2025-03-16T13:01:05.509Z"
   },
   {
    "duration": 9,
    "start_time": "2025-03-16T13:01:05.520Z"
   },
   {
    "duration": 55,
    "start_time": "2025-03-16T13:01:05.531Z"
   },
   {
    "duration": 9,
    "start_time": "2025-03-16T13:01:05.588Z"
   },
   {
    "duration": 24,
    "start_time": "2025-03-16T13:01:05.599Z"
   },
   {
    "duration": 212754,
    "start_time": "2025-03-16T13:01:05.625Z"
   },
   {
    "duration": 7,
    "start_time": "2025-03-16T13:04:38.457Z"
   },
   {
    "duration": 1969,
    "start_time": "2025-03-16T13:04:38.466Z"
   },
   {
    "duration": 1913,
    "start_time": "2025-03-16T13:04:40.436Z"
   },
   {
    "duration": 2874426,
    "start_time": "2025-03-16T13:04:42.350Z"
   },
   {
    "duration": 2,
    "start_time": "2025-03-16T13:52:36.778Z"
   },
   {
    "duration": 79,
    "start_time": "2025-03-16T13:52:36.781Z"
   },
   {
    "duration": 3,
    "start_time": "2025-03-16T15:48:19.995Z"
   },
   {
    "duration": 3366,
    "start_time": "2025-03-16T15:48:49.099Z"
   },
   {
    "duration": 2325,
    "start_time": "2025-03-16T15:48:52.469Z"
   },
   {
    "duration": 18,
    "start_time": "2025-03-16T15:48:54.795Z"
   },
   {
    "duration": 3,
    "start_time": "2025-03-16T15:48:54.815Z"
   },
   {
    "duration": 5,
    "start_time": "2025-03-16T15:48:54.820Z"
   },
   {
    "duration": 4,
    "start_time": "2025-03-16T15:48:54.827Z"
   },
   {
    "duration": 5,
    "start_time": "2025-03-16T15:48:54.832Z"
   },
   {
    "duration": 39,
    "start_time": "2025-03-16T15:48:54.839Z"
   },
   {
    "duration": 4,
    "start_time": "2025-03-16T15:48:54.880Z"
   },
   {
    "duration": 87,
    "start_time": "2025-03-16T15:48:54.886Z"
   },
   {
    "duration": 23,
    "start_time": "2025-03-16T15:48:54.976Z"
   },
   {
    "duration": 30,
    "start_time": "2025-03-16T15:48:55.001Z"
   },
   {
    "duration": 21,
    "start_time": "2025-03-16T15:48:55.033Z"
   },
   {
    "duration": 9,
    "start_time": "2025-03-16T15:48:55.057Z"
   },
   {
    "duration": 21,
    "start_time": "2025-03-16T15:48:55.069Z"
   },
   {
    "duration": 9,
    "start_time": "2025-03-16T15:48:55.091Z"
   },
   {
    "duration": 820,
    "start_time": "2025-03-16T15:48:55.102Z"
   },
   {
    "duration": 373,
    "start_time": "2025-03-16T15:48:55.923Z"
   },
   {
    "duration": 175,
    "start_time": "2025-03-16T15:48:56.298Z"
   },
   {
    "duration": 173,
    "start_time": "2025-03-16T15:48:56.474Z"
   },
   {
    "duration": 565,
    "start_time": "2025-03-16T15:48:56.649Z"
   },
   {
    "duration": 12,
    "start_time": "2025-03-16T15:48:57.215Z"
   },
   {
    "duration": 6,
    "start_time": "2025-03-16T15:48:57.229Z"
   },
   {
    "duration": 27,
    "start_time": "2025-03-16T15:48:57.236Z"
   },
   {
    "duration": 3,
    "start_time": "2025-03-16T15:48:57.264Z"
   },
   {
    "duration": 8,
    "start_time": "2025-03-16T15:48:57.269Z"
   },
   {
    "duration": 22,
    "start_time": "2025-03-16T15:48:57.278Z"
   },
   {
    "duration": 5,
    "start_time": "2025-03-16T15:48:57.302Z"
   },
   {
    "duration": 7,
    "start_time": "2025-03-16T15:48:57.308Z"
   },
   {
    "duration": 5,
    "start_time": "2025-03-16T15:48:57.357Z"
   },
   {
    "duration": 74,
    "start_time": "2025-03-16T15:48:57.364Z"
   },
   {
    "duration": 6,
    "start_time": "2025-03-16T15:48:57.441Z"
   },
   {
    "duration": 68,
    "start_time": "2025-03-16T15:48:57.449Z"
   },
   {
    "duration": 3620,
    "start_time": "2025-03-16T15:50:54.682Z"
   },
   {
    "duration": 2379,
    "start_time": "2025-03-16T15:50:58.305Z"
   },
   {
    "duration": 18,
    "start_time": "2025-03-16T15:51:00.686Z"
   },
   {
    "duration": 3,
    "start_time": "2025-03-16T15:51:00.706Z"
   },
   {
    "duration": 5,
    "start_time": "2025-03-16T15:51:00.711Z"
   },
   {
    "duration": 6,
    "start_time": "2025-03-16T15:51:00.717Z"
   },
   {
    "duration": 24,
    "start_time": "2025-03-16T15:51:00.724Z"
   },
   {
    "duration": 39,
    "start_time": "2025-03-16T15:51:00.749Z"
   },
   {
    "duration": 5,
    "start_time": "2025-03-16T15:51:00.790Z"
   },
   {
    "duration": 72,
    "start_time": "2025-03-16T15:51:00.797Z"
   },
   {
    "duration": 27,
    "start_time": "2025-03-16T15:51:00.871Z"
   },
   {
    "duration": 6,
    "start_time": "2025-03-16T15:51:00.900Z"
   },
   {
    "duration": 18,
    "start_time": "2025-03-16T15:51:00.908Z"
   },
   {
    "duration": 5,
    "start_time": "2025-03-16T15:51:00.928Z"
   },
   {
    "duration": 30,
    "start_time": "2025-03-16T15:51:00.957Z"
   },
   {
    "duration": 59,
    "start_time": "2025-03-16T15:51:00.989Z"
   },
   {
    "duration": 831,
    "start_time": "2025-03-16T15:51:01.050Z"
   },
   {
    "duration": 398,
    "start_time": "2025-03-16T15:51:01.883Z"
   },
   {
    "duration": 159,
    "start_time": "2025-03-16T15:51:02.284Z"
   },
   {
    "duration": 178,
    "start_time": "2025-03-16T15:51:02.445Z"
   },
   {
    "duration": 599,
    "start_time": "2025-03-16T15:51:02.625Z"
   },
   {
    "duration": 11,
    "start_time": "2025-03-16T15:51:03.226Z"
   },
   {
    "duration": 24,
    "start_time": "2025-03-16T15:51:03.239Z"
   },
   {
    "duration": 10,
    "start_time": "2025-03-16T15:51:03.266Z"
   },
   {
    "duration": 5,
    "start_time": "2025-03-16T15:51:03.278Z"
   },
   {
    "duration": 14,
    "start_time": "2025-03-16T15:51:03.284Z"
   },
   {
    "duration": 17,
    "start_time": "2025-03-16T15:51:03.300Z"
   },
   {
    "duration": 4,
    "start_time": "2025-03-16T15:51:03.320Z"
   },
   {
    "duration": 34,
    "start_time": "2025-03-16T15:51:03.325Z"
   },
   {
    "duration": 82,
    "start_time": "2025-03-16T15:51:03.362Z"
   },
   {
    "duration": 91,
    "start_time": "2025-03-16T15:51:03.446Z"
   },
   {
    "duration": 6,
    "start_time": "2025-03-16T15:51:03.539Z"
   },
   {
    "duration": 8,
    "start_time": "2025-03-16T15:51:03.547Z"
   },
   {
    "duration": 323814,
    "start_time": "2025-03-16T15:51:03.556Z"
   },
   {
    "duration": 9,
    "start_time": "2025-03-16T15:56:27.373Z"
   },
   {
    "duration": 2191,
    "start_time": "2025-03-16T15:56:27.384Z"
   },
   {
    "duration": 1977,
    "start_time": "2025-03-16T15:56:29.576Z"
   },
   {
    "duration": 2874616,
    "start_time": "2025-03-16T15:56:31.560Z"
   },
   {
    "duration": 12,
    "start_time": "2025-03-16T16:44:26.178Z"
   }
  ],
  "kernelspec": {
   "display_name": "Python 3 (ipykernel)",
   "language": "python",
   "name": "python3"
  },
  "language_info": {
   "codemirror_mode": {
    "name": "ipython",
    "version": 3
   },
   "file_extension": ".py",
   "mimetype": "text/x-python",
   "name": "python",
   "nbconvert_exporter": "python",
   "pygments_lexer": "ipython3",
   "version": "3.9.5"
  },
  "toc": {
   "base_numbering": 1,
   "nav_menu": {},
   "number_sections": false,
   "sideBar": true,
   "skip_h1_title": false,
   "title_cell": "Table of Contents",
   "title_sidebar": "Contents",
   "toc_cell": false,
   "toc_position": {},
   "toc_section_display": true,
   "toc_window_display": false
  },
  "varInspector": {
   "cols": {
    "lenName": 16,
    "lenType": 16,
    "lenVar": 40
   },
   "kernels_config": {
    "python": {
     "delete_cmd_postfix": "",
     "delete_cmd_prefix": "del ",
     "library": "var_list.py",
     "varRefreshCmd": "print(var_dic_list())"
    },
    "r": {
     "delete_cmd_postfix": ") ",
     "delete_cmd_prefix": "rm(",
     "library": "var_list.r",
     "varRefreshCmd": "cat(var_dic_list()) "
    }
   },
   "types_to_exclude": [
    "module",
    "function",
    "builtin_function_or_method",
    "instance",
    "_Feature"
   ],
   "window_display": false
  }
 },
 "nbformat": 4,
 "nbformat_minor": 5
}
